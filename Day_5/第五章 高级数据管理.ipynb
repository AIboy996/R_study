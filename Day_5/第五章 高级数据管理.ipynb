{
 "cells": [
  {
   "cell_type": "markdown",
   "metadata": {},
   "source": [
    "# 一个难题\n",
    "要讨论数值和字符处理函数，让我们首先考虑一个数据处理问题。一组学生参加了数学、科\n",
    "学和英语考试。为了给所有学生确定一个单一的成绩衡量指标，需要将这些科目的成绩组合起来。\n",
    "另外，你还想将前20%的学生评定为A，接下来20%的学生评定为B，依次类推。最后，你希望按\n",
    "字母顺序对学生排序。"
   ]
  },
  {
   "cell_type": "code",
   "execution_count": 1,
   "metadata": {
    "ExecuteTime": {
     "end_time": "2021-01-29T03:13:21.410620Z",
     "start_time": "2021-01-29T03:13:21.088Z"
    }
   },
   "outputs": [],
   "source": [
    "Student <- c(\"John Davis\", \"Angela Williams\", \n",
    "    \"Bullwinkle Moose\", \"David Jones\", \n",
    "    \"Janice Markhammer\", \"Cheryl Cushing\",\n",
    "    \"Reuven Ytzrhak\", \"Greg Knox\", \"Joel England\",\n",
    "    \"Mary Rayburn\")\n",
    "Math <- c(502, 600, 412, 358, 495, 512, 410, 625, 573, 522)\n",
    "Science <- c(95, 99, 80, 82, 75, 85, 80, 95, 89, 86)\n",
    "English <- c(25, 22, 18, 15, 20, 28, 15, 30, 27, 18)\n",
    "roster <- data.frame(Student, Math, Science, English,\n",
    "    stringsAsFactors=FALSE)"
   ]
  },
  {
   "cell_type": "code",
   "execution_count": 2,
   "metadata": {
    "ExecuteTime": {
     "end_time": "2021-01-29T03:13:21.533293Z",
     "start_time": "2021-01-29T03:13:21.092Z"
    }
   },
   "outputs": [
    {
     "data": {
      "text/html": [
       "<table class=\"dataframe\">\n",
       "<caption>A data.frame: 10 × 4</caption>\n",
       "<thead>\n",
       "\t<tr><th scope=col>Student</th><th scope=col>Math</th><th scope=col>Science</th><th scope=col>English</th></tr>\n",
       "\t<tr><th scope=col>&lt;chr&gt;</th><th scope=col>&lt;dbl&gt;</th><th scope=col>&lt;dbl&gt;</th><th scope=col>&lt;dbl&gt;</th></tr>\n",
       "</thead>\n",
       "<tbody>\n",
       "\t<tr><td>John Davis       </td><td>502</td><td>95</td><td>25</td></tr>\n",
       "\t<tr><td>Angela Williams  </td><td>600</td><td>99</td><td>22</td></tr>\n",
       "\t<tr><td>Bullwinkle Moose </td><td>412</td><td>80</td><td>18</td></tr>\n",
       "\t<tr><td>David Jones      </td><td>358</td><td>82</td><td>15</td></tr>\n",
       "\t<tr><td>Janice Markhammer</td><td>495</td><td>75</td><td>20</td></tr>\n",
       "\t<tr><td>Cheryl Cushing   </td><td>512</td><td>85</td><td>28</td></tr>\n",
       "\t<tr><td>Reuven Ytzrhak   </td><td>410</td><td>80</td><td>15</td></tr>\n",
       "\t<tr><td>Greg Knox        </td><td>625</td><td>95</td><td>30</td></tr>\n",
       "\t<tr><td>Joel England     </td><td>573</td><td>89</td><td>27</td></tr>\n",
       "\t<tr><td>Mary Rayburn     </td><td>522</td><td>86</td><td>18</td></tr>\n",
       "</tbody>\n",
       "</table>\n"
      ],
      "text/latex": [
       "A data.frame: 10 × 4\n",
       "\\begin{tabular}{llll}\n",
       " Student & Math & Science & English\\\\\n",
       " <chr> & <dbl> & <dbl> & <dbl>\\\\\n",
       "\\hline\n",
       "\t John Davis        & 502 & 95 & 25\\\\\n",
       "\t Angela Williams   & 600 & 99 & 22\\\\\n",
       "\t Bullwinkle Moose  & 412 & 80 & 18\\\\\n",
       "\t David Jones       & 358 & 82 & 15\\\\\n",
       "\t Janice Markhammer & 495 & 75 & 20\\\\\n",
       "\t Cheryl Cushing    & 512 & 85 & 28\\\\\n",
       "\t Reuven Ytzrhak    & 410 & 80 & 15\\\\\n",
       "\t Greg Knox         & 625 & 95 & 30\\\\\n",
       "\t Joel England      & 573 & 89 & 27\\\\\n",
       "\t Mary Rayburn      & 522 & 86 & 18\\\\\n",
       "\\end{tabular}\n"
      ],
      "text/markdown": [
       "\n",
       "A data.frame: 10 × 4\n",
       "\n",
       "| Student &lt;chr&gt; | Math &lt;dbl&gt; | Science &lt;dbl&gt; | English &lt;dbl&gt; |\n",
       "|---|---|---|---|\n",
       "| John Davis        | 502 | 95 | 25 |\n",
       "| Angela Williams   | 600 | 99 | 22 |\n",
       "| Bullwinkle Moose  | 412 | 80 | 18 |\n",
       "| David Jones       | 358 | 82 | 15 |\n",
       "| Janice Markhammer | 495 | 75 | 20 |\n",
       "| Cheryl Cushing    | 512 | 85 | 28 |\n",
       "| Reuven Ytzrhak    | 410 | 80 | 15 |\n",
       "| Greg Knox         | 625 | 95 | 30 |\n",
       "| Joel England      | 573 | 89 | 27 |\n",
       "| Mary Rayburn      | 522 | 86 | 18 |\n",
       "\n"
      ],
      "text/plain": [
       "   Student           Math Science English\n",
       "1  John Davis        502  95      25     \n",
       "2  Angela Williams   600  99      22     \n",
       "3  Bullwinkle Moose  412  80      18     \n",
       "4  David Jones       358  82      15     \n",
       "5  Janice Markhammer 495  75      20     \n",
       "6  Cheryl Cushing    512  85      28     \n",
       "7  Reuven Ytzrhak    410  80      15     \n",
       "8  Greg Knox         625  95      30     \n",
       "9  Joel England      573  89      27     \n",
       "10 Mary Rayburn      522  86      18     "
      ]
     },
     "metadata": {},
     "output_type": "display_data"
    }
   ],
   "source": [
    "roster"
   ]
  },
  {
   "cell_type": "markdown",
   "metadata": {},
   "source": [
    "# 数值函数和字符处理函数"
   ]
  },
  {
   "cell_type": "markdown",
   "metadata": {},
   "source": [
    "## 数学函数"
   ]
  },
  {
   "cell_type": "markdown",
   "metadata": {},
   "source": [
    "不仅可以用于标量，当这些函数被应用于数值向量、矩阵或数据框时，它们会作用于每一个独立的值"
   ]
  },
  {
   "cell_type": "code",
   "execution_count": 3,
   "metadata": {
    "ExecuteTime": {
     "end_time": "2021-01-29T03:13:21.558225Z",
     "start_time": "2021-01-29T03:13:21.096Z"
    }
   },
   "outputs": [
    {
     "data": {
      "text/html": [
       "12"
      ],
      "text/latex": [
       "12"
      ],
      "text/markdown": [
       "12"
      ],
      "text/plain": [
       "[1] 12"
      ]
     },
     "metadata": {},
     "output_type": "display_data"
    }
   ],
   "source": [
    "abs(-12)"
   ]
  },
  {
   "cell_type": "code",
   "execution_count": 4,
   "metadata": {
    "ExecuteTime": {
     "end_time": "2021-01-29T03:13:21.594131Z",
     "start_time": "2021-01-29T03:13:21.100Z"
    }
   },
   "outputs": [
    {
     "data": {
      "text/html": [
       "2.23606797749979"
      ],
      "text/latex": [
       "2.23606797749979"
      ],
      "text/markdown": [
       "2.23606797749979"
      ],
      "text/plain": [
       "[1] 2.236068"
      ]
     },
     "metadata": {},
     "output_type": "display_data"
    }
   ],
   "source": [
    "abs(1+2i)   #复数绝对值定义为模长"
   ]
  },
  {
   "cell_type": "code",
   "execution_count": 5,
   "metadata": {
    "ExecuteTime": {
     "end_time": "2021-01-29T03:13:21.621058Z",
     "start_time": "2021-01-29T03:13:21.103Z"
    }
   },
   "outputs": [
    {
     "data": {
      "text/html": [
       "2.23606797749979"
      ],
      "text/latex": [
       "2.23606797749979"
      ],
      "text/markdown": [
       "2.23606797749979"
      ],
      "text/plain": [
       "[1] 2.236068"
      ]
     },
     "metadata": {},
     "output_type": "display_data"
    }
   ],
   "source": [
    "sqrt(5)"
   ]
  },
  {
   "cell_type": "code",
   "execution_count": 6,
   "metadata": {
    "ExecuteTime": {
     "end_time": "2021-01-29T03:13:21.648983Z",
     "start_time": "2021-01-29T03:13:21.106Z"
    }
   },
   "outputs": [
    {
     "data": {
      "text/html": [
       "3"
      ],
      "text/latex": [
       "3"
      ],
      "text/markdown": [
       "3"
      ],
      "text/plain": [
       "[1] 3"
      ]
     },
     "metadata": {},
     "output_type": "display_data"
    }
   ],
   "source": [
    "ceiling(sqrt(5))   #天花板，不小于此数的最小整数"
   ]
  },
  {
   "cell_type": "code",
   "execution_count": 7,
   "metadata": {
    "ExecuteTime": {
     "end_time": "2021-01-29T03:13:21.676908Z",
     "start_time": "2021-01-29T03:13:21.109Z"
    }
   },
   "outputs": [
    {
     "data": {
      "text/html": [
       "2"
      ],
      "text/latex": [
       "2"
      ],
      "text/markdown": [
       "2"
      ],
      "text/plain": [
       "[1] 2"
      ]
     },
     "metadata": {},
     "output_type": "display_data"
    }
   ],
   "source": [
    "floor(sqrt(5))   #地板，不大于此数的最大整数"
   ]
  },
  {
   "cell_type": "code",
   "execution_count": 8,
   "metadata": {
    "ExecuteTime": {
     "end_time": "2021-01-29T03:13:21.703837Z",
     "start_time": "2021-01-29T03:13:21.113Z"
    }
   },
   "outputs": [
    {
     "data": {
      "text/html": [
       "5"
      ],
      "text/latex": [
       "5"
      ],
      "text/markdown": [
       "5"
      ],
      "text/plain": [
       "[1] 5"
      ]
     },
     "metadata": {},
     "output_type": "display_data"
    },
    {
     "data": {
      "text/html": [
       "-5"
      ],
      "text/latex": [
       "-5"
      ],
      "text/markdown": [
       "-5"
      ],
      "text/plain": [
       "[1] -5"
      ]
     },
     "metadata": {},
     "output_type": "display_data"
    }
   ],
   "source": [
    "trunc(5.99);trunc(-5.99)   #向0的方向截取x的整数部分"
   ]
  },
  {
   "cell_type": "code",
   "execution_count": 9,
   "metadata": {
    "ExecuteTime": {
     "end_time": "2021-01-29T03:13:21.727803Z",
     "start_time": "2021-01-29T03:13:21.115Z"
    }
   },
   "outputs": [
    {
     "data": {
      "text/html": [
       "3.48"
      ],
      "text/latex": [
       "3.48"
      ],
      "text/markdown": [
       "3.48"
      ],
      "text/plain": [
       "[1] 3.48"
      ]
     },
     "metadata": {},
     "output_type": "display_data"
    }
   ],
   "source": [
    "round(3.475, digits=2)   #保留两位小数"
   ]
  },
  {
   "cell_type": "code",
   "execution_count": 10,
   "metadata": {
    "ExecuteTime": {
     "end_time": "2021-01-29T03:13:21.750711Z",
     "start_time": "2021-01-29T03:13:21.117Z"
    }
   },
   "outputs": [
    {
     "data": {
      "text/html": [
       "3.5"
      ],
      "text/latex": [
       "3.5"
      ],
      "text/markdown": [
       "3.5"
      ],
      "text/plain": [
       "[1] 3.5"
      ]
     },
     "metadata": {},
     "output_type": "display_data"
    }
   ],
   "source": [
    "signif(3.475, digits=2)  #保留两位有效数字"
   ]
  },
  {
   "cell_type": "code",
   "execution_count": 11,
   "metadata": {
    "ExecuteTime": {
     "end_time": "2021-01-29T03:13:21.783622Z",
     "start_time": "2021-01-29T03:13:21.120Z"
    }
   },
   "outputs": [
    {
     "data": {
      "text/html": [
       "0.54030230586814"
      ],
      "text/latex": [
       "0.54030230586814"
      ],
      "text/markdown": [
       "0.54030230586814"
      ],
      "text/plain": [
       "[1] 0.5403023"
      ]
     },
     "metadata": {},
     "output_type": "display_data"
    },
    {
     "data": {
      "text/html": [
       "0.841470984807897"
      ],
      "text/latex": [
       "0.841470984807897"
      ],
      "text/markdown": [
       "0.841470984807897"
      ],
      "text/plain": [
       "[1] 0.841471"
      ]
     },
     "metadata": {},
     "output_type": "display_data"
    },
    {
     "data": {
      "text/html": [
       "1.5574077246549"
      ],
      "text/latex": [
       "1.5574077246549"
      ],
      "text/markdown": [
       "1.5574077246549"
      ],
      "text/plain": [
       "[1] 1.557408"
      ]
     },
     "metadata": {},
     "output_type": "display_data"
    }
   ],
   "source": [
    "cos(1);sin(1);tan(1)"
   ]
  },
  {
   "cell_type": "code",
   "execution_count": 12,
   "metadata": {
    "ExecuteTime": {
     "end_time": "2021-01-29T03:13:21.817531Z",
     "start_time": "2021-01-29T03:13:21.125Z"
    }
   },
   "outputs": [
    {
     "data": {
      "text/html": [
       "0"
      ],
      "text/latex": [
       "0"
      ],
      "text/markdown": [
       "0"
      ],
      "text/plain": [
       "[1] 0"
      ]
     },
     "metadata": {},
     "output_type": "display_data"
    },
    {
     "data": {
      "text/html": [
       "1.5707963267949"
      ],
      "text/latex": [
       "1.5707963267949"
      ],
      "text/markdown": [
       "1.5707963267949"
      ],
      "text/plain": [
       "[1] 1.570796"
      ]
     },
     "metadata": {},
     "output_type": "display_data"
    },
    {
     "data": {
      "text/html": [
       "0.785398163397448"
      ],
      "text/latex": [
       "0.785398163397448"
      ],
      "text/markdown": [
       "0.785398163397448"
      ],
      "text/plain": [
       "[1] 0.7853982"
      ]
     },
     "metadata": {},
     "output_type": "display_data"
    }
   ],
   "source": [
    "acos(1);asin(1);atan(1)  #反三角函数"
   ]
  },
  {
   "cell_type": "code",
   "execution_count": 13,
   "metadata": {
    "ExecuteTime": {
     "end_time": "2021-01-29T03:13:21.847451Z",
     "start_time": "2021-01-29T03:13:21.133Z"
    }
   },
   "outputs": [
    {
     "data": {
      "text/html": [
       "1.54308063481524"
      ],
      "text/latex": [
       "1.54308063481524"
      ],
      "text/markdown": [
       "1.54308063481524"
      ],
      "text/plain": [
       "[1] 1.543081"
      ]
     },
     "metadata": {},
     "output_type": "display_data"
    },
    {
     "data": {
      "text/html": [
       "1.1752011936438"
      ],
      "text/latex": [
       "1.1752011936438"
      ],
      "text/markdown": [
       "1.1752011936438"
      ],
      "text/plain": [
       "[1] 1.175201"
      ]
     },
     "metadata": {},
     "output_type": "display_data"
    },
    {
     "data": {
      "text/html": [
       "0.761594155955765"
      ],
      "text/latex": [
       "0.761594155955765"
      ],
      "text/markdown": [
       "0.761594155955765"
      ],
      "text/plain": [
       "[1] 0.7615942"
      ]
     },
     "metadata": {},
     "output_type": "display_data"
    }
   ],
   "source": [
    "cosh(1);sinh(1);tanh(1)   #双曲三角函数"
   ]
  },
  {
   "cell_type": "code",
   "execution_count": 14,
   "metadata": {
    "ExecuteTime": {
     "end_time": "2021-01-29T03:13:21.879366Z",
     "start_time": "2021-01-29T03:13:21.139Z"
    }
   },
   "outputs": [
    {
     "data": {
      "text/html": [
       "0"
      ],
      "text/latex": [
       "0"
      ],
      "text/markdown": [
       "0"
      ],
      "text/plain": [
       "[1] 0"
      ]
     },
     "metadata": {},
     "output_type": "display_data"
    },
    {
     "data": {
      "text/html": [
       "0.881373587019543"
      ],
      "text/latex": [
       "0.881373587019543"
      ],
      "text/markdown": [
       "0.881373587019543"
      ],
      "text/plain": [
       "[1] 0.8813736"
      ]
     },
     "metadata": {},
     "output_type": "display_data"
    },
    {
     "data": {
      "text/html": [
       "Inf"
      ],
      "text/latex": [
       "Inf"
      ],
      "text/markdown": [
       "Inf"
      ],
      "text/plain": [
       "[1] Inf"
      ]
     },
     "metadata": {},
     "output_type": "display_data"
    }
   ],
   "source": [
    "acosh(1);asinh(1);atanh(1)   #反双曲三角函数"
   ]
  },
  {
   "cell_type": "code",
   "execution_count": 15,
   "metadata": {
    "ExecuteTime": {
     "end_time": "2021-01-29T03:13:21.903303Z",
     "start_time": "2021-01-29T03:13:21.143Z"
    }
   },
   "outputs": [
    {
     "data": {
      "text/html": [
       "10"
      ],
      "text/latex": [
       "10"
      ],
      "text/markdown": [
       "10"
      ],
      "text/plain": [
       "[1] 10"
      ]
     },
     "metadata": {},
     "output_type": "display_data"
    }
   ],
   "source": [
    "log(exp(10))   #log为自然对数"
   ]
  },
  {
   "cell_type": "code",
   "execution_count": 16,
   "metadata": {
    "ExecuteTime": {
     "end_time": "2021-01-29T03:13:21.927240Z",
     "start_time": "2021-01-29T03:13:21.145Z"
    }
   },
   "outputs": [
    {
     "data": {
      "text/html": [
       "3"
      ],
      "text/latex": [
       "3"
      ],
      "text/markdown": [
       "3"
      ],
      "text/plain": [
       "[1] 3"
      ]
     },
     "metadata": {},
     "output_type": "display_data"
    }
   ],
   "source": [
    "log10(1000)   #log10为常用对数"
   ]
  },
  {
   "cell_type": "code",
   "execution_count": 17,
   "metadata": {
    "ExecuteTime": {
     "end_time": "2021-01-29T03:13:21.954166Z",
     "start_time": "2021-01-29T03:13:21.148Z"
    }
   },
   "outputs": [
    {
     "data": {
      "text/html": [
       "10"
      ],
      "text/latex": [
       "10"
      ],
      "text/markdown": [
       "10"
      ],
      "text/plain": [
       "[1] 10"
      ]
     },
     "metadata": {},
     "output_type": "display_data"
    }
   ],
   "source": [
    "log(1024, base=2)   #可以调节参数"
   ]
  },
  {
   "cell_type": "code",
   "execution_count": 18,
   "metadata": {
    "ExecuteTime": {
     "end_time": "2021-01-29T03:13:21.977105Z",
     "start_time": "2021-01-29T03:13:21.151Z"
    }
   },
   "outputs": [
    {
     "data": {
      "text/html": [
       "2.71828182845905"
      ],
      "text/latex": [
       "2.71828182845905"
      ],
      "text/markdown": [
       "2.71828182845905"
      ],
      "text/plain": [
       "[1] 2.718282"
      ]
     },
     "metadata": {},
     "output_type": "display_data"
    }
   ],
   "source": [
    "exp(1)"
   ]
  },
  {
   "cell_type": "code",
   "execution_count": 19,
   "metadata": {
    "ExecuteTime": {
     "end_time": "2021-01-29T03:13:22.001042Z",
     "start_time": "2021-01-29T03:13:21.154Z"
    }
   },
   "outputs": [
    {
     "data": {
      "text/html": [
       "<style>\n",
       ".list-inline {list-style: none; margin:0; padding: 0}\n",
       ".list-inline>li {display: inline-block}\n",
       ".list-inline>li:not(:last-child)::after {content: \"\\00b7\"; padding: 0 .5ex}\n",
       "</style>\n",
       "<ol class=list-inline><li>0.841470984807897</li><li>0.909297426825682</li><li>0.141120008059867</li><li>-0.756802495307928</li><li>-0.958924274663138</li></ol>\n"
      ],
      "text/latex": [
       "\\begin{enumerate*}\n",
       "\\item 0.841470984807897\n",
       "\\item 0.909297426825682\n",
       "\\item 0.141120008059867\n",
       "\\item -0.756802495307928\n",
       "\\item -0.958924274663138\n",
       "\\end{enumerate*}\n"
      ],
      "text/markdown": [
       "1. 0.841470984807897\n",
       "2. 0.909297426825682\n",
       "3. 0.141120008059867\n",
       "4. -0.756802495307928\n",
       "5. -0.958924274663138\n",
       "\n",
       "\n"
      ],
      "text/plain": [
       "[1]  0.8414710  0.9092974  0.1411200 -0.7568025 -0.9589243"
      ]
     },
     "metadata": {},
     "output_type": "display_data"
    }
   ],
   "source": [
    "sin(c(1:5))"
   ]
  },
  {
   "cell_type": "markdown",
   "metadata": {},
   "source": [
    "## 统计函数"
   ]
  },
  {
   "cell_type": "code",
   "execution_count": 20,
   "metadata": {
    "ExecuteTime": {
     "end_time": "2021-01-29T03:13:22.026972Z",
     "start_time": "2021-01-29T03:13:21.158Z"
    }
   },
   "outputs": [
    {
     "data": {
      "text/html": [
       "5.5"
      ],
      "text/latex": [
       "5.5"
      ],
      "text/markdown": [
       "5.5"
      ],
      "text/plain": [
       "[1] 5.5"
      ]
     },
     "metadata": {},
     "output_type": "display_data"
    }
   ],
   "source": [
    "mean(1:10)"
   ]
  },
  {
   "cell_type": "code",
   "execution_count": 21,
   "metadata": {
    "ExecuteTime": {
     "end_time": "2021-01-29T03:13:22.051905Z",
     "start_time": "2021-01-29T03:13:21.161Z"
    }
   },
   "outputs": [
    {
     "data": {
      "text/html": [
       "5.5"
      ],
      "text/latex": [
       "5.5"
      ],
      "text/markdown": [
       "5.5"
      ],
      "text/plain": [
       "[1] 5.5"
      ]
     },
     "metadata": {},
     "output_type": "display_data"
    }
   ],
   "source": [
    "median(1:10)"
   ]
  },
  {
   "cell_type": "code",
   "execution_count": 22,
   "metadata": {
    "ExecuteTime": {
     "end_time": "2021-01-29T03:13:22.077837Z",
     "start_time": "2021-01-29T03:13:21.165Z"
    }
   },
   "outputs": [
    {
     "data": {
      "text/html": [
       "3.02765035409749"
      ],
      "text/latex": [
       "3.02765035409749"
      ],
      "text/markdown": [
       "3.02765035409749"
      ],
      "text/plain": [
       "[1] 3.02765"
      ]
     },
     "metadata": {},
     "output_type": "display_data"
    }
   ],
   "source": [
    "sd(1:10)"
   ]
  },
  {
   "cell_type": "code",
   "execution_count": 23,
   "metadata": {
    "ExecuteTime": {
     "end_time": "2021-01-29T03:13:22.103767Z",
     "start_time": "2021-01-29T03:13:21.169Z"
    }
   },
   "outputs": [
    {
     "data": {
      "text/html": [
       "9.16666666666667"
      ],
      "text/latex": [
       "9.16666666666667"
      ],
      "text/markdown": [
       "9.16666666666667"
      ],
      "text/plain": [
       "[1] 9.166667"
      ]
     },
     "metadata": {},
     "output_type": "display_data"
    }
   ],
   "source": [
    "var(1:10)"
   ]
  },
  {
   "cell_type": "code",
   "execution_count": 24,
   "metadata": {
    "ExecuteTime": {
     "end_time": "2021-01-29T03:13:22.127703Z",
     "start_time": "2021-01-29T03:13:21.173Z"
    }
   },
   "outputs": [
    {
     "data": {
      "text/html": [
       "3.7065"
      ],
      "text/latex": [
       "3.7065"
      ],
      "text/markdown": [
       "3.7065"
      ],
      "text/plain": [
       "[1] 3.7065"
      ]
     },
     "metadata": {},
     "output_type": "display_data"
    }
   ],
   "source": [
    "mad(1:10)   #绝对中位差"
   ]
  },
  {
   "cell_type": "code",
   "execution_count": 25,
   "metadata": {
    "ExecuteTime": {
     "end_time": "2021-01-29T03:13:22.152636Z",
     "start_time": "2021-01-29T03:13:21.175Z"
    }
   },
   "outputs": [
    {
     "data": {
      "text/html": [
       "<style>\n",
       ".dl-inline {width: auto; margin:0; padding: 0}\n",
       ".dl-inline>dt, .dl-inline>dd {float: none; width: auto; display: inline-block}\n",
       ".dl-inline>dt::after {content: \":\\0020\"; padding-right: .5ex}\n",
       ".dl-inline>dt:not(:first-of-type) {padding-left: .5ex}\n",
       "</style><dl class=dl-inline><dt>30%</dt><dd>30.7</dd><dt>80%</dt><dd>80.2</dd></dl>\n"
      ],
      "text/latex": [
       "\\begin{description*}\n",
       "\\item[30\\textbackslash{}\\%] 30.7\n",
       "\\item[80\\textbackslash{}\\%] 80.2\n",
       "\\end{description*}\n"
      ],
      "text/markdown": [
       "30%\n",
       ":   30.780%\n",
       ":   80.2\n",
       "\n"
      ],
      "text/plain": [
       " 30%  80% \n",
       "30.7 80.2 "
      ]
     },
     "metadata": {},
     "output_type": "display_data"
    }
   ],
   "source": [
    "quantile(1:100, c(.3,.8))  #求分位数"
   ]
  },
  {
   "cell_type": "code",
   "execution_count": 26,
   "metadata": {
    "ExecuteTime": {
     "end_time": "2021-01-29T03:13:22.177570Z",
     "start_time": "2021-01-29T03:13:21.178Z"
    }
   },
   "outputs": [
    {
     "data": {
      "text/html": [
       "<style>\n",
       ".list-inline {list-style: none; margin:0; padding: 0}\n",
       ".list-inline>li {display: inline-block}\n",
       ".list-inline>li:not(:last-child)::after {content: \"\\00b7\"; padding: 0 .5ex}\n",
       "</style>\n",
       "<ol class=list-inline><li>1</li><li>23.898</li></ol>\n"
      ],
      "text/latex": [
       "\\begin{enumerate*}\n",
       "\\item 1\n",
       "\\item 23.898\n",
       "\\end{enumerate*}\n"
      ],
      "text/markdown": [
       "1. 1\n",
       "2. 23.898\n",
       "\n",
       "\n"
      ],
      "text/plain": [
       "[1]  1.000 23.898"
      ]
     },
     "metadata": {},
     "output_type": "display_data"
    }
   ],
   "source": [
    "range(c(1,23,23.898))   #求值域，返回向量"
   ]
  },
  {
   "cell_type": "code",
   "execution_count": 27,
   "metadata": {
    "ExecuteTime": {
     "end_time": "2021-01-29T03:13:22.201505Z",
     "start_time": "2021-01-29T03:13:21.180Z"
    }
   },
   "outputs": [
    {
     "data": {
      "text/html": [
       "55"
      ],
      "text/latex": [
       "55"
      ],
      "text/markdown": [
       "55"
      ],
      "text/plain": [
       "[1] 55"
      ]
     },
     "metadata": {},
     "output_type": "display_data"
    }
   ],
   "source": [
    "sum(1:10)"
   ]
  },
  {
   "cell_type": "code",
   "execution_count": 28,
   "metadata": {
    "ExecuteTime": {
     "end_time": "2021-01-29T03:13:22.227437Z",
     "start_time": "2021-01-29T03:13:21.182Z"
    }
   },
   "outputs": [
    {
     "data": {
      "text/html": [
       "<style>\n",
       ".list-inline {list-style: none; margin:0; padding: 0}\n",
       ".list-inline>li {display: inline-block}\n",
       ".list-inline>li:not(:last-child)::after {content: \"\\00b7\"; padding: 0 .5ex}\n",
       "</style>\n",
       "<ol class=list-inline><li>4</li><li>18</li><li>6</li></ol>\n"
      ],
      "text/latex": [
       "\\begin{enumerate*}\n",
       "\\item 4\n",
       "\\item 18\n",
       "\\item 6\n",
       "\\end{enumerate*}\n"
      ],
      "text/markdown": [
       "1. 4\n",
       "2. 18\n",
       "3. 6\n",
       "\n",
       "\n"
      ],
      "text/plain": [
       "[1]  4 18  6"
      ]
     },
     "metadata": {},
     "output_type": "display_data"
    }
   ],
   "source": [
    "diff(c(1,5,23,29))   #滞后差分，逐项作差"
   ]
  },
  {
   "cell_type": "code",
   "execution_count": 29,
   "metadata": {
    "ExecuteTime": {
     "end_time": "2021-01-29T03:13:22.251372Z",
     "start_time": "2021-01-29T03:13:21.184Z"
    }
   },
   "outputs": [
    {
     "data": {
      "text/html": [
       "<style>\n",
       ".list-inline {list-style: none; margin:0; padding: 0}\n",
       ".list-inline>li {display: inline-block}\n",
       ".list-inline>li:not(:last-child)::after {content: \"\\00b7\"; padding: 0 .5ex}\n",
       "</style>\n",
       "<ol class=list-inline><li>22</li><li>24</li></ol>\n"
      ],
      "text/latex": [
       "\\begin{enumerate*}\n",
       "\\item 22\n",
       "\\item 24\n",
       "\\end{enumerate*}\n"
      ],
      "text/markdown": [
       "1. 22\n",
       "2. 24\n",
       "\n",
       "\n"
      ],
      "text/plain": [
       "[1] 22 24"
      ]
     },
     "metadata": {},
     "output_type": "display_data"
    }
   ],
   "source": [
    "diff(c(1,5,23,29), lag=2)   #指定滞后两项"
   ]
  },
  {
   "cell_type": "code",
   "execution_count": 30,
   "metadata": {
    "ExecuteTime": {
     "end_time": "2021-01-29T03:13:22.278301Z",
     "start_time": "2021-01-29T03:13:21.186Z"
    }
   },
   "outputs": [
    {
     "data": {
      "text/html": [
       "1"
      ],
      "text/latex": [
       "1"
      ],
      "text/markdown": [
       "1"
      ],
      "text/plain": [
       "[1] 1"
      ]
     },
     "metadata": {},
     "output_type": "display_data"
    }
   ],
   "source": [
    "min(1:10)"
   ]
  },
  {
   "cell_type": "code",
   "execution_count": 31,
   "metadata": {
    "ExecuteTime": {
     "end_time": "2021-01-29T03:13:22.304230Z",
     "start_time": "2021-01-29T03:13:21.188Z"
    }
   },
   "outputs": [
    {
     "data": {
      "text/html": [
       "10"
      ],
      "text/latex": [
       "10"
      ],
      "text/markdown": [
       "10"
      ],
      "text/plain": [
       "[1] 10"
      ]
     },
     "metadata": {},
     "output_type": "display_data"
    }
   ],
   "source": [
    "max(1:10)"
   ]
  },
  {
   "cell_type": "code",
   "execution_count": 32,
   "metadata": {
    "ExecuteTime": {
     "end_time": "2021-01-29T03:13:22.334150Z",
     "start_time": "2021-01-29T03:13:21.191Z"
    }
   },
   "outputs": [
    {
     "data": {
      "text/html": [
       "<table class=\"dataframe\">\n",
       "<caption>A matrix: 8 × 1 of type dbl</caption>\n",
       "<tbody>\n",
       "\t<tr><td>-1.4288690</td></tr>\n",
       "\t<tr><td>-1.0206207</td></tr>\n",
       "\t<tr><td>-0.6123724</td></tr>\n",
       "\t<tr><td>-0.2041241</td></tr>\n",
       "\t<tr><td> 0.2041241</td></tr>\n",
       "\t<tr><td> 0.6123724</td></tr>\n",
       "\t<tr><td> 1.0206207</td></tr>\n",
       "\t<tr><td> 1.4288690</td></tr>\n",
       "</tbody>\n",
       "</table>\n"
      ],
      "text/latex": [
       "A matrix: 8 × 1 of type dbl\n",
       "\\begin{tabular}{l}\n",
       "\t -1.4288690\\\\\n",
       "\t -1.0206207\\\\\n",
       "\t -0.6123724\\\\\n",
       "\t -0.2041241\\\\\n",
       "\t  0.2041241\\\\\n",
       "\t  0.6123724\\\\\n",
       "\t  1.0206207\\\\\n",
       "\t  1.4288690\\\\\n",
       "\\end{tabular}\n"
      ],
      "text/markdown": [
       "\n",
       "A matrix: 8 × 1 of type dbl\n",
       "\n",
       "| -1.4288690 |\n",
       "| -1.0206207 |\n",
       "| -0.6123724 |\n",
       "| -0.2041241 |\n",
       "|  0.2041241 |\n",
       "|  0.6123724 |\n",
       "|  1.0206207 |\n",
       "|  1.4288690 |\n",
       "\n"
      ],
      "text/plain": [
       "     [,1]      \n",
       "[1,] -1.4288690\n",
       "[2,] -1.0206207\n",
       "[3,] -0.6123724\n",
       "[4,] -0.2041241\n",
       "[5,]  0.2041241\n",
       "[6,]  0.6123724\n",
       "[7,]  1.0206207\n",
       "[8,]  1.4288690"
      ]
     },
     "metadata": {},
     "output_type": "display_data"
    }
   ],
   "source": [
    "scale(c(1:8), center=TRUE, scale=TRUE)   #标准化"
   ]
  },
  {
   "cell_type": "code",
   "execution_count": 33,
   "metadata": {
    "ExecuteTime": {
     "end_time": "2021-01-29T03:13:22.362075Z",
     "start_time": "2021-01-29T03:13:21.194Z"
    }
   },
   "outputs": [
    {
     "data": {
      "text/html": [
       "<table class=\"dataframe\">\n",
       "<caption>A matrix: 8 × 1 of type dbl</caption>\n",
       "<tbody>\n",
       "\t<tr><td>-3.5</td></tr>\n",
       "\t<tr><td>-2.5</td></tr>\n",
       "\t<tr><td>-1.5</td></tr>\n",
       "\t<tr><td>-0.5</td></tr>\n",
       "\t<tr><td> 0.5</td></tr>\n",
       "\t<tr><td> 1.5</td></tr>\n",
       "\t<tr><td> 2.5</td></tr>\n",
       "\t<tr><td> 3.5</td></tr>\n",
       "</tbody>\n",
       "</table>\n"
      ],
      "text/latex": [
       "A matrix: 8 × 1 of type dbl\n",
       "\\begin{tabular}{l}\n",
       "\t -3.5\\\\\n",
       "\t -2.5\\\\\n",
       "\t -1.5\\\\\n",
       "\t -0.5\\\\\n",
       "\t  0.5\\\\\n",
       "\t  1.5\\\\\n",
       "\t  2.5\\\\\n",
       "\t  3.5\\\\\n",
       "\\end{tabular}\n"
      ],
      "text/markdown": [
       "\n",
       "A matrix: 8 × 1 of type dbl\n",
       "\n",
       "| -3.5 |\n",
       "| -2.5 |\n",
       "| -1.5 |\n",
       "| -0.5 |\n",
       "|  0.5 |\n",
       "|  1.5 |\n",
       "|  2.5 |\n",
       "|  3.5 |\n",
       "\n"
      ],
      "text/plain": [
       "     [,1]\n",
       "[1,] -3.5\n",
       "[2,] -2.5\n",
       "[3,] -1.5\n",
       "[4,] -0.5\n",
       "[5,]  0.5\n",
       "[6,]  1.5\n",
       "[7,]  2.5\n",
       "[8,]  3.5"
      ]
     },
     "metadata": {},
     "output_type": "display_data"
    }
   ],
   "source": [
    "scale(c(1:8), center=TRUE, scale=FALSE)  #仅中心化"
   ]
  },
  {
   "cell_type": "code",
   "execution_count": 34,
   "metadata": {
    "ExecuteTime": {
     "end_time": "2021-01-29T03:13:22.389004Z",
     "start_time": "2021-01-29T03:13:21.197Z"
    }
   },
   "outputs": [
    {
     "data": {
      "text/html": [
       "<table class=\"dataframe\">\n",
       "<caption>A matrix: 8 × 1 of type dbl</caption>\n",
       "<tbody>\n",
       "\t<tr><td>-1.4288690</td></tr>\n",
       "\t<tr><td>-1.0206207</td></tr>\n",
       "\t<tr><td>-0.6123724</td></tr>\n",
       "\t<tr><td>-0.2041241</td></tr>\n",
       "\t<tr><td> 0.2041241</td></tr>\n",
       "\t<tr><td> 0.6123724</td></tr>\n",
       "\t<tr><td> 1.0206207</td></tr>\n",
       "\t<tr><td> 1.4288690</td></tr>\n",
       "</tbody>\n",
       "</table>\n"
      ],
      "text/latex": [
       "A matrix: 8 × 1 of type dbl\n",
       "\\begin{tabular}{l}\n",
       "\t -1.4288690\\\\\n",
       "\t -1.0206207\\\\\n",
       "\t -0.6123724\\\\\n",
       "\t -0.2041241\\\\\n",
       "\t  0.2041241\\\\\n",
       "\t  0.6123724\\\\\n",
       "\t  1.0206207\\\\\n",
       "\t  1.4288690\\\\\n",
       "\\end{tabular}\n"
      ],
      "text/markdown": [
       "\n",
       "A matrix: 8 × 1 of type dbl\n",
       "\n",
       "| -1.4288690 |\n",
       "| -1.0206207 |\n",
       "| -0.6123724 |\n",
       "| -0.2041241 |\n",
       "|  0.2041241 |\n",
       "|  0.6123724 |\n",
       "|  1.0206207 |\n",
       "|  1.4288690 |\n",
       "\n"
      ],
      "text/plain": [
       "     [,1]      \n",
       "[1,] -1.4288690\n",
       "[2,] -1.0206207\n",
       "[3,] -0.6123724\n",
       "[4,] -0.2041241\n",
       "[5,]  0.2041241\n",
       "[6,]  0.6123724\n",
       "[7,]  1.0206207\n",
       "[8,]  1.4288690"
      ]
     },
     "metadata": {},
     "output_type": "display_data"
    }
   ],
   "source": [
    "scale(1:8)  #默认是标准化为 均值0，标准差1"
   ]
  },
  {
   "cell_type": "markdown",
   "metadata": {},
   "source": [
    "## 概率函数"
   ]
  },
  {
   "cell_type": "raw",
   "metadata": {},
   "source": [
    "使用方法为\n",
    "[dpqr]distribution_abbreviation()\n",
    "d为密度函数\n",
    "p为分布函数\n",
    "q为分位函数\n",
    "r生成随机数（随机偏差）"
   ]
  },
  {
   "cell_type": "code",
   "execution_count": 35,
   "metadata": {
    "ExecuteTime": {
     "end_time": "2021-01-29T03:13:22.458402Z",
     "start_time": "2021-01-29T03:13:21.235Z"
    }
   },
   "outputs": [
    {
     "data": {
      "image/png": "[encoded data removed]",
      "text/plain": [
       "plot without title"
      ]
     },
     "metadata": {
      "image/png": {
       "height": 420,
       "width": 420
      }
     },
     "output_type": "display_data"
    }
   ],
   "source": [
    "x <- pretty(c(-3,3), 60)\n",
    "y <- dnorm(x)\n",
    "plot(x, y,type='l')  #正态密度函数图像"
   ]
  },
  {
   "cell_type": "code",
   "execution_count": 36,
   "metadata": {
    "ExecuteTime": {
     "end_time": "2021-01-29T03:13:22.525224Z",
     "start_time": "2021-01-29T03:13:21.237Z"
    }
   },
   "outputs": [
    {
     "data": {
      "image/png": "[encoded data removed]",
      "text/plain": [
       "plot without title"
      ]
     },
     "metadata": {
      "image/png": {
       "height": 420,
       "width": 420
      }
     },
     "output_type": "display_data"
    }
   ],
   "source": [
    "x <- pretty(c(-3,3), 60)\n",
    "y <- pnorm(x)\n",
    "plot(x, y,type='l')  #正态分布函数图像"
   ]
  },
  {
   "cell_type": "code",
   "execution_count": 37,
   "metadata": {
    "ExecuteTime": {
     "end_time": "2021-01-29T03:13:22.550156Z",
     "start_time": "2021-01-29T03:13:21.239Z"
    }
   },
   "outputs": [
    {
     "data": {
      "text/html": [
       "1.2815515655446"
      ],
      "text/latex": [
       "1.2815515655446"
      ],
      "text/markdown": [
       "1.2815515655446"
      ],
      "text/plain": [
       "[1] 1.281552"
      ]
     },
     "metadata": {},
     "output_type": "display_data"
    }
   ],
   "source": [
    "qnorm(.9)   #90%分位点"
   ]
  },
  {
   "cell_type": "code",
   "execution_count": 38,
   "metadata": {
    "ExecuteTime": {
     "end_time": "2021-01-29T03:13:22.575090Z",
     "start_time": "2021-01-29T03:13:21.241Z"
    }
   },
   "outputs": [
    {
     "data": {
      "text/html": [
       "<style>\n",
       ".list-inline {list-style: none; margin:0; padding: 0}\n",
       ".list-inline>li {display: inline-block}\n",
       ".list-inline>li:not(:last-child)::after {content: \"\\00b7\"; padding: 0 .5ex}\n",
       "</style>\n",
       "<ol class=list-inline><li>36.0610956498441</li><li>65.5837306793937</li><li>39.8433909905311</li><li>61.8515279955002</li><li>51.3661917278065</li><li>51.5495749612534</li><li>67.593720695262</li><li>57.4744364771184</li><li>44.3339434464095</li><li>45.8705934446184</li><li>66.6187763512734</li><li>52.6478093104842</li><li>60.4585980633947</li><li>62.0790107019308</li><li>41.6687050756501</li><li>49.23529203619</li><li>69.0741069636123</li><li>45.7732175559091</li><li>57.6807361065392</li><li>58.2225680151684</li><li>54.4717957712613</li><li>47.2104863437557</li><li>44.7462580294771</li><li>57.6197656409284</li><li>53.5949369509507</li><li>44.3155064946851</li><li>46.4833951982688</li><li>52.7221642430917</li><li>57.3878135762324</li><li>53.6631792961424</li><li>51.7832567219803</li><li>42.4268169543403</li><li>55.6603960990817</li><li>62.5599490101523</li><li>45.8274096893498</li><li>27.7341373226884</li><li>56.3803725677324</li><li>58.5975666355291</li><li>37.9937396920648</li><li>36.5823255390892</li><li>41.5875798986011</li><li>32.0740814194682</li><li>50.3138852277153</li><li>51.0562738225554</li><li>45.4962812750194</li><li>42.2607221888459</li><li>39.1408129583716</li><li>56.3084297746693</li><li>40.3133431548441</li><li>44.9482914244246</li></ol>\n"
      ],
      "text/latex": [
       "\\begin{enumerate*}\n",
       "\\item 36.0610956498441\n",
       "\\item 65.5837306793937\n",
       "\\item 39.8433909905311\n",
       "\\item 61.8515279955002\n",
       "\\item 51.3661917278065\n",
       "\\item 51.5495749612534\n",
       "\\item 67.593720695262\n",
       "\\item 57.4744364771184\n",
       "\\item 44.3339434464095\n",
       "\\item 45.8705934446184\n",
       "\\item 66.6187763512734\n",
       "\\item 52.6478093104842\n",
       "\\item 60.4585980633947\n",
       "\\item 62.0790107019308\n",
       "\\item 41.6687050756501\n",
       "\\item 49.23529203619\n",
       "\\item 69.0741069636123\n",
       "\\item 45.7732175559091\n",
       "\\item 57.6807361065392\n",
       "\\item 58.2225680151684\n",
       "\\item 54.4717957712613\n",
       "\\item 47.2104863437557\n",
       "\\item 44.7462580294771\n",
       "\\item 57.6197656409284\n",
       "\\item 53.5949369509507\n",
       "\\item 44.3155064946851\n",
       "\\item 46.4833951982688\n",
       "\\item 52.7221642430917\n",
       "\\item 57.3878135762324\n",
       "\\item 53.6631792961424\n",
       "\\item 51.7832567219803\n",
       "\\item 42.4268169543403\n",
       "\\item 55.6603960990817\n",
       "\\item 62.5599490101523\n",
       "\\item 45.8274096893498\n",
       "\\item 27.7341373226884\n",
       "\\item 56.3803725677324\n",
       "\\item 58.5975666355291\n",
       "\\item 37.9937396920648\n",
       "\\item 36.5823255390892\n",
       "\\item 41.5875798986011\n",
       "\\item 32.0740814194682\n",
       "\\item 50.3138852277153\n",
       "\\item 51.0562738225554\n",
       "\\item 45.4962812750194\n",
       "\\item 42.2607221888459\n",
       "\\item 39.1408129583716\n",
       "\\item 56.3084297746693\n",
       "\\item 40.3133431548441\n",
       "\\item 44.9482914244246\n",
       "\\end{enumerate*}\n"
      ],
      "text/markdown": [
       "1. 36.0610956498441\n",
       "2. 65.5837306793937\n",
       "3. 39.8433909905311\n",
       "4. 61.8515279955002\n",
       "5. 51.3661917278065\n",
       "6. 51.5495749612534\n",
       "7. 67.593720695262\n",
       "8. 57.4744364771184\n",
       "9. 44.3339434464095\n",
       "10. 45.8705934446184\n",
       "11. 66.6187763512734\n",
       "12. 52.6478093104842\n",
       "13. 60.4585980633947\n",
       "14. 62.0790107019308\n",
       "15. 41.6687050756501\n",
       "16. 49.23529203619\n",
       "17. 69.0741069636123\n",
       "18. 45.7732175559091\n",
       "19. 57.6807361065392\n",
       "20. 58.2225680151684\n",
       "21. 54.4717957712613\n",
       "22. 47.2104863437557\n",
       "23. 44.7462580294771\n",
       "24. 57.6197656409284\n",
       "25. 53.5949369509507\n",
       "26. 44.3155064946851\n",
       "27. 46.4833951982688\n",
       "28. 52.7221642430917\n",
       "29. 57.3878135762324\n",
       "30. 53.6631792961424\n",
       "31. 51.7832567219803\n",
       "32. 42.4268169543403\n",
       "33. 55.6603960990817\n",
       "34. 62.5599490101523\n",
       "35. 45.8274096893498\n",
       "36. 27.7341373226884\n",
       "37. 56.3803725677324\n",
       "38. 58.5975666355291\n",
       "39. 37.9937396920648\n",
       "40. 36.5823255390892\n",
       "41. 41.5875798986011\n",
       "42. 32.0740814194682\n",
       "43. 50.3138852277153\n",
       "44. 51.0562738225554\n",
       "45. 45.4962812750194\n",
       "46. 42.2607221888459\n",
       "47. 39.1408129583716\n",
       "48. 56.3084297746693\n",
       "49. 40.3133431548441\n",
       "50. 44.9482914244246\n",
       "\n",
       "\n"
      ],
      "text/plain": [
       " [1] 36.06110 65.58373 39.84339 61.85153 51.36619 51.54957 67.59372 57.47444\n",
       " [9] 44.33394 45.87059 66.61878 52.64781 60.45860 62.07901 41.66871 49.23529\n",
       "[17] 69.07411 45.77322 57.68074 58.22257 54.47180 47.21049 44.74626 57.61977\n",
       "[25] 53.59494 44.31551 46.48340 52.72216 57.38781 53.66318 51.78326 42.42682\n",
       "[33] 55.66040 62.55995 45.82741 27.73414 56.38037 58.59757 37.99374 36.58233\n",
       "[41] 41.58758 32.07408 50.31389 51.05627 45.49628 42.26072 39.14081 56.30843\n",
       "[49] 40.31334 44.94829"
      ]
     },
     "metadata": {},
     "output_type": "display_data"
    }
   ],
   "source": [
    "rnorm(50, mean=50, sd=10)"
   ]
  },
  {
   "cell_type": "markdown",
   "metadata": {},
   "source": [
    "### 常用分布缩写"
   ]
  },
  {
   "cell_type": "raw",
   "metadata": {},
   "source": [
    "常用分布\n",
    "beta\n",
    "binom   二项分布\n",
    "cauchy\n",
    "chisq   卡方分布\n",
    "exp\n",
    "f\n",
    "gamma\n",
    "geom     几何分布\n",
    "hyper    超几何分布\n",
    "lnorm    对数正态分布\n",
    "multinom  多项分布\n",
    "bninom    负二项分布\n",
    "norm\n",
    "pois      泊松分布\n",
    "t\n",
    "unif\n",
    "weibull    weibull分布"
   ]
  },
  {
   "cell_type": "markdown",
   "metadata": {},
   "source": [
    "### 随机数种子"
   ]
  },
  {
   "cell_type": "code",
   "execution_count": 39,
   "metadata": {
    "ExecuteTime": {
     "end_time": "2021-01-29T03:13:22.603014Z",
     "start_time": "2021-01-29T03:13:21.273Z"
    }
   },
   "outputs": [
    {
     "data": {
      "text/html": [
       "<style>\n",
       ".list-inline {list-style: none; margin:0; padding: 0}\n",
       ".list-inline>li {display: inline-block}\n",
       ".list-inline>li:not(:last-child)::after {content: \"\\00b7\"; padding: 0 .5ex}\n",
       "</style>\n",
       "<ol class=list-inline><li>1.27822396971651</li><li>-0.9406921249156</li><li>1.10008452793311</li><li>-0.584005919389446</li><li>0.53947383752956</li><li>-0.835525145288433</li><li>-0.729126871878311</li><li>-1.29571347076739</li><li>-1.53877383868333</li><li>-1.13633576405134</li></ol>\n"
      ],
      "text/latex": [
       "\\begin{enumerate*}\n",
       "\\item 1.27822396971651\n",
       "\\item -0.9406921249156\n",
       "\\item 1.10008452793311\n",
       "\\item -0.584005919389446\n",
       "\\item 0.53947383752956\n",
       "\\item -0.835525145288433\n",
       "\\item -0.729126871878311\n",
       "\\item -1.29571347076739\n",
       "\\item -1.53877383868333\n",
       "\\item -1.13633576405134\n",
       "\\end{enumerate*}\n"
      ],
      "text/markdown": [
       "1. 1.27822396971651\n",
       "2. -0.9406921249156\n",
       "3. 1.10008452793311\n",
       "4. -0.584005919389446\n",
       "5. 0.53947383752956\n",
       "6. -0.835525145288433\n",
       "7. -0.729126871878311\n",
       "8. -1.29571347076739\n",
       "9. -1.53877383868333\n",
       "10. -1.13633576405134\n",
       "\n",
       "\n"
      ],
      "text/plain": [
       " [1]  1.2782240 -0.9406921  1.1000845 -0.5840059  0.5394738 -0.8355251\n",
       " [7] -0.7291269 -1.2957135 -1.5387738 -1.1363358"
      ]
     },
     "metadata": {},
     "output_type": "display_data"
    },
    {
     "data": {
      "text/html": [
       "<style>\n",
       ".list-inline {list-style: none; margin:0; padding: 0}\n",
       ".list-inline>li {display: inline-block}\n",
       ".list-inline>li:not(:last-child)::after {content: \"\\00b7\"; padding: 0 .5ex}\n",
       "</style>\n",
       "<ol class=list-inline><li>0.625326738571399</li><li>-0.395106549535349</li><li>-0.620930678971879</li><li>-0.646192370608353</li><li>0.314297224014591</li><li>0.337058389920765</li><li>0.46787757238817</li><li>-1.50759612245519</li><li>-0.566781515828311</li><li>-0.941136105997394</li></ol>\n"
      ],
      "text/latex": [
       "\\begin{enumerate*}\n",
       "\\item 0.625326738571399\n",
       "\\item -0.395106549535349\n",
       "\\item -0.620930678971879\n",
       "\\item -0.646192370608353\n",
       "\\item 0.314297224014591\n",
       "\\item 0.337058389920765\n",
       "\\item 0.46787757238817\n",
       "\\item -1.50759612245519\n",
       "\\item -0.566781515828311\n",
       "\\item -0.941136105997394\n",
       "\\end{enumerate*}\n"
      ],
      "text/markdown": [
       "1. 0.625326738571399\n",
       "2. -0.395106549535349\n",
       "3. -0.620930678971879\n",
       "4. -0.646192370608353\n",
       "5. 0.314297224014591\n",
       "6. 0.337058389920765\n",
       "7. 0.46787757238817\n",
       "8. -1.50759612245519\n",
       "9. -0.566781515828311\n",
       "10. -0.941136105997394\n",
       "\n",
       "\n"
      ],
      "text/plain": [
       " [1]  0.6253267 -0.3951065 -0.6209307 -0.6461924  0.3142972  0.3370584\n",
       " [7]  0.4678776 -1.5075961 -0.5667815 -0.9411361"
      ]
     },
     "metadata": {},
     "output_type": "display_data"
    }
   ],
   "source": [
    "rnorm(10);rnorm(10)    #每次生成都不同"
   ]
  },
  {
   "cell_type": "code",
   "execution_count": 40,
   "metadata": {
    "ExecuteTime": {
     "end_time": "2021-01-29T03:13:22.634930Z",
     "start_time": "2021-01-29T03:13:21.275Z"
    }
   },
   "outputs": [
    {
     "data": {
      "text/html": [
       "<style>\n",
       ".list-inline {list-style: none; margin:0; padding: 0}\n",
       ".list-inline>li {display: inline-block}\n",
       ".list-inline>li:not(:last-child)::after {content: \"\\00b7\"; padding: 0 .5ex}\n",
       "</style>\n",
       "<ol class=list-inline><li>-1.20706574938542</li><li>0.27742924211066</li><li>1.08444117668306</li><li>-2.34569770262935</li><li>0.42912468881105</li><li>0.506055892157574</li><li>-0.574739960134649</li><li>-0.546631855784187</li><li>-0.564451999093283</li><li>-0.890037829044104</li></ol>\n"
      ],
      "text/latex": [
       "\\begin{enumerate*}\n",
       "\\item -1.20706574938542\n",
       "\\item 0.27742924211066\n",
       "\\item 1.08444117668306\n",
       "\\item -2.34569770262935\n",
       "\\item 0.42912468881105\n",
       "\\item 0.506055892157574\n",
       "\\item -0.574739960134649\n",
       "\\item -0.546631855784187\n",
       "\\item -0.564451999093283\n",
       "\\item -0.890037829044104\n",
       "\\end{enumerate*}\n"
      ],
      "text/markdown": [
       "1. -1.20706574938542\n",
       "2. 0.27742924211066\n",
       "3. 1.08444117668306\n",
       "4. -2.34569770262935\n",
       "5. 0.42912468881105\n",
       "6. 0.506055892157574\n",
       "7. -0.574739960134649\n",
       "8. -0.546631855784187\n",
       "9. -0.564451999093283\n",
       "10. -0.890037829044104\n",
       "\n",
       "\n"
      ],
      "text/plain": [
       " [1] -1.2070657  0.2774292  1.0844412 -2.3456977  0.4291247  0.5060559\n",
       " [7] -0.5747400 -0.5466319 -0.5644520 -0.8900378"
      ]
     },
     "metadata": {},
     "output_type": "display_data"
    },
    {
     "data": {
      "text/html": [
       "<style>\n",
       ".list-inline {list-style: none; margin:0; padding: 0}\n",
       ".list-inline>li {display: inline-block}\n",
       ".list-inline>li:not(:last-child)::after {content: \"\\00b7\"; padding: 0 .5ex}\n",
       "</style>\n",
       "<ol class=list-inline><li>-0.477192699753547</li><li>-0.998386444859704</li><li>-0.77625389463799</li><li>0.0644588172762693</li><li>0.959494058970771</li><li>-0.110285494390774</li><li>-0.511009505806642</li><li>-0.911195416629811</li><li>-0.83717168026894</li><li>2.41583517848934</li></ol>\n"
      ],
      "text/latex": [
       "\\begin{enumerate*}\n",
       "\\item -0.477192699753547\n",
       "\\item -0.998386444859704\n",
       "\\item -0.77625389463799\n",
       "\\item 0.0644588172762693\n",
       "\\item 0.959494058970771\n",
       "\\item -0.110285494390774\n",
       "\\item -0.511009505806642\n",
       "\\item -0.911195416629811\n",
       "\\item -0.83717168026894\n",
       "\\item 2.41583517848934\n",
       "\\end{enumerate*}\n"
      ],
      "text/markdown": [
       "1. -0.477192699753547\n",
       "2. -0.998386444859704\n",
       "3. -0.77625389463799\n",
       "4. 0.0644588172762693\n",
       "5. 0.959494058970771\n",
       "6. -0.110285494390774\n",
       "7. -0.511009505806642\n",
       "8. -0.911195416629811\n",
       "9. -0.83717168026894\n",
       "10. 2.41583517848934\n",
       "\n",
       "\n"
      ],
      "text/plain": [
       " [1] -0.47719270 -0.99838644 -0.77625389  0.06445882  0.95949406 -0.11028549\n",
       " [7] -0.51100951 -0.91119542 -0.83717168  2.41583518"
      ]
     },
     "metadata": {},
     "output_type": "display_data"
    }
   ],
   "source": [
    "set.seed(1234)\n",
    "rnorm(10);rnorm(10)   #设定种子后，出现的顺序固定"
   ]
  },
  {
   "cell_type": "markdown",
   "metadata": {},
   "source": [
    "## 字符处理函数"
   ]
  },
  {
   "cell_type": "code",
   "execution_count": 41,
   "metadata": {
    "ExecuteTime": {
     "end_time": "2021-01-29T03:13:22.658867Z",
     "start_time": "2021-01-29T03:13:21.277Z"
    }
   },
   "outputs": [
    {
     "data": {
      "text/html": [
       "3"
      ],
      "text/latex": [
       "3"
      ],
      "text/markdown": [
       "3"
      ],
      "text/plain": [
       "[1] 3"
      ]
     },
     "metadata": {},
     "output_type": "display_data"
    }
   ],
   "source": [
    "nchar('asd')   #计算字符量"
   ]
  },
  {
   "cell_type": "code",
   "execution_count": 42,
   "metadata": {
    "ExecuteTime": {
     "end_time": "2021-01-29T03:13:22.682801Z",
     "start_time": "2021-01-29T03:13:21.279Z"
    }
   },
   "outputs": [
    {
     "data": {
      "text/html": [
       "<style>\n",
       ".list-inline {list-style: none; margin:0; padding: 0}\n",
       ".list-inline>li {display: inline-block}\n",
       ".list-inline>li:not(:last-child)::after {content: \"\\00b7\"; padding: 0 .5ex}\n",
       "</style>\n",
       "<ol class=list-inline><li>2</li><li>4</li></ol>\n"
      ],
      "text/latex": [
       "\\begin{enumerate*}\n",
       "\\item 2\n",
       "\\item 4\n",
       "\\end{enumerate*}\n"
      ],
      "text/markdown": [
       "1. 2\n",
       "2. 4\n",
       "\n",
       "\n"
      ],
      "text/plain": [
       "[1] 2 4"
      ]
     },
     "metadata": {},
     "output_type": "display_data"
    }
   ],
   "source": [
    "nchar(c('21','wasd'))"
   ]
  },
  {
   "cell_type": "code",
   "execution_count": 43,
   "metadata": {
    "ExecuteTime": {
     "end_time": "2021-01-29T03:13:22.707735Z",
     "start_time": "2021-01-29T03:13:21.281Z"
    }
   },
   "outputs": [
    {
     "data": {
      "text/html": [
       "1"
      ],
      "text/latex": [
       "1"
      ],
      "text/markdown": [
       "1"
      ],
      "text/plain": [
       "[1] 1"
      ]
     },
     "metadata": {},
     "output_type": "display_data"
    }
   ],
   "source": [
    "length('asd')   #区别于此"
   ]
  },
  {
   "cell_type": "code",
   "execution_count": 44,
   "metadata": {
    "ExecuteTime": {
     "end_time": "2021-01-29T03:13:22.730673Z",
     "start_time": "2021-01-29T03:13:21.283Z"
    }
   },
   "outputs": [
    {
     "data": {
      "text/html": [
       "2"
      ],
      "text/latex": [
       "2"
      ],
      "text/markdown": [
       "2"
      ],
      "text/plain": [
       "[1] 2"
      ]
     },
     "metadata": {},
     "output_type": "display_data"
    }
   ],
   "source": [
    "length(c('21','wasd'))"
   ]
  },
  {
   "cell_type": "code",
   "execution_count": 45,
   "metadata": {
    "ExecuteTime": {
     "end_time": "2021-01-29T03:13:22.754610Z",
     "start_time": "2021-01-29T03:13:21.285Z"
    }
   },
   "outputs": [
    {
     "data": {
      "text/html": [
       "'你在干'"
      ],
      "text/latex": [
       "'你在干'"
      ],
      "text/markdown": [
       "'你在干'"
      ],
      "text/plain": [
       "[1] \"你在干\""
      ]
     },
     "metadata": {},
     "output_type": "display_data"
    }
   ],
   "source": [
    "substr('我也不知道你在干什么',6,8)   #节选字符"
   ]
  },
  {
   "cell_type": "code",
   "execution_count": 46,
   "metadata": {
    "ExecuteTime": {
     "end_time": "2021-01-29T03:13:22.781549Z",
     "start_time": "2021-01-29T03:13:21.287Z"
    }
   },
   "outputs": [
    {
     "ename": "ERROR",
     "evalue": "Error in substr(\"我也不知道你在干什么\", 6, 8) <- c(\"李在凎\"): 赋值目标擴充到非语言对象\n",
     "output_type": "error",
     "traceback": [
      "Error in substr(\"我也不知道你在干什么\", 6, 8) <- c(\"李在凎\"): 赋值目标擴充到非语言对象\nTraceback:\n"
     ]
    }
   ],
   "source": [
    "substr('我也不知道你在干什么',6,8) <- c(\"李在凎\")\n",
    "#存疑！！！！！"
   ]
  },
  {
   "cell_type": "raw",
   "metadata": {},
   "source": [
    "函数grep()、sub()和strsplit()能够搜索某个文本字符串（fixed=TRUE）\n",
    "或某个正则表达式（fixed=FALSE，默认值为FALSE）。"
   ]
  },
  {
   "cell_type": "code",
   "execution_count": 47,
   "metadata": {
    "ExecuteTime": {
     "end_time": "2021-01-29T03:13:27.907366Z",
     "start_time": "2021-01-29T03:13:27.870Z"
    }
   },
   "outputs": [
    {
     "data": {
      "text/html": [
       "<style>\n",
       ".list-inline {list-style: none; margin:0; padding: 0}\n",
       ".list-inline>li {display: inline-block}\n",
       ".list-inline>li:not(:last-child)::after {content: \"\\00b7\"; padding: 0 .5ex}\n",
       "</style>\n",
       "<ol class=list-inline><li>1</li><li>2</li><li>3</li></ol>\n"
      ],
      "text/latex": [
       "\\begin{enumerate*}\n",
       "\\item 1\n",
       "\\item 2\n",
       "\\item 3\n",
       "\\end{enumerate*}\n"
      ],
      "text/markdown": [
       "1. 1\n",
       "2. 2\n",
       "3. 3\n",
       "\n",
       "\n"
      ],
      "text/plain": [
       "[1] 1 2 3"
      ]
     },
     "metadata": {},
     "output_type": "display_data"
    }
   ],
   "source": [
    "grep('我不?是',c('我不是','我是','我知道我是'),fixed=FALSE)   \n",
    "#仅仅是匹配某种模式，而不是完整的字符串\n",
    "#若fixed=FALSE，则pattern为一个正则表达式。\n",
    "#若fixed=TRUE，则pattern为一个文本字符串。返回值为匹配的下标"
   ]
  },
  {
   "cell_type": "code",
   "execution_count": 48,
   "metadata": {
    "ExecuteTime": {
     "end_time": "2021-01-29T03:13:28.265068Z",
     "start_time": "2021-01-29T03:13:28.231Z"
    }
   },
   "outputs": [
    {
     "data": {
      "text/html": [
       "'Hello.wor ld'"
      ],
      "text/latex": [
       "'Hello.wor ld'"
      ],
      "text/markdown": [
       "'Hello.wor ld'"
      ],
      "text/plain": [
       "[1] \"Hello.wor ld\""
      ]
     },
     "metadata": {},
     "output_type": "display_data"
    }
   ],
   "source": [
    "sub('\\\\s','.','Hello wor ld')   #把空格换成.\n",
    "#注意正则表达式'\\\\s'含有转义符号\n",
    "#注意只会替换第一个"
   ]
  },
  {
   "cell_type": "code",
   "execution_count": 49,
   "metadata": {
    "ExecuteTime": {
     "end_time": "2021-01-29T03:13:28.531511Z",
     "start_time": "2021-01-29T03:13:28.499Z"
    }
   },
   "outputs": [
    {
     "data": {
      "text/html": [
       "<ol>\n",
       "\t<li><style>\n",
       ".list-inline {list-style: none; margin:0; padding: 0}\n",
       ".list-inline>li {display: inline-block}\n",
       ".list-inline>li:not(:last-child)::after {content: \"\\00b7\"; padding: 0 .5ex}\n",
       "</style>\n",
       "<ol class=list-inline><li>'a'</li><li>'b'</li><li>'d'</li></ol>\n",
       "</li>\n",
       "</ol>\n"
      ],
      "text/latex": [
       "\\begin{enumerate}\n",
       "\\item \\begin{enumerate*}\n",
       "\\item 'a'\n",
       "\\item 'b'\n",
       "\\item 'd'\n",
       "\\end{enumerate*}\n",
       "\n",
       "\\end{enumerate}\n"
      ],
      "text/markdown": [
       "1. 1. 'a'\n",
       "2. 'b'\n",
       "3. 'd'\n",
       "\n",
       "\n",
       "\n",
       "\n",
       "\n"
      ],
      "text/plain": [
       "[[1]]\n",
       "[1] \"a\" \"b\" \"d\"\n"
      ]
     },
     "metadata": {},
     "output_type": "display_data"
    }
   ],
   "source": [
    "strsplit('abd','')   #分割元素"
   ]
  },
  {
   "cell_type": "code",
   "execution_count": 50,
   "metadata": {
    "ExecuteTime": {
     "end_time": "2021-01-29T03:13:28.759020Z",
     "start_time": "2021-01-29T03:13:28.731Z"
    }
   },
   "outputs": [
    {
     "data": {
      "text/html": [
       "<ol>\n",
       "\t<li><style>\n",
       ".list-inline {list-style: none; margin:0; padding: 0}\n",
       ".list-inline>li {display: inline-block}\n",
       ".list-inline>li:not(:last-child)::after {content: \"\\00b7\"; padding: 0 .5ex}\n",
       "</style>\n",
       "<ol class=list-inline><li>'ab'</li><li>'cd'</li><li>'e'</li></ol>\n",
       "</li>\n",
       "\t<li><style>\n",
       ".list-inline {list-style: none; margin:0; padding: 0}\n",
       ".list-inline>li {display: inline-block}\n",
       ".list-inline>li:not(:last-child)::after {content: \"\\00b7\"; padding: 0 .5ex}\n",
       "</style>\n",
       "<ol class=list-inline><li>'a'</li><li>'d'</li></ol>\n",
       "</li>\n",
       "</ol>\n"
      ],
      "text/latex": [
       "\\begin{enumerate}\n",
       "\\item \\begin{enumerate*}\n",
       "\\item 'ab'\n",
       "\\item 'cd'\n",
       "\\item 'e'\n",
       "\\end{enumerate*}\n",
       "\n",
       "\\item \\begin{enumerate*}\n",
       "\\item 'a'\n",
       "\\item 'd'\n",
       "\\end{enumerate*}\n",
       "\n",
       "\\end{enumerate}\n"
      ],
      "text/markdown": [
       "1. 1. 'ab'\n",
       "2. 'cd'\n",
       "3. 'e'\n",
       "\n",
       "\n",
       "\n",
       "2. 1. 'a'\n",
       "2. 'd'\n",
       "\n",
       "\n",
       "\n",
       "\n",
       "\n"
      ],
      "text/plain": [
       "[[1]]\n",
       "[1] \"ab\" \"cd\" \"e\" \n",
       "\n",
       "[[2]]\n",
       "[1] \"a\" \"d\"\n"
      ]
     },
     "metadata": {},
     "output_type": "display_data"
    }
   ],
   "source": [
    "strsplit(c('ab cd e', 'a d'),' ')   #按照空格来分词\n",
    "#类比py的split方法"
   ]
  },
  {
   "cell_type": "code",
   "execution_count": 51,
   "metadata": {
    "ExecuteTime": {
     "end_time": "2021-01-29T03:13:29.016007Z",
     "start_time": "2021-01-29T03:13:28.987Z"
    }
   },
   "outputs": [
    {
     "data": {
      "text/html": [
       "<style>\n",
       ".list-inline {list-style: none; margin:0; padding: 0}\n",
       ".list-inline>li {display: inline-block}\n",
       ".list-inline>li:not(:last-child)::after {content: \"\\00b7\"; padding: 0 .5ex}\n",
       "</style>\n",
       "<ol class=list-inline><li>'item-1'</li><li>'item-2'</li><li>'item-3'</li><li>'item-4'</li><li>'item-5'</li></ol>\n"
      ],
      "text/latex": [
       "\\begin{enumerate*}\n",
       "\\item 'item-1'\n",
       "\\item 'item-2'\n",
       "\\item 'item-3'\n",
       "\\item 'item-4'\n",
       "\\item 'item-5'\n",
       "\\end{enumerate*}\n"
      ],
      "text/markdown": [
       "1. 'item-1'\n",
       "2. 'item-2'\n",
       "3. 'item-3'\n",
       "4. 'item-4'\n",
       "5. 'item-5'\n",
       "\n",
       "\n"
      ],
      "text/plain": [
       "[1] \"item-1\" \"item-2\" \"item-3\" \"item-4\" \"item-5\""
      ]
     },
     "metadata": {},
     "output_type": "display_data"
    }
   ],
   "source": [
    "paste('item',1:5,sep='-')\n",
    "#和py的join方法有点类似"
   ]
  },
  {
   "cell_type": "code",
   "execution_count": 52,
   "metadata": {
    "ExecuteTime": {
     "end_time": "2021-01-29T03:13:29.247160Z",
     "start_time": "2021-01-29T03:13:29.225Z"
    }
   },
   "outputs": [
    {
     "data": {
      "text/html": [
       "'ABC'"
      ],
      "text/latex": [
       "'ABC'"
      ],
      "text/markdown": [
       "'ABC'"
      ],
      "text/plain": [
       "[1] \"ABC\""
      ]
     },
     "metadata": {},
     "output_type": "display_data"
    }
   ],
   "source": [
    "toupper('abc')   #大小写转化"
   ]
  },
  {
   "cell_type": "code",
   "execution_count": 53,
   "metadata": {
    "ExecuteTime": {
     "end_time": "2021-01-29T03:13:29.521062Z",
     "start_time": "2021-01-29T03:13:29.494Z"
    }
   },
   "outputs": [
    {
     "data": {
      "text/html": [
       "'abc'"
      ],
      "text/latex": [
       "'abc'"
      ],
      "text/markdown": [
       "'abc'"
      ],
      "text/plain": [
       "[1] \"abc\""
      ]
     },
     "metadata": {},
     "output_type": "display_data"
    }
   ],
   "source": [
    "tolower('ABC')"
   ]
  },
  {
   "cell_type": "markdown",
   "metadata": {},
   "source": [
    "## 其他实用函数"
   ]
  },
  {
   "cell_type": "code",
   "execution_count": 54,
   "metadata": {
    "ExecuteTime": {
     "end_time": "2021-01-29T03:13:30.167486Z",
     "start_time": "2021-01-29T03:13:30.142Z"
    }
   },
   "outputs": [
    {
     "data": {
      "text/html": [
       "1"
      ],
      "text/latex": [
       "1"
      ],
      "text/markdown": [
       "1"
      ],
      "text/plain": [
       "[1] 1"
      ]
     },
     "metadata": {},
     "output_type": "display_data"
    }
   ],
   "source": [
    "length('asdf')"
   ]
  },
  {
   "cell_type": "code",
   "execution_count": 55,
   "metadata": {
    "ExecuteTime": {
     "end_time": "2021-01-29T03:13:30.526441Z",
     "start_time": "2021-01-29T03:13:30.504Z"
    }
   },
   "outputs": [
    {
     "data": {
      "text/html": [
       "<style>\n",
       ".list-inline {list-style: none; margin:0; padding: 0}\n",
       ".list-inline>li {display: inline-block}\n",
       ".list-inline>li:not(:last-child)::after {content: \"\\00b7\"; padding: 0 .5ex}\n",
       "</style>\n",
       "<ol class=list-inline><li>1</li><li>3</li><li>5</li><li>7</li><li>9</li></ol>\n"
      ],
      "text/latex": [
       "\\begin{enumerate*}\n",
       "\\item 1\n",
       "\\item 3\n",
       "\\item 5\n",
       "\\item 7\n",
       "\\item 9\n",
       "\\end{enumerate*}\n"
      ],
      "text/markdown": [
       "1. 1\n",
       "2. 3\n",
       "3. 5\n",
       "4. 7\n",
       "5. 9\n",
       "\n",
       "\n"
      ],
      "text/plain": [
       "[1] 1 3 5 7 9"
      ]
     },
     "metadata": {},
     "output_type": "display_data"
    }
   ],
   "source": [
    "seq(1,10,2)   #等差数列"
   ]
  },
  {
   "cell_type": "code",
   "execution_count": 56,
   "metadata": {
    "ExecuteTime": {
     "end_time": "2021-01-29T03:13:31.018313Z",
     "start_time": "2021-01-29T03:13:30.993Z"
    }
   },
   "outputs": [
    {
     "data": {
      "text/html": [
       "<style>\n",
       ".list-inline {list-style: none; margin:0; padding: 0}\n",
       ".list-inline>li {display: inline-block}\n",
       ".list-inline>li:not(:last-child)::after {content: \"\\00b7\"; padding: 0 .5ex}\n",
       "</style>\n",
       "<ol class=list-inline><li>1</li><li>2</li><li>3</li><li>1</li><li>2</li><li>3</li></ol>\n"
      ],
      "text/latex": [
       "\\begin{enumerate*}\n",
       "\\item 1\n",
       "\\item 2\n",
       "\\item 3\n",
       "\\item 1\n",
       "\\item 2\n",
       "\\item 3\n",
       "\\end{enumerate*}\n"
      ],
      "text/markdown": [
       "1. 1\n",
       "2. 2\n",
       "3. 3\n",
       "4. 1\n",
       "5. 2\n",
       "6. 3\n",
       "\n",
       "\n"
      ],
      "text/plain": [
       "[1] 1 2 3 1 2 3"
      ]
     },
     "metadata": {},
     "output_type": "display_data"
    }
   ],
   "source": [
    "rep(1:3, 2)   #1:3重复两次 "
   ]
  },
  {
   "cell_type": "code",
   "execution_count": 57,
   "metadata": {
    "ExecuteTime": {
     "end_time": "2021-01-29T03:13:31.417141Z",
     "start_time": "2021-01-29T03:13:31.389Z"
    }
   },
   "outputs": [
    {
     "data": {
      "text/html": [
       "<style>\n",
       ".list-inline {list-style: none; margin:0; padding: 0}\n",
       ".list-inline>li {display: inline-block}\n",
       ".list-inline>li:not(:last-child)::after {content: \"\\00b7\"; padding: 0 .5ex}\n",
       "</style>\n",
       "<ol class=list-inline><li>(0.991,1.69]</li><li>(1.69,2.38]</li><li>(2.38,3.08]</li><li>(3.77,4.46]</li><li>(4.46,5.15]</li><li>(5.85,6.54]</li><li>(6.54,7.23]</li><li>(7.92,8.62]</li><li>(8.62,9.31]</li><li>(9.31,10]</li></ol>\n",
       "\n",
       "<details>\n",
       "\t<summary style=display:list-item;cursor:pointer>\n",
       "\t\t<strong>Levels</strong>:\n",
       "\t</summary>\n",
       "\t<style>\n",
       "\t.list-inline {list-style: none; margin:0; padding: 0}\n",
       "\t.list-inline>li {display: inline-block}\n",
       "\t.list-inline>li:not(:last-child)::after {content: \"\\00b7\"; padding: 0 .5ex}\n",
       "\t</style>\n",
       "\t<ol class=list-inline><li>'(0.991,1.69]'</li><li>'(1.69,2.38]'</li><li>'(2.38,3.08]'</li><li>'(3.08,3.77]'</li><li>'(3.77,4.46]'</li><li>'(4.46,5.15]'</li><li>'(5.15,5.85]'</li><li>'(5.85,6.54]'</li><li>'(6.54,7.23]'</li><li>'(7.23,7.92]'</li><li>'(7.92,8.62]'</li><li>'(8.62,9.31]'</li><li>'(9.31,10]'</li></ol>\n",
       "</details>"
      ],
      "text/latex": [
       "\\begin{enumerate*}\n",
       "\\item (0.991,1.69{]}\n",
       "\\item (1.69,2.38{]}\n",
       "\\item (2.38,3.08{]}\n",
       "\\item (3.77,4.46{]}\n",
       "\\item (4.46,5.15{]}\n",
       "\\item (5.85,6.54{]}\n",
       "\\item (6.54,7.23{]}\n",
       "\\item (7.92,8.62{]}\n",
       "\\item (8.62,9.31{]}\n",
       "\\item (9.31,10{]}\n",
       "\\end{enumerate*}\n",
       "\n",
       "\\emph{Levels}: \\begin{enumerate*}\n",
       "\\item '(0.991,1.69{]}'\n",
       "\\item '(1.69,2.38{]}'\n",
       "\\item '(2.38,3.08{]}'\n",
       "\\item '(3.08,3.77{]}'\n",
       "\\item '(3.77,4.46{]}'\n",
       "\\item '(4.46,5.15{]}'\n",
       "\\item '(5.15,5.85{]}'\n",
       "\\item '(5.85,6.54{]}'\n",
       "\\item '(6.54,7.23{]}'\n",
       "\\item '(7.23,7.92{]}'\n",
       "\\item '(7.92,8.62{]}'\n",
       "\\item '(8.62,9.31{]}'\n",
       "\\item '(9.31,10{]}'\n",
       "\\end{enumerate*}\n"
      ],
      "text/markdown": [
       "1. (0.991,1.69]\n",
       "2. (1.69,2.38]\n",
       "3. (2.38,3.08]\n",
       "4. (3.77,4.46]\n",
       "5. (4.46,5.15]\n",
       "6. (5.85,6.54]\n",
       "7. (6.54,7.23]\n",
       "8. (7.92,8.62]\n",
       "9. (8.62,9.31]\n",
       "10. (9.31,10]\n",
       "\n",
       "\n",
       "\n",
       "**Levels**: 1. '(0.991,1.69]'\n",
       "2. '(1.69,2.38]'\n",
       "3. '(2.38,3.08]'\n",
       "4. '(3.08,3.77]'\n",
       "5. '(3.77,4.46]'\n",
       "6. '(4.46,5.15]'\n",
       "7. '(5.15,5.85]'\n",
       "8. '(5.85,6.54]'\n",
       "9. '(6.54,7.23]'\n",
       "10. '(7.23,7.92]'\n",
       "11. '(7.92,8.62]'\n",
       "12. '(8.62,9.31]'\n",
       "13. '(9.31,10]'\n",
       "\n",
       "\n"
      ],
      "text/plain": [
       " [1] (0.991,1.69] (1.69,2.38]  (2.38,3.08]  (3.77,4.46]  (4.46,5.15] \n",
       " [6] (5.85,6.54]  (6.54,7.23]  (7.92,8.62]  (8.62,9.31]  (9.31,10]   \n",
       "13 Levels: (0.991,1.69] (1.69,2.38] (2.38,3.08] (3.08,3.77] ... (9.31,10]"
      ]
     },
     "metadata": {},
     "output_type": "display_data"
    }
   ],
   "source": [
    "cut(1:10,13)   #将连续型变量x分割为有着n个水平的因子"
   ]
  },
  {
   "cell_type": "code",
   "execution_count": 58,
   "metadata": {
    "ExecuteTime": {
     "end_time": "2021-01-29T03:13:31.761638Z",
     "start_time": "2021-01-29T03:13:31.727Z"
    }
   },
   "outputs": [
    {
     "data": {
      "text/html": [
       "<style>\n",
       ".list-inline {list-style: none; margin:0; padding: 0}\n",
       ".list-inline>li {display: inline-block}\n",
       ".list-inline>li:not(:last-child)::after {content: \"\\00b7\"; padding: 0 .5ex}\n",
       "</style>\n",
       "<ol class=list-inline><li>1</li><li>1.2</li><li>1.4</li><li>1.6</li><li>1.8</li><li>2</li><li>2.2</li><li>2.4</li><li>2.6</li><li>2.8</li><li>3</li><li>3.2</li><li>3.4</li><li>3.6</li><li>3.8</li><li>4</li><li>4.2</li><li>4.4</li><li>4.6</li><li>4.8</li><li>5</li><li>5.2</li><li>5.4</li><li>5.6</li><li>5.8</li><li>6</li><li>6.2</li><li>6.4</li><li>6.6</li><li>6.8</li><li>7</li><li>7.2</li><li>7.4</li><li>7.6</li><li>7.8</li><li>8</li><li>8.2</li><li>8.4</li><li>8.6</li><li>8.8</li><li>9</li><li>9.2</li><li>9.4</li><li>9.6</li><li>9.8</li><li>10</li></ol>\n"
      ],
      "text/latex": [
       "\\begin{enumerate*}\n",
       "\\item 1\n",
       "\\item 1.2\n",
       "\\item 1.4\n",
       "\\item 1.6\n",
       "\\item 1.8\n",
       "\\item 2\n",
       "\\item 2.2\n",
       "\\item 2.4\n",
       "\\item 2.6\n",
       "\\item 2.8\n",
       "\\item 3\n",
       "\\item 3.2\n",
       "\\item 3.4\n",
       "\\item 3.6\n",
       "\\item 3.8\n",
       "\\item 4\n",
       "\\item 4.2\n",
       "\\item 4.4\n",
       "\\item 4.6\n",
       "\\item 4.8\n",
       "\\item 5\n",
       "\\item 5.2\n",
       "\\item 5.4\n",
       "\\item 5.6\n",
       "\\item 5.8\n",
       "\\item 6\n",
       "\\item 6.2\n",
       "\\item 6.4\n",
       "\\item 6.6\n",
       "\\item 6.8\n",
       "\\item 7\n",
       "\\item 7.2\n",
       "\\item 7.4\n",
       "\\item 7.6\n",
       "\\item 7.8\n",
       "\\item 8\n",
       "\\item 8.2\n",
       "\\item 8.4\n",
       "\\item 8.6\n",
       "\\item 8.8\n",
       "\\item 9\n",
       "\\item 9.2\n",
       "\\item 9.4\n",
       "\\item 9.6\n",
       "\\item 9.8\n",
       "\\item 10\n",
       "\\end{enumerate*}\n"
      ],
      "text/markdown": [
       "1. 1\n",
       "2. 1.2\n",
       "3. 1.4\n",
       "4. 1.6\n",
       "5. 1.8\n",
       "6. 2\n",
       "7. 2.2\n",
       "8. 2.4\n",
       "9. 2.6\n",
       "10. 2.8\n",
       "11. 3\n",
       "12. 3.2\n",
       "13. 3.4\n",
       "14. 3.6\n",
       "15. 3.8\n",
       "16. 4\n",
       "17. 4.2\n",
       "18. 4.4\n",
       "19. 4.6\n",
       "20. 4.8\n",
       "21. 5\n",
       "22. 5.2\n",
       "23. 5.4\n",
       "24. 5.6\n",
       "25. 5.8\n",
       "26. 6\n",
       "27. 6.2\n",
       "28. 6.4\n",
       "29. 6.6\n",
       "30. 6.8\n",
       "31. 7\n",
       "32. 7.2\n",
       "33. 7.4\n",
       "34. 7.6\n",
       "35. 7.8\n",
       "36. 8\n",
       "37. 8.2\n",
       "38. 8.4\n",
       "39. 8.6\n",
       "40. 8.8\n",
       "41. 9\n",
       "42. 9.2\n",
       "43. 9.4\n",
       "44. 9.6\n",
       "45. 9.8\n",
       "46. 10\n",
       "\n",
       "\n"
      ],
      "text/plain": [
       " [1]  1.0  1.2  1.4  1.6  1.8  2.0  2.2  2.4  2.6  2.8  3.0  3.2  3.4  3.6  3.8\n",
       "[16]  4.0  4.2  4.4  4.6  4.8  5.0  5.2  5.4  5.6  5.8  6.0  6.2  6.4  6.6  6.8\n",
       "[31]  7.0  7.2  7.4  7.6  7.8  8.0  8.2  8.4  8.6  8.8  9.0  9.2  9.4  9.6  9.8\n",
       "[46] 10.0"
      ]
     },
     "metadata": {},
     "output_type": "display_data"
    }
   ],
   "source": [
    "pretty(1:10,33) \n",
    "#创建美观的分割点。通过选取n+1个等间距的取整值，将一个连续型变量x分割为n个区间。绘图中常用"
   ]
  },
  {
   "cell_type": "code",
   "execution_count": 59,
   "metadata": {
    "ExecuteTime": {
     "end_time": "2021-01-29T03:13:32.303303Z",
     "start_time": "2021-01-29T03:13:32.269Z"
    }
   },
   "outputs": [],
   "source": [
    "cat('Hello ','world.','2020','\\n',file='cat.txt')"
   ]
  },
  {
   "cell_type": "code",
   "execution_count": 60,
   "metadata": {
    "ExecuteTime": {
     "end_time": "2021-01-29T03:13:32.870519Z",
     "start_time": "2021-01-29T03:13:32.842Z"
    }
   },
   "outputs": [],
   "source": [
    "cat('这是第二次写入，为append模式',file='cat.txt',append=TRUE)\n",
    "#默认为ascii编码，中文可能会出错"
   ]
  },
  {
   "cell_type": "markdown",
   "metadata": {},
   "source": [
    "## 把函数用于矩阵和数据框"
   ]
  },
  {
   "cell_type": "code",
   "execution_count": 61,
   "metadata": {
    "ExecuteTime": {
     "end_time": "2021-01-29T03:13:33.539490Z",
     "start_time": "2021-01-29T03:13:33.515Z"
    }
   },
   "outputs": [
    {
     "data": {
      "text/html": [
       "<style>\n",
       ".list-inline {list-style: none; margin:0; padding: 0}\n",
       ".list-inline>li {display: inline-block}\n",
       ".list-inline>li:not(:last-child)::after {content: \"\\00b7\"; padding: 0 .5ex}\n",
       "</style>\n",
       "<ol class=list-inline><li>'English'</li><li>'Math'</li><li>'roster'</li><li>'Science'</li><li>'Student'</li><li>'x'</li><li>'y'</li></ol>\n"
      ],
      "text/latex": [
       "\\begin{enumerate*}\n",
       "\\item 'English'\n",
       "\\item 'Math'\n",
       "\\item 'roster'\n",
       "\\item 'Science'\n",
       "\\item 'Student'\n",
       "\\item 'x'\n",
       "\\item 'y'\n",
       "\\end{enumerate*}\n"
      ],
      "text/markdown": [
       "1. 'English'\n",
       "2. 'Math'\n",
       "3. 'roster'\n",
       "4. 'Science'\n",
       "5. 'Student'\n",
       "6. 'x'\n",
       "7. 'y'\n",
       "\n",
       "\n"
      ],
      "text/plain": [
       "[1] \"English\" \"Math\"    \"roster\"  \"Science\" \"Student\" \"x\"       \"y\"      "
      ]
     },
     "metadata": {},
     "output_type": "display_data"
    }
   ],
   "source": [
    "ls()   #查看当前所有变量"
   ]
  },
  {
   "cell_type": "code",
   "execution_count": 62,
   "metadata": {
    "ExecuteTime": {
     "end_time": "2021-01-29T03:13:33.853017Z",
     "start_time": "2021-01-29T03:13:33.828Z"
    }
   },
   "outputs": [
    {
     "data": {
      "text/html": [
       "<style>\n",
       ".list-inline {list-style: none; margin:0; padding: 0}\n",
       ".list-inline>li {display: inline-block}\n",
       ".list-inline>li:not(:last-child)::after {content: \"\\00b7\"; padding: 0 .5ex}\n",
       "</style>\n",
       "<ol class=list-inline><li>1</li><li>2</li><li>3</li></ol>\n"
      ],
      "text/latex": [
       "\\begin{enumerate*}\n",
       "\\item 1\n",
       "\\item 2\n",
       "\\item 3\n",
       "\\end{enumerate*}\n"
      ],
      "text/markdown": [
       "1. 1\n",
       "2. 2\n",
       "3. 3\n",
       "\n",
       "\n"
      ],
      "text/plain": [
       "[1] 1 2 3"
      ]
     },
     "metadata": {},
     "output_type": "display_data"
    }
   ],
   "source": [
    "a <- 1:3;a"
   ]
  },
  {
   "cell_type": "code",
   "execution_count": 63,
   "metadata": {
    "ExecuteTime": {
     "end_time": "2021-01-29T03:13:34.126131Z",
     "start_time": "2021-01-29T03:13:34.092Z"
    }
   },
   "outputs": [
    {
     "data": {
      "text/html": [
       "<style>\n",
       ".list-inline {list-style: none; margin:0; padding: 0}\n",
       ".list-inline>li {display: inline-block}\n",
       ".list-inline>li:not(:last-child)::after {content: \"\\00b7\"; padding: 0 .5ex}\n",
       "</style>\n",
       "<ol class=list-inline><li>1</li><li>1.4142135623731</li><li>1.73205080756888</li></ol>\n"
      ],
      "text/latex": [
       "\\begin{enumerate*}\n",
       "\\item 1\n",
       "\\item 1.4142135623731\n",
       "\\item 1.73205080756888\n",
       "\\end{enumerate*}\n"
      ],
      "text/markdown": [
       "1. 1\n",
       "2. 1.4142135623731\n",
       "3. 1.73205080756888\n",
       "\n",
       "\n"
      ],
      "text/plain": [
       "[1] 1.000000 1.414214 1.732051"
      ]
     },
     "metadata": {},
     "output_type": "display_data"
    }
   ],
   "source": [
    "b <- sqrt(a);b"
   ]
  },
  {
   "cell_type": "code",
   "execution_count": 64,
   "metadata": {
    "ExecuteTime": {
     "end_time": "2021-01-29T03:13:34.421774Z",
     "start_time": "2021-01-29T03:13:34.396Z"
    }
   },
   "outputs": [
    {
     "data": {
      "text/html": [
       "<style>\n",
       ".list-inline {list-style: none; margin:0; padding: 0}\n",
       ".list-inline>li {display: inline-block}\n",
       ".list-inline>li:not(:last-child)::after {content: \"\\00b7\"; padding: 0 .5ex}\n",
       "</style>\n",
       "<ol class=list-inline><li>1</li><li>1</li><li>2</li></ol>\n"
      ],
      "text/latex": [
       "\\begin{enumerate*}\n",
       "\\item 1\n",
       "\\item 1\n",
       "\\item 2\n",
       "\\end{enumerate*}\n"
      ],
      "text/markdown": [
       "1. 1\n",
       "2. 1\n",
       "3. 2\n",
       "\n",
       "\n"
      ],
      "text/plain": [
       "[1] 1 1 2"
      ]
     },
     "metadata": {},
     "output_type": "display_data"
    }
   ],
   "source": [
    "round(b)"
   ]
  },
  {
   "cell_type": "code",
   "execution_count": 65,
   "metadata": {
    "ExecuteTime": {
     "end_time": "2021-01-29T03:13:34.753785Z",
     "start_time": "2021-01-29T03:13:34.725Z"
    }
   },
   "outputs": [
    {
     "data": {
      "text/html": [
       "<table class=\"dataframe\">\n",
       "<caption>A matrix: 3 × 4 of type dbl</caption>\n",
       "<tbody>\n",
       "\t<tr><td>0.5533336</td><td>0.6218192</td><td>0.6770945</td><td>0.76545979</td></tr>\n",
       "\t<tr><td>0.6464061</td><td>0.3297702</td><td>0.4849912</td><td>0.07377988</td></tr>\n",
       "\t<tr><td>0.3118243</td><td>0.5019975</td><td>0.2439288</td><td>0.30968660</td></tr>\n",
       "</tbody>\n",
       "</table>\n"
      ],
      "text/latex": [
       "A matrix: 3 × 4 of type dbl\n",
       "\\begin{tabular}{llll}\n",
       "\t 0.5533336 & 0.6218192 & 0.6770945 & 0.76545979\\\\\n",
       "\t 0.6464061 & 0.3297702 & 0.4849912 & 0.07377988\\\\\n",
       "\t 0.3118243 & 0.5019975 & 0.2439288 & 0.30968660\\\\\n",
       "\\end{tabular}\n"
      ],
      "text/markdown": [
       "\n",
       "A matrix: 3 × 4 of type dbl\n",
       "\n",
       "| 0.5533336 | 0.6218192 | 0.6770945 | 0.76545979 |\n",
       "| 0.6464061 | 0.3297702 | 0.4849912 | 0.07377988 |\n",
       "| 0.3118243 | 0.5019975 | 0.2439288 | 0.30968660 |\n",
       "\n"
      ],
      "text/plain": [
       "     [,1]      [,2]      [,3]      [,4]      \n",
       "[1,] 0.5533336 0.6218192 0.6770945 0.76545979\n",
       "[2,] 0.6464061 0.3297702 0.4849912 0.07377988\n",
       "[3,] 0.3118243 0.5019975 0.2439288 0.30968660"
      ]
     },
     "metadata": {},
     "output_type": "display_data"
    }
   ],
   "source": [
    "c <- matrix(runif(12), nrow=3);c   #均匀分布抽取12个数字"
   ]
  },
  {
   "cell_type": "code",
   "execution_count": 66,
   "metadata": {
    "ExecuteTime": {
     "end_time": "2021-01-29T03:13:35.216045Z",
     "start_time": "2021-01-29T03:13:35.188Z"
    }
   },
   "outputs": [
    {
     "data": {
      "text/html": [
       "<table class=\"dataframe\">\n",
       "<caption>A matrix: 3 × 4 of type dbl</caption>\n",
       "<tbody>\n",
       "\t<tr><td>-0.5917942</td><td>-0.4751059</td><td>-0.3899444</td><td>-0.2672786</td></tr>\n",
       "\t<tr><td>-0.4363273</td><td>-1.1093593</td><td>-0.7236245</td><td>-2.6066692</td></tr>\n",
       "\t<tr><td>-1.1653154</td><td>-0.6891602</td><td>-1.4108788</td><td>-1.1721945</td></tr>\n",
       "</tbody>\n",
       "</table>\n"
      ],
      "text/latex": [
       "A matrix: 3 × 4 of type dbl\n",
       "\\begin{tabular}{llll}\n",
       "\t -0.5917942 & -0.4751059 & -0.3899444 & -0.2672786\\\\\n",
       "\t -0.4363273 & -1.1093593 & -0.7236245 & -2.6066692\\\\\n",
       "\t -1.1653154 & -0.6891602 & -1.4108788 & -1.1721945\\\\\n",
       "\\end{tabular}\n"
      ],
      "text/markdown": [
       "\n",
       "A matrix: 3 × 4 of type dbl\n",
       "\n",
       "| -0.5917942 | -0.4751059 | -0.3899444 | -0.2672786 |\n",
       "| -0.4363273 | -1.1093593 | -0.7236245 | -2.6066692 |\n",
       "| -1.1653154 | -0.6891602 | -1.4108788 | -1.1721945 |\n",
       "\n"
      ],
      "text/plain": [
       "     [,1]       [,2]       [,3]       [,4]      \n",
       "[1,] -0.5917942 -0.4751059 -0.3899444 -0.2672786\n",
       "[2,] -0.4363273 -1.1093593 -0.7236245 -2.6066692\n",
       "[3,] -1.1653154 -0.6891602 -1.4108788 -1.1721945"
      ]
     },
     "metadata": {},
     "output_type": "display_data"
    }
   ],
   "source": [
    "log(c)   #对每一个值分别求对数"
   ]
  },
  {
   "cell_type": "code",
   "execution_count": 67,
   "metadata": {
    "ExecuteTime": {
     "end_time": "2021-01-29T03:13:35.758325Z",
     "start_time": "2021-01-29T03:13:35.728Z"
    }
   },
   "outputs": [
    {
     "data": {
      "text/html": [
       "0.46000764183312"
      ],
      "text/latex": [
       "0.46000764183312"
      ],
      "text/markdown": [
       "0.46000764183312"
      ],
      "text/plain": [
       "[1] 0.4600076"
      ]
     },
     "metadata": {},
     "output_type": "display_data"
    }
   ],
   "source": [
    "mean(c)    #对所有的12个值求均值"
   ]
  },
  {
   "cell_type": "code",
   "execution_count": 68,
   "metadata": {
    "ExecuteTime": {
     "end_time": "2021-01-29T03:13:36.493537Z",
     "start_time": "2021-01-29T03:13:36.460Z"
    }
   },
   "outputs": [
    {
     "data": {
      "text/html": [
       "<style>\n",
       ".list-inline {list-style: none; margin:0; padding: 0}\n",
       ".list-inline>li {display: inline-block}\n",
       ".list-inline>li:not(:last-child)::after {content: \"\\00b7\"; padding: 0 .5ex}\n",
       "</style>\n",
       "<ol class=list-inline><li>0.654426775930915</li><li>0.38373684725957</li><li>0.341859302308876</li></ol>\n"
      ],
      "text/latex": [
       "\\begin{enumerate*}\n",
       "\\item 0.654426775930915\n",
       "\\item 0.38373684725957\n",
       "\\item 0.341859302308876\n",
       "\\end{enumerate*}\n"
      ],
      "text/markdown": [
       "1. 0.654426775930915\n",
       "2. 0.38373684725957\n",
       "3. 0.341859302308876\n",
       "\n",
       "\n"
      ],
      "text/plain": [
       "[1] 0.6544268 0.3837368 0.3418593"
      ]
     },
     "metadata": {},
     "output_type": "display_data"
    },
    {
     "data": {
      "text/html": [
       "<style>\n",
       ".list-inline {list-style: none; margin:0; padding: 0}\n",
       ".list-inline>li {display: inline-block}\n",
       ".list-inline>li:not(:last-child)::after {content: \"\\00b7\"; padding: 0 .5ex}\n",
       "</style>\n",
       "<ol class=list-inline><li>0.503854663964982</li><li>0.484528948940958</li><li>0.468671531261255</li><li>0.382975423165287</li></ol>\n"
      ],
      "text/latex": [
       "\\begin{enumerate*}\n",
       "\\item 0.503854663964982\n",
       "\\item 0.484528948940958\n",
       "\\item 0.468671531261255\n",
       "\\item 0.382975423165287\n",
       "\\end{enumerate*}\n"
      ],
      "text/markdown": [
       "1. 0.503854663964982\n",
       "2. 0.484528948940958\n",
       "3. 0.468671531261255\n",
       "4. 0.382975423165287\n",
       "\n",
       "\n"
      ],
      "text/plain": [
       "[1] 0.5038547 0.4845289 0.4686715 0.3829754"
      ]
     },
     "metadata": {},
     "output_type": "display_data"
    },
    {
     "data": {
      "text/html": [
       "<style>\n",
       ".list-inline {list-style: none; margin:0; padding: 0}\n",
       ".list-inline>li {display: inline-block}\n",
       ".list-inline>li:not(:last-child)::after {content: \"\\00b7\"; padding: 0 .5ex}\n",
       "</style>\n",
       "<ol class=list-inline><li>0.00804174761555275</li><li>0.0594111027487303</li><li>0.0123905984052924</li></ol>\n"
      ],
      "text/latex": [
       "\\begin{enumerate*}\n",
       "\\item 0.00804174761555275\n",
       "\\item 0.0594111027487303\n",
       "\\item 0.0123905984052924\n",
       "\\end{enumerate*}\n"
      ],
      "text/markdown": [
       "1. 0.00804174761555275\n",
       "2. 0.0594111027487303\n",
       "3. 0.0123905984052924\n",
       "\n",
       "\n"
      ],
      "text/plain": [
       "[1] 0.008041748 0.059411103 0.012390598"
      ]
     },
     "metadata": {},
     "output_type": "display_data"
    }
   ],
   "source": [
    "#想要对某一行or列运算\n",
    "apply(c,1,mean) #MARGIN参数为1，代表对行运算\n",
    "apply(c,2,mean) #代表对列运算\n",
    "#注意这里的函数不需要括号\n",
    "apply(c,1,var)"
   ]
  },
  {
   "cell_type": "markdown",
   "metadata": {},
   "source": [
    "# 难题的解决"
   ]
  },
  {
   "cell_type": "code",
   "execution_count": 69,
   "metadata": {
    "ExecuteTime": {
     "end_time": "2021-01-29T03:13:37.620139Z",
     "start_time": "2021-01-29T03:13:37.584Z"
    }
   },
   "outputs": [
    {
     "name": "stdout",
     "output_type": "stream",
     "text": [
      "             Student Math Science English\n",
      "1         John Davis  502      95      25\n",
      "2    Angela Williams  600      99      22\n",
      "3   Bullwinkle Moose  412      80      18\n",
      "4        David Jones  358      82      15\n",
      "5  Janice Markhammer  495      75      20\n",
      "6     Cheryl Cushing  512      85      28\n",
      "7     Reuven Ytzrhak  410      80      15\n",
      "8          Greg Knox  625      95      30\n",
      "9       Joel England  573      89      27\n",
      "10      Mary Rayburn  522      86      18\n"
     ]
    }
   ],
   "source": [
    "print(roster)"
   ]
  },
  {
   "cell_type": "code",
   "execution_count": 70,
   "metadata": {
    "ExecuteTime": {
     "end_time": "2021-01-29T03:13:38.174478Z",
     "start_time": "2021-01-29T03:13:38.151Z"
    }
   },
   "outputs": [],
   "source": [
    "options(digits=2)   #保留两位小数"
   ]
  },
  {
   "cell_type": "code",
   "execution_count": 71,
   "metadata": {
    "ExecuteTime": {
     "end_time": "2021-01-29T03:13:40.491250Z",
     "start_time": "2021-01-29T03:13:40.468Z"
    }
   },
   "outputs": [
    {
     "name": "stdout",
     "output_type": "stream",
     "text": [
      "        Math Science English\n",
      " [1,]  0.013   1.078   0.587\n",
      " [2,]  1.143   1.591   0.037\n",
      " [3,] -1.026  -0.847  -0.697\n",
      " [4,] -1.649  -0.590  -1.247\n",
      " [5,] -0.068  -1.489  -0.330\n",
      " [6,]  0.128  -0.205   1.137\n",
      " [7,] -1.049  -0.847  -1.247\n",
      " [8,]  1.432   1.078   1.504\n",
      " [9,]  0.832   0.308   0.954\n",
      "[10,]  0.243  -0.077  -0.697\n",
      "attr(,\"scaled:center\")\n",
      "   Math Science English \n",
      "    501      87      22 \n",
      "attr(,\"scaled:scale\")\n",
      "   Math Science English \n",
      "   86.7     7.8     5.5 \n"
     ]
    }
   ],
   "source": [
    "z <- scale(roster[2:4]);print(z)   #标准化"
   ]
  },
  {
   "cell_type": "code",
   "execution_count": 72,
   "metadata": {
    "ExecuteTime": {
     "end_time": "2021-01-29T03:13:41.866926Z",
     "start_time": "2021-01-29T03:13:41.842Z"
    }
   },
   "outputs": [
    {
     "data": {
      "text/html": [
       "<style>\n",
       ".list-inline {list-style: none; margin:0; padding: 0}\n",
       ".list-inline>li {display: inline-block}\n",
       ".list-inline>li:not(:last-child)::after {content: \"\\00b7\"; padding: 0 .5ex}\n",
       "</style>\n",
       "<ol class=list-inline><li>0.559202782475718</li><li>0.923825924994712</li><li>-0.85654139662578</li><li>-1.16204727526912</li><li>-0.62897755156843</li><li>0.353248480638513</li><li>-1.04762416088104</li><li>1.33789336450671</li><li>0.697836120261835</li><li>-0.176816288533107</li></ol>\n"
      ],
      "text/latex": [
       "\\begin{enumerate*}\n",
       "\\item 0.559202782475718\n",
       "\\item 0.923825924994712\n",
       "\\item -0.85654139662578\n",
       "\\item -1.16204727526912\n",
       "\\item -0.62897755156843\n",
       "\\item 0.353248480638513\n",
       "\\item -1.04762416088104\n",
       "\\item 1.33789336450671\n",
       "\\item 0.697836120261835\n",
       "\\item -0.176816288533107\n",
       "\\end{enumerate*}\n"
      ],
      "text/markdown": [
       "1. 0.559202782475718\n",
       "2. 0.923825924994712\n",
       "3. -0.85654139662578\n",
       "4. -1.16204727526912\n",
       "5. -0.62897755156843\n",
       "6. 0.353248480638513\n",
       "7. -1.04762416088104\n",
       "8. 1.33789336450671\n",
       "9. 0.697836120261835\n",
       "10. -0.176816288533107\n",
       "\n",
       "\n"
      ],
      "text/plain": [
       " [1]  0.56  0.92 -0.86 -1.16 -0.63  0.35 -1.05  1.34  0.70 -0.18"
      ]
     },
     "metadata": {},
     "output_type": "display_data"
    }
   ],
   "source": [
    "score <- apply(z,1,mean);score   \n",
    "#对行求均值，即为学生的综合得分"
   ]
  },
  {
   "cell_type": "code",
   "execution_count": 73,
   "metadata": {
    "ExecuteTime": {
     "end_time": "2021-01-29T03:13:45.367340Z",
     "start_time": "2021-01-29T03:13:45.347Z"
    }
   },
   "outputs": [],
   "source": [
    "roster <- cbind(roster,score)"
   ]
  },
  {
   "cell_type": "code",
   "execution_count": 74,
   "metadata": {
    "ExecuteTime": {
     "end_time": "2021-01-29T03:13:46.240812Z",
     "start_time": "2021-01-29T03:13:46.211Z"
    }
   },
   "outputs": [
    {
     "data": {
      "text/html": [
       "<table class=\"dataframe\">\n",
       "<caption>A data.frame: 10 × 5</caption>\n",
       "<thead>\n",
       "\t<tr><th scope=col>Student</th><th scope=col>Math</th><th scope=col>Science</th><th scope=col>English</th><th scope=col>score</th></tr>\n",
       "\t<tr><th scope=col>&lt;chr&gt;</th><th scope=col>&lt;dbl&gt;</th><th scope=col>&lt;dbl&gt;</th><th scope=col>&lt;dbl&gt;</th><th scope=col>&lt;dbl&gt;</th></tr>\n",
       "</thead>\n",
       "<tbody>\n",
       "\t<tr><td>John Davis       </td><td>502</td><td>95</td><td>25</td><td> 0.56</td></tr>\n",
       "\t<tr><td>Angela Williams  </td><td>600</td><td>99</td><td>22</td><td> 0.92</td></tr>\n",
       "\t<tr><td>Bullwinkle Moose </td><td>412</td><td>80</td><td>18</td><td>-0.86</td></tr>\n",
       "\t<tr><td>David Jones      </td><td>358</td><td>82</td><td>15</td><td>-1.16</td></tr>\n",
       "\t<tr><td>Janice Markhammer</td><td>495</td><td>75</td><td>20</td><td>-0.63</td></tr>\n",
       "\t<tr><td>Cheryl Cushing   </td><td>512</td><td>85</td><td>28</td><td> 0.35</td></tr>\n",
       "\t<tr><td>Reuven Ytzrhak   </td><td>410</td><td>80</td><td>15</td><td>-1.05</td></tr>\n",
       "\t<tr><td>Greg Knox        </td><td>625</td><td>95</td><td>30</td><td> 1.34</td></tr>\n",
       "\t<tr><td>Joel England     </td><td>573</td><td>89</td><td>27</td><td> 0.70</td></tr>\n",
       "\t<tr><td>Mary Rayburn     </td><td>522</td><td>86</td><td>18</td><td>-0.18</td></tr>\n",
       "</tbody>\n",
       "</table>\n"
      ],
      "text/latex": [
       "A data.frame: 10 × 5\n",
       "\\begin{tabular}{lllll}\n",
       " Student & Math & Science & English & score\\\\\n",
       " <chr> & <dbl> & <dbl> & <dbl> & <dbl>\\\\\n",
       "\\hline\n",
       "\t John Davis        & 502 & 95 & 25 &  0.56\\\\\n",
       "\t Angela Williams   & 600 & 99 & 22 &  0.92\\\\\n",
       "\t Bullwinkle Moose  & 412 & 80 & 18 & -0.86\\\\\n",
       "\t David Jones       & 358 & 82 & 15 & -1.16\\\\\n",
       "\t Janice Markhammer & 495 & 75 & 20 & -0.63\\\\\n",
       "\t Cheryl Cushing    & 512 & 85 & 28 &  0.35\\\\\n",
       "\t Reuven Ytzrhak    & 410 & 80 & 15 & -1.05\\\\\n",
       "\t Greg Knox         & 625 & 95 & 30 &  1.34\\\\\n",
       "\t Joel England      & 573 & 89 & 27 &  0.70\\\\\n",
       "\t Mary Rayburn      & 522 & 86 & 18 & -0.18\\\\\n",
       "\\end{tabular}\n"
      ],
      "text/markdown": [
       "\n",
       "A data.frame: 10 × 5\n",
       "\n",
       "| Student &lt;chr&gt; | Math &lt;dbl&gt; | Science &lt;dbl&gt; | English &lt;dbl&gt; | score &lt;dbl&gt; |\n",
       "|---|---|---|---|---|\n",
       "| John Davis        | 502 | 95 | 25 |  0.56 |\n",
       "| Angela Williams   | 600 | 99 | 22 |  0.92 |\n",
       "| Bullwinkle Moose  | 412 | 80 | 18 | -0.86 |\n",
       "| David Jones       | 358 | 82 | 15 | -1.16 |\n",
       "| Janice Markhammer | 495 | 75 | 20 | -0.63 |\n",
       "| Cheryl Cushing    | 512 | 85 | 28 |  0.35 |\n",
       "| Reuven Ytzrhak    | 410 | 80 | 15 | -1.05 |\n",
       "| Greg Knox         | 625 | 95 | 30 |  1.34 |\n",
       "| Joel England      | 573 | 89 | 27 |  0.70 |\n",
       "| Mary Rayburn      | 522 | 86 | 18 | -0.18 |\n",
       "\n"
      ],
      "text/plain": [
       "   Student           Math Science English score\n",
       "1  John Davis        502  95      25       0.56\n",
       "2  Angela Williams   600  99      22       0.92\n",
       "3  Bullwinkle Moose  412  80      18      -0.86\n",
       "4  David Jones       358  82      15      -1.16\n",
       "5  Janice Markhammer 495  75      20      -0.63\n",
       "6  Cheryl Cushing    512  85      28       0.35\n",
       "7  Reuven Ytzrhak    410  80      15      -1.05\n",
       "8  Greg Knox         625  95      30       1.34\n",
       "9  Joel England      573  89      27       0.70\n",
       "10 Mary Rayburn      522  86      18      -0.18"
      ]
     },
     "metadata": {},
     "output_type": "display_data"
    }
   ],
   "source": [
    "roster"
   ]
  },
  {
   "cell_type": "code",
   "execution_count": 75,
   "metadata": {
    "ExecuteTime": {
     "end_time": "2021-01-29T03:13:46.846839Z",
     "start_time": "2021-01-29T03:13:46.816Z"
    }
   },
   "outputs": [
    {
     "data": {
      "text/html": [
       "<style>\n",
       ".dl-inline {width: auto; margin:0; padding: 0}\n",
       ".dl-inline>dt, .dl-inline>dd {float: none; width: auto; display: inline-block}\n",
       ".dl-inline>dt::after {content: \":\\0020\"; padding-right: .5ex}\n",
       ".dl-inline>dt:not(:first-of-type) {padding-left: .5ex}\n",
       "</style><dl class=dl-inline><dt>80%</dt><dd>0.74303408120841</dd><dt>60%</dt><dd>0.435630201373395</dd><dt>40%</dt><dd>-0.357680793747236</dd><dt>20%</dt><dd>-0.894757949476833</dd></dl>\n"
      ],
      "text/latex": [
       "\\begin{description*}\n",
       "\\item[80\\textbackslash{}\\%] 0.74303408120841\n",
       "\\item[60\\textbackslash{}\\%] 0.435630201373395\n",
       "\\item[40\\textbackslash{}\\%] -0.357680793747236\n",
       "\\item[20\\textbackslash{}\\%] -0.894757949476833\n",
       "\\end{description*}\n"
      ],
      "text/markdown": [
       "80%\n",
       ":   0.7430340812084160%\n",
       ":   0.43563020137339540%\n",
       ":   -0.35768079374723620%\n",
       ":   -0.894757949476833\n",
       "\n"
      ],
      "text/plain": [
       "  80%   60%   40%   20% \n",
       " 0.74  0.44 -0.36 -0.89 "
      ]
     },
     "metadata": {},
     "output_type": "display_data"
    }
   ],
   "source": [
    "quantile(roster$score,c(.8, .6, .4, .2))   \n",
    "#划分ABCDE档的基准分数，分位数"
   ]
  },
  {
   "cell_type": "code",
   "execution_count": 76,
   "metadata": {
    "ExecuteTime": {
     "end_time": "2021-01-29T03:13:47.829038Z",
     "start_time": "2021-01-29T03:13:47.803Z"
    }
   },
   "outputs": [],
   "source": [
    "roster$grade[score >= y[1]] <- 'A'\n",
    "roster$grade[score < y[1] & score >=y[2]] <- 'B'\n",
    "roster$grade[score < y[2] & score >=y[3]] <- 'C'\n",
    "roster$grade[score < y[3] & score >=y[4]] <- 'D'\n",
    "roster$grade[score < y[4]] <- 'F'"
   ]
  },
  {
   "cell_type": "code",
   "execution_count": 77,
   "metadata": {
    "ExecuteTime": {
     "end_time": "2021-01-29T03:13:48.699344Z",
     "start_time": "2021-01-29T03:13:48.677Z"
    }
   },
   "outputs": [
    {
     "name": "stdout",
     "output_type": "stream",
     "text": [
      "             Student Math Science English score grade\n",
      "1         John Davis  502      95      25  0.56     A\n",
      "2    Angela Williams  600      99      22  0.92     A\n",
      "3   Bullwinkle Moose  412      80      18 -0.86     F\n",
      "4        David Jones  358      82      15 -1.16     F\n",
      "5  Janice Markhammer  495      75      20 -0.63     F\n",
      "6     Cheryl Cushing  512      85      28  0.35     A\n",
      "7     Reuven Ytzrhak  410      80      15 -1.05     F\n",
      "8          Greg Knox  625      95      30  1.34     A\n",
      "9       Joel England  573      89      27  0.70     A\n",
      "10      Mary Rayburn  522      86      18 -0.18     F\n"
     ]
    }
   ],
   "source": [
    "print(roster)"
   ]
  },
  {
   "cell_type": "code",
   "execution_count": 78,
   "metadata": {
    "ExecuteTime": {
     "end_time": "2021-01-29T03:14:09.291072Z",
     "start_time": "2021-01-29T03:14:09.261Z"
    }
   },
   "outputs": [],
   "source": [
    "name <- strsplit(roster$Student,' ')\n",
    "#求得名和姓的分离"
   ]
  },
  {
   "cell_type": "code",
   "execution_count": 81,
   "metadata": {
    "ExecuteTime": {
     "end_time": "2021-01-29T03:14:35.867929Z",
     "start_time": "2021-01-29T03:14:35.841Z"
    }
   },
   "outputs": [
    {
     "name": "stdout",
     "output_type": "stream",
     "text": [
      "List of 10\n",
      " $ : chr [1:2] \"John\" \"Davis\"\n",
      " $ : chr [1:2] \"Angela\" \"Williams\"\n",
      " $ : chr [1:2] \"Bullwinkle\" \"Moose\"\n",
      " $ : chr [1:2] \"David\" \"Jones\"\n",
      " $ : chr [1:2] \"Janice\" \"Markhammer\"\n",
      " $ : chr [1:2] \"Cheryl\" \"Cushing\"\n",
      " $ : chr [1:2] \"Reuven\" \"Ytzrhak\"\n",
      " $ : chr [1:2] \"Greg\" \"Knox\"\n",
      " $ : chr [1:2] \"Joel\" \"England\"\n",
      " $ : chr [1:2] \"Mary\" \"Rayburn\"\n"
     ]
    }
   ],
   "source": [
    "str(name)"
   ]
  },
  {
   "cell_type": "code",
   "execution_count": 82,
   "metadata": {
    "ExecuteTime": {
     "end_time": "2021-01-29T03:14:37.372057Z",
     "start_time": "2021-01-29T03:14:37.343Z"
    }
   },
   "outputs": [
    {
     "data": {
      "text/html": [
       "<style>\n",
       ".list-inline {list-style: none; margin:0; padding: 0}\n",
       ".list-inline>li {display: inline-block}\n",
       ".list-inline>li:not(:last-child)::after {content: \"\\00b7\"; padding: 0 .5ex}\n",
       "</style>\n",
       "<ol class=list-inline><li>'John'</li><li>'Angela'</li><li>'Bullwinkle'</li><li>'David'</li><li>'Janice'</li><li>'Cheryl'</li><li>'Reuven'</li><li>'Greg'</li><li>'Joel'</li><li>'Mary'</li></ol>\n"
      ],
      "text/latex": [
       "\\begin{enumerate*}\n",
       "\\item 'John'\n",
       "\\item 'Angela'\n",
       "\\item 'Bullwinkle'\n",
       "\\item 'David'\n",
       "\\item 'Janice'\n",
       "\\item 'Cheryl'\n",
       "\\item 'Reuven'\n",
       "\\item 'Greg'\n",
       "\\item 'Joel'\n",
       "\\item 'Mary'\n",
       "\\end{enumerate*}\n"
      ],
      "text/markdown": [
       "1. 'John'\n",
       "2. 'Angela'\n",
       "3. 'Bullwinkle'\n",
       "4. 'David'\n",
       "5. 'Janice'\n",
       "6. 'Cheryl'\n",
       "7. 'Reuven'\n",
       "8. 'Greg'\n",
       "9. 'Joel'\n",
       "10. 'Mary'\n",
       "\n",
       "\n"
      ],
      "text/plain": [
       " [1] \"John\"       \"Angela\"     \"Bullwinkle\" \"David\"      \"Janice\"    \n",
       " [6] \"Cheryl\"     \"Reuven\"     \"Greg\"       \"Joel\"       \"Mary\"      "
      ]
     },
     "metadata": {},
     "output_type": "display_data"
    },
    {
     "data": {
      "text/html": [
       "<style>\n",
       ".list-inline {list-style: none; margin:0; padding: 0}\n",
       ".list-inline>li {display: inline-block}\n",
       ".list-inline>li:not(:last-child)::after {content: \"\\00b7\"; padding: 0 .5ex}\n",
       "</style>\n",
       "<ol class=list-inline><li>'Davis'</li><li>'Williams'</li><li>'Moose'</li><li>'Jones'</li><li>'Markhammer'</li><li>'Cushing'</li><li>'Ytzrhak'</li><li>'Knox'</li><li>'England'</li><li>'Rayburn'</li></ol>\n"
      ],
      "text/latex": [
       "\\begin{enumerate*}\n",
       "\\item 'Davis'\n",
       "\\item 'Williams'\n",
       "\\item 'Moose'\n",
       "\\item 'Jones'\n",
       "\\item 'Markhammer'\n",
       "\\item 'Cushing'\n",
       "\\item 'Ytzrhak'\n",
       "\\item 'Knox'\n",
       "\\item 'England'\n",
       "\\item 'Rayburn'\n",
       "\\end{enumerate*}\n"
      ],
      "text/markdown": [
       "1. 'Davis'\n",
       "2. 'Williams'\n",
       "3. 'Moose'\n",
       "4. 'Jones'\n",
       "5. 'Markhammer'\n",
       "6. 'Cushing'\n",
       "7. 'Ytzrhak'\n",
       "8. 'Knox'\n",
       "9. 'England'\n",
       "10. 'Rayburn'\n",
       "\n",
       "\n"
      ],
      "text/plain": [
       " [1] \"Davis\"      \"Williams\"   \"Moose\"      \"Jones\"      \"Markhammer\"\n",
       " [6] \"Cushing\"    \"Ytzrhak\"    \"Knox\"       \"England\"    \"Rayburn\"   "
      ]
     },
     "metadata": {},
     "output_type": "display_data"
    }
   ],
   "source": [
    "Firstname <- sapply(name,'[',1);Firstname\n",
    "Lastname <- sapply(name,'[',2);Lastname\n",
    "#sapply"
   ]
  },
  {
   "cell_type": "code",
   "execution_count": 83,
   "metadata": {
    "ExecuteTime": {
     "end_time": "2021-01-29T03:14:37.853447Z",
     "start_time": "2021-01-29T03:14:37.824Z"
    }
   },
   "outputs": [],
   "source": [
    "roster <- cbind(Firstname,Lastname,roster[,-1])   \n",
    "#把原来的第一列去除掉"
   ]
  },
  {
   "cell_type": "code",
   "execution_count": 84,
   "metadata": {
    "ExecuteTime": {
     "end_time": "2021-01-29T03:14:38.409119Z",
     "start_time": "2021-01-29T03:14:38.387Z"
    }
   },
   "outputs": [
    {
     "name": "stdout",
     "output_type": "stream",
     "text": [
      "    Firstname   Lastname Math Science English score grade\n",
      "1        John      Davis  502      95      25  0.56     A\n",
      "2      Angela   Williams  600      99      22  0.92     A\n",
      "3  Bullwinkle      Moose  412      80      18 -0.86     F\n",
      "4       David      Jones  358      82      15 -1.16     F\n",
      "5      Janice Markhammer  495      75      20 -0.63     F\n",
      "6      Cheryl    Cushing  512      85      28  0.35     A\n",
      "7      Reuven    Ytzrhak  410      80      15 -1.05     F\n",
      "8        Greg       Knox  625      95      30  1.34     A\n",
      "9        Joel    England  573      89      27  0.70     A\n",
      "10       Mary    Rayburn  522      86      18 -0.18     F\n"
     ]
    }
   ],
   "source": [
    "print(roster)"
   ]
  },
  {
   "cell_type": "code",
   "execution_count": 85,
   "metadata": {
    "ExecuteTime": {
     "end_time": "2021-01-29T03:14:38.944019Z",
     "start_time": "2021-01-29T03:14:38.909Z"
    }
   },
   "outputs": [
    {
     "data": {
      "text/html": [
       "<table class=\"dataframe\">\n",
       "<caption>A data.frame: 10 × 7</caption>\n",
       "<thead>\n",
       "\t<tr><th></th><th scope=col>Firstname</th><th scope=col>Lastname</th><th scope=col>Math</th><th scope=col>Science</th><th scope=col>English</th><th scope=col>score</th><th scope=col>grade</th></tr>\n",
       "\t<tr><th></th><th scope=col>&lt;chr&gt;</th><th scope=col>&lt;chr&gt;</th><th scope=col>&lt;dbl&gt;</th><th scope=col>&lt;dbl&gt;</th><th scope=col>&lt;dbl&gt;</th><th scope=col>&lt;dbl&gt;</th><th scope=col>&lt;chr&gt;</th></tr>\n",
       "</thead>\n",
       "<tbody>\n",
       "\t<tr><th scope=row>6</th><td>Cheryl    </td><td>Cushing   </td><td>512</td><td>85</td><td>28</td><td> 0.35</td><td>A</td></tr>\n",
       "\t<tr><th scope=row>1</th><td>John      </td><td>Davis     </td><td>502</td><td>95</td><td>25</td><td> 0.56</td><td>A</td></tr>\n",
       "\t<tr><th scope=row>9</th><td>Joel      </td><td>England   </td><td>573</td><td>89</td><td>27</td><td> 0.70</td><td>A</td></tr>\n",
       "\t<tr><th scope=row>4</th><td>David     </td><td>Jones     </td><td>358</td><td>82</td><td>15</td><td>-1.16</td><td>F</td></tr>\n",
       "\t<tr><th scope=row>8</th><td>Greg      </td><td>Knox      </td><td>625</td><td>95</td><td>30</td><td> 1.34</td><td>A</td></tr>\n",
       "\t<tr><th scope=row>5</th><td>Janice    </td><td>Markhammer</td><td>495</td><td>75</td><td>20</td><td>-0.63</td><td>F</td></tr>\n",
       "\t<tr><th scope=row>3</th><td>Bullwinkle</td><td>Moose     </td><td>412</td><td>80</td><td>18</td><td>-0.86</td><td>F</td></tr>\n",
       "\t<tr><th scope=row>10</th><td>Mary      </td><td>Rayburn   </td><td>522</td><td>86</td><td>18</td><td>-0.18</td><td>F</td></tr>\n",
       "\t<tr><th scope=row>2</th><td>Angela    </td><td>Williams  </td><td>600</td><td>99</td><td>22</td><td> 0.92</td><td>A</td></tr>\n",
       "\t<tr><th scope=row>7</th><td>Reuven    </td><td>Ytzrhak   </td><td>410</td><td>80</td><td>15</td><td>-1.05</td><td>F</td></tr>\n",
       "</tbody>\n",
       "</table>\n"
      ],
      "text/latex": [
       "A data.frame: 10 × 7\n",
       "\\begin{tabular}{r|lllllll}\n",
       "  & Firstname & Lastname & Math & Science & English & score & grade\\\\\n",
       "  & <chr> & <chr> & <dbl> & <dbl> & <dbl> & <dbl> & <chr>\\\\\n",
       "\\hline\n",
       "\t6 & Cheryl     & Cushing    & 512 & 85 & 28 &  0.35 & A\\\\\n",
       "\t1 & John       & Davis      & 502 & 95 & 25 &  0.56 & A\\\\\n",
       "\t9 & Joel       & England    & 573 & 89 & 27 &  0.70 & A\\\\\n",
       "\t4 & David      & Jones      & 358 & 82 & 15 & -1.16 & F\\\\\n",
       "\t8 & Greg       & Knox       & 625 & 95 & 30 &  1.34 & A\\\\\n",
       "\t5 & Janice     & Markhammer & 495 & 75 & 20 & -0.63 & F\\\\\n",
       "\t3 & Bullwinkle & Moose      & 412 & 80 & 18 & -0.86 & F\\\\\n",
       "\t10 & Mary       & Rayburn    & 522 & 86 & 18 & -0.18 & F\\\\\n",
       "\t2 & Angela     & Williams   & 600 & 99 & 22 &  0.92 & A\\\\\n",
       "\t7 & Reuven     & Ytzrhak    & 410 & 80 & 15 & -1.05 & F\\\\\n",
       "\\end{tabular}\n"
      ],
      "text/markdown": [
       "\n",
       "A data.frame: 10 × 7\n",
       "\n",
       "| <!--/--> | Firstname &lt;chr&gt; | Lastname &lt;chr&gt; | Math &lt;dbl&gt; | Science &lt;dbl&gt; | English &lt;dbl&gt; | score &lt;dbl&gt; | grade &lt;chr&gt; |\n",
       "|---|---|---|---|---|---|---|---|\n",
       "| 6 | Cheryl     | Cushing    | 512 | 85 | 28 |  0.35 | A |\n",
       "| 1 | John       | Davis      | 502 | 95 | 25 |  0.56 | A |\n",
       "| 9 | Joel       | England    | 573 | 89 | 27 |  0.70 | A |\n",
       "| 4 | David      | Jones      | 358 | 82 | 15 | -1.16 | F |\n",
       "| 8 | Greg       | Knox       | 625 | 95 | 30 |  1.34 | A |\n",
       "| 5 | Janice     | Markhammer | 495 | 75 | 20 | -0.63 | F |\n",
       "| 3 | Bullwinkle | Moose      | 412 | 80 | 18 | -0.86 | F |\n",
       "| 10 | Mary       | Rayburn    | 522 | 86 | 18 | -0.18 | F |\n",
       "| 2 | Angela     | Williams   | 600 | 99 | 22 |  0.92 | A |\n",
       "| 7 | Reuven     | Ytzrhak    | 410 | 80 | 15 | -1.05 | F |\n",
       "\n"
      ],
      "text/plain": [
       "   Firstname  Lastname   Math Science English score grade\n",
       "6  Cheryl     Cushing    512  85      28       0.35 A    \n",
       "1  John       Davis      502  95      25       0.56 A    \n",
       "9  Joel       England    573  89      27       0.70 A    \n",
       "4  David      Jones      358  82      15      -1.16 F    \n",
       "8  Greg       Knox       625  95      30       1.34 A    \n",
       "5  Janice     Markhammer 495  75      20      -0.63 F    \n",
       "3  Bullwinkle Moose      412  80      18      -0.86 F    \n",
       "10 Mary       Rayburn    522  86      18      -0.18 F    \n",
       "2  Angela     Williams   600  99      22       0.92 A    \n",
       "7  Reuven     Ytzrhak    410  80      15      -1.05 F    "
      ]
     },
     "metadata": {},
     "output_type": "display_data"
    }
   ],
   "source": [
    "roster[order(Lastname,Firstname),]\n",
    "#其实只是把名字提取出来排序，然后对排好序的名字进行索引"
   ]
  },
  {
   "cell_type": "code",
   "execution_count": 86,
   "metadata": {
    "ExecuteTime": {
     "end_time": "2021-01-29T03:14:59.037678Z",
     "start_time": "2021-01-29T03:14:59.014Z"
    }
   },
   "outputs": [
    {
     "data": {
      "text/html": [
       "<style>\n",
       ".list-inline {list-style: none; margin:0; padding: 0}\n",
       ".list-inline>li {display: inline-block}\n",
       ".list-inline>li:not(:last-child)::after {content: \"\\00b7\"; padding: 0 .5ex}\n",
       "</style>\n",
       "<ol class=list-inline><li>6</li><li>1</li><li>9</li><li>4</li><li>8</li><li>5</li><li>3</li><li>10</li><li>2</li><li>7</li></ol>\n"
      ],
      "text/latex": [
       "\\begin{enumerate*}\n",
       "\\item 6\n",
       "\\item 1\n",
       "\\item 9\n",
       "\\item 4\n",
       "\\item 8\n",
       "\\item 5\n",
       "\\item 3\n",
       "\\item 10\n",
       "\\item 2\n",
       "\\item 7\n",
       "\\end{enumerate*}\n"
      ],
      "text/markdown": [
       "1. 6\n",
       "2. 1\n",
       "3. 9\n",
       "4. 4\n",
       "5. 8\n",
       "6. 5\n",
       "7. 3\n",
       "8. 10\n",
       "9. 2\n",
       "10. 7\n",
       "\n",
       "\n"
      ],
      "text/plain": [
       " [1]  6  1  9  4  8  5  3 10  2  7"
      ]
     },
     "metadata": {},
     "output_type": "display_data"
    }
   ],
   "source": [
    "order(Lastname,Firstname)"
   ]
  },
  {
   "cell_type": "code",
   "execution_count": 97,
   "metadata": {
    "ExecuteTime": {
     "end_time": "2021-01-29T03:19:28.719223Z",
     "start_time": "2021-01-29T03:19:28.687Z"
    }
   },
   "outputs": [
    {
     "data": {
      "text/html": [
       "<style>\n",
       ".list-inline {list-style: none; margin:0; padding: 0}\n",
       ".list-inline>li {display: inline-block}\n",
       ".list-inline>li:not(:last-child)::after {content: \"\\00b7\"; padding: 0 .5ex}\n",
       "</style>\n",
       "<ol class=list-inline><li>'John'</li><li>'Angela'</li><li>'Bullwinkle'</li><li>'David'</li><li>'Janice'</li><li>'Cheryl'</li><li>'Reuven'</li><li>'Greg'</li><li>'Joel'</li><li>'Mary'</li></ol>\n"
      ],
      "text/latex": [
       "\\begin{enumerate*}\n",
       "\\item 'John'\n",
       "\\item 'Angela'\n",
       "\\item 'Bullwinkle'\n",
       "\\item 'David'\n",
       "\\item 'Janice'\n",
       "\\item 'Cheryl'\n",
       "\\item 'Reuven'\n",
       "\\item 'Greg'\n",
       "\\item 'Joel'\n",
       "\\item 'Mary'\n",
       "\\end{enumerate*}\n"
      ],
      "text/markdown": [
       "1. 'John'\n",
       "2. 'Angela'\n",
       "3. 'Bullwinkle'\n",
       "4. 'David'\n",
       "5. 'Janice'\n",
       "6. 'Cheryl'\n",
       "7. 'Reuven'\n",
       "8. 'Greg'\n",
       "9. 'Joel'\n",
       "10. 'Mary'\n",
       "\n",
       "\n"
      ],
      "text/plain": [
       " [1] \"John\"       \"Angela\"     \"Bullwinkle\" \"David\"      \"Janice\"    \n",
       " [6] \"Cheryl\"     \"Reuven\"     \"Greg\"       \"Joel\"       \"Mary\"      "
      ]
     },
     "metadata": {},
     "output_type": "display_data"
    }
   ],
   "source": [
    "sapply(name,'[',1)   #apply的扩展版，可以把字符作为函数运用\n",
    "#这里的[]是选取一部分的函数"
   ]
  },
  {
   "cell_type": "markdown",
   "metadata": {},
   "source": [
    "# 控制流"
   ]
  },
  {
   "cell_type": "markdown",
   "metadata": {},
   "source": [
    "## 循环"
   ]
  },
  {
   "cell_type": "markdown",
   "metadata": {},
   "source": [
    "### for"
   ]
  },
  {
   "cell_type": "code",
   "execution_count": 98,
   "metadata": {
    "ExecuteTime": {
     "end_time": "2021-01-29T03:23:59.987621Z",
     "start_time": "2021-01-29T03:23:59.961Z"
    }
   },
   "outputs": [
    {
     "name": "stdout",
     "output_type": "stream",
     "text": [
      "[1] 1\n",
      "[1] 2\n",
      "[1] 3\n",
      "[1] 4\n",
      "[1] 5\n",
      "[1] 6\n",
      "[1] 7\n",
      "[1] 8\n",
      "[1] 9\n",
      "[1] 10\n"
     ]
    }
   ],
   "source": [
    "for (i in 1:10) print(i)"
   ]
  },
  {
   "cell_type": "markdown",
   "metadata": {},
   "source": [
    "### while"
   ]
  },
  {
   "cell_type": "code",
   "execution_count": 104,
   "metadata": {
    "ExecuteTime": {
     "end_time": "2021-01-29T03:25:33.932647Z",
     "start_time": "2021-01-29T03:25:33.907Z"
    }
   },
   "outputs": [
    {
     "name": "stdout",
     "output_type": "stream",
     "text": [
      "[1] 20\n",
      "[1] 19\n",
      "[1] 18\n",
      "[1] 17\n",
      "[1] 16\n",
      "[1] 15\n",
      "[1] 14\n",
      "[1] 13\n",
      "[1] 12\n",
      "[1] 11\n"
     ]
    }
   ],
   "source": [
    "i <- 20\n",
    "while (i > 10) {print(i);i <- i-1}"
   ]
  },
  {
   "cell_type": "markdown",
   "metadata": {},
   "source": [
    "## 条件"
   ]
  },
  {
   "cell_type": "markdown",
   "metadata": {},
   "source": [
    "### if-else"
   ]
  },
  {
   "cell_type": "code",
   "execution_count": 119,
   "metadata": {
    "ExecuteTime": {
     "end_time": "2021-01-29T03:30:41.475729Z",
     "start_time": "2021-01-29T03:30:41.454Z"
    }
   },
   "outputs": [
    {
     "name": "stdout",
     "output_type": "stream",
     "text": [
      "[1] \"这是个复数\"\n"
     ]
    }
   ],
   "source": [
    "if (is.complex(1i)) \n",
    "    print('这是个复数') else print('这不是个复数')"
   ]
  },
  {
   "cell_type": "markdown",
   "metadata": {},
   "source": [
    "### ifelse"
   ]
  },
  {
   "cell_type": "code",
   "execution_count": 118,
   "metadata": {
    "ExecuteTime": {
     "end_time": "2021-01-29T03:30:39.699836Z",
     "start_time": "2021-01-29T03:30:39.672Z"
    }
   },
   "outputs": [
    {
     "name": "stdout",
     "output_type": "stream",
     "text": [
      "[1] \"这是个复数\"\n"
     ]
    },
    {
     "data": {
      "text/html": [
       "'这是个复数'"
      ],
      "text/latex": [
       "'这是个复数'"
      ],
      "text/markdown": [
       "'这是个复数'"
      ],
      "text/plain": [
       "[1] \"这是个复数\""
      ]
     },
     "metadata": {},
     "output_type": "display_data"
    }
   ],
   "source": [
    "ifelse(is.complex(2i),\n",
    "       print('这是个复数'),\n",
    "       print('这不是个复数'))"
   ]
  },
  {
   "cell_type": "markdown",
   "metadata": {},
   "source": [
    "### swtich"
   ]
  },
  {
   "cell_type": "code",
   "execution_count": 120,
   "metadata": {
    "ExecuteTime": {
     "end_time": "2021-01-29T03:32:12.010372Z",
     "start_time": "2021-01-29T03:32:11.979Z"
    }
   },
   "outputs": [
    {
     "name": "stdout",
     "output_type": "stream",
     "text": [
      "[1] \"Cheer up\"\n",
      "[1] \"There is nothing to fear\"\n"
     ]
    }
   ],
   "source": [
    "feelings <- c(\"sad\", \"afraid\")\n",
    "for (i in feelings)\n",
    "    print(\n",
    "      switch(i,\n",
    "             happy  = \"I am glad you are happy\",\n",
    "             afraid = \"There is nothing to fear\",\n",
    "             sad    = \"Cheer up\",\n",
    "             angry  = \"Calm down now\"\n",
    "    )\n",
    "  )"
   ]
  },
  {
   "cell_type": "markdown",
   "metadata": {},
   "source": [
    "# 自编函数"
   ]
  },
  {
   "cell_type": "code",
   "execution_count": 128,
   "metadata": {
    "ExecuteTime": {
     "end_time": "2021-01-29T05:14:42.258151Z",
     "start_time": "2021-01-29T05:14:42.224Z"
    }
   },
   "outputs": [],
   "source": [
    "mystats <- function(x,parametric=TRUE,print=TRUE){\n",
    "    if (parametric){\n",
    "        center <- mean(x);spread <- sd(x)\n",
    "    }else{\n",
    "        center <- median(x);spread <- mad(x)\n",
    "    }\n",
    "    if (print){\n",
    "        cat('center:',center,'\\n','spread:',spread)\n",
    "    }else{\n",
    "        print('OVER')\n",
    "    }\n",
    "    result <- list(center=center,spread=spread)\n",
    "    return(result)\n",
    "}"
   ]
  },
  {
   "cell_type": "code",
   "execution_count": 129,
   "metadata": {
    "ExecuteTime": {
     "end_time": "2021-01-29T05:14:42.772750Z",
     "start_time": "2021-01-29T05:14:42.742Z"
    }
   },
   "outputs": [
    {
     "name": "stdout",
     "output_type": "stream",
     "text": [
      "center: 5.5 \n",
      " spread: 3"
     ]
    },
    {
     "data": {
      "text/html": [
       "<dl>\n",
       "\t<dt>$center</dt>\n",
       "\t\t<dd>5.5</dd>\n",
       "\t<dt>$spread</dt>\n",
       "\t\t<dd>3.02765035409749</dd>\n",
       "</dl>\n"
      ],
      "text/latex": [
       "\\begin{description}\n",
       "\\item[\\$center] 5.5\n",
       "\\item[\\$spread] 3.02765035409749\n",
       "\\end{description}\n"
      ],
      "text/markdown": [
       "$center\n",
       ":   5.5\n",
       "$spread\n",
       ":   3.02765035409749\n",
       "\n",
       "\n"
      ],
      "text/plain": [
       "$center\n",
       "[1] 5.5\n",
       "\n",
       "$spread\n",
       "[1] 3\n"
      ]
     },
     "metadata": {},
     "output_type": "display_data"
    }
   ],
   "source": [
    "mystats(1:10)"
   ]
  },
  {
   "cell_type": "markdown",
   "metadata": {},
   "source": [
    "# 整合和重构"
   ]
  },
  {
   "cell_type": "markdown",
   "metadata": {},
   "source": [
    "## 转置"
   ]
  },
  {
   "cell_type": "code",
   "execution_count": 130,
   "metadata": {
    "ExecuteTime": {
     "end_time": "2021-01-29T05:17:39.315646Z",
     "start_time": "2021-01-29T05:17:38.862Z"
    },
    "scrolled": true
   },
   "outputs": [
    {
     "data": {
      "text/html": [
       "<table class=\"dataframe\">\n",
       "<caption>A data.frame: 32 × 11</caption>\n",
       "<thead>\n",
       "\t<tr><th></th><th scope=col>mpg</th><th scope=col>cyl</th><th scope=col>disp</th><th scope=col>hp</th><th scope=col>drat</th><th scope=col>wt</th><th scope=col>qsec</th><th scope=col>vs</th><th scope=col>am</th><th scope=col>gear</th><th scope=col>carb</th></tr>\n",
       "\t<tr><th></th><th scope=col>&lt;dbl&gt;</th><th scope=col>&lt;dbl&gt;</th><th scope=col>&lt;dbl&gt;</th><th scope=col>&lt;dbl&gt;</th><th scope=col>&lt;dbl&gt;</th><th scope=col>&lt;dbl&gt;</th><th scope=col>&lt;dbl&gt;</th><th scope=col>&lt;dbl&gt;</th><th scope=col>&lt;dbl&gt;</th><th scope=col>&lt;dbl&gt;</th><th scope=col>&lt;dbl&gt;</th></tr>\n",
       "</thead>\n",
       "<tbody>\n",
       "\t<tr><th scope=row>Mazda RX4</th><td>21</td><td>6</td><td>160</td><td>110</td><td>3.9</td><td>2.6</td><td>16</td><td>0</td><td>1</td><td>4</td><td>4</td></tr>\n",
       "\t<tr><th scope=row>Mazda RX4 Wag</th><td>21</td><td>6</td><td>160</td><td>110</td><td>3.9</td><td>2.9</td><td>17</td><td>0</td><td>1</td><td>4</td><td>4</td></tr>\n",
       "\t<tr><th scope=row>Datsun 710</th><td>23</td><td>4</td><td>108</td><td> 93</td><td>3.8</td><td>2.3</td><td>19</td><td>1</td><td>1</td><td>4</td><td>1</td></tr>\n",
       "\t<tr><th scope=row>Hornet 4 Drive</th><td>21</td><td>6</td><td>258</td><td>110</td><td>3.1</td><td>3.2</td><td>19</td><td>1</td><td>0</td><td>3</td><td>1</td></tr>\n",
       "\t<tr><th scope=row>Hornet Sportabout</th><td>19</td><td>8</td><td>360</td><td>175</td><td>3.1</td><td>3.4</td><td>17</td><td>0</td><td>0</td><td>3</td><td>2</td></tr>\n",
       "\t<tr><th scope=row>Valiant</th><td>18</td><td>6</td><td>225</td><td>105</td><td>2.8</td><td>3.5</td><td>20</td><td>1</td><td>0</td><td>3</td><td>1</td></tr>\n",
       "\t<tr><th scope=row>Duster 360</th><td>14</td><td>8</td><td>360</td><td>245</td><td>3.2</td><td>3.6</td><td>16</td><td>0</td><td>0</td><td>3</td><td>4</td></tr>\n",
       "\t<tr><th scope=row>Merc 240D</th><td>24</td><td>4</td><td>147</td><td> 62</td><td>3.7</td><td>3.2</td><td>20</td><td>1</td><td>0</td><td>4</td><td>2</td></tr>\n",
       "\t<tr><th scope=row>Merc 230</th><td>23</td><td>4</td><td>141</td><td> 95</td><td>3.9</td><td>3.1</td><td>23</td><td>1</td><td>0</td><td>4</td><td>2</td></tr>\n",
       "\t<tr><th scope=row>Merc 280</th><td>19</td><td>6</td><td>168</td><td>123</td><td>3.9</td><td>3.4</td><td>18</td><td>1</td><td>0</td><td>4</td><td>4</td></tr>\n",
       "\t<tr><th scope=row>Merc 280C</th><td>18</td><td>6</td><td>168</td><td>123</td><td>3.9</td><td>3.4</td><td>19</td><td>1</td><td>0</td><td>4</td><td>4</td></tr>\n",
       "\t<tr><th scope=row>Merc 450SE</th><td>16</td><td>8</td><td>276</td><td>180</td><td>3.1</td><td>4.1</td><td>17</td><td>0</td><td>0</td><td>3</td><td>3</td></tr>\n",
       "\t<tr><th scope=row>Merc 450SL</th><td>17</td><td>8</td><td>276</td><td>180</td><td>3.1</td><td>3.7</td><td>18</td><td>0</td><td>0</td><td>3</td><td>3</td></tr>\n",
       "\t<tr><th scope=row>Merc 450SLC</th><td>15</td><td>8</td><td>276</td><td>180</td><td>3.1</td><td>3.8</td><td>18</td><td>0</td><td>0</td><td>3</td><td>3</td></tr>\n",
       "\t<tr><th scope=row>Cadillac Fleetwood</th><td>10</td><td>8</td><td>472</td><td>205</td><td>2.9</td><td>5.2</td><td>18</td><td>0</td><td>0</td><td>3</td><td>4</td></tr>\n",
       "\t<tr><th scope=row>Lincoln Continental</th><td>10</td><td>8</td><td>460</td><td>215</td><td>3.0</td><td>5.4</td><td>18</td><td>0</td><td>0</td><td>3</td><td>4</td></tr>\n",
       "\t<tr><th scope=row>Chrysler Imperial</th><td>15</td><td>8</td><td>440</td><td>230</td><td>3.2</td><td>5.3</td><td>17</td><td>0</td><td>0</td><td>3</td><td>4</td></tr>\n",
       "\t<tr><th scope=row>Fiat 128</th><td>32</td><td>4</td><td> 79</td><td> 66</td><td>4.1</td><td>2.2</td><td>19</td><td>1</td><td>1</td><td>4</td><td>1</td></tr>\n",
       "\t<tr><th scope=row>Honda Civic</th><td>30</td><td>4</td><td> 76</td><td> 52</td><td>4.9</td><td>1.6</td><td>19</td><td>1</td><td>1</td><td>4</td><td>2</td></tr>\n",
       "\t<tr><th scope=row>Toyota Corolla</th><td>34</td><td>4</td><td> 71</td><td> 65</td><td>4.2</td><td>1.8</td><td>20</td><td>1</td><td>1</td><td>4</td><td>1</td></tr>\n",
       "\t<tr><th scope=row>Toyota Corona</th><td>22</td><td>4</td><td>120</td><td> 97</td><td>3.7</td><td>2.5</td><td>20</td><td>1</td><td>0</td><td>3</td><td>1</td></tr>\n",
       "\t<tr><th scope=row>Dodge Challenger</th><td>16</td><td>8</td><td>318</td><td>150</td><td>2.8</td><td>3.5</td><td>17</td><td>0</td><td>0</td><td>3</td><td>2</td></tr>\n",
       "\t<tr><th scope=row>AMC Javelin</th><td>15</td><td>8</td><td>304</td><td>150</td><td>3.1</td><td>3.4</td><td>17</td><td>0</td><td>0</td><td>3</td><td>2</td></tr>\n",
       "\t<tr><th scope=row>Camaro Z28</th><td>13</td><td>8</td><td>350</td><td>245</td><td>3.7</td><td>3.8</td><td>15</td><td>0</td><td>0</td><td>3</td><td>4</td></tr>\n",
       "\t<tr><th scope=row>Pontiac Firebird</th><td>19</td><td>8</td><td>400</td><td>175</td><td>3.1</td><td>3.8</td><td>17</td><td>0</td><td>0</td><td>3</td><td>2</td></tr>\n",
       "\t<tr><th scope=row>Fiat X1-9</th><td>27</td><td>4</td><td> 79</td><td> 66</td><td>4.1</td><td>1.9</td><td>19</td><td>1</td><td>1</td><td>4</td><td>1</td></tr>\n",
       "\t<tr><th scope=row>Porsche 914-2</th><td>26</td><td>4</td><td>120</td><td> 91</td><td>4.4</td><td>2.1</td><td>17</td><td>0</td><td>1</td><td>5</td><td>2</td></tr>\n",
       "\t<tr><th scope=row>Lotus Europa</th><td>30</td><td>4</td><td> 95</td><td>113</td><td>3.8</td><td>1.5</td><td>17</td><td>1</td><td>1</td><td>5</td><td>2</td></tr>\n",
       "\t<tr><th scope=row>Ford Pantera L</th><td>16</td><td>8</td><td>351</td><td>264</td><td>4.2</td><td>3.2</td><td>14</td><td>0</td><td>1</td><td>5</td><td>4</td></tr>\n",
       "\t<tr><th scope=row>Ferrari Dino</th><td>20</td><td>6</td><td>145</td><td>175</td><td>3.6</td><td>2.8</td><td>16</td><td>0</td><td>1</td><td>5</td><td>6</td></tr>\n",
       "\t<tr><th scope=row>Maserati Bora</th><td>15</td><td>8</td><td>301</td><td>335</td><td>3.5</td><td>3.6</td><td>15</td><td>0</td><td>1</td><td>5</td><td>8</td></tr>\n",
       "\t<tr><th scope=row>Volvo 142E</th><td>21</td><td>4</td><td>121</td><td>109</td><td>4.1</td><td>2.8</td><td>19</td><td>1</td><td>1</td><td>4</td><td>2</td></tr>\n",
       "</tbody>\n",
       "</table>\n"
      ],
      "text/latex": [
       "A data.frame: 32 × 11\n",
       "\\begin{tabular}{r|lllllllllll}\n",
       "  & mpg & cyl & disp & hp & drat & wt & qsec & vs & am & gear & carb\\\\\n",
       "  & <dbl> & <dbl> & <dbl> & <dbl> & <dbl> & <dbl> & <dbl> & <dbl> & <dbl> & <dbl> & <dbl>\\\\\n",
       "\\hline\n",
       "\tMazda RX4 & 21 & 6 & 160 & 110 & 3.9 & 2.6 & 16 & 0 & 1 & 4 & 4\\\\\n",
       "\tMazda RX4 Wag & 21 & 6 & 160 & 110 & 3.9 & 2.9 & 17 & 0 & 1 & 4 & 4\\\\\n",
       "\tDatsun 710 & 23 & 4 & 108 &  93 & 3.8 & 2.3 & 19 & 1 & 1 & 4 & 1\\\\\n",
       "\tHornet 4 Drive & 21 & 6 & 258 & 110 & 3.1 & 3.2 & 19 & 1 & 0 & 3 & 1\\\\\n",
       "\tHornet Sportabout & 19 & 8 & 360 & 175 & 3.1 & 3.4 & 17 & 0 & 0 & 3 & 2\\\\\n",
       "\tValiant & 18 & 6 & 225 & 105 & 2.8 & 3.5 & 20 & 1 & 0 & 3 & 1\\\\\n",
       "\tDuster 360 & 14 & 8 & 360 & 245 & 3.2 & 3.6 & 16 & 0 & 0 & 3 & 4\\\\\n",
       "\tMerc 240D & 24 & 4 & 147 &  62 & 3.7 & 3.2 & 20 & 1 & 0 & 4 & 2\\\\\n",
       "\tMerc 230 & 23 & 4 & 141 &  95 & 3.9 & 3.1 & 23 & 1 & 0 & 4 & 2\\\\\n",
       "\tMerc 280 & 19 & 6 & 168 & 123 & 3.9 & 3.4 & 18 & 1 & 0 & 4 & 4\\\\\n",
       "\tMerc 280C & 18 & 6 & 168 & 123 & 3.9 & 3.4 & 19 & 1 & 0 & 4 & 4\\\\\n",
       "\tMerc 450SE & 16 & 8 & 276 & 180 & 3.1 & 4.1 & 17 & 0 & 0 & 3 & 3\\\\\n",
       "\tMerc 450SL & 17 & 8 & 276 & 180 & 3.1 & 3.7 & 18 & 0 & 0 & 3 & 3\\\\\n",
       "\tMerc 450SLC & 15 & 8 & 276 & 180 & 3.1 & 3.8 & 18 & 0 & 0 & 3 & 3\\\\\n",
       "\tCadillac Fleetwood & 10 & 8 & 472 & 205 & 2.9 & 5.2 & 18 & 0 & 0 & 3 & 4\\\\\n",
       "\tLincoln Continental & 10 & 8 & 460 & 215 & 3.0 & 5.4 & 18 & 0 & 0 & 3 & 4\\\\\n",
       "\tChrysler Imperial & 15 & 8 & 440 & 230 & 3.2 & 5.3 & 17 & 0 & 0 & 3 & 4\\\\\n",
       "\tFiat 128 & 32 & 4 &  79 &  66 & 4.1 & 2.2 & 19 & 1 & 1 & 4 & 1\\\\\n",
       "\tHonda Civic & 30 & 4 &  76 &  52 & 4.9 & 1.6 & 19 & 1 & 1 & 4 & 2\\\\\n",
       "\tToyota Corolla & 34 & 4 &  71 &  65 & 4.2 & 1.8 & 20 & 1 & 1 & 4 & 1\\\\\n",
       "\tToyota Corona & 22 & 4 & 120 &  97 & 3.7 & 2.5 & 20 & 1 & 0 & 3 & 1\\\\\n",
       "\tDodge Challenger & 16 & 8 & 318 & 150 & 2.8 & 3.5 & 17 & 0 & 0 & 3 & 2\\\\\n",
       "\tAMC Javelin & 15 & 8 & 304 & 150 & 3.1 & 3.4 & 17 & 0 & 0 & 3 & 2\\\\\n",
       "\tCamaro Z28 & 13 & 8 & 350 & 245 & 3.7 & 3.8 & 15 & 0 & 0 & 3 & 4\\\\\n",
       "\tPontiac Firebird & 19 & 8 & 400 & 175 & 3.1 & 3.8 & 17 & 0 & 0 & 3 & 2\\\\\n",
       "\tFiat X1-9 & 27 & 4 &  79 &  66 & 4.1 & 1.9 & 19 & 1 & 1 & 4 & 1\\\\\n",
       "\tPorsche 914-2 & 26 & 4 & 120 &  91 & 4.4 & 2.1 & 17 & 0 & 1 & 5 & 2\\\\\n",
       "\tLotus Europa & 30 & 4 &  95 & 113 & 3.8 & 1.5 & 17 & 1 & 1 & 5 & 2\\\\\n",
       "\tFord Pantera L & 16 & 8 & 351 & 264 & 4.2 & 3.2 & 14 & 0 & 1 & 5 & 4\\\\\n",
       "\tFerrari Dino & 20 & 6 & 145 & 175 & 3.6 & 2.8 & 16 & 0 & 1 & 5 & 6\\\\\n",
       "\tMaserati Bora & 15 & 8 & 301 & 335 & 3.5 & 3.6 & 15 & 0 & 1 & 5 & 8\\\\\n",
       "\tVolvo 142E & 21 & 4 & 121 & 109 & 4.1 & 2.8 & 19 & 1 & 1 & 4 & 2\\\\\n",
       "\\end{tabular}\n"
      ],
      "text/markdown": [
       "\n",
       "A data.frame: 32 × 11\n",
       "\n",
       "| <!--/--> | mpg &lt;dbl&gt; | cyl &lt;dbl&gt; | disp &lt;dbl&gt; | hp &lt;dbl&gt; | drat &lt;dbl&gt; | wt &lt;dbl&gt; | qsec &lt;dbl&gt; | vs &lt;dbl&gt; | am &lt;dbl&gt; | gear &lt;dbl&gt; | carb &lt;dbl&gt; |\n",
       "|---|---|---|---|---|---|---|---|---|---|---|---|\n",
       "| Mazda RX4 | 21 | 6 | 160 | 110 | 3.9 | 2.6 | 16 | 0 | 1 | 4 | 4 |\n",
       "| Mazda RX4 Wag | 21 | 6 | 160 | 110 | 3.9 | 2.9 | 17 | 0 | 1 | 4 | 4 |\n",
       "| Datsun 710 | 23 | 4 | 108 |  93 | 3.8 | 2.3 | 19 | 1 | 1 | 4 | 1 |\n",
       "| Hornet 4 Drive | 21 | 6 | 258 | 110 | 3.1 | 3.2 | 19 | 1 | 0 | 3 | 1 |\n",
       "| Hornet Sportabout | 19 | 8 | 360 | 175 | 3.1 | 3.4 | 17 | 0 | 0 | 3 | 2 |\n",
       "| Valiant | 18 | 6 | 225 | 105 | 2.8 | 3.5 | 20 | 1 | 0 | 3 | 1 |\n",
       "| Duster 360 | 14 | 8 | 360 | 245 | 3.2 | 3.6 | 16 | 0 | 0 | 3 | 4 |\n",
       "| Merc 240D | 24 | 4 | 147 |  62 | 3.7 | 3.2 | 20 | 1 | 0 | 4 | 2 |\n",
       "| Merc 230 | 23 | 4 | 141 |  95 | 3.9 | 3.1 | 23 | 1 | 0 | 4 | 2 |\n",
       "| Merc 280 | 19 | 6 | 168 | 123 | 3.9 | 3.4 | 18 | 1 | 0 | 4 | 4 |\n",
       "| Merc 280C | 18 | 6 | 168 | 123 | 3.9 | 3.4 | 19 | 1 | 0 | 4 | 4 |\n",
       "| Merc 450SE | 16 | 8 | 276 | 180 | 3.1 | 4.1 | 17 | 0 | 0 | 3 | 3 |\n",
       "| Merc 450SL | 17 | 8 | 276 | 180 | 3.1 | 3.7 | 18 | 0 | 0 | 3 | 3 |\n",
       "| Merc 450SLC | 15 | 8 | 276 | 180 | 3.1 | 3.8 | 18 | 0 | 0 | 3 | 3 |\n",
       "| Cadillac Fleetwood | 10 | 8 | 472 | 205 | 2.9 | 5.2 | 18 | 0 | 0 | 3 | 4 |\n",
       "| Lincoln Continental | 10 | 8 | 460 | 215 | 3.0 | 5.4 | 18 | 0 | 0 | 3 | 4 |\n",
       "| Chrysler Imperial | 15 | 8 | 440 | 230 | 3.2 | 5.3 | 17 | 0 | 0 | 3 | 4 |\n",
       "| Fiat 128 | 32 | 4 |  79 |  66 | 4.1 | 2.2 | 19 | 1 | 1 | 4 | 1 |\n",
       "| Honda Civic | 30 | 4 |  76 |  52 | 4.9 | 1.6 | 19 | 1 | 1 | 4 | 2 |\n",
       "| Toyota Corolla | 34 | 4 |  71 |  65 | 4.2 | 1.8 | 20 | 1 | 1 | 4 | 1 |\n",
       "| Toyota Corona | 22 | 4 | 120 |  97 | 3.7 | 2.5 | 20 | 1 | 0 | 3 | 1 |\n",
       "| Dodge Challenger | 16 | 8 | 318 | 150 | 2.8 | 3.5 | 17 | 0 | 0 | 3 | 2 |\n",
       "| AMC Javelin | 15 | 8 | 304 | 150 | 3.1 | 3.4 | 17 | 0 | 0 | 3 | 2 |\n",
       "| Camaro Z28 | 13 | 8 | 350 | 245 | 3.7 | 3.8 | 15 | 0 | 0 | 3 | 4 |\n",
       "| Pontiac Firebird | 19 | 8 | 400 | 175 | 3.1 | 3.8 | 17 | 0 | 0 | 3 | 2 |\n",
       "| Fiat X1-9 | 27 | 4 |  79 |  66 | 4.1 | 1.9 | 19 | 1 | 1 | 4 | 1 |\n",
       "| Porsche 914-2 | 26 | 4 | 120 |  91 | 4.4 | 2.1 | 17 | 0 | 1 | 5 | 2 |\n",
       "| Lotus Europa | 30 | 4 |  95 | 113 | 3.8 | 1.5 | 17 | 1 | 1 | 5 | 2 |\n",
       "| Ford Pantera L | 16 | 8 | 351 | 264 | 4.2 | 3.2 | 14 | 0 | 1 | 5 | 4 |\n",
       "| Ferrari Dino | 20 | 6 | 145 | 175 | 3.6 | 2.8 | 16 | 0 | 1 | 5 | 6 |\n",
       "| Maserati Bora | 15 | 8 | 301 | 335 | 3.5 | 3.6 | 15 | 0 | 1 | 5 | 8 |\n",
       "| Volvo 142E | 21 | 4 | 121 | 109 | 4.1 | 2.8 | 19 | 1 | 1 | 4 | 2 |\n",
       "\n"
      ],
      "text/plain": [
       "                    mpg cyl disp hp  drat wt  qsec vs am gear carb\n",
       "Mazda RX4           21  6   160  110 3.9  2.6 16   0  1  4    4   \n",
       "Mazda RX4 Wag       21  6   160  110 3.9  2.9 17   0  1  4    4   \n",
       "Datsun 710          23  4   108   93 3.8  2.3 19   1  1  4    1   \n",
       "Hornet 4 Drive      21  6   258  110 3.1  3.2 19   1  0  3    1   \n",
       "Hornet Sportabout   19  8   360  175 3.1  3.4 17   0  0  3    2   \n",
       "Valiant             18  6   225  105 2.8  3.5 20   1  0  3    1   \n",
       "Duster 360          14  8   360  245 3.2  3.6 16   0  0  3    4   \n",
       "Merc 240D           24  4   147   62 3.7  3.2 20   1  0  4    2   \n",
       "Merc 230            23  4   141   95 3.9  3.1 23   1  0  4    2   \n",
       "Merc 280            19  6   168  123 3.9  3.4 18   1  0  4    4   \n",
       "Merc 280C           18  6   168  123 3.9  3.4 19   1  0  4    4   \n",
       "Merc 450SE          16  8   276  180 3.1  4.1 17   0  0  3    3   \n",
       "Merc 450SL          17  8   276  180 3.1  3.7 18   0  0  3    3   \n",
       "Merc 450SLC         15  8   276  180 3.1  3.8 18   0  0  3    3   \n",
       "Cadillac Fleetwood  10  8   472  205 2.9  5.2 18   0  0  3    4   \n",
       "Lincoln Continental 10  8   460  215 3.0  5.4 18   0  0  3    4   \n",
       "Chrysler Imperial   15  8   440  230 3.2  5.3 17   0  0  3    4   \n",
       "Fiat 128            32  4    79   66 4.1  2.2 19   1  1  4    1   \n",
       "Honda Civic         30  4    76   52 4.9  1.6 19   1  1  4    2   \n",
       "Toyota Corolla      34  4    71   65 4.2  1.8 20   1  1  4    1   \n",
       "Toyota Corona       22  4   120   97 3.7  2.5 20   1  0  3    1   \n",
       "Dodge Challenger    16  8   318  150 2.8  3.5 17   0  0  3    2   \n",
       "AMC Javelin         15  8   304  150 3.1  3.4 17   0  0  3    2   \n",
       "Camaro Z28          13  8   350  245 3.7  3.8 15   0  0  3    4   \n",
       "Pontiac Firebird    19  8   400  175 3.1  3.8 17   0  0  3    2   \n",
       "Fiat X1-9           27  4    79   66 4.1  1.9 19   1  1  4    1   \n",
       "Porsche 914-2       26  4   120   91 4.4  2.1 17   0  1  5    2   \n",
       "Lotus Europa        30  4    95  113 3.8  1.5 17   1  1  5    2   \n",
       "Ford Pantera L      16  8   351  264 4.2  3.2 14   0  1  5    4   \n",
       "Ferrari Dino        20  6   145  175 3.6  2.8 16   0  1  5    6   \n",
       "Maserati Bora       15  8   301  335 3.5  3.6 15   0  1  5    8   \n",
       "Volvo 142E          21  4   121  109 4.1  2.8 19   1  1  4    2   "
      ]
     },
     "metadata": {},
     "output_type": "display_data"
    }
   ],
   "source": [
    "mtcars     #R自带的一个数据框"
   ]
  },
  {
   "cell_type": "code",
   "execution_count": 133,
   "metadata": {
    "ExecuteTime": {
     "end_time": "2021-01-29T05:18:18.308013Z",
     "start_time": "2021-01-29T05:18:18.280Z"
    },
    "scrolled": true
   },
   "outputs": [
    {
     "data": {
      "text/html": [
       "<table class=\"dataframe\">\n",
       "<caption>A data.frame: 5 × 4</caption>\n",
       "<thead>\n",
       "\t<tr><th></th><th scope=col>mpg</th><th scope=col>cyl</th><th scope=col>disp</th><th scope=col>hp</th></tr>\n",
       "\t<tr><th></th><th scope=col>&lt;dbl&gt;</th><th scope=col>&lt;dbl&gt;</th><th scope=col>&lt;dbl&gt;</th><th scope=col>&lt;dbl&gt;</th></tr>\n",
       "</thead>\n",
       "<tbody>\n",
       "\t<tr><th scope=row>Mazda RX4</th><td>21</td><td>6</td><td>160</td><td>110</td></tr>\n",
       "\t<tr><th scope=row>Mazda RX4 Wag</th><td>21</td><td>6</td><td>160</td><td>110</td></tr>\n",
       "\t<tr><th scope=row>Datsun 710</th><td>23</td><td>4</td><td>108</td><td> 93</td></tr>\n",
       "\t<tr><th scope=row>Hornet 4 Drive</th><td>21</td><td>6</td><td>258</td><td>110</td></tr>\n",
       "\t<tr><th scope=row>Hornet Sportabout</th><td>19</td><td>8</td><td>360</td><td>175</td></tr>\n",
       "</tbody>\n",
       "</table>\n"
      ],
      "text/latex": [
       "A data.frame: 5 × 4\n",
       "\\begin{tabular}{r|llll}\n",
       "  & mpg & cyl & disp & hp\\\\\n",
       "  & <dbl> & <dbl> & <dbl> & <dbl>\\\\\n",
       "\\hline\n",
       "\tMazda RX4 & 21 & 6 & 160 & 110\\\\\n",
       "\tMazda RX4 Wag & 21 & 6 & 160 & 110\\\\\n",
       "\tDatsun 710 & 23 & 4 & 108 &  93\\\\\n",
       "\tHornet 4 Drive & 21 & 6 & 258 & 110\\\\\n",
       "\tHornet Sportabout & 19 & 8 & 360 & 175\\\\\n",
       "\\end{tabular}\n"
      ],
      "text/markdown": [
       "\n",
       "A data.frame: 5 × 4\n",
       "\n",
       "| <!--/--> | mpg &lt;dbl&gt; | cyl &lt;dbl&gt; | disp &lt;dbl&gt; | hp &lt;dbl&gt; |\n",
       "|---|---|---|---|---|\n",
       "| Mazda RX4 | 21 | 6 | 160 | 110 |\n",
       "| Mazda RX4 Wag | 21 | 6 | 160 | 110 |\n",
       "| Datsun 710 | 23 | 4 | 108 |  93 |\n",
       "| Hornet 4 Drive | 21 | 6 | 258 | 110 |\n",
       "| Hornet Sportabout | 19 | 8 | 360 | 175 |\n",
       "\n"
      ],
      "text/plain": [
       "                  mpg cyl disp hp \n",
       "Mazda RX4         21  6   160  110\n",
       "Mazda RX4 Wag     21  6   160  110\n",
       "Datsun 710        23  4   108   93\n",
       "Hornet 4 Drive    21  6   258  110\n",
       "Hornet Sportabout 19  8   360  175"
      ]
     },
     "metadata": {},
     "output_type": "display_data"
    }
   ],
   "source": [
    "cars <- mtcars[1:5,1:4];cars"
   ]
  },
  {
   "cell_type": "code",
   "execution_count": 134,
   "metadata": {
    "ExecuteTime": {
     "end_time": "2021-01-29T05:18:24.733163Z",
     "start_time": "2021-01-29T05:18:24.708Z"
    },
    "scrolled": true
   },
   "outputs": [
    {
     "data": {
      "text/html": [
       "<table class=\"dataframe\">\n",
       "<caption>A matrix: 4 × 5 of type dbl</caption>\n",
       "<thead>\n",
       "\t<tr><th></th><th scope=col>Mazda RX4</th><th scope=col>Mazda RX4 Wag</th><th scope=col>Datsun 710</th><th scope=col>Hornet 4 Drive</th><th scope=col>Hornet Sportabout</th></tr>\n",
       "</thead>\n",
       "<tbody>\n",
       "\t<tr><th scope=row>mpg</th><td> 21</td><td> 21</td><td> 23</td><td> 21</td><td> 19</td></tr>\n",
       "\t<tr><th scope=row>cyl</th><td>  6</td><td>  6</td><td>  4</td><td>  6</td><td>  8</td></tr>\n",
       "\t<tr><th scope=row>disp</th><td>160</td><td>160</td><td>108</td><td>258</td><td>360</td></tr>\n",
       "\t<tr><th scope=row>hp</th><td>110</td><td>110</td><td> 93</td><td>110</td><td>175</td></tr>\n",
       "</tbody>\n",
       "</table>\n"
      ],
      "text/latex": [
       "A matrix: 4 × 5 of type dbl\n",
       "\\begin{tabular}{r|lllll}\n",
       "  & Mazda RX4 & Mazda RX4 Wag & Datsun 710 & Hornet 4 Drive & Hornet Sportabout\\\\\n",
       "\\hline\n",
       "\tmpg &  21 &  21 &  23 &  21 &  19\\\\\n",
       "\tcyl &   6 &   6 &   4 &   6 &   8\\\\\n",
       "\tdisp & 160 & 160 & 108 & 258 & 360\\\\\n",
       "\thp & 110 & 110 &  93 & 110 & 175\\\\\n",
       "\\end{tabular}\n"
      ],
      "text/markdown": [
       "\n",
       "A matrix: 4 × 5 of type dbl\n",
       "\n",
       "| <!--/--> | Mazda RX4 | Mazda RX4 Wag | Datsun 710 | Hornet 4 Drive | Hornet Sportabout |\n",
       "|---|---|---|---|---|---|\n",
       "| mpg |  21 |  21 |  23 |  21 |  19 |\n",
       "| cyl |   6 |   6 |   4 |   6 |   8 |\n",
       "| disp | 160 | 160 | 108 | 258 | 360 |\n",
       "| hp | 110 | 110 |  93 | 110 | 175 |\n",
       "\n"
      ],
      "text/plain": [
       "     Mazda RX4 Mazda RX4 Wag Datsun 710 Hornet 4 Drive Hornet Sportabout\n",
       "mpg   21        21            23         21             19              \n",
       "cyl    6         6             4          6              8              \n",
       "disp 160       160           108        258            360              \n",
       "hp   110       110            93        110            175              "
      ]
     },
     "metadata": {},
     "output_type": "display_data"
    }
   ],
   "source": [
    "t(cars)    #转置"
   ]
  },
  {
   "cell_type": "markdown",
   "metadata": {},
   "source": [
    "## 整合数据"
   ]
  },
  {
   "cell_type": "code",
   "execution_count": 136,
   "metadata": {
    "ExecuteTime": {
     "end_time": "2021-01-29T05:21:42.597473Z",
     "start_time": "2021-01-29T05:21:42.174Z"
    }
   },
   "outputs": [
    {
     "data": {
      "text/html": [
       "<table class=\"dataframe\">\n",
       "<caption>A data.frame: 8 × 13</caption>\n",
       "<thead>\n",
       "\t<tr><th scope=col>Group.1</th><th scope=col>Group.2</th><th scope=col>mpg</th><th scope=col>cyl</th><th scope=col>disp</th><th scope=col>hp</th><th scope=col>drat</th><th scope=col>wt</th><th scope=col>qsec</th><th scope=col>vs</th><th scope=col>am</th><th scope=col>gear</th><th scope=col>carb</th></tr>\n",
       "\t<tr><th scope=col>&lt;dbl&gt;</th><th scope=col>&lt;dbl&gt;</th><th scope=col>&lt;dbl&gt;</th><th scope=col>&lt;dbl&gt;</th><th scope=col>&lt;dbl&gt;</th><th scope=col>&lt;dbl&gt;</th><th scope=col>&lt;dbl&gt;</th><th scope=col>&lt;dbl&gt;</th><th scope=col>&lt;dbl&gt;</th><th scope=col>&lt;dbl&gt;</th><th scope=col>&lt;dbl&gt;</th><th scope=col>&lt;dbl&gt;</th><th scope=col>&lt;dbl&gt;</th></tr>\n",
       "</thead>\n",
       "<tbody>\n",
       "\t<tr><td>4</td><td>3</td><td>22</td><td>4</td><td>120</td><td> 97</td><td>3.7</td><td>2.5</td><td>20</td><td>1.0</td><td>0.00</td><td>3</td><td>1.0</td></tr>\n",
       "\t<tr><td>6</td><td>3</td><td>20</td><td>6</td><td>242</td><td>108</td><td>2.9</td><td>3.3</td><td>20</td><td>1.0</td><td>0.00</td><td>3</td><td>1.0</td></tr>\n",
       "\t<tr><td>8</td><td>3</td><td>15</td><td>8</td><td>358</td><td>194</td><td>3.1</td><td>4.1</td><td>17</td><td>0.0</td><td>0.00</td><td>3</td><td>3.1</td></tr>\n",
       "\t<tr><td>4</td><td>4</td><td>27</td><td>4</td><td>103</td><td> 76</td><td>4.1</td><td>2.4</td><td>20</td><td>1.0</td><td>0.75</td><td>4</td><td>1.5</td></tr>\n",
       "\t<tr><td>6</td><td>4</td><td>20</td><td>6</td><td>164</td><td>116</td><td>3.9</td><td>3.1</td><td>18</td><td>0.5</td><td>0.50</td><td>4</td><td>4.0</td></tr>\n",
       "\t<tr><td>4</td><td>5</td><td>28</td><td>4</td><td>108</td><td>102</td><td>4.1</td><td>1.8</td><td>17</td><td>0.5</td><td>1.00</td><td>5</td><td>2.0</td></tr>\n",
       "\t<tr><td>6</td><td>5</td><td>20</td><td>6</td><td>145</td><td>175</td><td>3.6</td><td>2.8</td><td>16</td><td>0.0</td><td>1.00</td><td>5</td><td>6.0</td></tr>\n",
       "\t<tr><td>8</td><td>5</td><td>15</td><td>8</td><td>326</td><td>300</td><td>3.9</td><td>3.4</td><td>15</td><td>0.0</td><td>1.00</td><td>5</td><td>6.0</td></tr>\n",
       "</tbody>\n",
       "</table>\n"
      ],
      "text/latex": [
       "A data.frame: 8 × 13\n",
       "\\begin{tabular}{lllllllllllll}\n",
       " Group.1 & Group.2 & mpg & cyl & disp & hp & drat & wt & qsec & vs & am & gear & carb\\\\\n",
       " <dbl> & <dbl> & <dbl> & <dbl> & <dbl> & <dbl> & <dbl> & <dbl> & <dbl> & <dbl> & <dbl> & <dbl> & <dbl>\\\\\n",
       "\\hline\n",
       "\t 4 & 3 & 22 & 4 & 120 &  97 & 3.7 & 2.5 & 20 & 1.0 & 0.00 & 3 & 1.0\\\\\n",
       "\t 6 & 3 & 20 & 6 & 242 & 108 & 2.9 & 3.3 & 20 & 1.0 & 0.00 & 3 & 1.0\\\\\n",
       "\t 8 & 3 & 15 & 8 & 358 & 194 & 3.1 & 4.1 & 17 & 0.0 & 0.00 & 3 & 3.1\\\\\n",
       "\t 4 & 4 & 27 & 4 & 103 &  76 & 4.1 & 2.4 & 20 & 1.0 & 0.75 & 4 & 1.5\\\\\n",
       "\t 6 & 4 & 20 & 6 & 164 & 116 & 3.9 & 3.1 & 18 & 0.5 & 0.50 & 4 & 4.0\\\\\n",
       "\t 4 & 5 & 28 & 4 & 108 & 102 & 4.1 & 1.8 & 17 & 0.5 & 1.00 & 5 & 2.0\\\\\n",
       "\t 6 & 5 & 20 & 6 & 145 & 175 & 3.6 & 2.8 & 16 & 0.0 & 1.00 & 5 & 6.0\\\\\n",
       "\t 8 & 5 & 15 & 8 & 326 & 300 & 3.9 & 3.4 & 15 & 0.0 & 1.00 & 5 & 6.0\\\\\n",
       "\\end{tabular}\n"
      ],
      "text/markdown": [
       "\n",
       "A data.frame: 8 × 13\n",
       "\n",
       "| Group.1 &lt;dbl&gt; | Group.2 &lt;dbl&gt; | mpg &lt;dbl&gt; | cyl &lt;dbl&gt; | disp &lt;dbl&gt; | hp &lt;dbl&gt; | drat &lt;dbl&gt; | wt &lt;dbl&gt; | qsec &lt;dbl&gt; | vs &lt;dbl&gt; | am &lt;dbl&gt; | gear &lt;dbl&gt; | carb &lt;dbl&gt; |\n",
       "|---|---|---|---|---|---|---|---|---|---|---|---|---|\n",
       "| 4 | 3 | 22 | 4 | 120 |  97 | 3.7 | 2.5 | 20 | 1.0 | 0.00 | 3 | 1.0 |\n",
       "| 6 | 3 | 20 | 6 | 242 | 108 | 2.9 | 3.3 | 20 | 1.0 | 0.00 | 3 | 1.0 |\n",
       "| 8 | 3 | 15 | 8 | 358 | 194 | 3.1 | 4.1 | 17 | 0.0 | 0.00 | 3 | 3.1 |\n",
       "| 4 | 4 | 27 | 4 | 103 |  76 | 4.1 | 2.4 | 20 | 1.0 | 0.75 | 4 | 1.5 |\n",
       "| 6 | 4 | 20 | 6 | 164 | 116 | 3.9 | 3.1 | 18 | 0.5 | 0.50 | 4 | 4.0 |\n",
       "| 4 | 5 | 28 | 4 | 108 | 102 | 4.1 | 1.8 | 17 | 0.5 | 1.00 | 5 | 2.0 |\n",
       "| 6 | 5 | 20 | 6 | 145 | 175 | 3.6 | 2.8 | 16 | 0.0 | 1.00 | 5 | 6.0 |\n",
       "| 8 | 5 | 15 | 8 | 326 | 300 | 3.9 | 3.4 | 15 | 0.0 | 1.00 | 5 | 6.0 |\n",
       "\n"
      ],
      "text/plain": [
       "  Group.1 Group.2 mpg cyl disp hp  drat wt  qsec vs  am   gear carb\n",
       "1 4       3       22  4   120   97 3.7  2.5 20   1.0 0.00 3    1.0 \n",
       "2 6       3       20  6   242  108 2.9  3.3 20   1.0 0.00 3    1.0 \n",
       "3 8       3       15  8   358  194 3.1  4.1 17   0.0 0.00 3    3.1 \n",
       "4 4       4       27  4   103   76 4.1  2.4 20   1.0 0.75 4    1.5 \n",
       "5 6       4       20  6   164  116 3.9  3.1 18   0.5 0.50 4    4.0 \n",
       "6 4       5       28  4   108  102 4.1  1.8 17   0.5 1.00 5    2.0 \n",
       "7 6       5       20  6   145  175 3.6  2.8 16   0.0 1.00 5    6.0 \n",
       "8 8       5       15  8   326  300 3.9  3.4 15   0.0 1.00 5    6.0 "
      ]
     },
     "metadata": {},
     "output_type": "display_data"
    }
   ],
   "source": [
    "aggregate(mtcars, by=list(mtcars$cyl,mtcars$gear),\n",
    "          FUN=mean, na.rm=TRUE)"
   ]
  },
  {
   "cell_type": "markdown",
   "metadata": {},
   "source": [
    "## reshape包"
   ]
  },
  {
   "cell_type": "code",
   "execution_count": 139,
   "metadata": {
    "ExecuteTime": {
     "end_time": "2021-01-29T05:29:16.422015Z",
     "start_time": "2021-01-29T05:29:16.402Z"
    }
   },
   "outputs": [],
   "source": [
    "mydata <- data.frame(ID=c(1,1,2,2),\n",
    "                     Time=c(1,2,1,2),\n",
    "                     X1=c(6,3,6,2),\n",
    "                     X2=c(6,5,1,4))"
   ]
  },
  {
   "cell_type": "code",
   "execution_count": 140,
   "metadata": {
    "ExecuteTime": {
     "end_time": "2021-01-29T05:29:19.489239Z",
     "start_time": "2021-01-29T05:29:19.463Z"
    }
   },
   "outputs": [
    {
     "data": {
      "text/html": [
       "<table class=\"dataframe\">\n",
       "<caption>A data.frame: 4 × 4</caption>\n",
       "<thead>\n",
       "\t<tr><th scope=col>ID</th><th scope=col>Time</th><th scope=col>X1</th><th scope=col>X2</th></tr>\n",
       "\t<tr><th scope=col>&lt;dbl&gt;</th><th scope=col>&lt;dbl&gt;</th><th scope=col>&lt;dbl&gt;</th><th scope=col>&lt;dbl&gt;</th></tr>\n",
       "</thead>\n",
       "<tbody>\n",
       "\t<tr><td>1</td><td>1</td><td>6</td><td>6</td></tr>\n",
       "\t<tr><td>1</td><td>2</td><td>3</td><td>5</td></tr>\n",
       "\t<tr><td>2</td><td>1</td><td>6</td><td>1</td></tr>\n",
       "\t<tr><td>2</td><td>2</td><td>2</td><td>4</td></tr>\n",
       "</tbody>\n",
       "</table>\n"
      ],
      "text/latex": [
       "A data.frame: 4 × 4\n",
       "\\begin{tabular}{llll}\n",
       " ID & Time & X1 & X2\\\\\n",
       " <dbl> & <dbl> & <dbl> & <dbl>\\\\\n",
       "\\hline\n",
       "\t 1 & 1 & 6 & 6\\\\\n",
       "\t 1 & 2 & 3 & 5\\\\\n",
       "\t 2 & 1 & 6 & 1\\\\\n",
       "\t 2 & 2 & 2 & 4\\\\\n",
       "\\end{tabular}\n"
      ],
      "text/markdown": [
       "\n",
       "A data.frame: 4 × 4\n",
       "\n",
       "| ID &lt;dbl&gt; | Time &lt;dbl&gt; | X1 &lt;dbl&gt; | X2 &lt;dbl&gt; |\n",
       "|---|---|---|---|\n",
       "| 1 | 1 | 6 | 6 |\n",
       "| 1 | 2 | 3 | 5 |\n",
       "| 2 | 1 | 6 | 1 |\n",
       "| 2 | 2 | 2 | 4 |\n",
       "\n"
      ],
      "text/plain": [
       "  ID Time X1 X2\n",
       "1 1  1    6  6 \n",
       "2 1  2    3  5 \n",
       "3 2  1    6  1 \n",
       "4 2  2    2  4 "
      ]
     },
     "metadata": {},
     "output_type": "display_data"
    }
   ],
   "source": [
    "mydata"
   ]
  },
  {
   "cell_type": "code",
   "execution_count": 145,
   "metadata": {
    "ExecuteTime": {
     "end_time": "2021-01-29T05:31:45.454603Z",
     "start_time": "2021-01-29T05:31:45.363Z"
    }
   },
   "outputs": [
    {
     "data": {
      "text/html": [
       "<table class=\"dataframe\">\n",
       "<caption>A data.frame: 8 × 4</caption>\n",
       "<thead>\n",
       "\t<tr><th scope=col>ID</th><th scope=col>Time</th><th scope=col>variable</th><th scope=col>value</th></tr>\n",
       "\t<tr><th scope=col>&lt;dbl&gt;</th><th scope=col>&lt;dbl&gt;</th><th scope=col>&lt;fct&gt;</th><th scope=col>&lt;dbl&gt;</th></tr>\n",
       "</thead>\n",
       "<tbody>\n",
       "\t<tr><td>1</td><td>1</td><td>X1</td><td>6</td></tr>\n",
       "\t<tr><td>1</td><td>2</td><td>X1</td><td>3</td></tr>\n",
       "\t<tr><td>2</td><td>1</td><td>X1</td><td>6</td></tr>\n",
       "\t<tr><td>2</td><td>2</td><td>X1</td><td>2</td></tr>\n",
       "\t<tr><td>1</td><td>1</td><td>X2</td><td>6</td></tr>\n",
       "\t<tr><td>1</td><td>2</td><td>X2</td><td>5</td></tr>\n",
       "\t<tr><td>2</td><td>1</td><td>X2</td><td>1</td></tr>\n",
       "\t<tr><td>2</td><td>2</td><td>X2</td><td>4</td></tr>\n",
       "</tbody>\n",
       "</table>\n"
      ],
      "text/latex": [
       "A data.frame: 8 × 4\n",
       "\\begin{tabular}{llll}\n",
       " ID & Time & variable & value\\\\\n",
       " <dbl> & <dbl> & <fct> & <dbl>\\\\\n",
       "\\hline\n",
       "\t 1 & 1 & X1 & 6\\\\\n",
       "\t 1 & 2 & X1 & 3\\\\\n",
       "\t 2 & 1 & X1 & 6\\\\\n",
       "\t 2 & 2 & X1 & 2\\\\\n",
       "\t 1 & 1 & X2 & 6\\\\\n",
       "\t 1 & 2 & X2 & 5\\\\\n",
       "\t 2 & 1 & X2 & 1\\\\\n",
       "\t 2 & 2 & X2 & 4\\\\\n",
       "\\end{tabular}\n"
      ],
      "text/markdown": [
       "\n",
       "A data.frame: 8 × 4\n",
       "\n",
       "| ID &lt;dbl&gt; | Time &lt;dbl&gt; | variable &lt;fct&gt; | value &lt;dbl&gt; |\n",
       "|---|---|---|---|\n",
       "| 1 | 1 | X1 | 6 |\n",
       "| 1 | 2 | X1 | 3 |\n",
       "| 2 | 1 | X1 | 6 |\n",
       "| 2 | 2 | X1 | 2 |\n",
       "| 1 | 1 | X2 | 6 |\n",
       "| 1 | 2 | X2 | 5 |\n",
       "| 2 | 1 | X2 | 1 |\n",
       "| 2 | 2 | X2 | 4 |\n",
       "\n"
      ],
      "text/plain": [
       "  ID Time variable value\n",
       "1 1  1    X1       6    \n",
       "2 1  2    X1       3    \n",
       "3 2  1    X1       6    \n",
       "4 2  2    X1       2    \n",
       "5 1  1    X2       6    \n",
       "6 1  2    X2       5    \n",
       "7 2  1    X2       1    \n",
       "8 2  2    X2       4    "
      ]
     },
     "metadata": {},
     "output_type": "display_data"
    }
   ],
   "source": [
    "library(reshape)\n",
    "newdata <- melt(mydata,\n",
    "                id=(c('ID','Time')))  #选定标识符,melt\n",
    "newdata"
   ]
  },
  {
   "cell_type": "code",
   "execution_count": 150,
   "metadata": {
    "ExecuteTime": {
     "end_time": "2021-01-29T05:34:19.268352Z",
     "start_time": "2021-01-29T05:34:18.897Z"
    }
   },
   "outputs": [
    {
     "data": {
      "text/html": [
       "<table class=\"dataframe\">\n",
       "<caption>A cast_df: 4 × 4</caption>\n",
       "<thead>\n",
       "\t<tr><th></th><th scope=col>ID</th><th scope=col>Time</th><th scope=col>X1</th><th scope=col>X2</th></tr>\n",
       "\t<tr><th></th><th scope=col>&lt;dbl&gt;</th><th scope=col>&lt;dbl&gt;</th><th scope=col>&lt;dbl&gt;</th><th scope=col>&lt;dbl&gt;</th></tr>\n",
       "</thead>\n",
       "<tbody>\n",
       "\t<tr><th scope=row>1</th><td>1</td><td>1</td><td>6</td><td>6</td></tr>\n",
       "\t<tr><th scope=row>2</th><td>1</td><td>2</td><td>3</td><td>5</td></tr>\n",
       "\t<tr><th scope=row>3</th><td>2</td><td>1</td><td>6</td><td>1</td></tr>\n",
       "\t<tr><th scope=row>4</th><td>2</td><td>2</td><td>2</td><td>4</td></tr>\n",
       "</tbody>\n",
       "</table>\n"
      ],
      "text/latex": [
       "A cast\\_df: 4 × 4\n",
       "\\begin{tabular}{r|llll}\n",
       "  & ID & Time & X1 & X2\\\\\n",
       "  & <dbl> & <dbl> & <dbl> & <dbl>\\\\\n",
       "\\hline\n",
       "\t1 & 1 & 1 & 6 & 6\\\\\n",
       "\t2 & 1 & 2 & 3 & 5\\\\\n",
       "\t3 & 2 & 1 & 6 & 1\\\\\n",
       "\t4 & 2 & 2 & 2 & 4\\\\\n",
       "\\end{tabular}\n"
      ],
      "text/markdown": [
       "\n",
       "A cast_df: 4 × 4\n",
       "\n",
       "| <!--/--> | ID &lt;dbl&gt; | Time &lt;dbl&gt; | X1 &lt;dbl&gt; | X2 &lt;dbl&gt; |\n",
       "|---|---|---|---|---|\n",
       "| 1 | 1 | 1 | 6 | 6 |\n",
       "| 2 | 1 | 2 | 3 | 5 |\n",
       "| 3 | 2 | 1 | 6 | 1 |\n",
       "| 4 | 2 | 2 | 2 | 4 |\n",
       "\n"
      ],
      "text/plain": [
       "  ID Time X1 X2\n",
       "1 1  1    6  6 \n",
       "2 1  2    3  5 \n",
       "3 2  1    6  1 \n",
       "4 2  2    2  4 "
      ]
     },
     "metadata": {},
     "output_type": "display_data"
    }
   ],
   "source": [
    "cast(newdata,ID+Time~variable)"
   ]
  },
  {
   "cell_type": "code",
   "execution_count": 153,
   "metadata": {
    "ExecuteTime": {
     "end_time": "2021-01-29T05:35:14.730626Z",
     "start_time": "2021-01-29T05:35:14.699Z"
    }
   },
   "outputs": [
    {
     "data": {
      "text/html": [
       "<table class=\"dataframe\">\n",
       "<caption>A cast_df: 4 × 4</caption>\n",
       "<thead>\n",
       "\t<tr><th></th><th scope=col>ID</th><th scope=col>Time</th><th scope=col>X1</th><th scope=col>X2</th></tr>\n",
       "\t<tr><th></th><th scope=col>&lt;dbl&gt;</th><th scope=col>&lt;dbl&gt;</th><th scope=col>&lt;dbl&gt;</th><th scope=col>&lt;dbl&gt;</th></tr>\n",
       "</thead>\n",
       "<tbody>\n",
       "\t<tr><th scope=row>1</th><td>1</td><td>1</td><td>6</td><td>6</td></tr>\n",
       "\t<tr><th scope=row>2</th><td>1</td><td>2</td><td>3</td><td>5</td></tr>\n",
       "\t<tr><th scope=row>3</th><td>2</td><td>1</td><td>6</td><td>1</td></tr>\n",
       "\t<tr><th scope=row>4</th><td>2</td><td>2</td><td>2</td><td>4</td></tr>\n",
       "</tbody>\n",
       "</table>\n"
      ],
      "text/latex": [
       "A cast\\_df: 4 × 4\n",
       "\\begin{tabular}{r|llll}\n",
       "  & ID & Time & X1 & X2\\\\\n",
       "  & <dbl> & <dbl> & <dbl> & <dbl>\\\\\n",
       "\\hline\n",
       "\t1 & 1 & 1 & 6 & 6\\\\\n",
       "\t2 & 1 & 2 & 3 & 5\\\\\n",
       "\t3 & 2 & 1 & 6 & 1\\\\\n",
       "\t4 & 2 & 2 & 2 & 4\\\\\n",
       "\\end{tabular}\n"
      ],
      "text/markdown": [
       "\n",
       "A cast_df: 4 × 4\n",
       "\n",
       "| <!--/--> | ID &lt;dbl&gt; | Time &lt;dbl&gt; | X1 &lt;dbl&gt; | X2 &lt;dbl&gt; |\n",
       "|---|---|---|---|---|\n",
       "| 1 | 1 | 1 | 6 | 6 |\n",
       "| 2 | 1 | 2 | 3 | 5 |\n",
       "| 3 | 2 | 1 | 6 | 1 |\n",
       "| 4 | 2 | 2 | 2 | 4 |\n",
       "\n"
      ],
      "text/plain": [
       "  ID Time X1 X2\n",
       "1 1  1    6  6 \n",
       "2 1  2    3  5 \n",
       "3 2  1    6  1 \n",
       "4 2  2    2  4 "
      ]
     },
     "metadata": {},
     "output_type": "display_data"
    }
   ],
   "source": [
    "cast(newdata,ID+Time~variable,mean)"
   ]
  },
  {
   "cell_type": "code",
   "execution_count": null,
   "metadata": {},
   "outputs": [],
   "source": []
  }
 ],
 "metadata": {
  "kernelspec": {
   "display_name": "R_x64",
   "language": "R",
   "name": "r_x64"
  },
  "language_info": {
   "codemirror_mode": "r",
   "file_extension": ".r",
   "mimetype": "text/x-r-source",
   "name": "R",
   "pygments_lexer": "r",
   "version": "4.0.3"
  },
  "toc": {
   "base_numbering": 1,
   "nav_menu": {},
   "number_sections": true,
   "sideBar": true,
   "skip_h1_title": false,
   "title_cell": "Table of Contents",
   "title_sidebar": "Contents",
   "toc_cell": false,
   "toc_position": {},
   "toc_section_display": true,
   "toc_window_display": true
  },
  "varInspector": {
   "cols": {
    "lenName": 16,
    "lenType": 16,
    "lenVar": 40
   },
   "kernels_config": {
    "python": {
     "delete_cmd_postfix": "",
     "delete_cmd_prefix": "del ",
     "library": "var_list.py",
     "varRefreshCmd": "print(var_dic_list())"
    },
    "r": {
     "delete_cmd_postfix": ") ",
     "delete_cmd_prefix": "rm(",
     "library": "var_list.r",
     "varRefreshCmd": "cat(var_dic_list()) "
    }
   },
   "position": {
    "height": "242px",
    "left": "588px",
    "right": "20px",
    "top": "120px",
    "width": "350px"
   },
   "types_to_exclude": [
    "module",
    "function",
    "builtin_function_or_method",
    "instance",
    "_Feature"
   ],
   "window_display": false
  }
 },
 "nbformat": 4,
 "nbformat_minor": 4
}
