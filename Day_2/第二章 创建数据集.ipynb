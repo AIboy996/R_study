{
 "cells": [
  {
   "cell_type": "raw",
   "metadata": {},
   "source": [
    "本章内容：\n",
    "探索R中的数据结构\n",
    "输入数据\n",
    "导入数据\n",
    "标注数据"
   ]
  },
  {
   "cell_type": "markdown",
   "metadata": {},
   "source": [
    "# 数据结构"
   ]
  },
  {
   "cell_type": "markdown",
   "metadata": {},
   "source": [
    "## 向量"
   ]
  },
  {
   "cell_type": "raw",
   "metadata": {
    "ExecuteTime": {
     "end_time": "2021-01-25T05:42:05.043801Z",
     "start_time": "2021-01-25T05:42:05.024Z"
    }
   },
   "source": [
    "不同数据类型不能混杂在一个向量内"
   ]
  },
  {
   "cell_type": "markdown",
   "metadata": {},
   "source": [
    "### 向量的构建"
   ]
  },
  {
   "cell_type": "raw",
   "metadata": {},
   "source": [
    "用c()来创建向量"
   ]
  },
  {
   "cell_type": "code",
   "execution_count": 1,
   "metadata": {
    "ExecuteTime": {
     "end_time": "2021-01-25T08:59:04.437603Z",
     "start_time": "2021-01-25T08:59:04.417Z"
    }
   },
   "outputs": [],
   "source": [
    "a <- c(1, 2, 5, -2, 4)  #数值型"
   ]
  },
  {
   "cell_type": "code",
   "execution_count": 2,
   "metadata": {
    "ExecuteTime": {
     "end_time": "2021-01-25T08:59:05.790643Z",
     "start_time": "2021-01-25T08:59:05.770Z"
    }
   },
   "outputs": [],
   "source": [
    "b <- c('one', 'two', 'three')  #字符型"
   ]
  },
  {
   "cell_type": "code",
   "execution_count": 3,
   "metadata": {
    "ExecuteTime": {
     "end_time": "2021-01-25T08:59:07.050640Z",
     "start_time": "2021-01-25T08:59:07.028Z"
    }
   },
   "outputs": [],
   "source": [
    "c <- c(TRUE, FALSE, TRUE, TRUE)  #逻辑型,\n",
    "#同时由于存在内置函数c，最好不要用c作为对象名"
   ]
  },
  {
   "cell_type": "code",
   "execution_count": 4,
   "metadata": {
    "ExecuteTime": {
     "end_time": "2021-01-25T08:59:09.602412Z",
     "start_time": "2021-01-25T08:59:09.582Z"
    }
   },
   "outputs": [],
   "source": [
    "d <- c(1:10)   #正整数序列"
   ]
  },
  {
   "cell_type": "code",
   "execution_count": 5,
   "metadata": {
    "ExecuteTime": {
     "end_time": "2021-01-25T08:59:10.433758Z",
     "start_time": "2021-01-25T08:59:10.411Z"
    }
   },
   "outputs": [],
   "source": [
    "pi <- 3.1415   #标量"
   ]
  },
  {
   "cell_type": "markdown",
   "metadata": {},
   "source": [
    "### 向量的索引"
   ]
  },
  {
   "cell_type": "code",
   "execution_count": 6,
   "metadata": {
    "ExecuteTime": {
     "end_time": "2021-01-25T08:59:11.745652Z",
     "start_time": "2021-01-25T08:59:11.721Z"
    }
   },
   "outputs": [
    {
     "data": {
      "text/html": [
       "1"
      ],
      "text/latex": [
       "1"
      ],
      "text/markdown": [
       "1"
      ],
      "text/plain": [
       "[1] 1"
      ]
     },
     "metadata": {},
     "output_type": "display_data"
    }
   ],
   "source": [
    "a[1]"
   ]
  },
  {
   "cell_type": "code",
   "execution_count": 7,
   "metadata": {
    "ExecuteTime": {
     "end_time": "2021-01-25T08:59:12.504024Z",
     "start_time": "2021-01-25T08:59:12.481Z"
    }
   },
   "outputs": [
    {
     "data": {
      "text/html": [
       "<style>\n",
       ".list-inline {list-style: none; margin:0; padding: 0}\n",
       ".list-inline>li {display: inline-block}\n",
       ".list-inline>li:not(:last-child)::after {content: \"\\00b7\"; padding: 0 .5ex}\n",
       "</style>\n",
       "<ol class=list-inline><li>1</li><li>5</li></ol>\n"
      ],
      "text/latex": [
       "\\begin{enumerate*}\n",
       "\\item 1\n",
       "\\item 5\n",
       "\\end{enumerate*}\n"
      ],
      "text/markdown": [
       "1. 1\n",
       "2. 5\n",
       "\n",
       "\n"
      ],
      "text/plain": [
       "[1] 1 5"
      ]
     },
     "metadata": {},
     "output_type": "display_data"
    }
   ],
   "source": [
    "a[c(1, 3)]"
   ]
  },
  {
   "cell_type": "markdown",
   "metadata": {},
   "source": [
    "## 矩阵"
   ]
  },
  {
   "cell_type": "raw",
   "metadata": {},
   "source": [
    "与向量相同，不同数据类型不能混杂在一个矩阵内"
   ]
  },
  {
   "cell_type": "raw",
   "metadata": {},
   "source": [
    "用matrix(data = dataVec, nrow = nrow, ncol = ncol, byrow = logical_value)来创建矩阵"
   ]
  },
  {
   "cell_type": "markdown",
   "metadata": {},
   "source": [
    "### 矩阵的创建"
   ]
  },
  {
   "cell_type": "code",
   "execution_count": 8,
   "metadata": {
    "ExecuteTime": {
     "end_time": "2021-01-25T08:59:17.068155Z",
     "start_time": "2021-01-25T08:59:17.045Z"
    }
   },
   "outputs": [],
   "source": [
    "y<- matrix(1:20, nrow=5, ncol=4)  #1-20生成的5x4矩阵，默认按照列填充"
   ]
  },
  {
   "cell_type": "code",
   "execution_count": 9,
   "metadata": {
    "ExecuteTime": {
     "end_time": "2021-01-25T08:59:19.271031Z",
     "start_time": "2021-01-25T08:59:18.903Z"
    }
   },
   "outputs": [
    {
     "data": {
      "text/html": [
       "<table class=\"dataframe\">\n",
       "<caption>A matrix: 5 × 4 of type int</caption>\n",
       "<tbody>\n",
       "\t<tr><td>1</td><td> 6</td><td>11</td><td>16</td></tr>\n",
       "\t<tr><td>2</td><td> 7</td><td>12</td><td>17</td></tr>\n",
       "\t<tr><td>3</td><td> 8</td><td>13</td><td>18</td></tr>\n",
       "\t<tr><td>4</td><td> 9</td><td>14</td><td>19</td></tr>\n",
       "\t<tr><td>5</td><td>10</td><td>15</td><td>20</td></tr>\n",
       "</tbody>\n",
       "</table>\n"
      ],
      "text/latex": [
       "A matrix: 5 × 4 of type int\n",
       "\\begin{tabular}{llll}\n",
       "\t 1 &  6 & 11 & 16\\\\\n",
       "\t 2 &  7 & 12 & 17\\\\\n",
       "\t 3 &  8 & 13 & 18\\\\\n",
       "\t 4 &  9 & 14 & 19\\\\\n",
       "\t 5 & 10 & 15 & 20\\\\\n",
       "\\end{tabular}\n"
      ],
      "text/markdown": [
       "\n",
       "A matrix: 5 × 4 of type int\n",
       "\n",
       "| 1 |  6 | 11 | 16 |\n",
       "| 2 |  7 | 12 | 17 |\n",
       "| 3 |  8 | 13 | 18 |\n",
       "| 4 |  9 | 14 | 19 |\n",
       "| 5 | 10 | 15 | 20 |\n",
       "\n"
      ],
      "text/plain": [
       "     [,1] [,2] [,3] [,4]\n",
       "[1,] 1     6   11   16  \n",
       "[2,] 2     7   12   17  \n",
       "[3,] 3     8   13   18  \n",
       "[4,] 4     9   14   19  \n",
       "[5,] 5    10   15   20  "
      ]
     },
     "metadata": {},
     "output_type": "display_data"
    }
   ],
   "source": [
    "y"
   ]
  },
  {
   "cell_type": "code",
   "execution_count": 10,
   "metadata": {
    "ExecuteTime": {
     "end_time": "2021-01-25T08:59:20.707735Z",
     "start_time": "2021-01-25T08:59:20.683Z"
    }
   },
   "outputs": [],
   "source": [
    "y_1 <- matrix(1:20, nrow=5, ncol=4, byrow = TRUE)   #按照行填充"
   ]
  },
  {
   "cell_type": "code",
   "execution_count": 11,
   "metadata": {
    "ExecuteTime": {
     "end_time": "2021-01-25T08:59:21.442495Z",
     "start_time": "2021-01-25T08:59:21.413Z"
    }
   },
   "outputs": [
    {
     "data": {
      "text/html": [
       "<table class=\"dataframe\">\n",
       "<caption>A matrix: 5 × 4 of type int</caption>\n",
       "<tbody>\n",
       "\t<tr><td> 1</td><td> 2</td><td> 3</td><td> 4</td></tr>\n",
       "\t<tr><td> 5</td><td> 6</td><td> 7</td><td> 8</td></tr>\n",
       "\t<tr><td> 9</td><td>10</td><td>11</td><td>12</td></tr>\n",
       "\t<tr><td>13</td><td>14</td><td>15</td><td>16</td></tr>\n",
       "\t<tr><td>17</td><td>18</td><td>19</td><td>20</td></tr>\n",
       "</tbody>\n",
       "</table>\n"
      ],
      "text/latex": [
       "A matrix: 5 × 4 of type int\n",
       "\\begin{tabular}{llll}\n",
       "\t  1 &  2 &  3 &  4\\\\\n",
       "\t  5 &  6 &  7 &  8\\\\\n",
       "\t  9 & 10 & 11 & 12\\\\\n",
       "\t 13 & 14 & 15 & 16\\\\\n",
       "\t 17 & 18 & 19 & 20\\\\\n",
       "\\end{tabular}\n"
      ],
      "text/markdown": [
       "\n",
       "A matrix: 5 × 4 of type int\n",
       "\n",
       "|  1 |  2 |  3 |  4 |\n",
       "|  5 |  6 |  7 |  8 |\n",
       "|  9 | 10 | 11 | 12 |\n",
       "| 13 | 14 | 15 | 16 |\n",
       "| 17 | 18 | 19 | 20 |\n",
       "\n"
      ],
      "text/plain": [
       "     [,1] [,2] [,3] [,4]\n",
       "[1,]  1    2    3    4  \n",
       "[2,]  5    6    7    8  \n",
       "[3,]  9   10   11   12  \n",
       "[4,] 13   14   15   16  \n",
       "[5,] 17   18   19   20  "
      ]
     },
     "metadata": {},
     "output_type": "display_data"
    }
   ],
   "source": [
    "y_1"
   ]
  },
  {
   "cell_type": "code",
   "execution_count": 12,
   "metadata": {
    "ExecuteTime": {
     "end_time": "2021-01-25T08:59:29.114529Z",
     "start_time": "2021-01-25T08:59:29.090Z"
    }
   },
   "outputs": [],
   "source": [
    "cells <- c(1, 26, 24, 68)\n",
    "rnames <- c('R1', 'R2')\n",
    "cnames <- c('C1', 'C2')\n",
    "mymatrix <- matrix(cells, nrow=2, ncol=2, byrow=TRUE, dimnames=list(rnames,cnames))\n",
    "#定义了维度的名称 dimnames"
   ]
  },
  {
   "cell_type": "code",
   "execution_count": 13,
   "metadata": {
    "ExecuteTime": {
     "end_time": "2021-01-25T08:59:29.776965Z",
     "start_time": "2021-01-25T08:59:29.752Z"
    }
   },
   "outputs": [
    {
     "data": {
      "text/html": [
       "<table class=\"dataframe\">\n",
       "<caption>A matrix: 2 × 2 of type dbl</caption>\n",
       "<thead>\n",
       "\t<tr><th></th><th scope=col>C1</th><th scope=col>C2</th></tr>\n",
       "</thead>\n",
       "<tbody>\n",
       "\t<tr><th scope=row>R1</th><td> 1</td><td>26</td></tr>\n",
       "\t<tr><th scope=row>R2</th><td>24</td><td>68</td></tr>\n",
       "</tbody>\n",
       "</table>\n"
      ],
      "text/latex": [
       "A matrix: 2 × 2 of type dbl\n",
       "\\begin{tabular}{r|ll}\n",
       "  & C1 & C2\\\\\n",
       "\\hline\n",
       "\tR1 &  1 & 26\\\\\n",
       "\tR2 & 24 & 68\\\\\n",
       "\\end{tabular}\n"
      ],
      "text/markdown": [
       "\n",
       "A matrix: 2 × 2 of type dbl\n",
       "\n",
       "| <!--/--> | C1 | C2 |\n",
       "|---|---|---|\n",
       "| R1 |  1 | 26 |\n",
       "| R2 | 24 | 68 |\n",
       "\n"
      ],
      "text/plain": [
       "   C1 C2\n",
       "R1  1 26\n",
       "R2 24 68"
      ]
     },
     "metadata": {},
     "output_type": "display_data"
    }
   ],
   "source": [
    "mymatrix"
   ]
  },
  {
   "cell_type": "markdown",
   "metadata": {},
   "source": [
    "### 矩阵的索引"
   ]
  },
  {
   "cell_type": "code",
   "execution_count": 14,
   "metadata": {
    "ExecuteTime": {
     "end_time": "2021-01-25T08:59:31.800276Z",
     "start_time": "2021-01-25T08:59:31.778Z"
    }
   },
   "outputs": [],
   "source": [
    "x <- matrix(1:10, nrow=2)"
   ]
  },
  {
   "cell_type": "code",
   "execution_count": 15,
   "metadata": {
    "ExecuteTime": {
     "end_time": "2021-01-25T08:59:32.252695Z",
     "start_time": "2021-01-25T08:59:32.230Z"
    }
   },
   "outputs": [
    {
     "name": "stdout",
     "output_type": "stream",
     "text": [
      "     [,1] [,2] [,3] [,4] [,5]\n",
      "[1,]    1    3    5    7    9\n",
      "[2,]    2    4    6    8   10\n"
     ]
    }
   ],
   "source": [
    "print(x)"
   ]
  },
  {
   "cell_type": "code",
   "execution_count": 16,
   "metadata": {
    "ExecuteTime": {
     "end_time": "2021-01-25T08:59:34.251344Z",
     "start_time": "2021-01-25T08:59:34.225Z"
    }
   },
   "outputs": [
    {
     "data": {
      "text/html": [
       "<style>\n",
       ".list-inline {list-style: none; margin:0; padding: 0}\n",
       ".list-inline>li {display: inline-block}\n",
       ".list-inline>li:not(:last-child)::after {content: \"\\00b7\"; padding: 0 .5ex}\n",
       "</style>\n",
       "<ol class=list-inline><li>2</li><li>4</li><li>6</li><li>8</li><li>10</li></ol>\n"
      ],
      "text/latex": [
       "\\begin{enumerate*}\n",
       "\\item 2\n",
       "\\item 4\n",
       "\\item 6\n",
       "\\item 8\n",
       "\\item 10\n",
       "\\end{enumerate*}\n"
      ],
      "text/markdown": [
       "1. 2\n",
       "2. 4\n",
       "3. 6\n",
       "4. 8\n",
       "5. 10\n",
       "\n",
       "\n"
      ],
      "text/plain": [
       "[1]  2  4  6  8 10"
      ]
     },
     "metadata": {},
     "output_type": "display_data"
    }
   ],
   "source": [
    "x[2,]  #第二行"
   ]
  },
  {
   "cell_type": "code",
   "execution_count": 17,
   "metadata": {
    "ExecuteTime": {
     "end_time": "2021-01-25T08:59:34.721698Z",
     "start_time": "2021-01-25T08:59:34.697Z"
    }
   },
   "outputs": [
    {
     "data": {
      "text/html": [
       "<style>\n",
       ".list-inline {list-style: none; margin:0; padding: 0}\n",
       ".list-inline>li {display: inline-block}\n",
       ".list-inline>li:not(:last-child)::after {content: \"\\00b7\"; padding: 0 .5ex}\n",
       "</style>\n",
       "<ol class=list-inline><li>3</li><li>4</li></ol>\n"
      ],
      "text/latex": [
       "\\begin{enumerate*}\n",
       "\\item 3\n",
       "\\item 4\n",
       "\\end{enumerate*}\n"
      ],
      "text/markdown": [
       "1. 3\n",
       "2. 4\n",
       "\n",
       "\n"
      ],
      "text/plain": [
       "[1] 3 4"
      ]
     },
     "metadata": {},
     "output_type": "display_data"
    }
   ],
   "source": [
    "x[,2]  #第二列"
   ]
  },
  {
   "cell_type": "code",
   "execution_count": 18,
   "metadata": {
    "ExecuteTime": {
     "end_time": "2021-01-25T08:59:35.391172Z",
     "start_time": "2021-01-25T08:59:35.366Z"
    }
   },
   "outputs": [
    {
     "data": {
      "text/html": [
       "4"
      ],
      "text/latex": [
       "4"
      ],
      "text/markdown": [
       "4"
      ],
      "text/plain": [
       "[1] 4"
      ]
     },
     "metadata": {},
     "output_type": "display_data"
    }
   ],
   "source": [
    "x[2,2]  #第二行第二列"
   ]
  },
  {
   "cell_type": "markdown",
   "metadata": {},
   "source": [
    "## 数组array"
   ]
  },
  {
   "cell_type": "raw",
   "metadata": {},
   "source": [
    "矩阵局限于二维，维度大于2时使用数组"
   ]
  },
  {
   "cell_type": "markdown",
   "metadata": {},
   "source": [
    "### 数组的创建"
   ]
  },
  {
   "cell_type": "raw",
   "metadata": {},
   "source": [
    "用array(vector, dimensions, dimnames)来创建数组"
   ]
  },
  {
   "cell_type": "code",
   "execution_count": 19,
   "metadata": {
    "ExecuteTime": {
     "end_time": "2021-01-25T08:59:38.949149Z",
     "start_time": "2021-01-25T08:59:38.915Z"
    }
   },
   "outputs": [],
   "source": [
    "dim1 <- c('A1', 'A2')\n",
    "dim2 <- c('B1', 'B2', 'B3')\n",
    "dim3 <- c('C1', 'C2', 'C3', 'C4')\n",
    "z <- array(1:24, c(2, 3, 4), dimnames=list(dim1,dim2,dim3))"
   ]
  },
  {
   "cell_type": "code",
   "execution_count": 20,
   "metadata": {
    "ExecuteTime": {
     "end_time": "2021-01-25T08:59:40.508801Z",
     "start_time": "2021-01-25T08:59:40.487Z"
    }
   },
   "outputs": [
    {
     "name": "stdout",
     "output_type": "stream",
     "text": [
      ", , C1\n",
      "\n",
      "   B1 B2 B3\n",
      "A1  1  3  5\n",
      "A2  2  4  6\n",
      "\n",
      ", , C2\n",
      "\n",
      "   B1 B2 B3\n",
      "A1  7  9 11\n",
      "A2  8 10 12\n",
      "\n",
      ", , C3\n",
      "\n",
      "   B1 B2 B3\n",
      "A1 13 15 17\n",
      "A2 14 16 18\n",
      "\n",
      ", , C4\n",
      "\n",
      "   B1 B2 B3\n",
      "A1 19 21 23\n",
      "A2 20 22 24\n",
      "\n"
     ]
    }
   ],
   "source": [
    "print(z)"
   ]
  },
  {
   "cell_type": "markdown",
   "metadata": {},
   "source": [
    "### 数组的索引"
   ]
  },
  {
   "cell_type": "code",
   "execution_count": 21,
   "metadata": {
    "ExecuteTime": {
     "end_time": "2021-01-25T08:59:42.395532Z",
     "start_time": "2021-01-25T08:59:42.370Z"
    }
   },
   "outputs": [
    {
     "data": {
      "text/html": [
       "<table class=\"dataframe\">\n",
       "<caption>A matrix: 3 × 4 of type int</caption>\n",
       "<thead>\n",
       "\t<tr><th></th><th scope=col>C1</th><th scope=col>C2</th><th scope=col>C3</th><th scope=col>C4</th></tr>\n",
       "</thead>\n",
       "<tbody>\n",
       "\t<tr><th scope=row>B1</th><td>1</td><td> 7</td><td>13</td><td>19</td></tr>\n",
       "\t<tr><th scope=row>B2</th><td>3</td><td> 9</td><td>15</td><td>21</td></tr>\n",
       "\t<tr><th scope=row>B3</th><td>5</td><td>11</td><td>17</td><td>23</td></tr>\n",
       "</tbody>\n",
       "</table>\n"
      ],
      "text/latex": [
       "A matrix: 3 × 4 of type int\n",
       "\\begin{tabular}{r|llll}\n",
       "  & C1 & C2 & C3 & C4\\\\\n",
       "\\hline\n",
       "\tB1 & 1 &  7 & 13 & 19\\\\\n",
       "\tB2 & 3 &  9 & 15 & 21\\\\\n",
       "\tB3 & 5 & 11 & 17 & 23\\\\\n",
       "\\end{tabular}\n"
      ],
      "text/markdown": [
       "\n",
       "A matrix: 3 × 4 of type int\n",
       "\n",
       "| <!--/--> | C1 | C2 | C3 | C4 |\n",
       "|---|---|---|---|---|\n",
       "| B1 | 1 |  7 | 13 | 19 |\n",
       "| B2 | 3 |  9 | 15 | 21 |\n",
       "| B3 | 5 | 11 | 17 | 23 |\n",
       "\n"
      ],
      "text/plain": [
       "   C1 C2 C3 C4\n",
       "B1 1   7 13 19\n",
       "B2 3   9 15 21\n",
       "B3 5  11 17 23"
      ]
     },
     "metadata": {},
     "output_type": "display_data"
    }
   ],
   "source": [
    "z[1,,]  #2x3x4的数组"
   ]
  },
  {
   "cell_type": "code",
   "execution_count": 22,
   "metadata": {
    "ExecuteTime": {
     "end_time": "2021-01-25T08:59:44.047268Z",
     "start_time": "2021-01-25T08:59:44.019Z"
    }
   },
   "outputs": [
    {
     "data": {
      "text/html": [
       "<table class=\"dataframe\">\n",
       "<caption>A matrix: 2 × 4 of type int</caption>\n",
       "<thead>\n",
       "\t<tr><th></th><th scope=col>C1</th><th scope=col>C2</th><th scope=col>C3</th><th scope=col>C4</th></tr>\n",
       "</thead>\n",
       "<tbody>\n",
       "\t<tr><th scope=row>A1</th><td>3</td><td> 9</td><td>15</td><td>21</td></tr>\n",
       "\t<tr><th scope=row>A2</th><td>4</td><td>10</td><td>16</td><td>22</td></tr>\n",
       "</tbody>\n",
       "</table>\n"
      ],
      "text/latex": [
       "A matrix: 2 × 4 of type int\n",
       "\\begin{tabular}{r|llll}\n",
       "  & C1 & C2 & C3 & C4\\\\\n",
       "\\hline\n",
       "\tA1 & 3 &  9 & 15 & 21\\\\\n",
       "\tA2 & 4 & 10 & 16 & 22\\\\\n",
       "\\end{tabular}\n"
      ],
      "text/markdown": [
       "\n",
       "A matrix: 2 × 4 of type int\n",
       "\n",
       "| <!--/--> | C1 | C2 | C3 | C4 |\n",
       "|---|---|---|---|---|\n",
       "| A1 | 3 |  9 | 15 | 21 |\n",
       "| A2 | 4 | 10 | 16 | 22 |\n",
       "\n"
      ],
      "text/plain": [
       "   C1 C2 C3 C4\n",
       "A1 3   9 15 21\n",
       "A2 4  10 16 22"
      ]
     },
     "metadata": {},
     "output_type": "display_data"
    }
   ],
   "source": [
    "z[,2,]"
   ]
  },
  {
   "cell_type": "code",
   "execution_count": 23,
   "metadata": {
    "ExecuteTime": {
     "end_time": "2021-01-25T08:59:44.579322Z",
     "start_time": "2021-01-25T08:59:44.554Z"
    }
   },
   "outputs": [
    {
     "data": {
      "text/html": [
       "<table class=\"dataframe\">\n",
       "<caption>A matrix: 2 × 3 of type int</caption>\n",
       "<thead>\n",
       "\t<tr><th></th><th scope=col>B1</th><th scope=col>B2</th><th scope=col>B3</th></tr>\n",
       "</thead>\n",
       "<tbody>\n",
       "\t<tr><th scope=row>A1</th><td>1</td><td>3</td><td>5</td></tr>\n",
       "\t<tr><th scope=row>A2</th><td>2</td><td>4</td><td>6</td></tr>\n",
       "</tbody>\n",
       "</table>\n"
      ],
      "text/latex": [
       "A matrix: 2 × 3 of type int\n",
       "\\begin{tabular}{r|lll}\n",
       "  & B1 & B2 & B3\\\\\n",
       "\\hline\n",
       "\tA1 & 1 & 3 & 5\\\\\n",
       "\tA2 & 2 & 4 & 6\\\\\n",
       "\\end{tabular}\n"
      ],
      "text/markdown": [
       "\n",
       "A matrix: 2 × 3 of type int\n",
       "\n",
       "| <!--/--> | B1 | B2 | B3 |\n",
       "|---|---|---|---|\n",
       "| A1 | 1 | 3 | 5 |\n",
       "| A2 | 2 | 4 | 6 |\n",
       "\n"
      ],
      "text/plain": [
       "   B1 B2 B3\n",
       "A1 1  3  5 \n",
       "A2 2  4  6 "
      ]
     },
     "metadata": {},
     "output_type": "display_data"
    }
   ],
   "source": [
    "z[,,1]"
   ]
  },
  {
   "cell_type": "markdown",
   "metadata": {},
   "source": [
    "## 数据框———最常用"
   ]
  },
  {
   "cell_type": "raw",
   "metadata": {},
   "source": [
    "不同的列可以包含不同模式的数据"
   ]
  },
  {
   "cell_type": "markdown",
   "metadata": {},
   "source": [
    "### 数据框的创建"
   ]
  },
  {
   "cell_type": "raw",
   "metadata": {},
   "source": [
    "用data.frame(col1, col2, col3,……)来创建数据框"
   ]
  },
  {
   "cell_type": "code",
   "execution_count": 24,
   "metadata": {
    "ExecuteTime": {
     "end_time": "2021-01-25T08:59:48.649644Z",
     "start_time": "2021-01-25T08:59:48.624Z"
    }
   },
   "outputs": [],
   "source": [
    "patientID <- c(1:4)\n",
    "age <- c(25, 34, 28, 52)\n",
    "diabetes <- c('Type1', 'Type2', 'Type1', 'Type1')\n",
    "status <- c('Poor', 'Improved', 'Excellent', 'poor')\n",
    "patientdata <- data.frame(patientID, age, diabetes, status)"
   ]
  },
  {
   "cell_type": "code",
   "execution_count": 25,
   "metadata": {
    "ExecuteTime": {
     "end_time": "2021-01-25T08:59:50.315228Z",
     "start_time": "2021-01-25T08:59:50.292Z"
    }
   },
   "outputs": [
    {
     "name": "stdout",
     "output_type": "stream",
     "text": [
      "  patientID age diabetes    status\n",
      "1         1  25    Type1      Poor\n",
      "2         2  34    Type2  Improved\n",
      "3         3  28    Type1 Excellent\n",
      "4         4  52    Type1      poor\n"
     ]
    }
   ],
   "source": [
    "print(patientdata)"
   ]
  },
  {
   "cell_type": "markdown",
   "metadata": {},
   "source": [
    "### 数据框的索引"
   ]
  },
  {
   "cell_type": "code",
   "execution_count": 26,
   "metadata": {
    "ExecuteTime": {
     "end_time": "2021-01-25T08:59:52.927057Z",
     "start_time": "2021-01-25T08:59:52.899Z"
    }
   },
   "outputs": [
    {
     "data": {
      "text/html": [
       "<table class=\"dataframe\">\n",
       "<caption>A data.frame: 4 × 2</caption>\n",
       "<thead>\n",
       "\t<tr><th scope=col>patientID</th><th scope=col>age</th></tr>\n",
       "\t<tr><th scope=col>&lt;int&gt;</th><th scope=col>&lt;dbl&gt;</th></tr>\n",
       "</thead>\n",
       "<tbody>\n",
       "\t<tr><td>1</td><td>25</td></tr>\n",
       "\t<tr><td>2</td><td>34</td></tr>\n",
       "\t<tr><td>3</td><td>28</td></tr>\n",
       "\t<tr><td>4</td><td>52</td></tr>\n",
       "</tbody>\n",
       "</table>\n"
      ],
      "text/latex": [
       "A data.frame: 4 × 2\n",
       "\\begin{tabular}{ll}\n",
       " patientID & age\\\\\n",
       " <int> & <dbl>\\\\\n",
       "\\hline\n",
       "\t 1 & 25\\\\\n",
       "\t 2 & 34\\\\\n",
       "\t 3 & 28\\\\\n",
       "\t 4 & 52\\\\\n",
       "\\end{tabular}\n"
      ],
      "text/markdown": [
       "\n",
       "A data.frame: 4 × 2\n",
       "\n",
       "| patientID &lt;int&gt; | age &lt;dbl&gt; |\n",
       "|---|---|\n",
       "| 1 | 25 |\n",
       "| 2 | 34 |\n",
       "| 3 | 28 |\n",
       "| 4 | 52 |\n",
       "\n"
      ],
      "text/plain": [
       "  patientID age\n",
       "1 1         25 \n",
       "2 2         34 \n",
       "3 3         28 \n",
       "4 4         52 "
      ]
     },
     "metadata": {},
     "output_type": "display_data"
    }
   ],
   "source": [
    "patientdata[1:2]  #选取第一第二列"
   ]
  },
  {
   "cell_type": "code",
   "execution_count": 27,
   "metadata": {
    "ExecuteTime": {
     "end_time": "2021-01-25T08:59:56.463404Z",
     "start_time": "2021-01-25T08:59:56.438Z"
    }
   },
   "outputs": [
    {
     "data": {
      "text/html": [
       "<table class=\"dataframe\">\n",
       "<caption>A data.frame: 4 × 2</caption>\n",
       "<thead>\n",
       "\t<tr><th scope=col>diabetes</th><th scope=col>status</th></tr>\n",
       "\t<tr><th scope=col>&lt;chr&gt;</th><th scope=col>&lt;chr&gt;</th></tr>\n",
       "</thead>\n",
       "<tbody>\n",
       "\t<tr><td>Type1</td><td>Poor     </td></tr>\n",
       "\t<tr><td>Type2</td><td>Improved </td></tr>\n",
       "\t<tr><td>Type1</td><td>Excellent</td></tr>\n",
       "\t<tr><td>Type1</td><td>poor     </td></tr>\n",
       "</tbody>\n",
       "</table>\n"
      ],
      "text/latex": [
       "A data.frame: 4 × 2\n",
       "\\begin{tabular}{ll}\n",
       " diabetes & status\\\\\n",
       " <chr> & <chr>\\\\\n",
       "\\hline\n",
       "\t Type1 & Poor     \\\\\n",
       "\t Type2 & Improved \\\\\n",
       "\t Type1 & Excellent\\\\\n",
       "\t Type1 & poor     \\\\\n",
       "\\end{tabular}\n"
      ],
      "text/markdown": [
       "\n",
       "A data.frame: 4 × 2\n",
       "\n",
       "| diabetes &lt;chr&gt; | status &lt;chr&gt; |\n",
       "|---|---|\n",
       "| Type1 | Poor      |\n",
       "| Type2 | Improved  |\n",
       "| Type1 | Excellent |\n",
       "| Type1 | poor      |\n",
       "\n"
      ],
      "text/plain": [
       "  diabetes status   \n",
       "1 Type1    Poor     \n",
       "2 Type2    Improved \n",
       "3 Type1    Excellent\n",
       "4 Type1    poor     "
      ]
     },
     "metadata": {},
     "output_type": "display_data"
    }
   ],
   "source": [
    "patientdata[c('diabetes', 'status')]  #选取特定的两列\n",
    "#diabetes意为糖尿病"
   ]
  },
  {
   "cell_type": "code",
   "execution_count": 28,
   "metadata": {
    "ExecuteTime": {
     "end_time": "2021-01-25T08:59:57.476469Z",
     "start_time": "2021-01-25T08:59:57.454Z"
    }
   },
   "outputs": [
    {
     "name": "stdout",
     "output_type": "stream",
     "text": [
      "[1] 25 34 28 52\n"
     ]
    }
   ],
   "source": [
    "print(patientdata$age)   #选取特定变量"
   ]
  },
  {
   "cell_type": "code",
   "execution_count": 29,
   "metadata": {
    "ExecuteTime": {
     "end_time": "2021-01-25T08:59:59.821996Z",
     "start_time": "2021-01-25T08:59:59.800Z"
    }
   },
   "outputs": [
    {
     "name": "stdout",
     "output_type": "stream",
     "text": [
      "  age\n",
      "1  25\n",
      "2  34\n",
      "3  28\n",
      "4  52\n"
     ]
    }
   ],
   "source": [
    "print(patientdata['age'])   #注意到与上面的不同"
   ]
  },
  {
   "cell_type": "code",
   "execution_count": 30,
   "metadata": {
    "ExecuteTime": {
     "end_time": "2021-01-25T09:00:00.500741Z",
     "start_time": "2021-01-25T09:00:00.476Z"
    }
   },
   "outputs": [
    {
     "data": {
      "text/plain": [
       "       \n",
       "        Excellent Improved poor Poor\n",
       "  Type1         1        0    1    1\n",
       "  Type2         0        1    0    0"
      ]
     },
     "metadata": {},
     "output_type": "display_data"
    }
   ],
   "source": [
    "table(patientdata$diabetes, patientdata$status)\n",
    "#生成diabetes和status的列联表\n",
    "#列联表是一个频数统计表"
   ]
  },
  {
   "cell_type": "markdown",
   "metadata": {},
   "source": [
    "### attach()、detach()"
   ]
  },
  {
   "cell_type": "raw",
   "metadata": {},
   "source": [
    "可以简化代码，不用每次都加上数据框的名称"
   ]
  },
  {
   "cell_type": "code",
   "execution_count": 31,
   "metadata": {
    "ExecuteTime": {
     "end_time": "2021-01-25T09:00:07.723362Z",
     "start_time": "2021-01-25T09:00:07.379Z"
    }
   },
   "outputs": [
    {
     "name": "stdout",
     "output_type": "stream",
     "text": [
      "   Min. 1st Qu.  Median    Mean 3rd Qu.    Max. \n",
      "  25.00   27.25   31.00   34.75   38.50   52.00 \n"
     ]
    },
    {
     "data": {
      "image/png": "[encoded data removed]",
      "text/plain": [
       "plot without title"
      ]
     },
     "metadata": {
      "image/png": {
       "height": 420,
       "width": 420
      }
     },
     "output_type": "display_data"
    }
   ],
   "source": [
    "print(summary(patientdata$age))\n",
    "plot(patientdata$patientID,patientdata$age)"
   ]
  },
  {
   "cell_type": "raw",
   "metadata": {},
   "source": [
    "上述代码也可以写成"
   ]
  },
  {
   "cell_type": "code",
   "execution_count": 32,
   "metadata": {
    "ExecuteTime": {
     "end_time": "2021-01-25T09:00:10.125257Z",
     "start_time": "2021-01-25T09:00:10.050Z"
    }
   },
   "outputs": [
    {
     "name": "stderr",
     "output_type": "stream",
     "text": [
      "The following objects are masked _by_ .GlobalEnv:\n",
      "\n",
      "    age, diabetes, patientID, status\n",
      "\n",
      "\n"
     ]
    },
    {
     "name": "stdout",
     "output_type": "stream",
     "text": [
      "   Min. 1st Qu.  Median    Mean 3rd Qu.    Max. \n",
      "  25.00   27.25   31.00   34.75   38.50   52.00 \n"
     ]
    },
    {
     "data": {
      "image/png": "[encoded data removed]",
      "text/plain": [
       "plot without title"
      ]
     },
     "metadata": {
      "image/png": {
       "height": 420,
       "width": 420
      }
     },
     "output_type": "display_data"
    }
   ],
   "source": [
    "attach(patientdata)\n",
    "    print(summary(age))\n",
    "    plot(patientID,age)\n",
    "detach(patientdata)\n",
    "\n",
    "#这里会报错（提醒），因为变量age已经存在了，attach之后可能会冲突\n",
    "#这时候，原始对象取得优先权，attach的对象不会被使用"
   ]
  },
  {
   "cell_type": "markdown",
   "metadata": {},
   "source": [
    "### with()"
   ]
  },
  {
   "cell_type": "raw",
   "metadata": {},
   "source": [
    "或者with"
   ]
  },
  {
   "cell_type": "code",
   "execution_count": 33,
   "metadata": {
    "ExecuteTime": {
     "end_time": "2021-01-25T09:00:13.902038Z",
     "start_time": "2021-01-25T09:00:13.880Z"
    }
   },
   "outputs": [
    {
     "data": {
      "text/plain": [
       "   Min. 1st Qu.  Median    Mean 3rd Qu.    Max. \n",
       "  25.00   27.25   31.00   34.75   38.50   52.00 "
      ]
     },
     "metadata": {},
     "output_type": "display_data"
    }
   ],
   "source": [
    "with(patientdata, {\n",
    "    stats <- summary(age)   #这时无需担心重名问题\n",
    "    stats\n",
    "})"
   ]
  },
  {
   "cell_type": "code",
   "execution_count": 34,
   "metadata": {
    "ExecuteTime": {
     "end_time": "2021-01-25T09:00:14.856714Z",
     "start_time": "2021-01-25T09:00:14.835Z"
    }
   },
   "outputs": [
    {
     "ename": "ERROR",
     "evalue": "Error in eval(expr, envir, enclos): 找不到对象'stats'\n",
     "output_type": "error",
     "traceback": [
      "Error in eval(expr, envir, enclos): 找不到对象'stats'\nTraceback:\n"
     ]
    }
   ],
   "source": [
    "stats   #但是赋值仅局限于括号内的函数"
   ]
  },
  {
   "cell_type": "code",
   "execution_count": 35,
   "metadata": {
    "ExecuteTime": {
     "end_time": "2021-01-25T09:00:16.987558Z",
     "start_time": "2021-01-25T09:00:16.967Z"
    }
   },
   "outputs": [],
   "source": [
    "#如果需要，使用  <<-\n",
    "with(patientdata, {\n",
    "    stats <- summary(age)   #这时无需担心重名问题\n",
    "    keepstats <<- summary(age)\n",
    "})"
   ]
  },
  {
   "cell_type": "code",
   "execution_count": 36,
   "metadata": {
    "ExecuteTime": {
     "end_time": "2021-01-25T09:00:17.399456Z",
     "start_time": "2021-01-25T09:00:17.365Z"
    }
   },
   "outputs": [
    {
     "ename": "ERROR",
     "evalue": "Error in eval(expr, envir, enclos): 找不到对象'stats'\n",
     "output_type": "error",
     "traceback": [
      "Error in eval(expr, envir, enclos): 找不到对象'stats'\nTraceback:\n"
     ]
    }
   ],
   "source": [
    "stats"
   ]
  },
  {
   "cell_type": "code",
   "execution_count": 37,
   "metadata": {
    "ExecuteTime": {
     "end_time": "2021-01-25T09:00:18.042015Z",
     "start_time": "2021-01-25T09:00:18.020Z"
    }
   },
   "outputs": [
    {
     "data": {
      "text/plain": [
       "   Min. 1st Qu.  Median    Mean 3rd Qu.    Max. \n",
       "  25.00   27.25   31.00   34.75   38.50   52.00 "
      ]
     },
     "metadata": {},
     "output_type": "display_data"
    }
   ],
   "source": [
    "keepstats"
   ]
  },
  {
   "cell_type": "markdown",
   "metadata": {},
   "source": [
    "### 实例标识符 case identifier"
   ]
  },
  {
   "cell_type": "code",
   "execution_count": 38,
   "metadata": {
    "ExecuteTime": {
     "end_time": "2021-01-25T09:00:20.728472Z",
     "start_time": "2021-01-25T09:00:20.708Z"
    }
   },
   "outputs": [],
   "source": [
    "patientdata_1 <- data.frame(patientID, age, diabetes, status, \n",
    "                          row.names=patientID)"
   ]
  },
  {
   "cell_type": "markdown",
   "metadata": {},
   "source": [
    "## 因子 factor"
   ]
  },
  {
   "cell_type": "raw",
   "metadata": {},
   "source": [
    "函数factor()以一个整数向量的形式存储类别值，整数的取值范围是[1... k ]（其中k 是名义型变量中唯一值的个数），同时一个由字符串（原始值）组成的内部向量将映射到这些整数上。"
   ]
  },
  {
   "cell_type": "code",
   "execution_count": 39,
   "metadata": {
    "ExecuteTime": {
     "end_time": "2021-01-25T09:00:24.233150Z",
     "start_time": "2021-01-25T09:00:24.210Z"
    }
   },
   "outputs": [],
   "source": [
    "diabetes_f <- factor(diabetes)\n",
    "status_f <- factor(status)\n",
    "patientdata_f <- data.frame(patientID, age, \n",
    "                            diabetes_f, status_f)"
   ]
  },
  {
   "cell_type": "code",
   "execution_count": 40,
   "metadata": {
    "ExecuteTime": {
     "end_time": "2021-01-25T09:00:25.635502Z",
     "start_time": "2021-01-25T09:00:25.610Z"
    }
   },
   "outputs": [
    {
     "name": "stdout",
     "output_type": "stream",
     "text": [
      "'data.frame':\t4 obs. of  4 variables:\n",
      " $ patientID : int  1 2 3 4\n",
      " $ age       : num  25 34 28 52\n",
      " $ diabetes_f: Factor w/ 2 levels \"Type1\",\"Type2\": 1 2 1 1\n",
      " $ status_f  : Factor w/ 4 levels \"Excellent\",\"Improved\",..: 4 2 1 3\n"
     ]
    }
   ],
   "source": [
    "str(patientdata_f)   #展示对象的结构"
   ]
  },
  {
   "cell_type": "code",
   "execution_count": 41,
   "metadata": {
    "ExecuteTime": {
     "end_time": "2021-01-25T09:00:27.066891Z",
     "start_time": "2021-01-25T09:00:27.042Z"
    }
   },
   "outputs": [
    {
     "name": "stdout",
     "output_type": "stream",
     "text": [
      "'data.frame':\t4 obs. of  4 variables:\n",
      " $ patientID: int  1 2 3 4\n",
      " $ age      : num  25 34 28 52\n",
      " $ diabetes : chr  \"Type1\" \"Type2\" \"Type1\" \"Type1\"\n",
      " $ status   : chr  \"Poor\" \"Improved\" \"Excellent\" \"poor\"\n"
     ]
    }
   ],
   "source": [
    "#区别于原来的数据框\n",
    "str(patientdata)"
   ]
  },
  {
   "cell_type": "code",
   "execution_count": 42,
   "metadata": {
    "ExecuteTime": {
     "end_time": "2021-01-25T09:00:28.852819Z",
     "start_time": "2021-01-25T09:00:28.831Z"
    }
   },
   "outputs": [
    {
     "name": "stdout",
     "output_type": "stream",
     "text": [
      "  patientID age diabetes_f  status_f\n",
      "1         1  25      Type1      Poor\n",
      "2         2  34      Type2  Improved\n",
      "3         3  28      Type1 Excellent\n",
      "4         4  52      Type1      poor\n"
     ]
    }
   ],
   "source": [
    "print(patientdata_f)  #print出来和原来的数据框无差别"
   ]
  },
  {
   "cell_type": "code",
   "execution_count": 43,
   "metadata": {
    "ExecuteTime": {
     "end_time": "2021-01-25T09:00:29.597940Z",
     "start_time": "2021-01-25T09:00:29.574Z"
    }
   },
   "outputs": [
    {
     "data": {
      "text/plain": [
       "   patientID         age        diabetes_f      status_f\n",
       " Min.   :1.00   Min.   :25.00   Type1:3    Excellent:1  \n",
       " 1st Qu.:1.75   1st Qu.:27.25   Type2:1    Improved :1  \n",
       " Median :2.50   Median :31.00              poor     :1  \n",
       " Mean   :2.50   Mean   :34.75              Poor     :1  \n",
       " 3rd Qu.:3.25   3rd Qu.:38.50                           \n",
       " Max.   :4.00   Max.   :52.00                           "
      ]
     },
     "metadata": {},
     "output_type": "display_data"
    }
   ],
   "source": [
    "summary(patientdata_f)"
   ]
  },
  {
   "cell_type": "code",
   "execution_count": 44,
   "metadata": {
    "ExecuteTime": {
     "end_time": "2021-01-25T09:00:30.955465Z",
     "start_time": "2021-01-25T09:00:30.931Z"
    }
   },
   "outputs": [
    {
     "data": {
      "text/plain": [
       "   patientID         age          diabetes            status         \n",
       " Min.   :1.00   Min.   :25.00   Length:4           Length:4          \n",
       " 1st Qu.:1.75   1st Qu.:27.25   Class :character   Class :character  \n",
       " Median :2.50   Median :31.00   Mode  :character   Mode  :character  \n",
       " Mean   :2.50   Mean   :34.75                                        \n",
       " 3rd Qu.:3.25   3rd Qu.:38.50                                        \n",
       " Max.   :4.00   Max.   :52.00                                        "
      ]
     },
     "metadata": {},
     "output_type": "display_data"
    }
   ],
   "source": [
    "#区别于原来的数据框\n",
    "summary(patientdata)"
   ]
  },
  {
   "cell_type": "markdown",
   "metadata": {},
   "source": [
    "## 列表 list"
   ]
  },
  {
   "cell_type": "raw",
   "metadata": {},
   "source": [
    "和python的列表相似，都是包容万物，万物皆可list"
   ]
  },
  {
   "cell_type": "markdown",
   "metadata": {},
   "source": [
    "### 列表的创建"
   ]
  },
  {
   "cell_type": "code",
   "execution_count": 45,
   "metadata": {
    "ExecuteTime": {
     "end_time": "2021-01-25T09:00:33.386630Z",
     "start_time": "2021-01-25T09:00:33.358Z"
    }
   },
   "outputs": [],
   "source": [
    "g <- 'My First List'\n",
    "h <- c(25, 26, 18, 39)\n",
    "j <- matrix(1:10, nrow=5)\n",
    "k <- c('one', 'two', 'three')\n",
    "mylist <- list(title=g, ages=h, j, k)  \n",
    "#可以给对象命名，也可以默认数字序号"
   ]
  },
  {
   "cell_type": "code",
   "execution_count": 46,
   "metadata": {
    "ExecuteTime": {
     "end_time": "2021-01-25T09:00:35.633918Z",
     "start_time": "2021-01-25T09:00:35.613Z"
    }
   },
   "outputs": [
    {
     "name": "stdout",
     "output_type": "stream",
     "text": [
      "$title\n",
      "[1] \"My First List\"\n",
      "\n",
      "$ages\n",
      "[1] 25 26 18 39\n",
      "\n",
      "[[3]]\n",
      "     [,1] [,2]\n",
      "[1,]    1    6\n",
      "[2,]    2    7\n",
      "[3,]    3    8\n",
      "[4,]    4    9\n",
      "[5,]    5   10\n",
      "\n",
      "[[4]]\n",
      "[1] \"one\"   \"two\"   \"three\"\n",
      "\n"
     ]
    }
   ],
   "source": [
    "print(mylist)"
   ]
  },
  {
   "cell_type": "markdown",
   "metadata": {},
   "source": [
    "### 列表的索引"
   ]
  },
  {
   "cell_type": "code",
   "execution_count": 47,
   "metadata": {
    "ExecuteTime": {
     "end_time": "2021-01-25T09:00:36.887569Z",
     "start_time": "2021-01-25T09:00:36.861Z"
    }
   },
   "outputs": [
    {
     "data": {
      "text/html": [
       "<style>\n",
       ".list-inline {list-style: none; margin:0; padding: 0}\n",
       ".list-inline>li {display: inline-block}\n",
       ".list-inline>li:not(:last-child)::after {content: \"\\00b7\"; padding: 0 .5ex}\n",
       "</style>\n",
       "<ol class=list-inline><li>25</li><li>26</li><li>18</li><li>39</li></ol>\n"
      ],
      "text/latex": [
       "\\begin{enumerate*}\n",
       "\\item 25\n",
       "\\item 26\n",
       "\\item 18\n",
       "\\item 39\n",
       "\\end{enumerate*}\n"
      ],
      "text/markdown": [
       "1. 25\n",
       "2. 26\n",
       "3. 18\n",
       "4. 39\n",
       "\n",
       "\n"
      ],
      "text/plain": [
       "[1] 25 26 18 39"
      ]
     },
     "metadata": {},
     "output_type": "display_data"
    }
   ],
   "source": [
    "mylist[[2]]"
   ]
  },
  {
   "cell_type": "code",
   "execution_count": 48,
   "metadata": {
    "ExecuteTime": {
     "end_time": "2021-01-25T09:00:37.625044Z",
     "start_time": "2021-01-25T09:00:37.602Z"
    }
   },
   "outputs": [
    {
     "data": {
      "text/html": [
       "<style>\n",
       ".list-inline {list-style: none; margin:0; padding: 0}\n",
       ".list-inline>li {display: inline-block}\n",
       ".list-inline>li:not(:last-child)::after {content: \"\\00b7\"; padding: 0 .5ex}\n",
       "</style>\n",
       "<ol class=list-inline><li>25</li><li>26</li><li>18</li><li>39</li></ol>\n"
      ],
      "text/latex": [
       "\\begin{enumerate*}\n",
       "\\item 25\n",
       "\\item 26\n",
       "\\item 18\n",
       "\\item 39\n",
       "\\end{enumerate*}\n"
      ],
      "text/markdown": [
       "1. 25\n",
       "2. 26\n",
       "3. 18\n",
       "4. 39\n",
       "\n",
       "\n"
      ],
      "text/plain": [
       "[1] 25 26 18 39"
      ]
     },
     "metadata": {},
     "output_type": "display_data"
    }
   ],
   "source": [
    "mylist[['ages']]"
   ]
  },
  {
   "cell_type": "code",
   "execution_count": 49,
   "metadata": {
    "ExecuteTime": {
     "end_time": "2021-01-25T09:00:38.320455Z",
     "start_time": "2021-01-25T09:00:38.290Z"
    }
   },
   "outputs": [
    {
     "data": {
      "text/html": [
       "<style>\n",
       ".list-inline {list-style: none; margin:0; padding: 0}\n",
       ".list-inline>li {display: inline-block}\n",
       ".list-inline>li:not(:last-child)::after {content: \"\\00b7\"; padding: 0 .5ex}\n",
       "</style>\n",
       "<ol class=list-inline><li>6</li><li>7</li><li>8</li><li>9</li><li>10</li></ol>\n"
      ],
      "text/latex": [
       "\\begin{enumerate*}\n",
       "\\item 6\n",
       "\\item 7\n",
       "\\item 8\n",
       "\\item 9\n",
       "\\item 10\n",
       "\\end{enumerate*}\n"
      ],
      "text/markdown": [
       "1. 6\n",
       "2. 7\n",
       "3. 8\n",
       "4. 9\n",
       "5. 10\n",
       "\n",
       "\n"
      ],
      "text/plain": [
       "[1]  6  7  8  9 10"
      ]
     },
     "metadata": {},
     "output_type": "display_data"
    }
   ],
   "source": [
    "mylist[[3]][,2]   #mtlist的第三个项目，的第二列"
   ]
  },
  {
   "cell_type": "markdown",
   "metadata": {},
   "source": [
    "## 注意事项"
   ]
  },
  {
   "cell_type": "markdown",
   "metadata": {},
   "source": [
    "### 句号.和美元符号$"
   ]
  },
  {
   "cell_type": "code",
   "execution_count": 50,
   "metadata": {
    "ExecuteTime": {
     "end_time": "2021-01-25T09:00:39.886906Z",
     "start_time": "2021-01-25T09:00:39.867Z"
    }
   },
   "outputs": [],
   "source": [
    "o.b. <- 233   #这是合法的对象名"
   ]
  },
  {
   "cell_type": "code",
   "execution_count": 51,
   "metadata": {
    "ExecuteTime": {
     "end_time": "2021-01-25T09:00:40.431603Z",
     "start_time": "2021-01-25T09:00:40.407Z"
    }
   },
   "outputs": [
    {
     "ename": "ERROR",
     "evalue": "Error in o$b <- 233: 找不到对象'o'\n",
     "output_type": "error",
     "traceback": [
      "Error in o$b <- 233: 找不到对象'o'\nTraceback:\n"
     ]
    }
   ],
   "source": [
    "o$b <- 233   #这是不合法的对象名"
   ]
  },
  {
   "cell_type": "markdown",
   "metadata": {},
   "source": [
    "### 赋值不存在的数据，将自动扩展"
   ]
  },
  {
   "cell_type": "code",
   "execution_count": 52,
   "metadata": {
    "ExecuteTime": {
     "end_time": "2021-01-25T09:00:44.252257Z",
     "start_time": "2021-01-25T09:00:44.233Z"
    }
   },
   "outputs": [],
   "source": [
    "test <- c(8,6,4)   #仅有三个对象"
   ]
  },
  {
   "cell_type": "code",
   "execution_count": 53,
   "metadata": {
    "ExecuteTime": {
     "end_time": "2021-01-25T09:00:45.486763Z",
     "start_time": "2021-01-25T09:00:45.465Z"
    }
   },
   "outputs": [],
   "source": [
    "test[7] <- 10   #赋值第七个对象"
   ]
  },
  {
   "cell_type": "code",
   "execution_count": 54,
   "metadata": {
    "ExecuteTime": {
     "end_time": "2021-01-25T09:00:46.011949Z",
     "start_time": "2021-01-25T09:00:45.990Z"
    }
   },
   "outputs": [
    {
     "data": {
      "text/html": [
       "<style>\n",
       ".list-inline {list-style: none; margin:0; padding: 0}\n",
       ".list-inline>li {display: inline-block}\n",
       ".list-inline>li:not(:last-child)::after {content: \"\\00b7\"; padding: 0 .5ex}\n",
       "</style>\n",
       "<ol class=list-inline><li>8</li><li>6</li><li>4</li><li>&lt;NA&gt;</li><li>&lt;NA&gt;</li><li>&lt;NA&gt;</li><li>10</li></ol>\n"
      ],
      "text/latex": [
       "\\begin{enumerate*}\n",
       "\\item 8\n",
       "\\item 6\n",
       "\\item 4\n",
       "\\item <NA>\n",
       "\\item <NA>\n",
       "\\item <NA>\n",
       "\\item 10\n",
       "\\end{enumerate*}\n"
      ],
      "text/markdown": [
       "1. 8\n",
       "2. 6\n",
       "3. 4\n",
       "4. &lt;NA&gt;\n",
       "5. &lt;NA&gt;\n",
       "6. &lt;NA&gt;\n",
       "7. 10\n",
       "\n",
       "\n"
      ],
      "text/plain": [
       "[1]  8  6  4 NA NA NA 10"
      ]
     },
     "metadata": {},
     "output_type": "display_data"
    }
   ],
   "source": [
    "test   #自动扩展到七个对象，空用NA补齐"
   ]
  },
  {
   "cell_type": "code",
   "execution_count": 55,
   "metadata": {
    "ExecuteTime": {
     "end_time": "2021-01-25T09:00:46.758140Z",
     "start_time": "2021-01-25T09:00:46.735Z"
    }
   },
   "outputs": [],
   "source": [
    "test <- test[1:3]"
   ]
  },
  {
   "cell_type": "code",
   "execution_count": 56,
   "metadata": {
    "ExecuteTime": {
     "end_time": "2021-01-25T09:00:47.602409Z",
     "start_time": "2021-01-25T09:00:47.579Z"
    }
   },
   "outputs": [
    {
     "data": {
      "text/html": [
       "<style>\n",
       ".list-inline {list-style: none; margin:0; padding: 0}\n",
       ".list-inline>li {display: inline-block}\n",
       ".list-inline>li:not(:last-child)::after {content: \"\\00b7\"; padding: 0 .5ex}\n",
       "</style>\n",
       "<ol class=list-inline><li>8</li><li>6</li><li>4</li></ol>\n"
      ],
      "text/latex": [
       "\\begin{enumerate*}\n",
       "\\item 8\n",
       "\\item 6\n",
       "\\item 4\n",
       "\\end{enumerate*}\n"
      ],
      "text/markdown": [
       "1. 8\n",
       "2. 6\n",
       "3. 4\n",
       "\n",
       "\n"
      ],
      "text/plain": [
       "[1] 8 6 4"
      ]
     },
     "metadata": {},
     "output_type": "display_data"
    }
   ],
   "source": [
    "test   #赋值重新变回原来的样子"
   ]
  },
  {
   "cell_type": "markdown",
   "metadata": {},
   "source": [
    "### R语言的下标都是从1开始的，友好至极\n",
    "区别于python"
   ]
  },
  {
   "cell_type": "markdown",
   "metadata": {},
   "source": [
    "### R语言的变量无需声明，在第一次赋值时生成\n",
    "区别于C语言"
   ]
  },
  {
   "cell_type": "markdown",
   "metadata": {},
   "source": [
    "# 数据的输入"
   ]
  },
  {
   "cell_type": "markdown",
   "metadata": {},
   "source": [
    "## 键盘输入"
   ]
  },
  {
   "cell_type": "code",
   "execution_count": 57,
   "metadata": {
    "ExecuteTime": {
     "end_time": "2021-01-25T09:00:50.519934Z",
     "start_time": "2021-01-25T09:00:50.493Z"
    }
   },
   "outputs": [],
   "source": [
    "mydata <- data.frame(age=numeric(0), gender=character(0),\n",
    "                    weight=numeric(0))"
   ]
  },
  {
   "cell_type": "code",
   "execution_count": 58,
   "metadata": {
    "ExecuteTime": {
     "end_time": "2021-01-25T09:00:51.921918Z",
     "start_time": "2021-01-25T09:00:51.891Z"
    }
   },
   "outputs": [
    {
     "data": {
      "text/html": [
       "<table class=\"dataframe\">\n",
       "<caption>A data.frame: 0 × 3</caption>\n",
       "<thead>\n",
       "\t<tr><th scope=col>age</th><th scope=col>gender</th><th scope=col>weight</th></tr>\n",
       "\t<tr><th scope=col>&lt;dbl&gt;</th><th scope=col>&lt;chr&gt;</th><th scope=col>&lt;dbl&gt;</th></tr>\n",
       "</thead>\n",
       "<tbody>\n",
       "</tbody>\n",
       "</table>\n"
      ],
      "text/latex": [
       "A data.frame: 0 × 3\n",
       "\\begin{tabular}{lll}\n",
       " age & gender & weight\\\\\n",
       " <dbl> & <chr> & <dbl>\\\\\n",
       "\\hline\n",
       "\\end{tabular}\n"
      ],
      "text/markdown": [
       "\n",
       "A data.frame: 0 × 3\n",
       "\n",
       "| age &lt;dbl&gt; | gender &lt;chr&gt; | weight &lt;dbl&gt; |\n",
       "|---|---|---|\n",
       "\n"
      ],
      "text/plain": [
       "     age gender weight"
      ]
     },
     "metadata": {},
     "output_type": "display_data"
    }
   ],
   "source": [
    "mydata"
   ]
  },
  {
   "cell_type": "code",
   "execution_count": 59,
   "metadata": {
    "ExecuteTime": {
     "end_time": "2021-01-25T09:00:54.431342Z",
     "start_time": "2021-01-25T09:00:54.401Z"
    }
   },
   "outputs": [
    {
     "ename": "ERROR",
     "evalue": "Error in edit(mydata): 'edit()' not yet supported in the Jupyter R kernel\n",
     "output_type": "error",
     "traceback": [
      "Error in edit(mydata): 'edit()' not yet supported in the Jupyter R kernel\nTraceback:\n",
      "1. edit(mydata)",
      "2. stop(sQuote(\"edit()\"), \" not yet supported in the Jupyter R kernel\")"
     ]
    }
   ],
   "source": [
    "mydata <- edit(mydata)   #jupyter不支持edit函数"
   ]
  },
  {
   "cell_type": "code",
   "execution_count": 90,
   "metadata": {
    "ExecuteTime": {
     "end_time": "2021-01-25T07:28:49.442545Z",
     "start_time": "2021-01-25T07:28:49.052Z"
    }
   },
   "outputs": [],
   "source": [
    "save.image()  #我们可以保存工作间后在Rstudio中载入，再使用edit,如下图"
   ]
  },
  {
   "cell_type": "markdown",
   "metadata": {},
   "source": [
    "![title](img/edit().png)"
   ]
  },
  {
   "cell_type": "raw",
   "metadata": {},
   "source": [
    "写入后在Rstudio中再次保存工作间即可"
   ]
  },
  {
   "cell_type": "markdown",
   "metadata": {},
   "source": [
    "![title](img/写入后.png)"
   ]
  },
  {
   "cell_type": "code",
   "execution_count": 60,
   "metadata": {
    "ExecuteTime": {
     "end_time": "2021-01-25T09:01:20.552924Z",
     "start_time": "2021-01-25T09:01:20.525Z"
    }
   },
   "outputs": [],
   "source": [
    "#然后在此载入工作空间\n",
    "load('.Rdata')"
   ]
  },
  {
   "cell_type": "code",
   "execution_count": 61,
   "metadata": {
    "ExecuteTime": {
     "end_time": "2021-01-25T09:01:22.391978Z",
     "start_time": "2021-01-25T09:01:22.355Z"
    }
   },
   "outputs": [
    {
     "data": {
      "text/html": [
       "<table class=\"dataframe\">\n",
       "<caption>A data.frame: 3 × 3</caption>\n",
       "<thead>\n",
       "\t<tr><th></th><th scope=col>age</th><th scope=col>gender</th><th scope=col>weight</th></tr>\n",
       "\t<tr><th></th><th scope=col>&lt;dbl&gt;</th><th scope=col>&lt;chr&gt;</th><th scope=col>&lt;dbl&gt;</th></tr>\n",
       "</thead>\n",
       "<tbody>\n",
       "\t<tr><th scope=row>1</th><td>25</td><td>m</td><td>166</td></tr>\n",
       "\t<tr><th scope=row>2</th><td>30</td><td>f</td><td>115</td></tr>\n",
       "\t<tr><th scope=row>3</th><td>18</td><td>f</td><td>120</td></tr>\n",
       "</tbody>\n",
       "</table>\n"
      ],
      "text/latex": [
       "A data.frame: 3 × 3\n",
       "\\begin{tabular}{r|lll}\n",
       "  & age & gender & weight\\\\\n",
       "  & <dbl> & <chr> & <dbl>\\\\\n",
       "\\hline\n",
       "\t1 & 25 & m & 166\\\\\n",
       "\t2 & 30 & f & 115\\\\\n",
       "\t3 & 18 & f & 120\\\\\n",
       "\\end{tabular}\n"
      ],
      "text/markdown": [
       "\n",
       "A data.frame: 3 × 3\n",
       "\n",
       "| <!--/--> | age &lt;dbl&gt; | gender &lt;chr&gt; | weight &lt;dbl&gt; |\n",
       "|---|---|---|---|\n",
       "| 1 | 25 | m | 166 |\n",
       "| 2 | 30 | f | 115 |\n",
       "| 3 | 18 | f | 120 |\n",
       "\n"
      ],
      "text/plain": [
       "  age gender weight\n",
       "1 25  m      166   \n",
       "2 30  f      115   \n",
       "3 18  f      120   "
      ]
     },
     "metadata": {},
     "output_type": "display_data"
    }
   ],
   "source": [
    "mydata   #这样就完成了键盘输入"
   ]
  },
  {
   "cell_type": "markdown",
   "metadata": {},
   "source": [
    "## 从带分隔符的文本文件导入数据\n",
    "例如csv文件"
   ]
  },
  {
   "cell_type": "code",
   "execution_count": 62,
   "metadata": {
    "ExecuteTime": {
     "end_time": "2021-01-25T09:01:27.817395Z",
     "start_time": "2021-01-25T09:01:27.788Z"
    }
   },
   "outputs": [],
   "source": [
    "mydataframe_csv <- read.table('data/年度数据.csv',\n",
    "                              header=TRUE, sep=',')"
   ]
  },
  {
   "cell_type": "code",
   "execution_count": 63,
   "metadata": {
    "ExecuteTime": {
     "end_time": "2021-01-25T09:01:28.411096Z",
     "start_time": "2021-01-25T09:01:28.377Z"
    }
   },
   "outputs": [
    {
     "data": {
      "text/html": [
       "<table class=\"dataframe\">\n",
       "<caption>A data.frame: 5 × 7</caption>\n",
       "<thead>\n",
       "\t<tr><th scope=col>时间</th><th scope=col>国民总收入.亿元.</th><th scope=col>国内生产总值.亿元.</th><th scope=col>第一产业增加值.亿元.</th><th scope=col>第二产业增加值.亿元.</th><th scope=col>第三产业增加值.亿元.</th><th scope=col>人均国内生产总值.元.</th></tr>\n",
       "\t<tr><th scope=col>&lt;chr&gt;</th><th scope=col>&lt;dbl&gt;</th><th scope=col>&lt;dbl&gt;</th><th scope=col>&lt;dbl&gt;</th><th scope=col>&lt;dbl&gt;</th><th scope=col>&lt;dbl&gt;</th><th scope=col>&lt;int&gt;</th></tr>\n",
       "</thead>\n",
       "<tbody>\n",
       "\t<tr><td>2019年</td><td>984179.0</td><td>986515.2</td><td>70473.6</td><td>380670.6</td><td>535371.0</td><td>70581</td></tr>\n",
       "\t<tr><td>2018年</td><td>914327.1</td><td>919281.1</td><td>64745.2</td><td>364835.2</td><td>489700.8</td><td>66006</td></tr>\n",
       "\t<tr><td>2017年</td><td>831381.2</td><td>832035.9</td><td>62099.5</td><td>331580.5</td><td>438355.9</td><td>60014</td></tr>\n",
       "\t<tr><td>2016年</td><td>743408.3</td><td>746395.1</td><td>60139.2</td><td>295427.8</td><td>390828.1</td><td>54139</td></tr>\n",
       "\t<tr><td>2015年</td><td>686255.7</td><td>688858.2</td><td>57774.6</td><td>281338.9</td><td>349744.7</td><td>50237</td></tr>\n",
       "</tbody>\n",
       "</table>\n"
      ],
      "text/latex": [
       "A data.frame: 5 × 7\n",
       "\\begin{tabular}{lllllll}\n",
       " 时间 & 国民总收入.亿元. & 国内生产总值.亿元. & 第一产业增加值.亿元. & 第二产业增加值.亿元. & 第三产业增加值.亿元. & 人均国内生产总值.元.\\\\\n",
       " <chr> & <dbl> & <dbl> & <dbl> & <dbl> & <dbl> & <int>\\\\\n",
       "\\hline\n",
       "\t 2019年 & 984179.0 & 986515.2 & 70473.6 & 380670.6 & 535371.0 & 70581\\\\\n",
       "\t 2018年 & 914327.1 & 919281.1 & 64745.2 & 364835.2 & 489700.8 & 66006\\\\\n",
       "\t 2017年 & 831381.2 & 832035.9 & 62099.5 & 331580.5 & 438355.9 & 60014\\\\\n",
       "\t 2016年 & 743408.3 & 746395.1 & 60139.2 & 295427.8 & 390828.1 & 54139\\\\\n",
       "\t 2015年 & 686255.7 & 688858.2 & 57774.6 & 281338.9 & 349744.7 & 50237\\\\\n",
       "\\end{tabular}\n"
      ],
      "text/markdown": [
       "\n",
       "A data.frame: 5 × 7\n",
       "\n",
       "| 时间 &lt;chr&gt; | 国民总收入.亿元. &lt;dbl&gt; | 国内生产总值.亿元. &lt;dbl&gt; | 第一产业增加值.亿元. &lt;dbl&gt; | 第二产业增加值.亿元. &lt;dbl&gt; | 第三产业增加值.亿元. &lt;dbl&gt; | 人均国内生产总值.元. &lt;int&gt; |\n",
       "|---|---|---|---|---|---|---|\n",
       "| 2019年 | 984179.0 | 986515.2 | 70473.6 | 380670.6 | 535371.0 | 70581 |\n",
       "| 2018年 | 914327.1 | 919281.1 | 64745.2 | 364835.2 | 489700.8 | 66006 |\n",
       "| 2017年 | 831381.2 | 832035.9 | 62099.5 | 331580.5 | 438355.9 | 60014 |\n",
       "| 2016年 | 743408.3 | 746395.1 | 60139.2 | 295427.8 | 390828.1 | 54139 |\n",
       "| 2015年 | 686255.7 | 688858.2 | 57774.6 | 281338.9 | 349744.7 | 50237 |\n",
       "\n"
      ],
      "text/plain": [
       "  时间   国民总收入.亿元. 国内生产总值.亿元. 第一产业增加值.亿元.\n",
       "1 2019年 984179.0         986515.2           70473.6             \n",
       "2 2018年 914327.1         919281.1           64745.2             \n",
       "3 2017年 831381.2         832035.9           62099.5             \n",
       "4 2016年 743408.3         746395.1           60139.2             \n",
       "5 2015年 686255.7         688858.2           57774.6             \n",
       "  第二产业增加值.亿元. 第三产业增加值.亿元. 人均国内生产总值.元.\n",
       "1 380670.6             535371.0             70581               \n",
       "2 364835.2             489700.8             66006               \n",
       "3 331580.5             438355.9             60014               \n",
       "4 295427.8             390828.1             54139               \n",
       "5 281338.9             349744.7             50237               "
      ]
     },
     "metadata": {},
     "output_type": "display_data"
    }
   ],
   "source": [
    "mydataframe_csv"
   ]
  },
  {
   "cell_type": "markdown",
   "metadata": {},
   "source": [
    "## 导入Excel数据"
   ]
  },
  {
   "cell_type": "code",
   "execution_count": 64,
   "metadata": {
    "ExecuteTime": {
     "end_time": "2021-01-25T09:01:37.628479Z",
     "start_time": "2021-01-25T09:01:31.163Z"
    }
   },
   "outputs": [
    {
     "name": "stdout",
     "output_type": "stream",
     "text": [
      "package 'RODBC' successfully unpacked and MD5 sums checked\n",
      "\n",
      "The downloaded binary packages are in\n",
      "\tC:\\Users\\蕁\\AppData\\Local\\Temp\\RtmpoJYnpD\\downloaded_packages\n"
     ]
    }
   ],
   "source": [
    "install.packages(\"RODBC\")"
   ]
  },
  {
   "cell_type": "code",
   "execution_count": 65,
   "metadata": {
    "ExecuteTime": {
     "end_time": "2021-01-25T09:01:44.772830Z",
     "start_time": "2021-01-25T09:01:44.713Z"
    }
   },
   "outputs": [
    {
     "ename": "ERROR",
     "evalue": "Error in odbcConnectExcel(\"data/年度数据.xls\"): odbcConnectExcel is only usable with 32-bit Windows\n",
     "output_type": "error",
     "traceback": [
      "Error in odbcConnectExcel(\"data/年度数据.xls\"): odbcConnectExcel is only usable with 32-bit Windows\nTraceback:\n",
      "1. odbcConnectExcel(\"data/年度数据.xls\")",
      "2. stop(\"odbcConnectExcel is only usable with 32-bit Windows\")"
     ]
    }
   ],
   "source": [
    "library(RODBC)\n",
    "channel <- odbcConnectExcel(\"data/年度数据.xls\")\n",
    "mydataframe_xls <- sqlFetch(channel, \"年度数据\")\n",
    "#似乎不兼容"
   ]
  },
  {
   "cell_type": "raw",
   "metadata": {},
   "source": [
    "从网上找的方法"
   ]
  },
  {
   "cell_type": "code",
   "execution_count": 108,
   "metadata": {
    "ExecuteTime": {
     "end_time": "2021-01-25T08:00:38.964475Z",
     "start_time": "2021-01-25T08:00:25.062Z"
    }
   },
   "outputs": [
    {
     "name": "stderr",
     "output_type": "stream",
     "text": [
      "also installing the dependencies 'rJava', 'xlsxjars'\n",
      "\n",
      "\n"
     ]
    },
    {
     "name": "stdout",
     "output_type": "stream",
     "text": [
      "package 'rJava' successfully unpacked and MD5 sums checked\n",
      "package 'xlsxjars' successfully unpacked and MD5 sums checked\n",
      "package 'xlsx' successfully unpacked and MD5 sums checked\n",
      "\n",
      "The downloaded binary packages are in\n",
      "\tC:\\Users\\蕁\\AppData\\Local\\Temp\\Rtmp4k6erg\\downloaded_packages\n"
     ]
    }
   ],
   "source": [
    "install.packages('xlsx')"
   ]
  },
  {
   "cell_type": "code",
   "execution_count": 66,
   "metadata": {
    "ExecuteTime": {
     "end_time": "2021-01-25T09:01:51.320697Z",
     "start_time": "2021-01-25T09:01:49.257Z"
    }
   },
   "outputs": [],
   "source": [
    "library(xlsx)"
   ]
  },
  {
   "cell_type": "code",
   "execution_count": 67,
   "metadata": {
    "ExecuteTime": {
     "end_time": "2021-01-25T09:01:52.434231Z",
     "start_time": "2021-01-25T09:01:52.076Z"
    },
    "scrolled": true
   },
   "outputs": [],
   "source": [
    "mydataframe_xls <- read.xlsx(\"data/年度数据.xls\",  sheetName = 'Sheet1', encoding = \"UTF-8\")"
   ]
  },
  {
   "cell_type": "code",
   "execution_count": 68,
   "metadata": {
    "ExecuteTime": {
     "end_time": "2021-01-25T09:01:53.154908Z",
     "start_time": "2021-01-25T09:01:53.114Z"
    }
   },
   "outputs": [
    {
     "data": {
      "text/html": [
       "<table class=\"dataframe\">\n",
       "<caption>A data.frame: 5 × 6</caption>\n",
       "<thead>\n",
       "\t<tr><th scope=col>国民总收入.亿元.</th><th scope=col>国内生产总值.亿元.</th><th scope=col>第一产业增加值.亿元.</th><th scope=col>第二产业增加值.亿元.</th><th scope=col>第三产业增加值.亿元.</th><th scope=col>人均国内生产总值.元.</th></tr>\n",
       "\t<tr><th scope=col>&lt;dbl&gt;</th><th scope=col>&lt;dbl&gt;</th><th scope=col>&lt;dbl&gt;</th><th scope=col>&lt;dbl&gt;</th><th scope=col>&lt;dbl&gt;</th><th scope=col>&lt;dbl&gt;</th></tr>\n",
       "</thead>\n",
       "<tbody>\n",
       "\t<tr><td>984179.0</td><td>986515.2</td><td>70473.6</td><td>380670.6</td><td>535371.0</td><td>70581</td></tr>\n",
       "\t<tr><td>914327.1</td><td>919281.1</td><td>64745.2</td><td>364835.2</td><td>489700.8</td><td>66006</td></tr>\n",
       "\t<tr><td>831381.2</td><td>832035.9</td><td>62099.5</td><td>331580.5</td><td>438355.9</td><td>60014</td></tr>\n",
       "\t<tr><td>743408.3</td><td>746395.1</td><td>60139.2</td><td>295427.8</td><td>390828.1</td><td>54139</td></tr>\n",
       "\t<tr><td>686255.7</td><td>688858.2</td><td>57774.6</td><td>281338.9</td><td>349744.7</td><td>50237</td></tr>\n",
       "</tbody>\n",
       "</table>\n"
      ],
      "text/latex": [
       "A data.frame: 5 × 6\n",
       "\\begin{tabular}{llllll}\n",
       " 国民总收入.亿元. & 国内生产总值.亿元. & 第一产业增加值.亿元. & 第二产业增加值.亿元. & 第三产业增加值.亿元. & 人均国内生产总值.元.\\\\\n",
       " <dbl> & <dbl> & <dbl> & <dbl> & <dbl> & <dbl>\\\\\n",
       "\\hline\n",
       "\t 984179.0 & 986515.2 & 70473.6 & 380670.6 & 535371.0 & 70581\\\\\n",
       "\t 914327.1 & 919281.1 & 64745.2 & 364835.2 & 489700.8 & 66006\\\\\n",
       "\t 831381.2 & 832035.9 & 62099.5 & 331580.5 & 438355.9 & 60014\\\\\n",
       "\t 743408.3 & 746395.1 & 60139.2 & 295427.8 & 390828.1 & 54139\\\\\n",
       "\t 686255.7 & 688858.2 & 57774.6 & 281338.9 & 349744.7 & 50237\\\\\n",
       "\\end{tabular}\n"
      ],
      "text/markdown": [
       "\n",
       "A data.frame: 5 × 6\n",
       "\n",
       "| 国民总收入.亿元. &lt;dbl&gt; | 国内生产总值.亿元. &lt;dbl&gt; | 第一产业增加值.亿元. &lt;dbl&gt; | 第二产业增加值.亿元. &lt;dbl&gt; | 第三产业增加值.亿元. &lt;dbl&gt; | 人均国内生产总值.元. &lt;dbl&gt; |\n",
       "|---|---|---|---|---|---|\n",
       "| 984179.0 | 986515.2 | 70473.6 | 380670.6 | 535371.0 | 70581 |\n",
       "| 914327.1 | 919281.1 | 64745.2 | 364835.2 | 489700.8 | 66006 |\n",
       "| 831381.2 | 832035.9 | 62099.5 | 331580.5 | 438355.9 | 60014 |\n",
       "| 743408.3 | 746395.1 | 60139.2 | 295427.8 | 390828.1 | 54139 |\n",
       "| 686255.7 | 688858.2 | 57774.6 | 281338.9 | 349744.7 | 50237 |\n",
       "\n"
      ],
      "text/plain": [
       "  国民总收入.亿元. 国内生产总值.亿元. 第一产业增加值.亿元. 第二产业增加值.亿元.\n",
       "1 984179.0         986515.2           70473.6              380670.6            \n",
       "2 914327.1         919281.1           64745.2              364835.2            \n",
       "3 831381.2         832035.9           62099.5              331580.5            \n",
       "4 743408.3         746395.1           60139.2              295427.8            \n",
       "5 686255.7         688858.2           57774.6              281338.9            \n",
       "  第三产业增加值.亿元. 人均国内生产总值.元.\n",
       "1 535371.0             70581               \n",
       "2 489700.8             66006               \n",
       "3 438355.9             60014               \n",
       "4 390828.1             54139               \n",
       "5 349744.7             50237               "
      ]
     },
     "metadata": {},
     "output_type": "display_data"
    }
   ],
   "source": [
    "mydataframe_xls"
   ]
  },
  {
   "cell_type": "markdown",
   "metadata": {},
   "source": [
    "## 导入XML数据  存疑！！！"
   ]
  },
  {
   "cell_type": "code",
   "execution_count": 69,
   "metadata": {
    "ExecuteTime": {
     "end_time": "2021-01-25T09:02:36.686068Z",
     "start_time": "2021-01-25T09:01:56.385Z"
    }
   },
   "outputs": [
    {
     "name": "stdout",
     "output_type": "stream",
     "text": [
      "package 'XML' successfully unpacked and MD5 sums checked\n",
      "\n",
      "The downloaded binary packages are in\n",
      "\tC:\\Users\\蕁\\AppData\\Local\\Temp\\RtmpoJYnpD\\downloaded_packages\n"
     ]
    }
   ],
   "source": [
    "install.packages(\"XML\")   #先安装包"
   ]
  },
  {
   "cell_type": "code",
   "execution_count": 70,
   "metadata": {
    "ExecuteTime": {
     "end_time": "2021-01-25T09:02:46.887341Z",
     "start_time": "2021-01-25T09:02:46.747Z"
    }
   },
   "outputs": [],
   "source": [
    "library(\"XML\")\n",
    "library(\"methods\")"
   ]
  },
  {
   "cell_type": "code",
   "execution_count": 71,
   "metadata": {
    "ExecuteTime": {
     "end_time": "2021-01-25T09:02:47.554450Z",
     "start_time": "2021-01-25T09:02:47.418Z"
    }
   },
   "outputs": [],
   "source": [
    "result <- xmlParse(file = \"data/year_data.xml\")"
   ]
  },
  {
   "cell_type": "code",
   "execution_count": 72,
   "metadata": {
    "ExecuteTime": {
     "end_time": "2021-01-25T09:02:48.586645Z",
     "start_time": "2021-01-25T09:02:48.551Z"
    }
   },
   "outputs": [
    {
     "data": {
      "text/html": [
       "<style>\n",
       ".list-inline {list-style: none; margin:0; padding: 0}\n",
       ".list-inline>li {display: inline-block}\n",
       ".list-inline>li:not(:last-child)::after {content: \"\\00b7\"; padding: 0 .5ex}\n",
       "</style>\n",
       "<ol class=list-inline><li>'XMLInternalDocument'</li><li>'XMLAbstractDocument'</li></ol>\n"
      ],
      "text/latex": [
       "\\begin{enumerate*}\n",
       "\\item 'XMLInternalDocument'\n",
       "\\item 'XMLAbstractDocument'\n",
       "\\end{enumerate*}\n"
      ],
      "text/markdown": [
       "1. 'XMLInternalDocument'\n",
       "2. 'XMLAbstractDocument'\n",
       "\n",
       "\n"
      ],
      "text/plain": [
       "[1] \"XMLInternalDocument\" \"XMLAbstractDocument\""
      ]
     },
     "metadata": {},
     "output_type": "display_data"
    }
   ],
   "source": [
    "class(result)"
   ]
  },
  {
   "cell_type": "code",
   "execution_count": 73,
   "metadata": {
    "ExecuteTime": {
     "end_time": "2021-01-25T09:02:49.883126Z",
     "start_time": "2021-01-25T09:02:49.841Z"
    }
   },
   "outputs": [
    {
     "name": "stdout",
     "output_type": "stream",
     "text": [
      "                                     record\n",
      "1 2019骞村浗姘戞€绘敹鍏\\xa5(浜垮厓)984179.0\n",
      "                                           NA\n",
      "1 2019骞村浗鍐呯敓浜ф€诲€\\xbc(浜垮厓)986515.2\n",
      "                                            NA\n",
      "1 2019骞寸涓€浜т笟澧炲姞鍊\\xbc(浜垮厓)70473.6\n",
      "                                             NA\n",
      "1 2019骞寸浜屼骇涓氬鍔犲€\\xbc(浜垮厓)380670.6\n",
      "                                             NA\n",
      "1 2019骞寸涓変骇涓氬鍔犲€\\xbc(浜垮厓)535371.0\n",
      "                                              NA\n",
      "1 2019骞翠汉鍧囧浗鍐呯敓浜ф€诲€\\xbc(鍏\\x83)70581\n",
      "                                         NA\n",
      "1 2018骞村浗姘戞€绘敹鍏\\xa5(浜垮厓)914327.1\n",
      "                                           NA\n",
      "1 2018骞村浗鍐呯敓浜ф€诲€\\xbc(浜垮厓)919281.1\n",
      "                                            NA\n",
      "1 2018骞寸涓€浜т笟澧炲姞鍊\\xbc(浜垮厓)64745.2\n",
      "                                             NA\n",
      "1 2018骞寸浜屼骇涓氬鍔犲€\\xbc(浜垮厓)364835.2\n",
      "                                             NA\n",
      "1 2018骞寸涓変骇涓氬鍔犲€\\xbc(浜垮厓)489700.8\n",
      "                                              NA\n",
      "1 2018骞翠汉鍧囧浗鍐呯敓浜ф€诲€\\xbc(鍏\\x83)66006\n",
      "                                         NA\n",
      "1 2017骞村浗姘戞€绘敹鍏\\xa5(浜垮厓)831381.2\n",
      "                                           NA\n",
      "1 2017骞村浗鍐呯敓浜ф€诲€\\xbc(浜垮厓)832035.9\n",
      "                                            NA\n",
      "1 2017骞寸涓€浜т笟澧炲姞鍊\\xbc(浜垮厓)62099.5\n",
      "                                             NA\n",
      "1 2017骞寸浜屼骇涓氬鍔犲€\\xbc(浜垮厓)331580.5\n",
      "                                             NA\n",
      "1 2017骞寸涓変骇涓氬鍔犲€\\xbc(浜垮厓)438355.9\n",
      "                                              NA\n",
      "1 2017骞翠汉鍧囧浗鍐呯敓浜ф€诲€\\xbc(鍏\\x83)60014\n",
      "                                         NA\n",
      "1 2016骞村浗姘戞€绘敹鍏\\xa5(浜垮厓)743408.3\n",
      "                                           NA\n",
      "1 2016骞村浗鍐呯敓浜ф€诲€\\xbc(浜垮厓)746395.1\n",
      "                                            NA\n",
      "1 2016骞寸涓€浜т笟澧炲姞鍊\\xbc(浜垮厓)60139.2\n",
      "                                             NA\n",
      "1 2016骞寸浜屼骇涓氬鍔犲€\\xbc(浜垮厓)295427.8\n",
      "                                             NA\n",
      "1 2016骞寸涓変骇涓氬鍔犲€\\xbc(浜垮厓)390828.1\n",
      "                                              NA\n",
      "1 2016骞翠汉鍧囧浗鍐呯敓浜ф€诲€\\xbc(鍏\\x83)54139\n",
      "                                         NA\n",
      "1 2015骞村浗姘戞€绘敹鍏\\xa5(浜垮厓)686255.7\n",
      "                                           NA\n",
      "1 2015骞村浗鍐呯敓浜ф€诲€\\xbc(浜垮厓)688858.2\n",
      "                                            NA\n",
      "1 2015骞寸涓€浜т笟澧炲姞鍊\\xbc(浜垮厓)57774.6\n",
      "                                             NA\n",
      "1 2015骞寸浜屼骇涓氬鍔犲€\\xbc(浜垮厓)281338.9\n",
      "                                             NA\n",
      "1 2015骞寸涓変骇涓氬鍔犲€\\xbc(浜垮厓)349744.7\n",
      "                                              NA\n",
      "1 2015骞翠汉鍧囧浗鍐呯敓浜ф€诲€\\xbc(鍏\\x83)50237\n"
     ]
    }
   ],
   "source": [
    "xmldataframe <- xmlToDataFrame(\"data/year_data.xml\")\n",
    "print(xmldataframe)"
   ]
  },
  {
   "cell_type": "markdown",
   "metadata": {},
   "source": [
    "# 数据集的标注"
   ]
  },
  {
   "cell_type": "markdown",
   "metadata": {},
   "source": [
    "## 值标签"
   ]
  },
  {
   "cell_type": "code",
   "execution_count": 74,
   "metadata": {
    "ExecuteTime": {
     "end_time": "2021-01-25T09:03:00.976129Z",
     "start_time": "2021-01-25T09:03:00.956Z"
    }
   },
   "outputs": [],
   "source": [
    "patientdata['gender'] <- c('male', 'male', 'female', 'male')"
   ]
  },
  {
   "cell_type": "code",
   "execution_count": 75,
   "metadata": {
    "ExecuteTime": {
     "end_time": "2021-01-25T09:03:02.274827Z",
     "start_time": "2021-01-25T09:03:02.242Z"
    }
   },
   "outputs": [
    {
     "data": {
      "text/html": [
       "<table class=\"dataframe\">\n",
       "<caption>A data.frame: 4 × 5</caption>\n",
       "<thead>\n",
       "\t<tr><th scope=col>patientID</th><th scope=col>age</th><th scope=col>diabetes</th><th scope=col>status</th><th scope=col>gender</th></tr>\n",
       "\t<tr><th scope=col>&lt;int&gt;</th><th scope=col>&lt;dbl&gt;</th><th scope=col>&lt;chr&gt;</th><th scope=col>&lt;chr&gt;</th><th scope=col>&lt;chr&gt;</th></tr>\n",
       "</thead>\n",
       "<tbody>\n",
       "\t<tr><td>1</td><td>25</td><td>Type1</td><td>Poor     </td><td>male  </td></tr>\n",
       "\t<tr><td>2</td><td>34</td><td>Type2</td><td>Improved </td><td>male  </td></tr>\n",
       "\t<tr><td>3</td><td>28</td><td>Type1</td><td>Excellent</td><td>female</td></tr>\n",
       "\t<tr><td>4</td><td>52</td><td>Type1</td><td>poor     </td><td>male  </td></tr>\n",
       "</tbody>\n",
       "</table>\n"
      ],
      "text/latex": [
       "A data.frame: 4 × 5\n",
       "\\begin{tabular}{lllll}\n",
       " patientID & age & diabetes & status & gender\\\\\n",
       " <int> & <dbl> & <chr> & <chr> & <chr>\\\\\n",
       "\\hline\n",
       "\t 1 & 25 & Type1 & Poor      & male  \\\\\n",
       "\t 2 & 34 & Type2 & Improved  & male  \\\\\n",
       "\t 3 & 28 & Type1 & Excellent & female\\\\\n",
       "\t 4 & 52 & Type1 & poor      & male  \\\\\n",
       "\\end{tabular}\n"
      ],
      "text/markdown": [
       "\n",
       "A data.frame: 4 × 5\n",
       "\n",
       "| patientID &lt;int&gt; | age &lt;dbl&gt; | diabetes &lt;chr&gt; | status &lt;chr&gt; | gender &lt;chr&gt; |\n",
       "|---|---|---|---|---|\n",
       "| 1 | 25 | Type1 | Poor      | male   |\n",
       "| 2 | 34 | Type2 | Improved  | male   |\n",
       "| 3 | 28 | Type1 | Excellent | female |\n",
       "| 4 | 52 | Type1 | poor      | male   |\n",
       "\n"
      ],
      "text/plain": [
       "  patientID age diabetes status    gender\n",
       "1 1         25  Type1    Poor      male  \n",
       "2 2         34  Type2    Improved  male  \n",
       "3 3         28  Type1    Excellent female\n",
       "4 4         52  Type1    poor      male  "
      ]
     },
     "metadata": {},
     "output_type": "display_data"
    }
   ],
   "source": [
    "patientdata"
   ]
  },
  {
   "cell_type": "code",
   "execution_count": 76,
   "metadata": {
    "ExecuteTime": {
     "end_time": "2021-01-25T09:03:03.710905Z",
     "start_time": "2021-01-25T09:03:03.690Z"
    }
   },
   "outputs": [],
   "source": [
    "patientdata$gender <- factor(patientdata$gender)"
   ]
  },
  {
   "cell_type": "code",
   "execution_count": 77,
   "metadata": {
    "ExecuteTime": {
     "end_time": "2021-01-25T09:03:04.163248Z",
     "start_time": "2021-01-25T09:03:04.133Z"
    }
   },
   "outputs": [
    {
     "data": {
      "text/html": [
       "<table class=\"dataframe\">\n",
       "<caption>A data.frame: 4 × 5</caption>\n",
       "<thead>\n",
       "\t<tr><th scope=col>patientID</th><th scope=col>age</th><th scope=col>diabetes</th><th scope=col>status</th><th scope=col>gender</th></tr>\n",
       "\t<tr><th scope=col>&lt;int&gt;</th><th scope=col>&lt;dbl&gt;</th><th scope=col>&lt;chr&gt;</th><th scope=col>&lt;chr&gt;</th><th scope=col>&lt;fct&gt;</th></tr>\n",
       "</thead>\n",
       "<tbody>\n",
       "\t<tr><td>1</td><td>25</td><td>Type1</td><td>Poor     </td><td>male  </td></tr>\n",
       "\t<tr><td>2</td><td>34</td><td>Type2</td><td>Improved </td><td>male  </td></tr>\n",
       "\t<tr><td>3</td><td>28</td><td>Type1</td><td>Excellent</td><td>female</td></tr>\n",
       "\t<tr><td>4</td><td>52</td><td>Type1</td><td>poor     </td><td>male  </td></tr>\n",
       "</tbody>\n",
       "</table>\n"
      ],
      "text/latex": [
       "A data.frame: 4 × 5\n",
       "\\begin{tabular}{lllll}\n",
       " patientID & age & diabetes & status & gender\\\\\n",
       " <int> & <dbl> & <chr> & <chr> & <fct>\\\\\n",
       "\\hline\n",
       "\t 1 & 25 & Type1 & Poor      & male  \\\\\n",
       "\t 2 & 34 & Type2 & Improved  & male  \\\\\n",
       "\t 3 & 28 & Type1 & Excellent & female\\\\\n",
       "\t 4 & 52 & Type1 & poor      & male  \\\\\n",
       "\\end{tabular}\n"
      ],
      "text/markdown": [
       "\n",
       "A data.frame: 4 × 5\n",
       "\n",
       "| patientID &lt;int&gt; | age &lt;dbl&gt; | diabetes &lt;chr&gt; | status &lt;chr&gt; | gender &lt;fct&gt; |\n",
       "|---|---|---|---|---|\n",
       "| 1 | 25 | Type1 | Poor      | male   |\n",
       "| 2 | 34 | Type2 | Improved  | male   |\n",
       "| 3 | 28 | Type1 | Excellent | female |\n",
       "| 4 | 52 | Type1 | poor      | male   |\n",
       "\n"
      ],
      "text/plain": [
       "  patientID age diabetes status    gender\n",
       "1 1         25  Type1    Poor      male  \n",
       "2 2         34  Type2    Improved  male  \n",
       "3 3         28  Type1    Excellent female\n",
       "4 4         52  Type1    poor      male  "
      ]
     },
     "metadata": {},
     "output_type": "display_data"
    }
   ],
   "source": [
    "patientdata"
   ]
  },
  {
   "cell_type": "code",
   "execution_count": 78,
   "metadata": {
    "ExecuteTime": {
     "end_time": "2021-01-25T09:03:29.050535Z",
     "start_time": "2021-01-25T09:03:29.021Z"
    }
   },
   "outputs": [
    {
     "name": "stdout",
     "output_type": "stream",
     "text": [
      "'data.frame':\t4 obs. of  5 variables:\n",
      " $ patientID: int  1 2 3 4\n",
      " $ age      : num  25 34 28 52\n",
      " $ diabetes : chr  \"Type1\" \"Type2\" \"Type1\" \"Type1\"\n",
      " $ status   : chr  \"Poor\" \"Improved\" \"Excellent\" \"poor\"\n",
      " $ gender   : Factor w/ 2 levels \"female\",\"male\": 2 2 1 2\n"
     ]
    }
   ],
   "source": [
    "str(patientdata)    #这时结构已经变了，factor"
   ]
  },
  {
   "cell_type": "markdown",
   "metadata": {},
   "source": [
    "## 处理数据对象的实用函数"
   ]
  },
  {
   "cell_type": "code",
   "execution_count": 79,
   "metadata": {
    "ExecuteTime": {
     "end_time": "2021-01-25T09:03:32.834210Z",
     "start_time": "2021-01-25T09:03:32.809Z"
    }
   },
   "outputs": [
    {
     "data": {
      "text/html": [
       "5"
      ],
      "text/latex": [
       "5"
      ],
      "text/markdown": [
       "5"
      ],
      "text/plain": [
       "[1] 5"
      ]
     },
     "metadata": {},
     "output_type": "display_data"
    }
   ],
   "source": [
    "length(patientdata)"
   ]
  },
  {
   "cell_type": "code",
   "execution_count": 80,
   "metadata": {
    "ExecuteTime": {
     "end_time": "2021-01-25T09:03:33.816760Z",
     "start_time": "2021-01-25T09:03:33.779Z"
    }
   },
   "outputs": [
    {
     "data": {
      "text/html": [
       "<style>\n",
       ".list-inline {list-style: none; margin:0; padding: 0}\n",
       ".list-inline>li {display: inline-block}\n",
       ".list-inline>li:not(:last-child)::after {content: \"\\00b7\"; padding: 0 .5ex}\n",
       "</style>\n",
       "<ol class=list-inline><li>4</li><li>5</li></ol>\n"
      ],
      "text/latex": [
       "\\begin{enumerate*}\n",
       "\\item 4\n",
       "\\item 5\n",
       "\\end{enumerate*}\n"
      ],
      "text/markdown": [
       "1. 4\n",
       "2. 5\n",
       "\n",
       "\n"
      ],
      "text/plain": [
       "[1] 4 5"
      ]
     },
     "metadata": {},
     "output_type": "display_data"
    }
   ],
   "source": [
    "dim(patientdata)"
   ]
  },
  {
   "cell_type": "code",
   "execution_count": 81,
   "metadata": {
    "ExecuteTime": {
     "end_time": "2021-01-25T09:03:34.537557Z",
     "start_time": "2021-01-25T09:03:34.513Z"
    }
   },
   "outputs": [
    {
     "name": "stdout",
     "output_type": "stream",
     "text": [
      "'data.frame':\t4 obs. of  5 variables:\n",
      " $ patientID: int  1 2 3 4\n",
      " $ age      : num  25 34 28 52\n",
      " $ diabetes : chr  \"Type1\" \"Type2\" \"Type1\" \"Type1\"\n",
      " $ status   : chr  \"Poor\" \"Improved\" \"Excellent\" \"poor\"\n",
      " $ gender   : Factor w/ 2 levels \"female\",\"male\": 2 2 1 2\n"
     ]
    }
   ],
   "source": [
    "str(patientdata)"
   ]
  },
  {
   "cell_type": "code",
   "execution_count": 82,
   "metadata": {
    "ExecuteTime": {
     "end_time": "2021-01-25T09:03:35.397668Z",
     "start_time": "2021-01-25T09:03:35.371Z"
    }
   },
   "outputs": [
    {
     "data": {
      "text/html": [
       "'data.frame'"
      ],
      "text/latex": [
       "'data.frame'"
      ],
      "text/markdown": [
       "'data.frame'"
      ],
      "text/plain": [
       "[1] \"data.frame\""
      ]
     },
     "metadata": {},
     "output_type": "display_data"
    }
   ],
   "source": [
    "class(patientdata)"
   ]
  },
  {
   "cell_type": "code",
   "execution_count": 83,
   "metadata": {
    "ExecuteTime": {
     "end_time": "2021-01-25T09:03:36.303838Z",
     "start_time": "2021-01-25T09:03:36.281Z"
    }
   },
   "outputs": [
    {
     "data": {
      "text/html": [
       "'list'"
      ],
      "text/latex": [
       "'list'"
      ],
      "text/markdown": [
       "'list'"
      ],
      "text/plain": [
       "[1] \"list\""
      ]
     },
     "metadata": {},
     "output_type": "display_data"
    }
   ],
   "source": [
    "mode(patientdata)"
   ]
  },
  {
   "cell_type": "code",
   "execution_count": 84,
   "metadata": {
    "ExecuteTime": {
     "end_time": "2021-01-25T09:03:37.055466Z",
     "start_time": "2021-01-25T09:03:37.032Z"
    }
   },
   "outputs": [
    {
     "data": {
      "text/html": [
       "<style>\n",
       ".list-inline {list-style: none; margin:0; padding: 0}\n",
       ".list-inline>li {display: inline-block}\n",
       ".list-inline>li:not(:last-child)::after {content: \"\\00b7\"; padding: 0 .5ex}\n",
       "</style>\n",
       "<ol class=list-inline><li>'patientID'</li><li>'age'</li><li>'diabetes'</li><li>'status'</li><li>'gender'</li></ol>\n"
      ],
      "text/latex": [
       "\\begin{enumerate*}\n",
       "\\item 'patientID'\n",
       "\\item 'age'\n",
       "\\item 'diabetes'\n",
       "\\item 'status'\n",
       "\\item 'gender'\n",
       "\\end{enumerate*}\n"
      ],
      "text/markdown": [
       "1. 'patientID'\n",
       "2. 'age'\n",
       "3. 'diabetes'\n",
       "4. 'status'\n",
       "5. 'gender'\n",
       "\n",
       "\n"
      ],
      "text/plain": [
       "[1] \"patientID\" \"age\"       \"diabetes\"  \"status\"    \"gender\"   "
      ]
     },
     "metadata": {},
     "output_type": "display_data"
    }
   ],
   "source": [
    "names(patientdata)"
   ]
  },
  {
   "cell_type": "code",
   "execution_count": 85,
   "metadata": {
    "ExecuteTime": {
     "end_time": "2021-01-25T09:03:37.656018Z",
     "start_time": "2021-01-25T09:03:37.621Z"
    }
   },
   "outputs": [
    {
     "data": {
      "text/html": [
       "<style>\n",
       ".list-inline {list-style: none; margin:0; padding: 0}\n",
       ".list-inline>li {display: inline-block}\n",
       ".list-inline>li:not(:last-child)::after {content: \"\\00b7\"; padding: 0 .5ex}\n",
       "</style>\n",
       "<ol class=list-inline><li>'a'</li><li>'age'</li><li>'b'</li><li>'c'</li><li>'cells'</li><li>'cnames'</li><li>'d'</li><li>'diabetes'</li><li>'diabetes_f'</li><li>'dim1'</li><li>'dim2'</li><li>'dim3'</li><li>'g'</li><li>'h'</li><li>'j'</li><li>'k'</li><li>'keepstats'</li><li>'mydata'</li><li>'mydataframe_csv'</li><li>'mydataframe_xls'</li><li>'mylist'</li><li>'mymatrix'</li><li>'o.b.'</li><li>'ob.'</li><li>'patientdata'</li><li>'patientdata_1'</li><li>'patientdata_f'</li><li>'patientID'</li><li>'pi'</li><li>'result'</li><li>'rnames'</li><li>'status'</li><li>'status_f'</li><li>'test'</li><li>'var_dic_list'</li><li>'x'</li><li>'xmldataframe'</li><li>'y'</li><li>'y_1'</li><li>'z'</li></ol>\n"
      ],
      "text/latex": [
       "\\begin{enumerate*}\n",
       "\\item 'a'\n",
       "\\item 'age'\n",
       "\\item 'b'\n",
       "\\item 'c'\n",
       "\\item 'cells'\n",
       "\\item 'cnames'\n",
       "\\item 'd'\n",
       "\\item 'diabetes'\n",
       "\\item 'diabetes\\_f'\n",
       "\\item 'dim1'\n",
       "\\item 'dim2'\n",
       "\\item 'dim3'\n",
       "\\item 'g'\n",
       "\\item 'h'\n",
       "\\item 'j'\n",
       "\\item 'k'\n",
       "\\item 'keepstats'\n",
       "\\item 'mydata'\n",
       "\\item 'mydataframe\\_csv'\n",
       "\\item 'mydataframe\\_xls'\n",
       "\\item 'mylist'\n",
       "\\item 'mymatrix'\n",
       "\\item 'o.b.'\n",
       "\\item 'ob.'\n",
       "\\item 'patientdata'\n",
       "\\item 'patientdata\\_1'\n",
       "\\item 'patientdata\\_f'\n",
       "\\item 'patientID'\n",
       "\\item 'pi'\n",
       "\\item 'result'\n",
       "\\item 'rnames'\n",
       "\\item 'status'\n",
       "\\item 'status\\_f'\n",
       "\\item 'test'\n",
       "\\item 'var\\_dic\\_list'\n",
       "\\item 'x'\n",
       "\\item 'xmldataframe'\n",
       "\\item 'y'\n",
       "\\item 'y\\_1'\n",
       "\\item 'z'\n",
       "\\end{enumerate*}\n"
      ],
      "text/markdown": [
       "1. 'a'\n",
       "2. 'age'\n",
       "3. 'b'\n",
       "4. 'c'\n",
       "5. 'cells'\n",
       "6. 'cnames'\n",
       "7. 'd'\n",
       "8. 'diabetes'\n",
       "9. 'diabetes_f'\n",
       "10. 'dim1'\n",
       "11. 'dim2'\n",
       "12. 'dim3'\n",
       "13. 'g'\n",
       "14. 'h'\n",
       "15. 'j'\n",
       "16. 'k'\n",
       "17. 'keepstats'\n",
       "18. 'mydata'\n",
       "19. 'mydataframe_csv'\n",
       "20. 'mydataframe_xls'\n",
       "21. 'mylist'\n",
       "22. 'mymatrix'\n",
       "23. 'o.b.'\n",
       "24. 'ob.'\n",
       "25. 'patientdata'\n",
       "26. 'patientdata_1'\n",
       "27. 'patientdata_f'\n",
       "28. 'patientID'\n",
       "29. 'pi'\n",
       "30. 'result'\n",
       "31. 'rnames'\n",
       "32. 'status'\n",
       "33. 'status_f'\n",
       "34. 'test'\n",
       "35. 'var_dic_list'\n",
       "36. 'x'\n",
       "37. 'xmldataframe'\n",
       "38. 'y'\n",
       "39. 'y_1'\n",
       "40. 'z'\n",
       "\n",
       "\n"
      ],
      "text/plain": [
       " [1] \"a\"               \"age\"             \"b\"               \"c\"              \n",
       " [5] \"cells\"           \"cnames\"          \"d\"               \"diabetes\"       \n",
       " [9] \"diabetes_f\"      \"dim1\"            \"dim2\"            \"dim3\"           \n",
       "[13] \"g\"               \"h\"               \"j\"               \"k\"              \n",
       "[17] \"keepstats\"       \"mydata\"          \"mydataframe_csv\" \"mydataframe_xls\"\n",
       "[21] \"mylist\"          \"mymatrix\"        \"o.b.\"            \"ob.\"            \n",
       "[25] \"patientdata\"     \"patientdata_1\"   \"patientdata_f\"   \"patientID\"      \n",
       "[29] \"pi\"              \"result\"          \"rnames\"          \"status\"         \n",
       "[33] \"status_f\"        \"test\"            \"var_dic_list\"    \"x\"              \n",
       "[37] \"xmldataframe\"    \"y\"               \"y_1\"             \"z\"              "
      ]
     },
     "metadata": {},
     "output_type": "display_data"
    }
   ],
   "source": [
    "ls()"
   ]
  },
  {
   "cell_type": "code",
   "execution_count": 1,
   "metadata": {
    "ExecuteTime": {
     "end_time": "2021-01-25T09:08:11.228675Z",
     "start_time": "2021-01-25T09:08:11.204Z"
    }
   },
   "outputs": [
    {
     "data": {
      "text/html": [
       "<style>\n",
       ".list-inline {list-style: none; margin:0; padding: 0}\n",
       ".list-inline>li {display: inline-block}\n",
       ".list-inline>li:not(:last-child)::after {content: \"\\00b7\"; padding: 0 .5ex}\n",
       "</style>\n",
       "<ol class=list-inline><li>1</li><li>2</li><li>5</li><li>-2</li><li>4</li></ol>\n"
      ],
      "text/latex": [
       "\\begin{enumerate*}\n",
       "\\item 1\n",
       "\\item 2\n",
       "\\item 5\n",
       "\\item -2\n",
       "\\item 4\n",
       "\\end{enumerate*}\n"
      ],
      "text/markdown": [
       "1. 1\n",
       "2. 2\n",
       "3. 5\n",
       "4. -2\n",
       "5. 4\n",
       "\n",
       "\n"
      ],
      "text/plain": [
       "[1]  1  2  5 -2  4"
      ]
     },
     "metadata": {},
     "output_type": "display_data"
    }
   ],
   "source": [
    "a"
   ]
  },
  {
   "cell_type": "code",
   "execution_count": 2,
   "metadata": {
    "ExecuteTime": {
     "end_time": "2021-01-25T09:08:44.165059Z",
     "start_time": "2021-01-25T09:08:24.966Z"
    }
   },
   "outputs": [],
   "source": [
    "fix(a)   #会弹出记事本，可以直接修改a"
   ]
  },
  {
   "cell_type": "markdown",
   "metadata": {
    "ExecuteTime": {
     "end_time": "2021-01-25T09:10:08.077468Z",
     "start_time": "2021-01-25T09:10:08.057Z"
    }
   },
   "source": [
    "![title](img/fix().png)"
   ]
  },
  {
   "cell_type": "code",
   "execution_count": 3,
   "metadata": {
    "ExecuteTime": {
     "end_time": "2021-01-25T09:08:47.775086Z",
     "start_time": "2021-01-25T09:08:47.751Z"
    }
   },
   "outputs": [
    {
     "data": {
      "text/html": [
       "<style>\n",
       ".list-inline {list-style: none; margin:0; padding: 0}\n",
       ".list-inline>li {display: inline-block}\n",
       ".list-inline>li:not(:last-child)::after {content: \"\\00b7\"; padding: 0 .5ex}\n",
       "</style>\n",
       "<ol class=list-inline><li>1</li><li>2</li><li>5</li><li>-2</li><li>4</li><li>6</li></ol>\n"
      ],
      "text/latex": [
       "\\begin{enumerate*}\n",
       "\\item 1\n",
       "\\item 2\n",
       "\\item 5\n",
       "\\item -2\n",
       "\\item 4\n",
       "\\item 6\n",
       "\\end{enumerate*}\n"
      ],
      "text/markdown": [
       "1. 1\n",
       "2. 2\n",
       "3. 5\n",
       "4. -2\n",
       "5. 4\n",
       "6. 6\n",
       "\n",
       "\n"
      ],
      "text/plain": [
       "[1]  1  2  5 -2  4  6"
      ]
     },
     "metadata": {},
     "output_type": "display_data"
    }
   ],
   "source": [
    "a    #保存关闭后，a的值已经改变"
   ]
  },
  {
   "cell_type": "code",
   "execution_count": null,
   "metadata": {},
   "outputs": [],
   "source": []
  }
 ],
 "metadata": {
  "kernelspec": {
   "display_name": "R_x64",
   "language": "R",
   "name": "r_x64"
  },
  "language_info": {
   "codemirror_mode": "r",
   "file_extension": ".r",
   "mimetype": "text/x-r-source",
   "name": "R",
   "pygments_lexer": "r",
   "version": "4.0.3"
  },
  "toc": {
   "base_numbering": 1,
   "nav_menu": {},
   "number_sections": true,
   "sideBar": true,
   "skip_h1_title": false,
   "title_cell": "Table of Contents",
   "title_sidebar": "Contents",
   "toc_cell": false,
   "toc_position": {},
   "toc_section_display": true,
   "toc_window_display": true
  },
  "varInspector": {
   "cols": {
    "lenName": 16,
    "lenType": 16,
    "lenVar": 40
   },
   "kernels_config": {
    "python": {
     "delete_cmd_postfix": "",
     "delete_cmd_prefix": "del ",
     "library": "var_list.py",
     "varRefreshCmd": "print(var_dic_list())"
    },
    "r": {
     "delete_cmd_postfix": ") ",
     "delete_cmd_prefix": "rm(",
     "library": "var_list.r",
     "varRefreshCmd": "cat(var_dic_list()) "
    }
   },
   "position": {
    "height": "704px",
    "left": "16px",
    "right": "20px",
    "top": "77px",
    "width": "413px"
   },
   "types_to_exclude": [
    "module",
    "function",
    "builtin_function_or_method",
    "instance",
    "_Feature"
   ],
   "window_display": false
  }
 },
 "nbformat": 4,
 "nbformat_minor": 4
}
