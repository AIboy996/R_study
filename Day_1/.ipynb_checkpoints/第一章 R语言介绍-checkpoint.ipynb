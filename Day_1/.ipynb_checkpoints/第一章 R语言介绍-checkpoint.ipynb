{
 "cells": [
  {
   "cell_type": "markdown",
   "metadata": {},
   "source": [
    "# 婴儿月龄和体重"
   ]
  },
  {
   "cell_type": "code",
   "execution_count": 1,
   "metadata": {
    "ExecuteTime": {
     "end_time": "2021-01-24T14:18:59.325850Z",
     "start_time": "2021-01-24T14:18:59.289Z"
    }
   },
   "outputs": [],
   "source": [
    "age <- c(1,3,5,2,11,9,3,9,12,3)  #c()表示向量，赋值符号用 <- "
   ]
  },
  {
   "cell_type": "code",
   "execution_count": 2,
   "metadata": {
    "ExecuteTime": {
     "end_time": "2021-01-24T14:18:59.435559Z",
     "start_time": "2021-01-24T14:18:59.292Z"
    }
   },
   "outputs": [],
   "source": [
    "weight <- c(4.4,5.3,7.2,5.2,8.5,7.3,6.0,10.4,10.2,6.1)"
   ]
  },
  {
   "cell_type": "code",
   "execution_count": 3,
   "metadata": {
    "ExecuteTime": {
     "end_time": "2021-01-24T14:18:59.460490Z",
     "start_time": "2021-01-24T14:18:59.296Z"
    }
   },
   "outputs": [
    {
     "data": {
      "text/html": [
       "7.06"
      ],
      "text/latex": [
       "7.06"
      ],
      "text/markdown": [
       "7.06"
      ],
      "text/plain": [
       "[1] 7.06"
      ]
     },
     "metadata": {},
     "output_type": "display_data"
    }
   ],
   "source": [
    "mean(weight)  #均值"
   ]
  },
  {
   "cell_type": "code",
   "execution_count": 4,
   "metadata": {
    "ExecuteTime": {
     "end_time": "2021-01-24T14:18:59.486422Z",
     "start_time": "2021-01-24T14:18:59.299Z"
    }
   },
   "outputs": [
    {
     "data": {
      "text/html": [
       "2.07749849578766"
      ],
      "text/latex": [
       "2.07749849578766"
      ],
      "text/markdown": [
       "2.07749849578766"
      ],
      "text/plain": [
       "[1] 2.077498"
      ]
     },
     "metadata": {},
     "output_type": "display_data"
    }
   ],
   "source": [
    "sd(weight)   #标准差"
   ]
  },
  {
   "cell_type": "code",
   "execution_count": 5,
   "metadata": {
    "ExecuteTime": {
     "end_time": "2021-01-24T14:18:59.515344Z",
     "start_time": "2021-01-24T14:18:59.302Z"
    }
   },
   "outputs": [
    {
     "data": {
      "text/html": [
       "0.907565543895256"
      ],
      "text/latex": [
       "0.907565543895256"
      ],
      "text/markdown": [
       "0.907565543895256"
      ],
      "text/plain": [
       "[1] 0.9075655"
      ]
     },
     "metadata": {},
     "output_type": "display_data"
    }
   ],
   "source": [
    "cor(age,weight)  #相关系数"
   ]
  },
  {
   "cell_type": "code",
   "execution_count": 6,
   "metadata": {
    "ExecuteTime": {
     "end_time": "2021-01-24T14:18:59.596477Z",
     "start_time": "2021-01-24T14:18:59.304Z"
    }
   },
   "outputs": [
    {
     "data": {
      "image/png": "[encoded data removed]",
      "text/plain": [
       "plot without title"
      ]
     },
     "metadata": {
      "image/png": {
       "height": 420,
       "width": 420
      }
     },
     "output_type": "display_data"
    }
   ],
   "source": [
    "plot(age,weight)  #作图"
   ]
  },
  {
   "cell_type": "markdown",
   "metadata": {},
   "source": [
    "# 了解工作空间"
   ]
  },
  {
   "cell_type": "code",
   "execution_count": 7,
   "metadata": {
    "ExecuteTime": {
     "end_time": "2021-01-24T14:18:59.630679Z",
     "start_time": "2021-01-24T14:18:59.307Z"
    }
   },
   "outputs": [
    {
     "data": {
      "text/html": [
       "'F:/R/Day 1'"
      ],
      "text/latex": [
       "'F:/R/Day 1'"
      ],
      "text/markdown": [
       "'F:/R/Day 1'"
      ],
      "text/plain": [
       "[1] \"F:/R/Day 1\""
      ]
     },
     "metadata": {},
     "output_type": "display_data"
    }
   ],
   "source": [
    "getwd()   #显示当前工作目录"
   ]
  },
  {
   "cell_type": "code",
   "execution_count": 8,
   "metadata": {
    "ExecuteTime": {
     "end_time": "2021-01-24T14:18:59.694506Z",
     "start_time": "2021-01-24T14:18:59.308Z"
    },
    "scrolled": false
   },
   "outputs": [
    {
     "data": {
      "text/plain": [
       "$add.smooth\n",
       "[1] TRUE\n",
       "\n",
       "$browserNLdisabled\n",
       "[1] FALSE\n",
       "\n",
       "$CBoundsCheck\n",
       "[1] FALSE\n",
       "\n",
       "$check.bounds\n",
       "[1] FALSE\n",
       "\n",
       "$citation.bibtex.max\n",
       "[1] 1\n",
       "\n",
       "$continue\n",
       "[1] \"+ \"\n",
       "\n",
       "$contrasts\n",
       "        unordered           ordered \n",
       "\"contr.treatment\"      \"contr.poly\" \n",
       "\n",
       "$crayon.enabled\n",
       "[1] TRUE\n",
       "\n",
       "$defaultPackages\n",
       "[1] \"datasets\"  \"utils\"     \"grDevices\" \"graphics\"  \"stats\"     \"methods\"  \n",
       "\n",
       "$demo.ask\n",
       "[1] \"default\"\n",
       "\n",
       "$deparse.cutoff\n",
       "[1] 60\n",
       "\n",
       "$device\n",
       "function (filename = null_filename, ...) \n",
       "ok_device(filename, ...)\n",
       "<bytecode: 0x00000000151cf0f8>\n",
       "<environment: 0x00000000151cec28>\n",
       "\n",
       "$device.ask.default\n",
       "[1] FALSE\n",
       "\n",
       "$digits\n",
       "[1] 7\n",
       "\n",
       "$echo\n",
       "[1] FALSE\n",
       "\n",
       "$editor\n",
       "[1] \"notepad\"\n",
       "\n",
       "$encoding\n",
       "[1] \"native.enc\"\n",
       "\n",
       "$example.ask\n",
       "[1] \"default\"\n",
       "\n",
       "$expressions\n",
       "[1] 5000\n",
       "\n",
       "$help.search.types\n",
       "[1] \"vignette\" \"demo\"     \"help\"    \n",
       "\n",
       "$help.try.all.packages\n",
       "[1] FALSE\n",
       "\n",
       "$help_type\n",
       "[1] \"html\"\n",
       "\n",
       "$HTTPUserAgent\n",
       "[1] \"R (4.0.3 x86_64-w64-mingw32 x86_64 mingw32)\"\n",
       "\n",
       "$install.packages.compile.from.source\n",
       "[1] \"interactive\"\n",
       "\n",
       "$internet.info\n",
       "[1] 2\n",
       "\n",
       "$jupyter.base_display_func\n",
       "Class method definition for method display_data()\n",
       "function (data, metadata = NULL) \n",
       "{\n",
       "    if (is.null(metadata)) {\n",
       "        metadata <- namedlist()\n",
       "    }\n",
       "    send_response(\"display_data\", current_request, \"iopub\", list(data = data, \n",
       "        metadata = metadata))\n",
       "    invisible(TRUE)\n",
       "}\n",
       "<environment: 0x00000000153dcae0>\n",
       "\n",
       "$jupyter.display_mimetypes\n",
       " [1] \"text/plain\"                       \"text/html\"                       \n",
       " [3] \"text/markdown\"                    \"text/latex\"                      \n",
       " [5] \"application/json\"                 \"application/javascript\"          \n",
       " [7] \"application/geo+json\"             \"application/vdom.v1+json\"        \n",
       " [9] \"application/vnd.plotly.v1+json\"   \"application/vnd.vegalite.v2+json\"\n",
       "[11] \"application/vnd.vega.v4+json\"     \"application/pdf\"                 \n",
       "[13] \"image/png\"                        \"image/jpeg\"                      \n",
       "[15] \"image/svg+xml\"                   \n",
       "\n",
       "$jupyter.in_kernel\n",
       "[1] TRUE\n",
       "\n",
       "$jupyter.log_level\n",
       "[1] 1\n",
       "\n",
       "$jupyter.logfile\n",
       "[1] NA\n",
       "\n",
       "$jupyter.pager_classes\n",
       "[1] \"packageIQR\"            \"help_files_with_topic\"\n",
       "\n",
       "$jupyter.plot_mimetypes\n",
       "[1] \"text/plain\" \"image/png\" \n",
       "\n",
       "$jupyter.plot_scale\n",
       "[1] 2\n",
       "\n",
       "$jupyter.rich_display\n",
       "[1] TRUE\n",
       "\n",
       "$keep.parse.data\n",
       "[1] TRUE\n",
       "\n",
       "$keep.parse.data.pkgs\n",
       "[1] FALSE\n",
       "\n",
       "$keep.source\n",
       "[1] FALSE\n",
       "\n",
       "$keep.source.pkgs\n",
       "[1] FALSE\n",
       "\n",
       "$locatorBell\n",
       "[1] TRUE\n",
       "\n",
       "$mailer\n",
       "[1] \"mailto\"\n",
       "\n",
       "$matprod\n",
       "[1] \"default\"\n",
       "\n",
       "$max.print\n",
       "[1] 99999\n",
       "\n",
       "$menu.graphics\n",
       "[1] TRUE\n",
       "\n",
       "$na.action\n",
       "[1] \"na.omit\"\n",
       "\n",
       "$nwarnings\n",
       "[1] 50\n",
       "\n",
       "$OutDec\n",
       "[1] \".\"\n",
       "\n",
       "$pager\n",
       "function (files, header, title, delete.file) \n",
       "{\n",
       "    text <- title\n",
       "    for (path in files) {\n",
       "        text <- c(text, header, readLines(path))\n",
       "    }\n",
       "    if (delete.file) \n",
       "        file.remove(files)\n",
       "    data <- list(`text/plain` = paste(text, collapse = \"\\n\"))\n",
       "    page(list(data = data, metadata = namedlist()))\n",
       "}\n",
       "<environment: 0x00000000156cb2e8>\n",
       "\n",
       "$papersize\n",
       "[1] \"a4\"\n",
       "\n",
       "$PCRE_limit_recursion\n",
       "[1] NA\n",
       "\n",
       "$PCRE_study\n",
       "[1] FALSE\n",
       "\n",
       "$PCRE_use_JIT\n",
       "[1] TRUE\n",
       "\n",
       "$pdfviewer\n",
       "[1] \"E:/R-4.0.3/bin/x64/open.exe\"\n",
       "\n",
       "$pkgType\n",
       "[1] \"both\"\n",
       "\n",
       "$prompt\n",
       "[1] \"> \"\n",
       "\n",
       "$repos\n",
       "                        CRAN \n",
       "\"https://cran.r-project.org\" \n",
       "attr(,\"irkernel\")\n",
       "[1] TRUE\n",
       "\n",
       "$repr.function.highlight\n",
       "[1] FALSE\n",
       "\n",
       "$repr.html.deduplicate\n",
       "[1] FALSE\n",
       "\n",
       "$repr.matrix.latex.colspec\n",
       "$repr.matrix.latex.colspec$row_head\n",
       "[1] \"r|\"\n",
       "\n",
       "$repr.matrix.latex.colspec$col\n",
       "[1] \"l\"\n",
       "\n",
       "$repr.matrix.latex.colspec$end\n",
       "[1] \"\"\n",
       "\n",
       "\n",
       "$repr.matrix.max.cols\n",
       "[1] 20\n",
       "\n",
       "$repr.matrix.max.rows\n",
       "[1] 60\n",
       "\n",
       "$repr.plot.antialias\n",
       "[1] \"gray\"\n",
       "\n",
       "$repr.plot.bg\n",
       "[1] \"white\"\n",
       "\n",
       "$repr.plot.family\n",
       "[1] \"sans\"\n",
       "\n",
       "$repr.plot.height\n",
       "[1] 7\n",
       "\n",
       "$repr.plot.pointsize\n",
       "[1] 12\n",
       "\n",
       "$repr.plot.quality\n",
       "[1] 90\n",
       "\n",
       "$repr.plot.res\n",
       "[1] 120\n",
       "\n",
       "$repr.plot.width\n",
       "[1] 7\n",
       "\n",
       "$repr.vector.max.items\n",
       "[1] 400\n",
       "\n",
       "$repr.vector.quote\n",
       "[1] TRUE\n",
       "\n",
       "$scipen\n",
       "[1] 0\n",
       "\n",
       "$show.coef.Pvalues\n",
       "[1] TRUE\n",
       "\n",
       "$show.error.messages\n",
       "[1] TRUE\n",
       "\n",
       "$show.signif.stars\n",
       "[1] TRUE\n",
       "\n",
       "$showErrorCalls\n",
       "[1] TRUE\n",
       "\n",
       "$str\n",
       "$str$strict.width\n",
       "[1] \"no\"\n",
       "\n",
       "$str$digits.d\n",
       "[1] 3\n",
       "\n",
       "$str$vec.len\n",
       "[1] 4\n",
       "\n",
       "$str$list.len\n",
       "[1] 99\n",
       "\n",
       "$str$deparse.lines\n",
       "NULL\n",
       "\n",
       "$str$drop.deparse.attr\n",
       "[1] TRUE\n",
       "\n",
       "$str$formatNum\n",
       "function (x, ...) \n",
       "format(x, trim = TRUE, drop0trailing = TRUE, ...)\n",
       "<environment: 0x000000001484a698>\n",
       "\n",
       "\n",
       "$str.dendrogram.last\n",
       "[1] \"`\"\n",
       "\n",
       "$stringsAsFactors\n",
       "[1] FALSE\n",
       "\n",
       "$timeout\n",
       "[1] 60\n",
       "\n",
       "$try.outFile\n",
       "A connection with                            \n",
       "description \"output\"        \n",
       "class       \"textConnection\"\n",
       "mode        \"wr\"            \n",
       "text        \"text\"          \n",
       "opened      \"opened\"        \n",
       "can read    \"no\"            \n",
       "can write   \"yes\"           \n",
       "\n",
       "$ts.eps\n",
       "[1] 1e-05\n",
       "\n",
       "$ts.S.compat\n",
       "[1] FALSE\n",
       "\n",
       "$unzip\n",
       "[1] \"internal\"\n",
       "\n",
       "$useFancyQuotes\n",
       "[1] FALSE\n",
       "\n",
       "$verbose\n",
       "[1] FALSE\n",
       "\n",
       "$warn\n",
       "[1] 0\n",
       "\n",
       "$warning.length\n",
       "[1] 1000\n",
       "\n",
       "$width\n",
       "[1] 80\n",
       "\n",
       "$windowsTimeouts\n",
       "[1] 100 500\n"
      ]
     },
     "metadata": {},
     "output_type": "display_data"
    }
   ],
   "source": [
    "options()"
   ]
  },
  {
   "cell_type": "code",
   "execution_count": 9,
   "metadata": {
    "ExecuteTime": {
     "end_time": "2021-01-24T14:18:59.716448Z",
     "start_time": "2021-01-24T14:18:59.310Z"
    }
   },
   "outputs": [],
   "source": [
    "options(digits=3)"
   ]
  },
  {
   "cell_type": "code",
   "execution_count": 10,
   "metadata": {
    "ExecuteTime": {
     "end_time": "2021-01-24T14:18:59.771300Z",
     "start_time": "2021-01-24T14:18:59.312Z"
    }
   },
   "outputs": [
    {
     "data": {
      "text/plain": [
       "$add.smooth\n",
       "[1] TRUE\n",
       "\n",
       "$browserNLdisabled\n",
       "[1] FALSE\n",
       "\n",
       "$CBoundsCheck\n",
       "[1] FALSE\n",
       "\n",
       "$check.bounds\n",
       "[1] FALSE\n",
       "\n",
       "$citation.bibtex.max\n",
       "[1] 1\n",
       "\n",
       "$continue\n",
       "[1] \"+ \"\n",
       "\n",
       "$contrasts\n",
       "        unordered           ordered \n",
       "\"contr.treatment\"      \"contr.poly\" \n",
       "\n",
       "$crayon.enabled\n",
       "[1] TRUE\n",
       "\n",
       "$defaultPackages\n",
       "[1] \"datasets\"  \"utils\"     \"grDevices\" \"graphics\"  \"stats\"     \"methods\"  \n",
       "\n",
       "$demo.ask\n",
       "[1] \"default\"\n",
       "\n",
       "$deparse.cutoff\n",
       "[1] 60\n",
       "\n",
       "$device\n",
       "function (filename = null_filename, ...) \n",
       "ok_device(filename, ...)\n",
       "<bytecode: 0x00000000151cf0f8>\n",
       "<environment: 0x00000000151cec28>\n",
       "\n",
       "$device.ask.default\n",
       "[1] FALSE\n",
       "\n",
       "$digits\n",
       "[1] 3\n",
       "\n",
       "$echo\n",
       "[1] FALSE\n",
       "\n",
       "$editor\n",
       "[1] \"notepad\"\n",
       "\n",
       "$encoding\n",
       "[1] \"native.enc\"\n",
       "\n",
       "$example.ask\n",
       "[1] \"default\"\n",
       "\n",
       "$expressions\n",
       "[1] 5000\n",
       "\n",
       "$help.search.types\n",
       "[1] \"vignette\" \"demo\"     \"help\"    \n",
       "\n",
       "$help.try.all.packages\n",
       "[1] FALSE\n",
       "\n",
       "$help_type\n",
       "[1] \"html\"\n",
       "\n",
       "$HTTPUserAgent\n",
       "[1] \"R (4.0.3 x86_64-w64-mingw32 x86_64 mingw32)\"\n",
       "\n",
       "$install.packages.compile.from.source\n",
       "[1] \"interactive\"\n",
       "\n",
       "$internet.info\n",
       "[1] 2\n",
       "\n",
       "$jupyter.base_display_func\n",
       "Class method definition for method display_data()\n",
       "function (data, metadata = NULL) \n",
       "{\n",
       "    if (is.null(metadata)) {\n",
       "        metadata <- namedlist()\n",
       "    }\n",
       "    send_response(\"display_data\", current_request, \"iopub\", list(data = data, \n",
       "        metadata = metadata))\n",
       "    invisible(TRUE)\n",
       "}\n",
       "<environment: 0x00000000153dcae0>\n",
       "\n",
       "$jupyter.display_mimetypes\n",
       " [1] \"text/plain\"                       \"text/html\"                       \n",
       " [3] \"text/markdown\"                    \"text/latex\"                      \n",
       " [5] \"application/json\"                 \"application/javascript\"          \n",
       " [7] \"application/geo+json\"             \"application/vdom.v1+json\"        \n",
       " [9] \"application/vnd.plotly.v1+json\"   \"application/vnd.vegalite.v2+json\"\n",
       "[11] \"application/vnd.vega.v4+json\"     \"application/pdf\"                 \n",
       "[13] \"image/png\"                        \"image/jpeg\"                      \n",
       "[15] \"image/svg+xml\"                   \n",
       "\n",
       "$jupyter.in_kernel\n",
       "[1] TRUE\n",
       "\n",
       "$jupyter.log_level\n",
       "[1] 1\n",
       "\n",
       "$jupyter.logfile\n",
       "[1] NA\n",
       "\n",
       "$jupyter.pager_classes\n",
       "[1] \"packageIQR\"            \"help_files_with_topic\"\n",
       "\n",
       "$jupyter.plot_mimetypes\n",
       "[1] \"text/plain\" \"image/png\" \n",
       "\n",
       "$jupyter.plot_scale\n",
       "[1] 2\n",
       "\n",
       "$jupyter.rich_display\n",
       "[1] TRUE\n",
       "\n",
       "$keep.parse.data\n",
       "[1] TRUE\n",
       "\n",
       "$keep.parse.data.pkgs\n",
       "[1] FALSE\n",
       "\n",
       "$keep.source\n",
       "[1] FALSE\n",
       "\n",
       "$keep.source.pkgs\n",
       "[1] FALSE\n",
       "\n",
       "$locatorBell\n",
       "[1] TRUE\n",
       "\n",
       "$mailer\n",
       "[1] \"mailto\"\n",
       "\n",
       "$matprod\n",
       "[1] \"default\"\n",
       "\n",
       "$max.print\n",
       "[1] 99999\n",
       "\n",
       "$menu.graphics\n",
       "[1] TRUE\n",
       "\n",
       "$na.action\n",
       "[1] \"na.omit\"\n",
       "\n",
       "$nwarnings\n",
       "[1] 50\n",
       "\n",
       "$OutDec\n",
       "[1] \".\"\n",
       "\n",
       "$pager\n",
       "function (files, header, title, delete.file) \n",
       "{\n",
       "    text <- title\n",
       "    for (path in files) {\n",
       "        text <- c(text, header, readLines(path))\n",
       "    }\n",
       "    if (delete.file) \n",
       "        file.remove(files)\n",
       "    data <- list(`text/plain` = paste(text, collapse = \"\\n\"))\n",
       "    page(list(data = data, metadata = namedlist()))\n",
       "}\n",
       "<environment: 0x00000000156cb2e8>\n",
       "\n",
       "$papersize\n",
       "[1] \"a4\"\n",
       "\n",
       "$PCRE_limit_recursion\n",
       "[1] NA\n",
       "\n",
       "$PCRE_study\n",
       "[1] FALSE\n",
       "\n",
       "$PCRE_use_JIT\n",
       "[1] TRUE\n",
       "\n",
       "$pdfviewer\n",
       "[1] \"E:/R-4.0.3/bin/x64/open.exe\"\n",
       "\n",
       "$pkgType\n",
       "[1] \"both\"\n",
       "\n",
       "$prompt\n",
       "[1] \"> \"\n",
       "\n",
       "$repos\n",
       "                        CRAN \n",
       "\"https://cran.r-project.org\" \n",
       "attr(,\"irkernel\")\n",
       "[1] TRUE\n",
       "\n",
       "$repr.function.highlight\n",
       "[1] FALSE\n",
       "\n",
       "$repr.html.deduplicate\n",
       "[1] FALSE\n",
       "\n",
       "$repr.matrix.latex.colspec\n",
       "$repr.matrix.latex.colspec$row_head\n",
       "[1] \"r|\"\n",
       "\n",
       "$repr.matrix.latex.colspec$col\n",
       "[1] \"l\"\n",
       "\n",
       "$repr.matrix.latex.colspec$end\n",
       "[1] \"\"\n",
       "\n",
       "\n",
       "$repr.matrix.max.cols\n",
       "[1] 20\n",
       "\n",
       "$repr.matrix.max.rows\n",
       "[1] 60\n",
       "\n",
       "$repr.plot.antialias\n",
       "[1] \"gray\"\n",
       "\n",
       "$repr.plot.bg\n",
       "[1] \"white\"\n",
       "\n",
       "$repr.plot.family\n",
       "[1] \"sans\"\n",
       "\n",
       "$repr.plot.height\n",
       "[1] 7\n",
       "\n",
       "$repr.plot.pointsize\n",
       "[1] 12\n",
       "\n",
       "$repr.plot.quality\n",
       "[1] 90\n",
       "\n",
       "$repr.plot.res\n",
       "[1] 120\n",
       "\n",
       "$repr.plot.width\n",
       "[1] 7\n",
       "\n",
       "$repr.vector.max.items\n",
       "[1] 400\n",
       "\n",
       "$repr.vector.quote\n",
       "[1] TRUE\n",
       "\n",
       "$scipen\n",
       "[1] 0\n",
       "\n",
       "$show.coef.Pvalues\n",
       "[1] TRUE\n",
       "\n",
       "$show.error.messages\n",
       "[1] TRUE\n",
       "\n",
       "$show.signif.stars\n",
       "[1] TRUE\n",
       "\n",
       "$showErrorCalls\n",
       "[1] TRUE\n",
       "\n",
       "$str\n",
       "$str$strict.width\n",
       "[1] \"no\"\n",
       "\n",
       "$str$digits.d\n",
       "[1] 3\n",
       "\n",
       "$str$vec.len\n",
       "[1] 4\n",
       "\n",
       "$str$list.len\n",
       "[1] 99\n",
       "\n",
       "$str$deparse.lines\n",
       "NULL\n",
       "\n",
       "$str$drop.deparse.attr\n",
       "[1] TRUE\n",
       "\n",
       "$str$formatNum\n",
       "function (x, ...) \n",
       "format(x, trim = TRUE, drop0trailing = TRUE, ...)\n",
       "<environment: 0x000000001484a698>\n",
       "\n",
       "\n",
       "$str.dendrogram.last\n",
       "[1] \"`\"\n",
       "\n",
       "$stringsAsFactors\n",
       "[1] FALSE\n",
       "\n",
       "$timeout\n",
       "[1] 60\n",
       "\n",
       "$try.outFile\n",
       "A connection with                            \n",
       "description \"output\"        \n",
       "class       \"textConnection\"\n",
       "mode        \"wr\"            \n",
       "text        \"text\"          \n",
       "opened      \"opened\"        \n",
       "can read    \"no\"            \n",
       "can write   \"yes\"           \n",
       "\n",
       "$ts.eps\n",
       "[1] 1e-05\n",
       "\n",
       "$ts.S.compat\n",
       "[1] FALSE\n",
       "\n",
       "$unzip\n",
       "[1] \"internal\"\n",
       "\n",
       "$useFancyQuotes\n",
       "[1] FALSE\n",
       "\n",
       "$verbose\n",
       "[1] FALSE\n",
       "\n",
       "$warn\n",
       "[1] 0\n",
       "\n",
       "$warning.length\n",
       "[1] 1000\n",
       "\n",
       "$width\n",
       "[1] 80\n",
       "\n",
       "$windowsTimeouts\n",
       "[1] 100 500\n"
      ]
     },
     "metadata": {},
     "output_type": "display_data"
    }
   ],
   "source": [
    "options()   #注意到digits这一项已经改变"
   ]
  },
  {
   "cell_type": "code",
   "execution_count": 11,
   "metadata": {
    "ExecuteTime": {
     "end_time": "2021-01-24T14:18:59.794240Z",
     "start_time": "2021-01-24T14:18:59.313Z"
    }
   },
   "outputs": [],
   "source": [
    "x <- runif(20)"
   ]
  },
  {
   "cell_type": "code",
   "execution_count": 12,
   "metadata": {
    "ExecuteTime": {
     "end_time": "2021-01-24T14:18:59.827179Z",
     "start_time": "2021-01-24T14:18:59.316Z"
    }
   },
   "outputs": [
    {
     "data": {
      "text/plain": [
       "   Min. 1st Qu.  Median    Mean 3rd Qu.    Max. \n",
       "  0.003   0.355   0.576   0.520   0.708   0.830 "
      ]
     },
     "metadata": {},
     "output_type": "display_data"
    }
   ],
   "source": [
    "summary(x)    #摘要统计量"
   ]
  },
  {
   "cell_type": "code",
   "execution_count": 13,
   "metadata": {
    "ExecuteTime": {
     "end_time": "2021-01-24T14:18:59.899959Z",
     "start_time": "2021-01-24T14:18:59.318Z"
    }
   },
   "outputs": [
    {
     "data": {
      "image/png": "[encoded data removed]",
      "text/plain": [
       "Plot with title \"Histogram of x\""
      ]
     },
     "metadata": {
      "image/png": {
       "height": 420,
       "width": 420
      }
     },
     "output_type": "display_data"
    }
   ],
   "source": [
    "hist(x)   #直方图"
   ]
  },
  {
   "cell_type": "code",
   "execution_count": 14,
   "metadata": {
    "ExecuteTime": {
     "end_time": "2021-01-24T14:18:59.927883Z",
     "start_time": "2021-01-24T14:18:59.320Z"
    }
   },
   "outputs": [
    {
     "ename": "ERROR",
     "evalue": "Error in .External2(C_savehistory, file): 'savehistory' can only be used in Rgui and Rterm\n",
     "output_type": "error",
     "traceback": [
      "Error in .External2(C_savehistory, file): 'savehistory' can only be used in Rgui and Rterm\nTraceback:\n",
      "1. savehistory()"
     ]
    }
   ],
   "source": [
    "savehistory()   #jupyter似乎不能进行这项命令"
   ]
  },
  {
   "cell_type": "code",
   "execution_count": 15,
   "metadata": {
    "ExecuteTime": {
     "end_time": "2021-01-24T14:19:05.315483Z",
     "start_time": "2021-01-24T14:19:05.281Z"
    }
   },
   "outputs": [],
   "source": [
    "save.image()   #保存工作空间到当前工作目录，生成了 .RData 文件"
   ]
  },
  {
   "cell_type": "markdown",
   "metadata": {},
   "source": [
    "# 输入和输出"
   ]
  },
  {
   "cell_type": "markdown",
   "metadata": {},
   "source": [
    "## 输入"
   ]
  },
  {
   "cell_type": "code",
   "execution_count": 16,
   "metadata": {
    "ExecuteTime": {
     "end_time": "2021-01-24T14:19:06.518369Z",
     "start_time": "2021-01-24T14:19:06.493Z"
    }
   },
   "outputs": [
    {
     "name": "stdout",
     "output_type": "stream",
     "text": [
      "[1] \"Hello world!\"\n"
     ]
    }
   ],
   "source": [
    "source('script1.r')   #运行test.r脚本"
   ]
  },
  {
   "cell_type": "markdown",
   "metadata": {},
   "source": [
    "## 文本输出"
   ]
  },
  {
   "cell_type": "markdown",
   "metadata": {},
   "source": [
    "### cat"
   ]
  },
  {
   "cell_type": "code",
   "execution_count": 17,
   "metadata": {
    "ExecuteTime": {
     "end_time": "2021-01-24T14:19:07.650990Z",
     "start_time": "2021-01-24T14:19:07.629Z"
    }
   },
   "outputs": [
    {
     "name": "stdout",
     "output_type": "stream",
     "text": [
      "hello"
     ]
    }
   ],
   "source": [
    "cat(\"hello\")   #输出到屏幕"
   ]
  },
  {
   "cell_type": "code",
   "execution_count": 18,
   "metadata": {
    "ExecuteTime": {
     "end_time": "2021-01-24T14:19:07.946803Z",
     "start_time": "2021-01-24T14:19:07.916Z"
    }
   },
   "outputs": [],
   "source": [
    "cat(\"hello\",file=\"myoutput.txt\",append=T)  #输出到文件"
   ]
  },
  {
   "cell_type": "markdown",
   "metadata": {},
   "source": [
    "### sink，存疑！！"
   ]
  },
  {
   "cell_type": "code",
   "execution_count": 19,
   "metadata": {
    "ExecuteTime": {
     "end_time": "2021-01-24T14:19:08.461665Z",
     "start_time": "2021-01-24T14:19:08.428Z"
    }
   },
   "outputs": [
    {
     "name": "stdout",
     "output_type": "stream",
     "text": [
      "[1] \"wwwwwww\"\n",
      "whahhahahah"
     ]
    }
   ],
   "source": [
    "sink(\"myoutput.txt\",split=TRUE,append=TRUE) # 将输出重定向到myoutput.txt\n",
    "print(\"wwwwwww\")\n",
    "cat('whahhahahah')\n",
    "sink() # 结束重定向"
   ]
  },
  {
   "cell_type": "raw",
   "metadata": {},
   "source": [
    "然而并没有输出到文件，不知道为什么"
   ]
  },
  {
   "cell_type": "markdown",
   "metadata": {},
   "source": [
    "### writeLines"
   ]
  },
  {
   "cell_type": "code",
   "execution_count": 20,
   "metadata": {
    "ExecuteTime": {
     "end_time": "2021-01-24T14:19:09.562174Z",
     "start_time": "2021-01-24T14:19:09.535Z"
    }
   },
   "outputs": [],
   "source": [
    " a=c(\"one\",\"two\")\n",
    " writeLines(a,con=\"myoutput.txt\",sep=\"\\n\")   #把字符串写到文件里，每次都会覆盖写！！！！"
   ]
  },
  {
   "cell_type": "markdown",
   "metadata": {},
   "source": [
    "### write.table"
   ]
  },
  {
   "cell_type": "code",
   "execution_count": 21,
   "metadata": {
    "ExecuteTime": {
     "end_time": "2021-01-24T14:19:10.202108Z",
     "start_time": "2021-01-24T14:19:10.170Z"
    }
   },
   "outputs": [
    {
     "name": "stderr",
     "output_type": "stream",
     "text": [
      "Warning message in write.table(df, file = \"myoutput.txt\", append = T, row.names = F):\n",
      "\"appending column names to file\"\n"
     ]
    }
   ],
   "source": [
    "m=matrix(1:12,nrow=3)\n",
    "df=as.data.frame(m)\n",
    "write.table(df,file=\"myoutput.txt\",append=T,row.names=F)  #写入数据"
   ]
  },
  {
   "cell_type": "markdown",
   "metadata": {},
   "source": [
    "## 图形输出"
   ]
  },
  {
   "cell_type": "code",
   "execution_count": 22,
   "metadata": {
    "ExecuteTime": {
     "end_time": "2021-01-24T14:19:11.284483Z",
     "start_time": "2021-01-24T14:19:11.214Z"
    }
   },
   "outputs": [
    {
     "data": {
      "image/png": "[encoded data removed]",
      "text/plain": [
       "Plot with title \"Histogram of x\""
      ]
     },
     "metadata": {
      "image/png": {
       "height": 420,
       "width": 420
      }
     },
     "output_type": "display_data"
    }
   ],
   "source": [
    "source('script2.r')   #输出到屏幕"
   ]
  },
  {
   "cell_type": "code",
   "execution_count": 23,
   "metadata": {
    "ExecuteTime": {
     "end_time": "2021-01-24T14:19:11.982626Z",
     "start_time": "2021-01-24T14:19:11.935Z"
    }
   },
   "outputs": [
    {
     "data": {
      "text/html": [
       "<strong>png:</strong> 2"
      ],
      "text/latex": [
       "\\textbf{png:} 2"
      ],
      "text/markdown": [
       "**png:** 2"
      ],
      "text/plain": [
       "png \n",
       "  2 "
      ]
     },
     "metadata": {},
     "output_type": "display_data"
    }
   ],
   "source": [
    "png('hist.png')    #输出到文件\n",
    "hist(x)\n",
    "dev.off()   #必须带上结束重新定向的语句，否则生成的文件会一直被占用，保持写入状态"
   ]
  },
  {
   "cell_type": "markdown",
   "metadata": {},
   "source": [
    "# 包"
   ]
  },
  {
   "cell_type": "code",
   "execution_count": 24,
   "metadata": {
    "ExecuteTime": {
     "end_time": "2021-01-24T14:19:13.611744Z",
     "start_time": "2021-01-24T14:19:13.414Z"
    }
   },
   "outputs": [
    {
     "name": "stderr",
     "output_type": "stream",
     "text": [
      "starting httpd help server ...\n",
      " done\n",
      "\n"
     ]
    },
    {
     "name": "stdout",
     "output_type": "stream",
     "text": [
      "If nothing happens, you should open\n",
      "'http://127.0.0.1:20781/doc/html/index.html' yourself\n"
     ]
    }
   ],
   "source": [
    "help.start()"
   ]
  },
  {
   "cell_type": "code",
   "execution_count": 25,
   "metadata": {
    "ExecuteTime": {
     "end_time": "2021-01-24T14:19:17.432664Z",
     "start_time": "2021-01-24T14:19:17.406Z"
    }
   },
   "outputs": [],
   "source": [
    "#   install.packages('vcd')\n",
    "#这里不演示安装包的过程，因为jupyter似乎装不了"
   ]
  },
  {
   "cell_type": "code",
   "execution_count": 26,
   "metadata": {
    "ExecuteTime": {
     "end_time": "2021-01-24T14:19:18.238195Z",
     "start_time": "2021-01-24T14:19:18.201Z"
    }
   },
   "outputs": [],
   "source": [
    "help(package='vcd')   #jupyter会炫酷地弹出一个弹窗，而不是跳转网页，哈哈哈哈哈"
   ]
  },
  {
   "cell_type": "code",
   "execution_count": 27,
   "metadata": {
    "ExecuteTime": {
     "end_time": "2021-01-24T14:19:22.169761Z",
     "start_time": "2021-01-24T14:19:22.005Z"
    }
   },
   "outputs": [
    {
     "name": "stderr",
     "output_type": "stream",
     "text": [
      "Loading required package: grid\n",
      "\n"
     ]
    }
   ],
   "source": [
    "library(vcd)"
   ]
  },
  {
   "cell_type": "code",
   "execution_count": 28,
   "metadata": {
    "ExecuteTime": {
     "end_time": "2021-01-24T14:19:23.383285Z",
     "start_time": "2021-01-24T14:19:23.258Z"
    }
   },
   "outputs": [],
   "source": [
    "help(Arthritis)    #同样炫酷的弹窗，i了i了"
   ]
  },
  {
   "cell_type": "code",
   "execution_count": 29,
   "metadata": {
    "ExecuteTime": {
     "end_time": "2021-01-24T14:19:27.042609Z",
     "start_time": "2021-01-24T14:19:26.925Z"
    }
   },
   "outputs": [
    {
     "data": {
      "text/html": [
       "<table class=\"dataframe\">\n",
       "<caption>A data.frame: 84 × 5</caption>\n",
       "<thead>\n",
       "\t<tr><th></th><th scope=col>ID</th><th scope=col>Treatment</th><th scope=col>Sex</th><th scope=col>Age</th><th scope=col>Improved</th></tr>\n",
       "\t<tr><th></th><th scope=col>&lt;int&gt;</th><th scope=col>&lt;fct&gt;</th><th scope=col>&lt;fct&gt;</th><th scope=col>&lt;int&gt;</th><th scope=col>&lt;ord&gt;</th></tr>\n",
       "</thead>\n",
       "<tbody>\n",
       "\t<tr><th scope=row>1</th><td>57</td><td>Treated</td><td>Male  </td><td>27</td><td>Some  </td></tr>\n",
       "\t<tr><th scope=row>2</th><td>46</td><td>Treated</td><td>Male  </td><td>29</td><td>None  </td></tr>\n",
       "\t<tr><th scope=row>3</th><td>77</td><td>Treated</td><td>Male  </td><td>30</td><td>None  </td></tr>\n",
       "\t<tr><th scope=row>4</th><td>17</td><td>Treated</td><td>Male  </td><td>32</td><td>Marked</td></tr>\n",
       "\t<tr><th scope=row>5</th><td>36</td><td>Treated</td><td>Male  </td><td>46</td><td>Marked</td></tr>\n",
       "\t<tr><th scope=row>6</th><td>23</td><td>Treated</td><td>Male  </td><td>58</td><td>Marked</td></tr>\n",
       "\t<tr><th scope=row>7</th><td>75</td><td>Treated</td><td>Male  </td><td>59</td><td>None  </td></tr>\n",
       "\t<tr><th scope=row>8</th><td>39</td><td>Treated</td><td>Male  </td><td>59</td><td>Marked</td></tr>\n",
       "\t<tr><th scope=row>9</th><td>33</td><td>Treated</td><td>Male  </td><td>63</td><td>None  </td></tr>\n",
       "\t<tr><th scope=row>10</th><td>55</td><td>Treated</td><td>Male  </td><td>63</td><td>None  </td></tr>\n",
       "\t<tr><th scope=row>11</th><td>30</td><td>Treated</td><td>Male  </td><td>64</td><td>None  </td></tr>\n",
       "\t<tr><th scope=row>12</th><td> 5</td><td>Treated</td><td>Male  </td><td>64</td><td>Some  </td></tr>\n",
       "\t<tr><th scope=row>13</th><td>63</td><td>Treated</td><td>Male  </td><td>69</td><td>None  </td></tr>\n",
       "\t<tr><th scope=row>14</th><td>83</td><td>Treated</td><td>Male  </td><td>70</td><td>Marked</td></tr>\n",
       "\t<tr><th scope=row>15</th><td>66</td><td>Treated</td><td>Female</td><td>23</td><td>None  </td></tr>\n",
       "\t<tr><th scope=row>16</th><td>40</td><td>Treated</td><td>Female</td><td>32</td><td>None  </td></tr>\n",
       "\t<tr><th scope=row>17</th><td> 6</td><td>Treated</td><td>Female</td><td>37</td><td>Some  </td></tr>\n",
       "\t<tr><th scope=row>18</th><td> 7</td><td>Treated</td><td>Female</td><td>41</td><td>None  </td></tr>\n",
       "\t<tr><th scope=row>19</th><td>72</td><td>Treated</td><td>Female</td><td>41</td><td>Marked</td></tr>\n",
       "\t<tr><th scope=row>20</th><td>37</td><td>Treated</td><td>Female</td><td>48</td><td>None  </td></tr>\n",
       "\t<tr><th scope=row>21</th><td>82</td><td>Treated</td><td>Female</td><td>48</td><td>Marked</td></tr>\n",
       "\t<tr><th scope=row>22</th><td>53</td><td>Treated</td><td>Female</td><td>55</td><td>Marked</td></tr>\n",
       "\t<tr><th scope=row>23</th><td>79</td><td>Treated</td><td>Female</td><td>55</td><td>Marked</td></tr>\n",
       "\t<tr><th scope=row>24</th><td>26</td><td>Treated</td><td>Female</td><td>56</td><td>Marked</td></tr>\n",
       "\t<tr><th scope=row>25</th><td>28</td><td>Treated</td><td>Female</td><td>57</td><td>Marked</td></tr>\n",
       "\t<tr><th scope=row>26</th><td>60</td><td>Treated</td><td>Female</td><td>57</td><td>Marked</td></tr>\n",
       "\t<tr><th scope=row>27</th><td>22</td><td>Treated</td><td>Female</td><td>57</td><td>Marked</td></tr>\n",
       "\t<tr><th scope=row>28</th><td>27</td><td>Treated</td><td>Female</td><td>58</td><td>None  </td></tr>\n",
       "\t<tr><th scope=row>29</th><td> 2</td><td>Treated</td><td>Female</td><td>59</td><td>Marked</td></tr>\n",
       "\t<tr><th scope=row>30</th><td>59</td><td>Treated</td><td>Female</td><td>59</td><td>Marked</td></tr>\n",
       "\t<tr><th scope=row>...</th><td>...</td><td>...</td><td>...</td><td>...</td><td>...</td></tr>\n",
       "\t<tr><th scope=row>55</th><td>29</td><td>Placebo</td><td>Female</td><td>30</td><td>None  </td></tr>\n",
       "\t<tr><th scope=row>56</th><td>50</td><td>Placebo</td><td>Female</td><td>31</td><td>Some  </td></tr>\n",
       "\t<tr><th scope=row>57</th><td>38</td><td>Placebo</td><td>Female</td><td>32</td><td>None  </td></tr>\n",
       "\t<tr><th scope=row>58</th><td>35</td><td>Placebo</td><td>Female</td><td>33</td><td>Marked</td></tr>\n",
       "\t<tr><th scope=row>59</th><td>51</td><td>Placebo</td><td>Female</td><td>37</td><td>None  </td></tr>\n",
       "\t<tr><th scope=row>60</th><td>54</td><td>Placebo</td><td>Female</td><td>44</td><td>None  </td></tr>\n",
       "\t<tr><th scope=row>61</th><td>76</td><td>Placebo</td><td>Female</td><td>45</td><td>None  </td></tr>\n",
       "\t<tr><th scope=row>62</th><td>16</td><td>Placebo</td><td>Female</td><td>46</td><td>None  </td></tr>\n",
       "\t<tr><th scope=row>63</th><td>69</td><td>Placebo</td><td>Female</td><td>48</td><td>None  </td></tr>\n",
       "\t<tr><th scope=row>64</th><td>31</td><td>Placebo</td><td>Female</td><td>49</td><td>None  </td></tr>\n",
       "\t<tr><th scope=row>65</th><td>20</td><td>Placebo</td><td>Female</td><td>51</td><td>None  </td></tr>\n",
       "\t<tr><th scope=row>66</th><td>68</td><td>Placebo</td><td>Female</td><td>53</td><td>None  </td></tr>\n",
       "\t<tr><th scope=row>67</th><td>81</td><td>Placebo</td><td>Female</td><td>54</td><td>None  </td></tr>\n",
       "\t<tr><th scope=row>68</th><td> 4</td><td>Placebo</td><td>Female</td><td>54</td><td>None  </td></tr>\n",
       "\t<tr><th scope=row>69</th><td>78</td><td>Placebo</td><td>Female</td><td>54</td><td>Marked</td></tr>\n",
       "\t<tr><th scope=row>70</th><td>70</td><td>Placebo</td><td>Female</td><td>55</td><td>Marked</td></tr>\n",
       "\t<tr><th scope=row>71</th><td>49</td><td>Placebo</td><td>Female</td><td>57</td><td>None  </td></tr>\n",
       "\t<tr><th scope=row>72</th><td>10</td><td>Placebo</td><td>Female</td><td>57</td><td>Some  </td></tr>\n",
       "\t<tr><th scope=row>73</th><td>47</td><td>Placebo</td><td>Female</td><td>58</td><td>Some  </td></tr>\n",
       "\t<tr><th scope=row>74</th><td>44</td><td>Placebo</td><td>Female</td><td>59</td><td>Some  </td></tr>\n",
       "\t<tr><th scope=row>75</th><td>24</td><td>Placebo</td><td>Female</td><td>59</td><td>Marked</td></tr>\n",
       "\t<tr><th scope=row>76</th><td>48</td><td>Placebo</td><td>Female</td><td>61</td><td>None  </td></tr>\n",
       "\t<tr><th scope=row>77</th><td>19</td><td>Placebo</td><td>Female</td><td>63</td><td>Some  </td></tr>\n",
       "\t<tr><th scope=row>78</th><td> 3</td><td>Placebo</td><td>Female</td><td>64</td><td>None  </td></tr>\n",
       "\t<tr><th scope=row>79</th><td>67</td><td>Placebo</td><td>Female</td><td>65</td><td>Marked</td></tr>\n",
       "\t<tr><th scope=row>80</th><td>32</td><td>Placebo</td><td>Female</td><td>66</td><td>None  </td></tr>\n",
       "\t<tr><th scope=row>81</th><td>42</td><td>Placebo</td><td>Female</td><td>66</td><td>None  </td></tr>\n",
       "\t<tr><th scope=row>82</th><td>15</td><td>Placebo</td><td>Female</td><td>66</td><td>Some  </td></tr>\n",
       "\t<tr><th scope=row>83</th><td>71</td><td>Placebo</td><td>Female</td><td>68</td><td>Some  </td></tr>\n",
       "\t<tr><th scope=row>84</th><td> 1</td><td>Placebo</td><td>Female</td><td>74</td><td>Marked</td></tr>\n",
       "</tbody>\n",
       "</table>\n"
      ],
      "text/latex": [
       "A data.frame: 84 × 5\n",
       "\\begin{tabular}{r|lllll}\n",
       "  & ID & Treatment & Sex & Age & Improved\\\\\n",
       "  & <int> & <fct> & <fct> & <int> & <ord>\\\\\n",
       "\\hline\n",
       "\t1 & 57 & Treated & Male   & 27 & Some  \\\\\n",
       "\t2 & 46 & Treated & Male   & 29 & None  \\\\\n",
       "\t3 & 77 & Treated & Male   & 30 & None  \\\\\n",
       "\t4 & 17 & Treated & Male   & 32 & Marked\\\\\n",
       "\t5 & 36 & Treated & Male   & 46 & Marked\\\\\n",
       "\t6 & 23 & Treated & Male   & 58 & Marked\\\\\n",
       "\t7 & 75 & Treated & Male   & 59 & None  \\\\\n",
       "\t8 & 39 & Treated & Male   & 59 & Marked\\\\\n",
       "\t9 & 33 & Treated & Male   & 63 & None  \\\\\n",
       "\t10 & 55 & Treated & Male   & 63 & None  \\\\\n",
       "\t11 & 30 & Treated & Male   & 64 & None  \\\\\n",
       "\t12 &  5 & Treated & Male   & 64 & Some  \\\\\n",
       "\t13 & 63 & Treated & Male   & 69 & None  \\\\\n",
       "\t14 & 83 & Treated & Male   & 70 & Marked\\\\\n",
       "\t15 & 66 & Treated & Female & 23 & None  \\\\\n",
       "\t16 & 40 & Treated & Female & 32 & None  \\\\\n",
       "\t17 &  6 & Treated & Female & 37 & Some  \\\\\n",
       "\t18 &  7 & Treated & Female & 41 & None  \\\\\n",
       "\t19 & 72 & Treated & Female & 41 & Marked\\\\\n",
       "\t20 & 37 & Treated & Female & 48 & None  \\\\\n",
       "\t21 & 82 & Treated & Female & 48 & Marked\\\\\n",
       "\t22 & 53 & Treated & Female & 55 & Marked\\\\\n",
       "\t23 & 79 & Treated & Female & 55 & Marked\\\\\n",
       "\t24 & 26 & Treated & Female & 56 & Marked\\\\\n",
       "\t25 & 28 & Treated & Female & 57 & Marked\\\\\n",
       "\t26 & 60 & Treated & Female & 57 & Marked\\\\\n",
       "\t27 & 22 & Treated & Female & 57 & Marked\\\\\n",
       "\t28 & 27 & Treated & Female & 58 & None  \\\\\n",
       "\t29 &  2 & Treated & Female & 59 & Marked\\\\\n",
       "\t30 & 59 & Treated & Female & 59 & Marked\\\\\n",
       "\t... & ... & ... & ... & ... & ...\\\\\n",
       "\t55 & 29 & Placebo & Female & 30 & None  \\\\\n",
       "\t56 & 50 & Placebo & Female & 31 & Some  \\\\\n",
       "\t57 & 38 & Placebo & Female & 32 & None  \\\\\n",
       "\t58 & 35 & Placebo & Female & 33 & Marked\\\\\n",
       "\t59 & 51 & Placebo & Female & 37 & None  \\\\\n",
       "\t60 & 54 & Placebo & Female & 44 & None  \\\\\n",
       "\t61 & 76 & Placebo & Female & 45 & None  \\\\\n",
       "\t62 & 16 & Placebo & Female & 46 & None  \\\\\n",
       "\t63 & 69 & Placebo & Female & 48 & None  \\\\\n",
       "\t64 & 31 & Placebo & Female & 49 & None  \\\\\n",
       "\t65 & 20 & Placebo & Female & 51 & None  \\\\\n",
       "\t66 & 68 & Placebo & Female & 53 & None  \\\\\n",
       "\t67 & 81 & Placebo & Female & 54 & None  \\\\\n",
       "\t68 &  4 & Placebo & Female & 54 & None  \\\\\n",
       "\t69 & 78 & Placebo & Female & 54 & Marked\\\\\n",
       "\t70 & 70 & Placebo & Female & 55 & Marked\\\\\n",
       "\t71 & 49 & Placebo & Female & 57 & None  \\\\\n",
       "\t72 & 10 & Placebo & Female & 57 & Some  \\\\\n",
       "\t73 & 47 & Placebo & Female & 58 & Some  \\\\\n",
       "\t74 & 44 & Placebo & Female & 59 & Some  \\\\\n",
       "\t75 & 24 & Placebo & Female & 59 & Marked\\\\\n",
       "\t76 & 48 & Placebo & Female & 61 & None  \\\\\n",
       "\t77 & 19 & Placebo & Female & 63 & Some  \\\\\n",
       "\t78 &  3 & Placebo & Female & 64 & None  \\\\\n",
       "\t79 & 67 & Placebo & Female & 65 & Marked\\\\\n",
       "\t80 & 32 & Placebo & Female & 66 & None  \\\\\n",
       "\t81 & 42 & Placebo & Female & 66 & None  \\\\\n",
       "\t82 & 15 & Placebo & Female & 66 & Some  \\\\\n",
       "\t83 & 71 & Placebo & Female & 68 & Some  \\\\\n",
       "\t84 &  1 & Placebo & Female & 74 & Marked\\\\\n",
       "\\end{tabular}\n"
      ],
      "text/markdown": [
       "\n",
       "A data.frame: 84 × 5\n",
       "\n",
       "| <!--/--> | ID &lt;int&gt; | Treatment &lt;fct&gt; | Sex &lt;fct&gt; | Age &lt;int&gt; | Improved &lt;ord&gt; |\n",
       "|---|---|---|---|---|---|\n",
       "| 1 | 57 | Treated | Male   | 27 | Some   |\n",
       "| 2 | 46 | Treated | Male   | 29 | None   |\n",
       "| 3 | 77 | Treated | Male   | 30 | None   |\n",
       "| 4 | 17 | Treated | Male   | 32 | Marked |\n",
       "| 5 | 36 | Treated | Male   | 46 | Marked |\n",
       "| 6 | 23 | Treated | Male   | 58 | Marked |\n",
       "| 7 | 75 | Treated | Male   | 59 | None   |\n",
       "| 8 | 39 | Treated | Male   | 59 | Marked |\n",
       "| 9 | 33 | Treated | Male   | 63 | None   |\n",
       "| 10 | 55 | Treated | Male   | 63 | None   |\n",
       "| 11 | 30 | Treated | Male   | 64 | None   |\n",
       "| 12 |  5 | Treated | Male   | 64 | Some   |\n",
       "| 13 | 63 | Treated | Male   | 69 | None   |\n",
       "| 14 | 83 | Treated | Male   | 70 | Marked |\n",
       "| 15 | 66 | Treated | Female | 23 | None   |\n",
       "| 16 | 40 | Treated | Female | 32 | None   |\n",
       "| 17 |  6 | Treated | Female | 37 | Some   |\n",
       "| 18 |  7 | Treated | Female | 41 | None   |\n",
       "| 19 | 72 | Treated | Female | 41 | Marked |\n",
       "| 20 | 37 | Treated | Female | 48 | None   |\n",
       "| 21 | 82 | Treated | Female | 48 | Marked |\n",
       "| 22 | 53 | Treated | Female | 55 | Marked |\n",
       "| 23 | 79 | Treated | Female | 55 | Marked |\n",
       "| 24 | 26 | Treated | Female | 56 | Marked |\n",
       "| 25 | 28 | Treated | Female | 57 | Marked |\n",
       "| 26 | 60 | Treated | Female | 57 | Marked |\n",
       "| 27 | 22 | Treated | Female | 57 | Marked |\n",
       "| 28 | 27 | Treated | Female | 58 | None   |\n",
       "| 29 |  2 | Treated | Female | 59 | Marked |\n",
       "| 30 | 59 | Treated | Female | 59 | Marked |\n",
       "| ... | ... | ... | ... | ... | ... |\n",
       "| 55 | 29 | Placebo | Female | 30 | None   |\n",
       "| 56 | 50 | Placebo | Female | 31 | Some   |\n",
       "| 57 | 38 | Placebo | Female | 32 | None   |\n",
       "| 58 | 35 | Placebo | Female | 33 | Marked |\n",
       "| 59 | 51 | Placebo | Female | 37 | None   |\n",
       "| 60 | 54 | Placebo | Female | 44 | None   |\n",
       "| 61 | 76 | Placebo | Female | 45 | None   |\n",
       "| 62 | 16 | Placebo | Female | 46 | None   |\n",
       "| 63 | 69 | Placebo | Female | 48 | None   |\n",
       "| 64 | 31 | Placebo | Female | 49 | None   |\n",
       "| 65 | 20 | Placebo | Female | 51 | None   |\n",
       "| 66 | 68 | Placebo | Female | 53 | None   |\n",
       "| 67 | 81 | Placebo | Female | 54 | None   |\n",
       "| 68 |  4 | Placebo | Female | 54 | None   |\n",
       "| 69 | 78 | Placebo | Female | 54 | Marked |\n",
       "| 70 | 70 | Placebo | Female | 55 | Marked |\n",
       "| 71 | 49 | Placebo | Female | 57 | None   |\n",
       "| 72 | 10 | Placebo | Female | 57 | Some   |\n",
       "| 73 | 47 | Placebo | Female | 58 | Some   |\n",
       "| 74 | 44 | Placebo | Female | 59 | Some   |\n",
       "| 75 | 24 | Placebo | Female | 59 | Marked |\n",
       "| 76 | 48 | Placebo | Female | 61 | None   |\n",
       "| 77 | 19 | Placebo | Female | 63 | Some   |\n",
       "| 78 |  3 | Placebo | Female | 64 | None   |\n",
       "| 79 | 67 | Placebo | Female | 65 | Marked |\n",
       "| 80 | 32 | Placebo | Female | 66 | None   |\n",
       "| 81 | 42 | Placebo | Female | 66 | None   |\n",
       "| 82 | 15 | Placebo | Female | 66 | Some   |\n",
       "| 83 | 71 | Placebo | Female | 68 | Some   |\n",
       "| 84 |  1 | Placebo | Female | 74 | Marked |\n",
       "\n"
      ],
      "text/plain": [
       "    ID  Treatment Sex    Age Improved\n",
       "1   57  Treated   Male   27  Some    \n",
       "2   46  Treated   Male   29  None    \n",
       "3   77  Treated   Male   30  None    \n",
       "4   17  Treated   Male   32  Marked  \n",
       "5   36  Treated   Male   46  Marked  \n",
       "6   23  Treated   Male   58  Marked  \n",
       "7   75  Treated   Male   59  None    \n",
       "8   39  Treated   Male   59  Marked  \n",
       "9   33  Treated   Male   63  None    \n",
       "10  55  Treated   Male   63  None    \n",
       "11  30  Treated   Male   64  None    \n",
       "12   5  Treated   Male   64  Some    \n",
       "13  63  Treated   Male   69  None    \n",
       "14  83  Treated   Male   70  Marked  \n",
       "15  66  Treated   Female 23  None    \n",
       "16  40  Treated   Female 32  None    \n",
       "17   6  Treated   Female 37  Some    \n",
       "18   7  Treated   Female 41  None    \n",
       "19  72  Treated   Female 41  Marked  \n",
       "20  37  Treated   Female 48  None    \n",
       "21  82  Treated   Female 48  Marked  \n",
       "22  53  Treated   Female 55  Marked  \n",
       "23  79  Treated   Female 55  Marked  \n",
       "24  26  Treated   Female 56  Marked  \n",
       "25  28  Treated   Female 57  Marked  \n",
       "26  60  Treated   Female 57  Marked  \n",
       "27  22  Treated   Female 57  Marked  \n",
       "28  27  Treated   Female 58  None    \n",
       "29   2  Treated   Female 59  Marked  \n",
       "30  59  Treated   Female 59  Marked  \n",
       "... ... ...       ...    ... ...     \n",
       "55  29  Placebo   Female 30  None    \n",
       "56  50  Placebo   Female 31  Some    \n",
       "57  38  Placebo   Female 32  None    \n",
       "58  35  Placebo   Female 33  Marked  \n",
       "59  51  Placebo   Female 37  None    \n",
       "60  54  Placebo   Female 44  None    \n",
       "61  76  Placebo   Female 45  None    \n",
       "62  16  Placebo   Female 46  None    \n",
       "63  69  Placebo   Female 48  None    \n",
       "64  31  Placebo   Female 49  None    \n",
       "65  20  Placebo   Female 51  None    \n",
       "66  68  Placebo   Female 53  None    \n",
       "67  81  Placebo   Female 54  None    \n",
       "68   4  Placebo   Female 54  None    \n",
       "69  78  Placebo   Female 54  Marked  \n",
       "70  70  Placebo   Female 55  Marked  \n",
       "71  49  Placebo   Female 57  None    \n",
       "72  10  Placebo   Female 57  Some    \n",
       "73  47  Placebo   Female 58  Some    \n",
       "74  44  Placebo   Female 59  Some    \n",
       "75  24  Placebo   Female 59  Marked  \n",
       "76  48  Placebo   Female 61  None    \n",
       "77  19  Placebo   Female 63  Some    \n",
       "78   3  Placebo   Female 64  None    \n",
       "79  67  Placebo   Female 65  Marked  \n",
       "80  32  Placebo   Female 66  None    \n",
       "81  42  Placebo   Female 66  None    \n",
       "82  15  Placebo   Female 66  Some    \n",
       "83  71  Placebo   Female 68  Some    \n",
       "84   1  Placebo   Female 74  Marked  "
      ]
     },
     "metadata": {},
     "output_type": "display_data"
    }
   ],
   "source": [
    "Arthritis    #不知道在干什么"
   ]
  },
  {
   "cell_type": "code",
   "execution_count": 30,
   "metadata": {
    "ExecuteTime": {
     "end_time": "2021-01-24T14:19:28.291721Z",
     "start_time": "2021-01-24T14:19:28.056Z"
    }
   },
   "outputs": [
    {
     "name": "stdout",
     "output_type": "stream",
     "text": [
      "\n",
      "Arthrt> data(\"Arthritis\")\n",
      "\n",
      "Arthrt> art <- xtabs(~ Treatment + Improved, data = Arthritis, subset = Sex == \"Female\")\n",
      "\n",
      "Arthrt> art\n",
      "         Improved\n",
      "Treatment None Some Marked\n",
      "  Placebo   19    7      6\n",
      "  Treated    6    5     16\n",
      "\n",
      "Arthrt> mosaic(art, gp = shading_Friendly)\n",
      "\n",
      "Arthrt> mosaic(art, gp = shading_max)\n"
     ]
    },
    {
     "data": {
      "image/png": "[encoded data removed]",
      "text/plain": [
       "plot without title"
      ]
     },
     "metadata": {
      "image/png": {
       "height": 420,
       "width": 420
      }
     },
     "output_type": "display_data"
    },
    {
     "data": {
      "image/png": "[encoded data removed]",
      "text/plain": [
       "plot without title"
      ]
     },
     "metadata": {
      "image/png": {
       "height": 420,
       "width": 420
      }
     },
     "output_type": "display_data"
    }
   ],
   "source": [
    "example(Arthritis) "
   ]
  },
  {
   "cell_type": "code",
   "execution_count": null,
   "metadata": {},
   "outputs": [],
   "source": []
  }
 ],
 "metadata": {
  "kernelspec": {
   "display_name": "R_x64",
   "language": "R",
   "name": "r_x64"
  },
  "language_info": {
   "codemirror_mode": "r",
   "file_extension": ".r",
   "mimetype": "text/x-r-source",
   "name": "R",
   "pygments_lexer": "r",
   "version": "4.0.3"
  },
  "toc": {
   "base_numbering": 1,
   "nav_menu": {},
   "number_sections": true,
   "sideBar": true,
   "skip_h1_title": false,
   "title_cell": "Table of Contents",
   "title_sidebar": "Contents",
   "toc_cell": false,
   "toc_position": {},
   "toc_section_display": true,
   "toc_window_display": false
  },
  "varInspector": {
   "cols": {
    "lenName": 16,
    "lenType": 16,
    "lenVar": 40
   },
   "kernels_config": {
    "python": {
     "delete_cmd_postfix": "",
     "delete_cmd_prefix": "del ",
     "library": "var_list.py",
     "varRefreshCmd": "print(var_dic_list())"
    },
    "r": {
     "delete_cmd_postfix": ") ",
     "delete_cmd_prefix": "rm(",
     "library": "var_list.r",
     "varRefreshCmd": "cat(var_dic_list()) "
    }
   },
   "position": {
    "height": "144.716px",
    "left": "1389.45px",
    "right": "20px",
    "top": "122px",
    "width": "350px"
   },
   "types_to_exclude": [
    "module",
    "function",
    "builtin_function_or_method",
    "instance",
    "_Feature"
   ],
   "window_display": false
  }
 },
 "nbformat": 4,
 "nbformat_minor": 4
}
