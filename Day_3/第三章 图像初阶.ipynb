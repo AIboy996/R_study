{
 "cells": [
  {
   "cell_type": "markdown",
   "metadata": {},
   "source": [
    "# 一个简单的例子"
   ]
  },
  {
   "cell_type": "code",
   "execution_count": 1,
   "metadata": {
    "ExecuteTime": {
     "end_time": "2021-01-26T10:01:33.775236Z",
     "start_time": "2021-01-26T10:01:33.729Z"
    }
   },
   "outputs": [],
   "source": [
    "dose <- c(20, 30, 40, 45, 60)\n",
    "drugA <- c(16, 20, 27, 40, 60)\n",
    "drugB <- c(15, 18, 25, 31, 40)"
   ]
  },
  {
   "cell_type": "code",
   "execution_count": 2,
   "metadata": {
    "ExecuteTime": {
     "end_time": "2021-01-26T10:01:34.004621Z",
     "start_time": "2021-01-26T10:01:33.734Z"
    }
   },
   "outputs": [
    {
     "data": {
      "image/png": "[encoded data removed]",
      "text/plain": [
       "plot without title"
      ]
     },
     "metadata": {
      "image/png": {
       "height": 420,
       "width": 420
      }
     },
     "output_type": "display_data"
    }
   ],
   "source": [
    "plot(dose, drugA, type=\"b\")"
   ]
  },
  {
   "cell_type": "code",
   "execution_count": 3,
   "metadata": {
    "ExecuteTime": {
     "end_time": "2021-01-26T10:01:34.965053Z",
     "start_time": "2021-01-26T10:01:33.736Z"
    }
   },
   "outputs": [],
   "source": [
    "help(plot)"
   ]
  },
  {
   "cell_type": "markdown",
   "metadata": {},
   "source": [
    "Default S3 method:\n",
    "```R\n",
    "plot(x, y = NULL, type = \"p\",  xlim = NULL, ylim = NULL,\n",
    "     log = \"\", main = NULL, sub = NULL, xlab = NULL, ylab = NULL,\n",
    "     ann = par(\"ann\"), axes = TRUE, frame.plot = axes,\n",
    "     panel.first = NULL, panel.last = NULL, asp = NA,\n",
    "     xgap.axis = NA, ygap.axis = NA,\n",
    "     ...)\n",
    "```"
   ]
  },
  {
   "cell_type": "markdown",
   "metadata": {},
   "source": [
    "# 图形参数"
   ]
  },
  {
   "cell_type": "code",
   "execution_count": 4,
   "metadata": {
    "ExecuteTime": {
     "end_time": "2021-01-26T10:01:35.026888Z",
     "start_time": "2021-01-26T10:01:33.743Z"
    },
    "scrolled": true
   },
   "outputs": [
    {
     "data": {
      "text/html": [
       "<dl>\n",
       "\t<dt>$xlog</dt>\n",
       "\t\t<dd>FALSE</dd>\n",
       "\t<dt>$ylog</dt>\n",
       "\t\t<dd>FALSE</dd>\n",
       "\t<dt>$adj</dt>\n",
       "\t\t<dd>0.5</dd>\n",
       "\t<dt>$ann</dt>\n",
       "\t\t<dd>TRUE</dd>\n",
       "\t<dt>$ask</dt>\n",
       "\t\t<dd>FALSE</dd>\n",
       "\t<dt>$bg</dt>\n",
       "\t\t<dd>'white'</dd>\n",
       "\t<dt>$bty</dt>\n",
       "\t\t<dd>'o'</dd>\n",
       "\t<dt>$cex</dt>\n",
       "\t\t<dd>1</dd>\n",
       "\t<dt>$cex.axis</dt>\n",
       "\t\t<dd>1</dd>\n",
       "\t<dt>$cex.lab</dt>\n",
       "\t\t<dd>1</dd>\n",
       "\t<dt>$cex.main</dt>\n",
       "\t\t<dd>1.2</dd>\n",
       "\t<dt>$cex.sub</dt>\n",
       "\t\t<dd>1</dd>\n",
       "\t<dt>$cin</dt>\n",
       "\t\t<dd><style>\n",
       ".list-inline {list-style: none; margin:0; padding: 0}\n",
       ".list-inline>li {display: inline-block}\n",
       ".list-inline>li:not(:last-child)::after {content: \"\\00b7\"; padding: 0 .5ex}\n",
       "</style>\n",
       "<ol class=list-inline><li>0.15</li><li>0.2</li></ol>\n",
       "</dd>\n",
       "\t<dt>$col</dt>\n",
       "\t\t<dd>'black'</dd>\n",
       "\t<dt>$col.axis</dt>\n",
       "\t\t<dd>'black'</dd>\n",
       "\t<dt>$col.lab</dt>\n",
       "\t\t<dd>'black'</dd>\n",
       "\t<dt>$col.main</dt>\n",
       "\t\t<dd>'black'</dd>\n",
       "\t<dt>$col.sub</dt>\n",
       "\t\t<dd>'black'</dd>\n",
       "\t<dt>$cra</dt>\n",
       "\t\t<dd><style>\n",
       ".list-inline {list-style: none; margin:0; padding: 0}\n",
       ".list-inline>li {display: inline-block}\n",
       ".list-inline>li:not(:last-child)::after {content: \"\\00b7\"; padding: 0 .5ex}\n",
       "</style>\n",
       "<ol class=list-inline><li>10.8</li><li>14.4</li></ol>\n",
       "</dd>\n",
       "\t<dt>$crt</dt>\n",
       "\t\t<dd>0</dd>\n",
       "\t<dt>$csi</dt>\n",
       "\t\t<dd>0.2</dd>\n",
       "\t<dt>$cxy</dt>\n",
       "\t\t<dd><style>\n",
       ".list-inline {list-style: none; margin:0; padding: 0}\n",
       ".list-inline>li {display: inline-block}\n",
       ".list-inline>li:not(:last-child)::after {content: \"\\00b7\"; padding: 0 .5ex}\n",
       "</style>\n",
       "<ol class=list-inline><li>0.027641284715726</li><li>0.0414364760118773</li></ol>\n",
       "</dd>\n",
       "\t<dt>$din</dt>\n",
       "\t\t<dd><style>\n",
       ".list-inline {list-style: none; margin:0; padding: 0}\n",
       ".list-inline>li {display: inline-block}\n",
       ".list-inline>li:not(:last-child)::after {content: \"\\00b7\"; padding: 0 .5ex}\n",
       "</style>\n",
       "<ol class=list-inline><li>6.66666527777778</li><li>6.66666527777778</li></ol>\n",
       "</dd>\n",
       "\t<dt>$err</dt>\n",
       "\t\t<dd>0</dd>\n",
       "\t<dt>$family</dt>\n",
       "\t\t<dd>''</dd>\n",
       "\t<dt>$fg</dt>\n",
       "\t\t<dd>'black'</dd>\n",
       "\t<dt>$fig</dt>\n",
       "\t\t<dd><style>\n",
       ".list-inline {list-style: none; margin:0; padding: 0}\n",
       ".list-inline>li {display: inline-block}\n",
       ".list-inline>li:not(:last-child)::after {content: \"\\00b7\"; padding: 0 .5ex}\n",
       "</style>\n",
       "<ol class=list-inline><li>0</li><li>1</li><li>0</li><li>1</li></ol>\n",
       "</dd>\n",
       "\t<dt>$fin</dt>\n",
       "\t\t<dd><style>\n",
       ".list-inline {list-style: none; margin:0; padding: 0}\n",
       ".list-inline>li {display: inline-block}\n",
       ".list-inline>li:not(:last-child)::after {content: \"\\00b7\"; padding: 0 .5ex}\n",
       "</style>\n",
       "<ol class=list-inline><li>6.66666527777778</li><li>6.66666527777778</li></ol>\n",
       "</dd>\n",
       "\t<dt>$font</dt>\n",
       "\t\t<dd>1</dd>\n",
       "\t<dt>$font.axis</dt>\n",
       "\t\t<dd>1</dd>\n",
       "\t<dt>$font.lab</dt>\n",
       "\t\t<dd>1</dd>\n",
       "\t<dt>$font.main</dt>\n",
       "\t\t<dd>2</dd>\n",
       "\t<dt>$font.sub</dt>\n",
       "\t\t<dd>1</dd>\n",
       "\t<dt>$lab</dt>\n",
       "\t\t<dd><style>\n",
       ".list-inline {list-style: none; margin:0; padding: 0}\n",
       ".list-inline>li {display: inline-block}\n",
       ".list-inline>li:not(:last-child)::after {content: \"\\00b7\"; padding: 0 .5ex}\n",
       "</style>\n",
       "<ol class=list-inline><li>5</li><li>5</li><li>7</li></ol>\n",
       "</dd>\n",
       "\t<dt>$las</dt>\n",
       "\t\t<dd>0</dd>\n",
       "\t<dt>$lend</dt>\n",
       "\t\t<dd>'round'</dd>\n",
       "\t<dt>$lheight</dt>\n",
       "\t\t<dd>1</dd>\n",
       "\t<dt>$ljoin</dt>\n",
       "\t\t<dd>'round'</dd>\n",
       "\t<dt>$lmitre</dt>\n",
       "\t\t<dd>10</dd>\n",
       "\t<dt>$lty</dt>\n",
       "\t\t<dd>'solid'</dd>\n",
       "\t<dt>$lwd</dt>\n",
       "\t\t<dd>1</dd>\n",
       "\t<dt>$mai</dt>\n",
       "\t\t<dd><style>\n",
       ".list-inline {list-style: none; margin:0; padding: 0}\n",
       ".list-inline>li {display: inline-block}\n",
       ".list-inline>li:not(:last-child)::after {content: \"\\00b7\"; padding: 0 .5ex}\n",
       "</style>\n",
       "<ol class=list-inline><li>1.02</li><li>0.82</li><li>0.82</li><li>0.42</li></ol>\n",
       "</dd>\n",
       "\t<dt>$mar</dt>\n",
       "\t\t<dd><style>\n",
       ".list-inline {list-style: none; margin:0; padding: 0}\n",
       ".list-inline>li {display: inline-block}\n",
       ".list-inline>li:not(:last-child)::after {content: \"\\00b7\"; padding: 0 .5ex}\n",
       "</style>\n",
       "<ol class=list-inline><li>5.1</li><li>4.1</li><li>4.1</li><li>2.1</li></ol>\n",
       "</dd>\n",
       "\t<dt>$mex</dt>\n",
       "\t\t<dd>1</dd>\n",
       "\t<dt>$mfcol</dt>\n",
       "\t\t<dd><style>\n",
       ".list-inline {list-style: none; margin:0; padding: 0}\n",
       ".list-inline>li {display: inline-block}\n",
       ".list-inline>li:not(:last-child)::after {content: \"\\00b7\"; padding: 0 .5ex}\n",
       "</style>\n",
       "<ol class=list-inline><li>1</li><li>1</li></ol>\n",
       "</dd>\n",
       "\t<dt>$mfg</dt>\n",
       "\t\t<dd><style>\n",
       ".list-inline {list-style: none; margin:0; padding: 0}\n",
       ".list-inline>li {display: inline-block}\n",
       ".list-inline>li:not(:last-child)::after {content: \"\\00b7\"; padding: 0 .5ex}\n",
       "</style>\n",
       "<ol class=list-inline><li>1</li><li>1</li><li>1</li><li>1</li></ol>\n",
       "</dd>\n",
       "\t<dt>$mfrow</dt>\n",
       "\t\t<dd><style>\n",
       ".list-inline {list-style: none; margin:0; padding: 0}\n",
       ".list-inline>li {display: inline-block}\n",
       ".list-inline>li:not(:last-child)::after {content: \"\\00b7\"; padding: 0 .5ex}\n",
       "</style>\n",
       "<ol class=list-inline><li>1</li><li>1</li></ol>\n",
       "</dd>\n",
       "\t<dt>$mgp</dt>\n",
       "\t\t<dd><style>\n",
       ".list-inline {list-style: none; margin:0; padding: 0}\n",
       ".list-inline>li {display: inline-block}\n",
       ".list-inline>li:not(:last-child)::after {content: \"\\00b7\"; padding: 0 .5ex}\n",
       "</style>\n",
       "<ol class=list-inline><li>3</li><li>1</li><li>0</li></ol>\n",
       "</dd>\n",
       "\t<dt>$mkh</dt>\n",
       "\t\t<dd>0.001</dd>\n",
       "\t<dt>$new</dt>\n",
       "\t\t<dd>FALSE</dd>\n",
       "\t<dt>$oma</dt>\n",
       "\t\t<dd><style>\n",
       ".list-inline {list-style: none; margin:0; padding: 0}\n",
       ".list-inline>li {display: inline-block}\n",
       ".list-inline>li:not(:last-child)::after {content: \"\\00b7\"; padding: 0 .5ex}\n",
       "</style>\n",
       "<ol class=list-inline><li>0</li><li>0</li><li>0</li><li>0</li></ol>\n",
       "</dd>\n",
       "\t<dt>$omd</dt>\n",
       "\t\t<dd><style>\n",
       ".list-inline {list-style: none; margin:0; padding: 0}\n",
       ".list-inline>li {display: inline-block}\n",
       ".list-inline>li:not(:last-child)::after {content: \"\\00b7\"; padding: 0 .5ex}\n",
       "</style>\n",
       "<ol class=list-inline><li>0</li><li>1</li><li>0</li><li>1</li></ol>\n",
       "</dd>\n",
       "\t<dt>$omi</dt>\n",
       "\t\t<dd><style>\n",
       ".list-inline {list-style: none; margin:0; padding: 0}\n",
       ".list-inline>li {display: inline-block}\n",
       ".list-inline>li:not(:last-child)::after {content: \"\\00b7\"; padding: 0 .5ex}\n",
       "</style>\n",
       "<ol class=list-inline><li>0</li><li>0</li><li>0</li><li>0</li></ol>\n",
       "</dd>\n",
       "\t<dt>$page</dt>\n",
       "\t\t<dd>TRUE</dd>\n",
       "\t<dt>$pch</dt>\n",
       "\t\t<dd>1</dd>\n",
       "\t<dt>$pin</dt>\n",
       "\t\t<dd><style>\n",
       ".list-inline {list-style: none; margin:0; padding: 0}\n",
       ".list-inline>li {display: inline-block}\n",
       ".list-inline>li:not(:last-child)::after {content: \"\\00b7\"; padding: 0 .5ex}\n",
       "</style>\n",
       "<ol class=list-inline><li>5.42666527777778</li><li>4.82666527777778</li></ol>\n",
       "</dd>\n",
       "\t<dt>$plt</dt>\n",
       "\t\t<dd><style>\n",
       ".list-inline {list-style: none; margin:0; padding: 0}\n",
       ".list-inline>li {display: inline-block}\n",
       ".list-inline>li:not(:last-child)::after {content: \"\\00b7\"; padding: 0 .5ex}\n",
       "</style>\n",
       "<ol class=list-inline><li>0.123000025625005</li><li>0.936999986874997</li><li>0.153000031875007</li><li>0.876999974374995</li></ol>\n",
       "</dd>\n",
       "\t<dt>$ps</dt>\n",
       "\t\t<dd>12</dd>\n",
       "\t<dt>$pty</dt>\n",
       "\t\t<dd>'m'</dd>\n",
       "\t<dt>$smo</dt>\n",
       "\t\t<dd>1</dd>\n",
       "\t<dt>$srt</dt>\n",
       "\t\t<dd>0</dd>\n",
       "\t<dt>$tck</dt>\n",
       "\t\t<dd>&lt;NA&gt;</dd>\n",
       "\t<dt>$tcl</dt>\n",
       "\t\t<dd>-0.5</dd>\n",
       "\t<dt>$usr</dt>\n",
       "\t\t<dd><style>\n",
       ".list-inline {list-style: none; margin:0; padding: 0}\n",
       ".list-inline>li {display: inline-block}\n",
       ".list-inline>li:not(:last-child)::after {content: \"\\00b7\"; padding: 0 .5ex}\n",
       "</style>\n",
       "<ol class=list-inline><li>0</li><li>1</li><li>0</li><li>1</li></ol>\n",
       "</dd>\n",
       "\t<dt>$xaxp</dt>\n",
       "\t\t<dd><style>\n",
       ".list-inline {list-style: none; margin:0; padding: 0}\n",
       ".list-inline>li {display: inline-block}\n",
       ".list-inline>li:not(:last-child)::after {content: \"\\00b7\"; padding: 0 .5ex}\n",
       "</style>\n",
       "<ol class=list-inline><li>0</li><li>1</li><li>5</li></ol>\n",
       "</dd>\n",
       "\t<dt>$xaxs</dt>\n",
       "\t\t<dd>'r'</dd>\n",
       "\t<dt>$xaxt</dt>\n",
       "\t\t<dd>'s'</dd>\n",
       "\t<dt>$xpd</dt>\n",
       "\t\t<dd>FALSE</dd>\n",
       "\t<dt>$yaxp</dt>\n",
       "\t\t<dd><style>\n",
       ".list-inline {list-style: none; margin:0; padding: 0}\n",
       ".list-inline>li {display: inline-block}\n",
       ".list-inline>li:not(:last-child)::after {content: \"\\00b7\"; padding: 0 .5ex}\n",
       "</style>\n",
       "<ol class=list-inline><li>0</li><li>1</li><li>5</li></ol>\n",
       "</dd>\n",
       "\t<dt>$yaxs</dt>\n",
       "\t\t<dd>'r'</dd>\n",
       "\t<dt>$yaxt</dt>\n",
       "\t\t<dd>'s'</dd>\n",
       "\t<dt>$ylbias</dt>\n",
       "\t\t<dd>0.2</dd>\n",
       "</dl>\n"
      ],
      "text/latex": [
       "\\begin{description}\n",
       "\\item[\\$xlog] FALSE\n",
       "\\item[\\$ylog] FALSE\n",
       "\\item[\\$adj] 0.5\n",
       "\\item[\\$ann] TRUE\n",
       "\\item[\\$ask] FALSE\n",
       "\\item[\\$bg] 'white'\n",
       "\\item[\\$bty] 'o'\n",
       "\\item[\\$cex] 1\n",
       "\\item[\\$cex.axis] 1\n",
       "\\item[\\$cex.lab] 1\n",
       "\\item[\\$cex.main] 1.2\n",
       "\\item[\\$cex.sub] 1\n",
       "\\item[\\$cin] \\begin{enumerate*}\n",
       "\\item 0.15\n",
       "\\item 0.2\n",
       "\\end{enumerate*}\n",
       "\n",
       "\\item[\\$col] 'black'\n",
       "\\item[\\$col.axis] 'black'\n",
       "\\item[\\$col.lab] 'black'\n",
       "\\item[\\$col.main] 'black'\n",
       "\\item[\\$col.sub] 'black'\n",
       "\\item[\\$cra] \\begin{enumerate*}\n",
       "\\item 10.8\n",
       "\\item 14.4\n",
       "\\end{enumerate*}\n",
       "\n",
       "\\item[\\$crt] 0\n",
       "\\item[\\$csi] 0.2\n",
       "\\item[\\$cxy] \\begin{enumerate*}\n",
       "\\item 0.027641284715726\n",
       "\\item 0.0414364760118773\n",
       "\\end{enumerate*}\n",
       "\n",
       "\\item[\\$din] \\begin{enumerate*}\n",
       "\\item 6.66666527777778\n",
       "\\item 6.66666527777778\n",
       "\\end{enumerate*}\n",
       "\n",
       "\\item[\\$err] 0\n",
       "\\item[\\$family] ''\n",
       "\\item[\\$fg] 'black'\n",
       "\\item[\\$fig] \\begin{enumerate*}\n",
       "\\item 0\n",
       "\\item 1\n",
       "\\item 0\n",
       "\\item 1\n",
       "\\end{enumerate*}\n",
       "\n",
       "\\item[\\$fin] \\begin{enumerate*}\n",
       "\\item 6.66666527777778\n",
       "\\item 6.66666527777778\n",
       "\\end{enumerate*}\n",
       "\n",
       "\\item[\\$font] 1\n",
       "\\item[\\$font.axis] 1\n",
       "\\item[\\$font.lab] 1\n",
       "\\item[\\$font.main] 2\n",
       "\\item[\\$font.sub] 1\n",
       "\\item[\\$lab] \\begin{enumerate*}\n",
       "\\item 5\n",
       "\\item 5\n",
       "\\item 7\n",
       "\\end{enumerate*}\n",
       "\n",
       "\\item[\\$las] 0\n",
       "\\item[\\$lend] 'round'\n",
       "\\item[\\$lheight] 1\n",
       "\\item[\\$ljoin] 'round'\n",
       "\\item[\\$lmitre] 10\n",
       "\\item[\\$lty] 'solid'\n",
       "\\item[\\$lwd] 1\n",
       "\\item[\\$mai] \\begin{enumerate*}\n",
       "\\item 1.02\n",
       "\\item 0.82\n",
       "\\item 0.82\n",
       "\\item 0.42\n",
       "\\end{enumerate*}\n",
       "\n",
       "\\item[\\$mar] \\begin{enumerate*}\n",
       "\\item 5.1\n",
       "\\item 4.1\n",
       "\\item 4.1\n",
       "\\item 2.1\n",
       "\\end{enumerate*}\n",
       "\n",
       "\\item[\\$mex] 1\n",
       "\\item[\\$mfcol] \\begin{enumerate*}\n",
       "\\item 1\n",
       "\\item 1\n",
       "\\end{enumerate*}\n",
       "\n",
       "\\item[\\$mfg] \\begin{enumerate*}\n",
       "\\item 1\n",
       "\\item 1\n",
       "\\item 1\n",
       "\\item 1\n",
       "\\end{enumerate*}\n",
       "\n",
       "\\item[\\$mfrow] \\begin{enumerate*}\n",
       "\\item 1\n",
       "\\item 1\n",
       "\\end{enumerate*}\n",
       "\n",
       "\\item[\\$mgp] \\begin{enumerate*}\n",
       "\\item 3\n",
       "\\item 1\n",
       "\\item 0\n",
       "\\end{enumerate*}\n",
       "\n",
       "\\item[\\$mkh] 0.001\n",
       "\\item[\\$new] FALSE\n",
       "\\item[\\$oma] \\begin{enumerate*}\n",
       "\\item 0\n",
       "\\item 0\n",
       "\\item 0\n",
       "\\item 0\n",
       "\\end{enumerate*}\n",
       "\n",
       "\\item[\\$omd] \\begin{enumerate*}\n",
       "\\item 0\n",
       "\\item 1\n",
       "\\item 0\n",
       "\\item 1\n",
       "\\end{enumerate*}\n",
       "\n",
       "\\item[\\$omi] \\begin{enumerate*}\n",
       "\\item 0\n",
       "\\item 0\n",
       "\\item 0\n",
       "\\item 0\n",
       "\\end{enumerate*}\n",
       "\n",
       "\\item[\\$page] TRUE\n",
       "\\item[\\$pch] 1\n",
       "\\item[\\$pin] \\begin{enumerate*}\n",
       "\\item 5.42666527777778\n",
       "\\item 4.82666527777778\n",
       "\\end{enumerate*}\n",
       "\n",
       "\\item[\\$plt] \\begin{enumerate*}\n",
       "\\item 0.123000025625005\n",
       "\\item 0.936999986874997\n",
       "\\item 0.153000031875007\n",
       "\\item 0.876999974374995\n",
       "\\end{enumerate*}\n",
       "\n",
       "\\item[\\$ps] 12\n",
       "\\item[\\$pty] 'm'\n",
       "\\item[\\$smo] 1\n",
       "\\item[\\$srt] 0\n",
       "\\item[\\$tck] <NA>\n",
       "\\item[\\$tcl] -0.5\n",
       "\\item[\\$usr] \\begin{enumerate*}\n",
       "\\item 0\n",
       "\\item 1\n",
       "\\item 0\n",
       "\\item 1\n",
       "\\end{enumerate*}\n",
       "\n",
       "\\item[\\$xaxp] \\begin{enumerate*}\n",
       "\\item 0\n",
       "\\item 1\n",
       "\\item 5\n",
       "\\end{enumerate*}\n",
       "\n",
       "\\item[\\$xaxs] 'r'\n",
       "\\item[\\$xaxt] 's'\n",
       "\\item[\\$xpd] FALSE\n",
       "\\item[\\$yaxp] \\begin{enumerate*}\n",
       "\\item 0\n",
       "\\item 1\n",
       "\\item 5\n",
       "\\end{enumerate*}\n",
       "\n",
       "\\item[\\$yaxs] 'r'\n",
       "\\item[\\$yaxt] 's'\n",
       "\\item[\\$ylbias] 0.2\n",
       "\\end{description}\n"
      ],
      "text/markdown": [
       "$xlog\n",
       ":   FALSE\n",
       "$ylog\n",
       ":   FALSE\n",
       "$adj\n",
       ":   0.5\n",
       "$ann\n",
       ":   TRUE\n",
       "$ask\n",
       ":   FALSE\n",
       "$bg\n",
       ":   'white'\n",
       "$bty\n",
       ":   'o'\n",
       "$cex\n",
       ":   1\n",
       "$cex.axis\n",
       ":   1\n",
       "$cex.lab\n",
       ":   1\n",
       "$cex.main\n",
       ":   1.2\n",
       "$cex.sub\n",
       ":   1\n",
       "$cin\n",
       ":   1. 0.15\n",
       "2. 0.2\n",
       "\n",
       "\n",
       "\n",
       "$col\n",
       ":   'black'\n",
       "$col.axis\n",
       ":   'black'\n",
       "$col.lab\n",
       ":   'black'\n",
       "$col.main\n",
       ":   'black'\n",
       "$col.sub\n",
       ":   'black'\n",
       "$cra\n",
       ":   1. 10.8\n",
       "2. 14.4\n",
       "\n",
       "\n",
       "\n",
       "$crt\n",
       ":   0\n",
       "$csi\n",
       ":   0.2\n",
       "$cxy\n",
       ":   1. 0.027641284715726\n",
       "2. 0.0414364760118773\n",
       "\n",
       "\n",
       "\n",
       "$din\n",
       ":   1. 6.66666527777778\n",
       "2. 6.66666527777778\n",
       "\n",
       "\n",
       "\n",
       "$err\n",
       ":   0\n",
       "$family\n",
       ":   ''\n",
       "$fg\n",
       ":   'black'\n",
       "$fig\n",
       ":   1. 0\n",
       "2. 1\n",
       "3. 0\n",
       "4. 1\n",
       "\n",
       "\n",
       "\n",
       "$fin\n",
       ":   1. 6.66666527777778\n",
       "2. 6.66666527777778\n",
       "\n",
       "\n",
       "\n",
       "$font\n",
       ":   1\n",
       "$font.axis\n",
       ":   1\n",
       "$font.lab\n",
       ":   1\n",
       "$font.main\n",
       ":   2\n",
       "$font.sub\n",
       ":   1\n",
       "$lab\n",
       ":   1. 5\n",
       "2. 5\n",
       "3. 7\n",
       "\n",
       "\n",
       "\n",
       "$las\n",
       ":   0\n",
       "$lend\n",
       ":   'round'\n",
       "$lheight\n",
       ":   1\n",
       "$ljoin\n",
       ":   'round'\n",
       "$lmitre\n",
       ":   10\n",
       "$lty\n",
       ":   'solid'\n",
       "$lwd\n",
       ":   1\n",
       "$mai\n",
       ":   1. 1.02\n",
       "2. 0.82\n",
       "3. 0.82\n",
       "4. 0.42\n",
       "\n",
       "\n",
       "\n",
       "$mar\n",
       ":   1. 5.1\n",
       "2. 4.1\n",
       "3. 4.1\n",
       "4. 2.1\n",
       "\n",
       "\n",
       "\n",
       "$mex\n",
       ":   1\n",
       "$mfcol\n",
       ":   1. 1\n",
       "2. 1\n",
       "\n",
       "\n",
       "\n",
       "$mfg\n",
       ":   1. 1\n",
       "2. 1\n",
       "3. 1\n",
       "4. 1\n",
       "\n",
       "\n",
       "\n",
       "$mfrow\n",
       ":   1. 1\n",
       "2. 1\n",
       "\n",
       "\n",
       "\n",
       "$mgp\n",
       ":   1. 3\n",
       "2. 1\n",
       "3. 0\n",
       "\n",
       "\n",
       "\n",
       "$mkh\n",
       ":   0.001\n",
       "$new\n",
       ":   FALSE\n",
       "$oma\n",
       ":   1. 0\n",
       "2. 0\n",
       "3. 0\n",
       "4. 0\n",
       "\n",
       "\n",
       "\n",
       "$omd\n",
       ":   1. 0\n",
       "2. 1\n",
       "3. 0\n",
       "4. 1\n",
       "\n",
       "\n",
       "\n",
       "$omi\n",
       ":   1. 0\n",
       "2. 0\n",
       "3. 0\n",
       "4. 0\n",
       "\n",
       "\n",
       "\n",
       "$page\n",
       ":   TRUE\n",
       "$pch\n",
       ":   1\n",
       "$pin\n",
       ":   1. 5.42666527777778\n",
       "2. 4.82666527777778\n",
       "\n",
       "\n",
       "\n",
       "$plt\n",
       ":   1. 0.123000025625005\n",
       "2. 0.936999986874997\n",
       "3. 0.153000031875007\n",
       "4. 0.876999974374995\n",
       "\n",
       "\n",
       "\n",
       "$ps\n",
       ":   12\n",
       "$pty\n",
       ":   'm'\n",
       "$smo\n",
       ":   1\n",
       "$srt\n",
       ":   0\n",
       "$tck\n",
       ":   &lt;NA&gt;\n",
       "$tcl\n",
       ":   -0.5\n",
       "$usr\n",
       ":   1. 0\n",
       "2. 1\n",
       "3. 0\n",
       "4. 1\n",
       "\n",
       "\n",
       "\n",
       "$xaxp\n",
       ":   1. 0\n",
       "2. 1\n",
       "3. 5\n",
       "\n",
       "\n",
       "\n",
       "$xaxs\n",
       ":   'r'\n",
       "$xaxt\n",
       ":   's'\n",
       "$xpd\n",
       ":   FALSE\n",
       "$yaxp\n",
       ":   1. 0\n",
       "2. 1\n",
       "3. 5\n",
       "\n",
       "\n",
       "\n",
       "$yaxs\n",
       ":   'r'\n",
       "$yaxt\n",
       ":   's'\n",
       "$ylbias\n",
       ":   0.2\n",
       "\n",
       "\n"
      ],
      "text/plain": [
       "$xlog\n",
       "[1] FALSE\n",
       "\n",
       "$ylog\n",
       "[1] FALSE\n",
       "\n",
       "$adj\n",
       "[1] 0.5\n",
       "\n",
       "$ann\n",
       "[1] TRUE\n",
       "\n",
       "$ask\n",
       "[1] FALSE\n",
       "\n",
       "$bg\n",
       "[1] \"white\"\n",
       "\n",
       "$bty\n",
       "[1] \"o\"\n",
       "\n",
       "$cex\n",
       "[1] 1\n",
       "\n",
       "$cex.axis\n",
       "[1] 1\n",
       "\n",
       "$cex.lab\n",
       "[1] 1\n",
       "\n",
       "$cex.main\n",
       "[1] 1.2\n",
       "\n",
       "$cex.sub\n",
       "[1] 1\n",
       "\n",
       "$cin\n",
       "[1] 0.15 0.20\n",
       "\n",
       "$col\n",
       "[1] \"black\"\n",
       "\n",
       "$col.axis\n",
       "[1] \"black\"\n",
       "\n",
       "$col.lab\n",
       "[1] \"black\"\n",
       "\n",
       "$col.main\n",
       "[1] \"black\"\n",
       "\n",
       "$col.sub\n",
       "[1] \"black\"\n",
       "\n",
       "$cra\n",
       "[1] 10.8 14.4\n",
       "\n",
       "$crt\n",
       "[1] 0\n",
       "\n",
       "$csi\n",
       "[1] 0.2\n",
       "\n",
       "$cxy\n",
       "[1] 0.02764128 0.04143648\n",
       "\n",
       "$din\n",
       "[1] 6.666665 6.666665\n",
       "\n",
       "$err\n",
       "[1] 0\n",
       "\n",
       "$family\n",
       "[1] \"\"\n",
       "\n",
       "$fg\n",
       "[1] \"black\"\n",
       "\n",
       "$fig\n",
       "[1] 0 1 0 1\n",
       "\n",
       "$fin\n",
       "[1] 6.666665 6.666665\n",
       "\n",
       "$font\n",
       "[1] 1\n",
       "\n",
       "$font.axis\n",
       "[1] 1\n",
       "\n",
       "$font.lab\n",
       "[1] 1\n",
       "\n",
       "$font.main\n",
       "[1] 2\n",
       "\n",
       "$font.sub\n",
       "[1] 1\n",
       "\n",
       "$lab\n",
       "[1] 5 5 7\n",
       "\n",
       "$las\n",
       "[1] 0\n",
       "\n",
       "$lend\n",
       "[1] \"round\"\n",
       "\n",
       "$lheight\n",
       "[1] 1\n",
       "\n",
       "$ljoin\n",
       "[1] \"round\"\n",
       "\n",
       "$lmitre\n",
       "[1] 10\n",
       "\n",
       "$lty\n",
       "[1] \"solid\"\n",
       "\n",
       "$lwd\n",
       "[1] 1\n",
       "\n",
       "$mai\n",
       "[1] 1.02 0.82 0.82 0.42\n",
       "\n",
       "$mar\n",
       "[1] 5.1 4.1 4.1 2.1\n",
       "\n",
       "$mex\n",
       "[1] 1\n",
       "\n",
       "$mfcol\n",
       "[1] 1 1\n",
       "\n",
       "$mfg\n",
       "[1] 1 1 1 1\n",
       "\n",
       "$mfrow\n",
       "[1] 1 1\n",
       "\n",
       "$mgp\n",
       "[1] 3 1 0\n",
       "\n",
       "$mkh\n",
       "[1] 0.001\n",
       "\n",
       "$new\n",
       "[1] FALSE\n",
       "\n",
       "$oma\n",
       "[1] 0 0 0 0\n",
       "\n",
       "$omd\n",
       "[1] 0 1 0 1\n",
       "\n",
       "$omi\n",
       "[1] 0 0 0 0\n",
       "\n",
       "$page\n",
       "[1] TRUE\n",
       "\n",
       "$pch\n",
       "[1] 1\n",
       "\n",
       "$pin\n",
       "[1] 5.426665 4.826665\n",
       "\n",
       "$plt\n",
       "[1] 0.123 0.937 0.153 0.877\n",
       "\n",
       "$ps\n",
       "[1] 12\n",
       "\n",
       "$pty\n",
       "[1] \"m\"\n",
       "\n",
       "$smo\n",
       "[1] 1\n",
       "\n",
       "$srt\n",
       "[1] 0\n",
       "\n",
       "$tck\n",
       "[1] NA\n",
       "\n",
       "$tcl\n",
       "[1] -0.5\n",
       "\n",
       "$usr\n",
       "[1] 0 1 0 1\n",
       "\n",
       "$xaxp\n",
       "[1] 0 1 5\n",
       "\n",
       "$xaxs\n",
       "[1] \"r\"\n",
       "\n",
       "$xaxt\n",
       "[1] \"s\"\n",
       "\n",
       "$xpd\n",
       "[1] FALSE\n",
       "\n",
       "$yaxp\n",
       "[1] 0 1 5\n",
       "\n",
       "$yaxs\n",
       "[1] \"r\"\n",
       "\n",
       "$yaxt\n",
       "[1] \"s\"\n",
       "\n",
       "$ylbias\n",
       "[1] 0.2\n"
      ]
     },
     "metadata": {},
     "output_type": "display_data"
    }
   ],
   "source": [
    "par()   #返回当前所有的图形参数"
   ]
  },
  {
   "cell_type": "code",
   "execution_count": 5,
   "metadata": {
    "ExecuteTime": {
     "end_time": "2021-01-26T10:01:35.064787Z",
     "start_time": "2021-01-26T10:01:33.746Z"
    }
   },
   "outputs": [
    {
     "data": {
      "text/html": [
       "'white'"
      ],
      "text/latex": [
       "'white'"
      ],
      "text/markdown": [
       "'white'"
      ],
      "text/plain": [
       "[1] \"white\""
      ]
     },
     "metadata": {},
     "output_type": "display_data"
    }
   ],
   "source": [
    "par('bg')    #返回特定参数"
   ]
  },
  {
   "cell_type": "code",
   "execution_count": 6,
   "metadata": {
    "ExecuteTime": {
     "end_time": "2021-01-26T10:01:35.093710Z",
     "start_time": "2021-01-26T10:01:33.749Z"
    }
   },
   "outputs": [],
   "source": [
    "par(lty=2)  #这里并没有生效"
   ]
  },
  {
   "cell_type": "code",
   "execution_count": 7,
   "metadata": {
    "ExecuteTime": {
     "end_time": "2021-01-26T10:01:35.183469Z",
     "start_time": "2021-01-26T10:01:33.751Z"
    }
   },
   "outputs": [
    {
     "data": {
      "image/png": "[encoded data removed]",
      "text/plain": [
       "plot without title"
      ]
     },
     "metadata": {
      "image/png": {
       "height": 420,
       "width": 420
      }
     },
     "output_type": "display_data"
    }
   ],
   "source": [
    "plot(dose, drugA, type=\"b\")"
   ]
  },
  {
   "cell_type": "code",
   "execution_count": 8,
   "metadata": {
    "ExecuteTime": {
     "end_time": "2021-01-26T10:01:36.857993Z",
     "start_time": "2021-01-26T10:01:33.754Z"
    }
   },
   "outputs": [],
   "source": [
    "help(par)"
   ]
  },
  {
   "cell_type": "code",
   "execution_count": 9,
   "metadata": {
    "ExecuteTime": {
     "end_time": "2021-01-26T10:01:36.930798Z",
     "start_time": "2021-01-26T10:01:33.761Z"
    },
    "scrolled": false
   },
   "outputs": [
    {
     "data": {
      "image/png": "[encoded data removed]",
      "text/plain": [
       "plot without title"
      ]
     },
     "metadata": {
      "image/png": {
       "height": 420,
       "width": 420
      }
     },
     "output_type": "display_data"
    }
   ],
   "source": [
    "op <- par(lty =2, pch = 17)   #修改图形参数，并且记录下修改的内容\n",
    "plot(dose, drugA, type=\"b\")\n",
    "par(op)   #还原设置"
   ]
  },
  {
   "cell_type": "markdown",
   "metadata": {},
   "source": [
    "## 自动还原参数"
   ]
  },
  {
   "cell_type": "code",
   "execution_count": 10,
   "metadata": {
    "ExecuteTime": {
     "end_time": "2021-01-26T10:01:37.027540Z",
     "start_time": "2021-01-26T10:01:33.767Z"
    }
   },
   "outputs": [
    {
     "data": {
      "text/html": [
       "<dl>\n",
       "\t<dt>$lty</dt>\n",
       "\t\t<dd>'longdash'</dd>\n",
       "\t<dt>$pch</dt>\n",
       "\t\t<dd>19</dd>\n",
       "</dl>\n"
      ],
      "text/latex": [
       "\\begin{description}\n",
       "\\item[\\$lty] 'longdash'\n",
       "\\item[\\$pch] 19\n",
       "\\end{description}\n"
      ],
      "text/markdown": [
       "$lty\n",
       ":   'longdash'\n",
       "$pch\n",
       ":   19\n",
       "\n",
       "\n"
      ],
      "text/plain": [
       "$lty\n",
       "[1] \"longdash\"\n",
       "\n",
       "$pch\n",
       "[1] 19\n"
      ]
     },
     "metadata": {},
     "output_type": "display_data"
    },
    {
     "data": {
      "image/png": "[encoded data removed]",
      "text/plain": [
       "plot without title"
      ]
     },
     "metadata": {
      "image/png": {
       "height": 420,
       "width": 420
      }
     },
     "output_type": "display_data"
    }
   ],
   "source": [
    "par(lty=5, pch=19)\n",
    "plot(dose, drugA, type=\"b\")\n",
    "par(c('lty','pch'))   #可以看到这里的lty和pch都被改变了"
   ]
  },
  {
   "cell_type": "code",
   "execution_count": 11,
   "metadata": {
    "ExecuteTime": {
     "end_time": "2021-01-26T10:01:37.071423Z",
     "start_time": "2021-01-26T10:01:33.770Z"
    },
    "scrolled": true
   },
   "outputs": [
    {
     "data": {
      "text/html": [
       "<dl>\n",
       "\t<dt>$lty</dt>\n",
       "\t\t<dd>'solid'</dd>\n",
       "\t<dt>$pch</dt>\n",
       "\t\t<dd>1</dd>\n",
       "</dl>\n"
      ],
      "text/latex": [
       "\\begin{description}\n",
       "\\item[\\$lty] 'solid'\n",
       "\\item[\\$pch] 1\n",
       "\\end{description}\n"
      ],
      "text/markdown": [
       "$lty\n",
       ":   'solid'\n",
       "$pch\n",
       ":   1\n",
       "\n",
       "\n"
      ],
      "text/plain": [
       "$lty\n",
       "[1] \"solid\"\n",
       "\n",
       "$pch\n",
       "[1] 1\n"
      ]
     },
     "metadata": {},
     "output_type": "display_data"
    }
   ],
   "source": [
    "par(c('lty','pch'))   #但是下一个cell，又变回了默认参数"
   ]
  },
  {
   "cell_type": "raw",
   "metadata": {},
   "source": [
    "原因如下：\n",
    "通过par( )函数对图形参数进行设置后，当需要还原为系统默认值时又该如何做呢？有两种方式可实现：\n",
    "\n",
    "一是在调用par()函数设置图形参数之前先执行op <-par(no.readonly=TURE)保存系统当前的环境，待需要还原时执行par(opar)即可；\n",
    "\n",
    "二就是直接关闭图形对话框，下次重新打开时即为默认设置。\n",
    "\n",
    "而jupyter每次重新绘图，就相当于关闭图形对话框"
   ]
  },
  {
   "cell_type": "markdown",
   "metadata": {},
   "source": [
    "## 参数的分类"
   ]
  },
  {
   "cell_type": "markdown",
   "metadata": {},
   "source": [
    "### 只能读取，不能进行设置"
   ]
  },
  {
   "cell_type": "raw",
   "metadata": {},
   "source": [
    "包括参数cin，cra，csi，cxy，din"
   ]
  },
  {
   "cell_type": "markdown",
   "metadata": {},
   "source": [
    "### 只能通过函数par()进行设置"
   ]
  },
  {
   "cell_type": "raw",
   "metadata": {},
   "source": [
    "ask , fig , fin , lheight , mai , mar , mex , mfcol , mfrow , mfg , new , oma , omd , omi , pin , plt , ps , pty , usr , xlog , ylog "
   ]
  },
  {
   "cell_type": "markdown",
   "metadata": {},
   "source": [
    "### 除了函数par()外，还可以通过各种高级绘图函数进行设置"
   ]
  },
  {
   "cell_type": "raw",
   "metadata": {},
   "source": [
    "如函数plot，points，lines，abline，title，text，axis，image，box，contour，rect，arrows等"
   ]
  },
  {
   "cell_type": "markdown",
   "metadata": {},
   "source": [
    "## 符号和线条参数"
   ]
  },
  {
   "cell_type": "markdown",
   "metadata": {},
   "source": [
    "### pch\n",
    "表示点的形状，它的值可以为数值型（介于0到25之间的数值），也可以为字符型。1代表圆圈，2代表三角形，3代表“+”号。当pch的值为字符型时，那么点就通过该字符来表示。"
   ]
  },
  {
   "cell_type": "markdown",
   "metadata": {},
   "source": [
    "### cex \n",
    "用于表示对默认的绘图文本和符号放大多少倍。需要注意一些绘图函数如plot.default等也有一个相同名字的参数，但是此时表示在函数par()的参数cex的基础上再放大多少倍，此外还有函数points等接受一个数值向量为参数。"
   ]
  },
  {
   "cell_type": "markdown",
   "metadata": {},
   "source": [
    "### lty \n",
    "直线类型。参数的值可以为整数（0为空，1为实线（默认值），2为虚线，3为点线，还可以为4、5、6等），也可以为字符串（和整数是一一对应的，如\"blank\"、\"solid\"、\"dashed\"、\"dotted\"、\"dotdash\"、\"longdash\"或者\"twodash\"）。"
   ]
  },
  {
   "cell_type": "markdown",
   "metadata": {},
   "source": [
    "### lwd\n",
    "线条宽度。必须为一个整数，默认值为1。具体的实现根据设备而定，有一些绘图设备不支持线条宽度小于1。"
   ]
  },
  {
   "cell_type": "code",
   "execution_count": 12,
   "metadata": {
    "ExecuteTime": {
     "end_time": "2021-01-26T10:01:37.188111Z",
     "start_time": "2021-01-26T10:01:33.896Z"
    }
   },
   "outputs": [
    {
     "data": {
      "image/png": "[encoded data removed]",
      "text/plain": [
       "plot without title"
      ]
     },
     "metadata": {
      "image/png": {
       "height": 420,
       "width": 420
      }
     },
     "output_type": "display_data"
    }
   ],
   "source": [
    "plot(dose, drugA, type=\"b\", lty=3, lwd=3, pch='凎', cex=2)"
   ]
  },
  {
   "cell_type": "markdown",
   "metadata": {},
   "source": [
    "## 颜色"
   ]
  },
  {
   "cell_type": "markdown",
   "metadata": {},
   "source": [
    "### col\n",
    "用于设定默认的绘图颜色。\\\n",
    "颜色指定方式多样\\\n",
    "col=1、\\\n",
    "col=\"white\"、\\\n",
    "col=\"#FFFFFF\"、\\\n",
    "col=rgb(1,1,1)\\\n",
    "和col=hsv(0,0,1)\\\n",
    "都是表示白色的等价方式。"
   ]
  },
  {
   "cell_type": "markdown",
   "metadata": {},
   "source": [
    "### col.\n",
    "col.axis。坐标轴刻度值的颜色，默认为\"black\"。如代码：\n",
    "\n",
    "col.lab。坐标轴名称的颜色，默认为\"black\"。\n",
    "\n",
    "col.main。主标题的颜色，默认为\"black\"。\n",
    "\n",
    "col.sub。子标题的颜色，默认为\"black\"。"
   ]
  },
  {
   "cell_type": "markdown",
   "metadata": {},
   "source": [
    "### fg\n",
    "图形中显著位置的颜色（如坐标轴、刻度线，边框等），一般默认为\"black\"。(前景色)"
   ]
  },
  {
   "cell_type": "markdown",
   "metadata": {},
   "source": [
    "### bg\n",
    "用于设定绘图区域的背景颜色。当通过函数par()调用时，会同时设定参数new=FALSE。对很多设备来说，该参数的初始值就是该设备的背景颜色值，其他情况下一般为\"white\"。需要注意一点的是，一些图形函数例如plot.default和points等也有名为bg的参数，但是代表的含义是不同的。"
   ]
  },
  {
   "cell_type": "code",
   "execution_count": 13,
   "metadata": {
    "ExecuteTime": {
     "end_time": "2021-01-26T10:01:37.245956Z",
     "start_time": "2021-01-26T10:01:33.903Z"
    },
    "scrolled": true
   },
   "outputs": [
    {
     "data": {
      "text/html": [
       "<style>\n",
       ".list-inline {list-style: none; margin:0; padding: 0}\n",
       ".list-inline>li {display: inline-block}\n",
       ".list-inline>li:not(:last-child)::after {content: \"\\00b7\"; padding: 0 .5ex}\n",
       "</style>\n",
       "<ol class=list-inline><li>'white'</li><li>'aliceblue'</li><li>'antiquewhite'</li><li>'antiquewhite1'</li><li>'antiquewhite2'</li><li>'antiquewhite3'</li><li>'antiquewhite4'</li><li>'aquamarine'</li><li>'aquamarine1'</li><li>'aquamarine2'</li><li>'aquamarine3'</li><li>'aquamarine4'</li><li>'azure'</li><li>'azure1'</li><li>'azure2'</li><li>'azure3'</li><li>'azure4'</li><li>'beige'</li><li>'bisque'</li><li>'bisque1'</li><li>'bisque2'</li><li>'bisque3'</li><li>'bisque4'</li><li>'black'</li><li>'blanchedalmond'</li><li>'blue'</li><li>'blue1'</li><li>'blue2'</li><li>'blue3'</li><li>'blue4'</li><li>'blueviolet'</li><li>'brown'</li><li>'brown1'</li><li>'brown2'</li><li>'brown3'</li><li>'brown4'</li><li>'burlywood'</li><li>'burlywood1'</li><li>'burlywood2'</li><li>'burlywood3'</li><li>'burlywood4'</li><li>'cadetblue'</li><li>'cadetblue1'</li><li>'cadetblue2'</li><li>'cadetblue3'</li><li>'cadetblue4'</li><li>'chartreuse'</li><li>'chartreuse1'</li><li>'chartreuse2'</li><li>'chartreuse3'</li><li>'chartreuse4'</li><li>'chocolate'</li><li>'chocolate1'</li><li>'chocolate2'</li><li>'chocolate3'</li><li>'chocolate4'</li><li>'coral'</li><li>'coral1'</li><li>'coral2'</li><li>'coral3'</li><li>'coral4'</li><li>'cornflowerblue'</li><li>'cornsilk'</li><li>'cornsilk1'</li><li>'cornsilk2'</li><li>'cornsilk3'</li><li>'cornsilk4'</li><li>'cyan'</li><li>'cyan1'</li><li>'cyan2'</li><li>'cyan3'</li><li>'cyan4'</li><li>'darkblue'</li><li>'darkcyan'</li><li>'darkgoldenrod'</li><li>'darkgoldenrod1'</li><li>'darkgoldenrod2'</li><li>'darkgoldenrod3'</li><li>'darkgoldenrod4'</li><li>'darkgray'</li><li>'darkgreen'</li><li>'darkgrey'</li><li>'darkkhaki'</li><li>'darkmagenta'</li><li>'darkolivegreen'</li><li>'darkolivegreen1'</li><li>'darkolivegreen2'</li><li>'darkolivegreen3'</li><li>'darkolivegreen4'</li><li>'darkorange'</li><li>'darkorange1'</li><li>'darkorange2'</li><li>'darkorange3'</li><li>'darkorange4'</li><li>'darkorchid'</li><li>'darkorchid1'</li><li>'darkorchid2'</li><li>'darkorchid3'</li><li>'darkorchid4'</li><li>'darkred'</li><li>'darksalmon'</li><li>'darkseagreen'</li><li>'darkseagreen1'</li><li>'darkseagreen2'</li><li>'darkseagreen3'</li><li>'darkseagreen4'</li><li>'darkslateblue'</li><li>'darkslategray'</li><li>'darkslategray1'</li><li>'darkslategray2'</li><li>'darkslategray3'</li><li>'darkslategray4'</li><li>'darkslategrey'</li><li>'darkturquoise'</li><li>'darkviolet'</li><li>'deeppink'</li><li>'deeppink1'</li><li>'deeppink2'</li><li>'deeppink3'</li><li>'deeppink4'</li><li>'deepskyblue'</li><li>'deepskyblue1'</li><li>'deepskyblue2'</li><li>'deepskyblue3'</li><li>'deepskyblue4'</li><li>'dimgray'</li><li>'dimgrey'</li><li>'dodgerblue'</li><li>'dodgerblue1'</li><li>'dodgerblue2'</li><li>'dodgerblue3'</li><li>'dodgerblue4'</li><li>'firebrick'</li><li>'firebrick1'</li><li>'firebrick2'</li><li>'firebrick3'</li><li>'firebrick4'</li><li>'floralwhite'</li><li>'forestgreen'</li><li>'gainsboro'</li><li>'ghostwhite'</li><li>'gold'</li><li>'gold1'</li><li>'gold2'</li><li>'gold3'</li><li>'gold4'</li><li>'goldenrod'</li><li>'goldenrod1'</li><li>'goldenrod2'</li><li>'goldenrod3'</li><li>'goldenrod4'</li><li>'gray'</li><li>'gray0'</li><li>'gray1'</li><li>'gray2'</li><li>'gray3'</li><li>'gray4'</li><li>'gray5'</li><li>'gray6'</li><li>'gray7'</li><li>'gray8'</li><li>'gray9'</li><li>'gray10'</li><li>'gray11'</li><li>'gray12'</li><li>'gray13'</li><li>'gray14'</li><li>'gray15'</li><li>'gray16'</li><li>'gray17'</li><li>'gray18'</li><li>'gray19'</li><li>'gray20'</li><li>'gray21'</li><li>'gray22'</li><li>'gray23'</li><li>'gray24'</li><li>'gray25'</li><li>'gray26'</li><li>'gray27'</li><li>'gray28'</li><li>'gray29'</li><li>'gray30'</li><li>'gray31'</li><li>'gray32'</li><li>'gray33'</li><li>'gray34'</li><li>'gray35'</li><li>'gray36'</li><li>'gray37'</li><li>'gray38'</li><li>'gray39'</li><li>'gray40'</li><li>'gray41'</li><li>'gray42'</li><li>'gray43'</li><li>'gray44'</li><li>'gray45'</li><li>'gray46'</li><li>'gray47'</li><li>...</li><li>'maroon3'</li><li>'maroon4'</li><li>'mediumaquamarine'</li><li>'mediumblue'</li><li>'mediumorchid'</li><li>'mediumorchid1'</li><li>'mediumorchid2'</li><li>'mediumorchid3'</li><li>'mediumorchid4'</li><li>'mediumpurple'</li><li>'mediumpurple1'</li><li>'mediumpurple2'</li><li>'mediumpurple3'</li><li>'mediumpurple4'</li><li>'mediumseagreen'</li><li>'mediumslateblue'</li><li>'mediumspringgreen'</li><li>'mediumturquoise'</li><li>'mediumvioletred'</li><li>'midnightblue'</li><li>'mintcream'</li><li>'mistyrose'</li><li>'mistyrose1'</li><li>'mistyrose2'</li><li>'mistyrose3'</li><li>'mistyrose4'</li><li>'moccasin'</li><li>'navajowhite'</li><li>'navajowhite1'</li><li>'navajowhite2'</li><li>'navajowhite3'</li><li>'navajowhite4'</li><li>'navy'</li><li>'navyblue'</li><li>'oldlace'</li><li>'olivedrab'</li><li>'olivedrab1'</li><li>'olivedrab2'</li><li>'olivedrab3'</li><li>'olivedrab4'</li><li>'orange'</li><li>'orange1'</li><li>'orange2'</li><li>'orange3'</li><li>'orange4'</li><li>'orangered'</li><li>'orangered1'</li><li>'orangered2'</li><li>'orangered3'</li><li>'orangered4'</li><li>'orchid'</li><li>'orchid1'</li><li>'orchid2'</li><li>'orchid3'</li><li>'orchid4'</li><li>'palegoldenrod'</li><li>'palegreen'</li><li>'palegreen1'</li><li>'palegreen2'</li><li>'palegreen3'</li><li>'palegreen4'</li><li>'paleturquoise'</li><li>'paleturquoise1'</li><li>'paleturquoise2'</li><li>'paleturquoise3'</li><li>'paleturquoise4'</li><li>'palevioletred'</li><li>'palevioletred1'</li><li>'palevioletred2'</li><li>'palevioletred3'</li><li>'palevioletred4'</li><li>'papayawhip'</li><li>'peachpuff'</li><li>'peachpuff1'</li><li>'peachpuff2'</li><li>'peachpuff3'</li><li>'peachpuff4'</li><li>'peru'</li><li>'pink'</li><li>'pink1'</li><li>'pink2'</li><li>'pink3'</li><li>'pink4'</li><li>'plum'</li><li>'plum1'</li><li>'plum2'</li><li>'plum3'</li><li>'plum4'</li><li>'powderblue'</li><li>'purple'</li><li>'purple1'</li><li>'purple2'</li><li>'purple3'</li><li>'purple4'</li><li>'red'</li><li>'red1'</li><li>'red2'</li><li>'red3'</li><li>'red4'</li><li>'rosybrown'</li><li>'rosybrown1'</li><li>'rosybrown2'</li><li>'rosybrown3'</li><li>'rosybrown4'</li><li>'royalblue'</li><li>'royalblue1'</li><li>'royalblue2'</li><li>'royalblue3'</li><li>'royalblue4'</li><li>'saddlebrown'</li><li>'salmon'</li><li>'salmon1'</li><li>'salmon2'</li><li>'salmon3'</li><li>'salmon4'</li><li>'sandybrown'</li><li>'seagreen'</li><li>'seagreen1'</li><li>'seagreen2'</li><li>'seagreen3'</li><li>'seagreen4'</li><li>'seashell'</li><li>'seashell1'</li><li>'seashell2'</li><li>'seashell3'</li><li>'seashell4'</li><li>'sienna'</li><li>'sienna1'</li><li>'sienna2'</li><li>'sienna3'</li><li>'sienna4'</li><li>'skyblue'</li><li>'skyblue1'</li><li>'skyblue2'</li><li>'skyblue3'</li><li>'skyblue4'</li><li>'slateblue'</li><li>'slateblue1'</li><li>'slateblue2'</li><li>'slateblue3'</li><li>'slateblue4'</li><li>'slategray'</li><li>'slategray1'</li><li>'slategray2'</li><li>'slategray3'</li><li>'slategray4'</li><li>'slategrey'</li><li>'snow'</li><li>'snow1'</li><li>'snow2'</li><li>'snow3'</li><li>'snow4'</li><li>'springgreen'</li><li>'springgreen1'</li><li>'springgreen2'</li><li>'springgreen3'</li><li>'springgreen4'</li><li>'steelblue'</li><li>'steelblue1'</li><li>'steelblue2'</li><li>'steelblue3'</li><li>'steelblue4'</li><li>'tan'</li><li>'tan1'</li><li>'tan2'</li><li>'tan3'</li><li>'tan4'</li><li>'thistle'</li><li>'thistle1'</li><li>'thistle2'</li><li>'thistle3'</li><li>'thistle4'</li><li>'tomato'</li><li>'tomato1'</li><li>'tomato2'</li><li>'tomato3'</li><li>'tomato4'</li><li>'turquoise'</li><li>'turquoise1'</li><li>'turquoise2'</li><li>'turquoise3'</li><li>'turquoise4'</li><li>'violet'</li><li>'violetred'</li><li>'violetred1'</li><li>'violetred2'</li><li>'violetred3'</li><li>'violetred4'</li><li>'wheat'</li><li>'wheat1'</li><li>'wheat2'</li><li>'wheat3'</li><li>'wheat4'</li><li>'whitesmoke'</li><li>'yellow'</li><li>'yellow1'</li><li>'yellow2'</li><li>'yellow3'</li><li>'yellow4'</li><li>'yellowgreen'</li></ol>\n"
      ],
      "text/latex": [
       "\\begin{enumerate*}\n",
       "\\item 'white'\n",
       "\\item 'aliceblue'\n",
       "\\item 'antiquewhite'\n",
       "\\item 'antiquewhite1'\n",
       "\\item 'antiquewhite2'\n",
       "\\item 'antiquewhite3'\n",
       "\\item 'antiquewhite4'\n",
       "\\item 'aquamarine'\n",
       "\\item 'aquamarine1'\n",
       "\\item 'aquamarine2'\n",
       "\\item 'aquamarine3'\n",
       "\\item 'aquamarine4'\n",
       "\\item 'azure'\n",
       "\\item 'azure1'\n",
       "\\item 'azure2'\n",
       "\\item 'azure3'\n",
       "\\item 'azure4'\n",
       "\\item 'beige'\n",
       "\\item 'bisque'\n",
       "\\item 'bisque1'\n",
       "\\item 'bisque2'\n",
       "\\item 'bisque3'\n",
       "\\item 'bisque4'\n",
       "\\item 'black'\n",
       "\\item 'blanchedalmond'\n",
       "\\item 'blue'\n",
       "\\item 'blue1'\n",
       "\\item 'blue2'\n",
       "\\item 'blue3'\n",
       "\\item 'blue4'\n",
       "\\item 'blueviolet'\n",
       "\\item 'brown'\n",
       "\\item 'brown1'\n",
       "\\item 'brown2'\n",
       "\\item 'brown3'\n",
       "\\item 'brown4'\n",
       "\\item 'burlywood'\n",
       "\\item 'burlywood1'\n",
       "\\item 'burlywood2'\n",
       "\\item 'burlywood3'\n",
       "\\item 'burlywood4'\n",
       "\\item 'cadetblue'\n",
       "\\item 'cadetblue1'\n",
       "\\item 'cadetblue2'\n",
       "\\item 'cadetblue3'\n",
       "\\item 'cadetblue4'\n",
       "\\item 'chartreuse'\n",
       "\\item 'chartreuse1'\n",
       "\\item 'chartreuse2'\n",
       "\\item 'chartreuse3'\n",
       "\\item 'chartreuse4'\n",
       "\\item 'chocolate'\n",
       "\\item 'chocolate1'\n",
       "\\item 'chocolate2'\n",
       "\\item 'chocolate3'\n",
       "\\item 'chocolate4'\n",
       "\\item 'coral'\n",
       "\\item 'coral1'\n",
       "\\item 'coral2'\n",
       "\\item 'coral3'\n",
       "\\item 'coral4'\n",
       "\\item 'cornflowerblue'\n",
       "\\item 'cornsilk'\n",
       "\\item 'cornsilk1'\n",
       "\\item 'cornsilk2'\n",
       "\\item 'cornsilk3'\n",
       "\\item 'cornsilk4'\n",
       "\\item 'cyan'\n",
       "\\item 'cyan1'\n",
       "\\item 'cyan2'\n",
       "\\item 'cyan3'\n",
       "\\item 'cyan4'\n",
       "\\item 'darkblue'\n",
       "\\item 'darkcyan'\n",
       "\\item 'darkgoldenrod'\n",
       "\\item 'darkgoldenrod1'\n",
       "\\item 'darkgoldenrod2'\n",
       "\\item 'darkgoldenrod3'\n",
       "\\item 'darkgoldenrod4'\n",
       "\\item 'darkgray'\n",
       "\\item 'darkgreen'\n",
       "\\item 'darkgrey'\n",
       "\\item 'darkkhaki'\n",
       "\\item 'darkmagenta'\n",
       "\\item 'darkolivegreen'\n",
       "\\item 'darkolivegreen1'\n",
       "\\item 'darkolivegreen2'\n",
       "\\item 'darkolivegreen3'\n",
       "\\item 'darkolivegreen4'\n",
       "\\item 'darkorange'\n",
       "\\item 'darkorange1'\n",
       "\\item 'darkorange2'\n",
       "\\item 'darkorange3'\n",
       "\\item 'darkorange4'\n",
       "\\item 'darkorchid'\n",
       "\\item 'darkorchid1'\n",
       "\\item 'darkorchid2'\n",
       "\\item 'darkorchid3'\n",
       "\\item 'darkorchid4'\n",
       "\\item 'darkred'\n",
       "\\item 'darksalmon'\n",
       "\\item 'darkseagreen'\n",
       "\\item 'darkseagreen1'\n",
       "\\item 'darkseagreen2'\n",
       "\\item 'darkseagreen3'\n",
       "\\item 'darkseagreen4'\n",
       "\\item 'darkslateblue'\n",
       "\\item 'darkslategray'\n",
       "\\item 'darkslategray1'\n",
       "\\item 'darkslategray2'\n",
       "\\item 'darkslategray3'\n",
       "\\item 'darkslategray4'\n",
       "\\item 'darkslategrey'\n",
       "\\item 'darkturquoise'\n",
       "\\item 'darkviolet'\n",
       "\\item 'deeppink'\n",
       "\\item 'deeppink1'\n",
       "\\item 'deeppink2'\n",
       "\\item 'deeppink3'\n",
       "\\item 'deeppink4'\n",
       "\\item 'deepskyblue'\n",
       "\\item 'deepskyblue1'\n",
       "\\item 'deepskyblue2'\n",
       "\\item 'deepskyblue3'\n",
       "\\item 'deepskyblue4'\n",
       "\\item 'dimgray'\n",
       "\\item 'dimgrey'\n",
       "\\item 'dodgerblue'\n",
       "\\item 'dodgerblue1'\n",
       "\\item 'dodgerblue2'\n",
       "\\item 'dodgerblue3'\n",
       "\\item 'dodgerblue4'\n",
       "\\item 'firebrick'\n",
       "\\item 'firebrick1'\n",
       "\\item 'firebrick2'\n",
       "\\item 'firebrick3'\n",
       "\\item 'firebrick4'\n",
       "\\item 'floralwhite'\n",
       "\\item 'forestgreen'\n",
       "\\item 'gainsboro'\n",
       "\\item 'ghostwhite'\n",
       "\\item 'gold'\n",
       "\\item 'gold1'\n",
       "\\item 'gold2'\n",
       "\\item 'gold3'\n",
       "\\item 'gold4'\n",
       "\\item 'goldenrod'\n",
       "\\item 'goldenrod1'\n",
       "\\item 'goldenrod2'\n",
       "\\item 'goldenrod3'\n",
       "\\item 'goldenrod4'\n",
       "\\item 'gray'\n",
       "\\item 'gray0'\n",
       "\\item 'gray1'\n",
       "\\item 'gray2'\n",
       "\\item 'gray3'\n",
       "\\item 'gray4'\n",
       "\\item 'gray5'\n",
       "\\item 'gray6'\n",
       "\\item 'gray7'\n",
       "\\item 'gray8'\n",
       "\\item 'gray9'\n",
       "\\item 'gray10'\n",
       "\\item 'gray11'\n",
       "\\item 'gray12'\n",
       "\\item 'gray13'\n",
       "\\item 'gray14'\n",
       "\\item 'gray15'\n",
       "\\item 'gray16'\n",
       "\\item 'gray17'\n",
       "\\item 'gray18'\n",
       "\\item 'gray19'\n",
       "\\item 'gray20'\n",
       "\\item 'gray21'\n",
       "\\item 'gray22'\n",
       "\\item 'gray23'\n",
       "\\item 'gray24'\n",
       "\\item 'gray25'\n",
       "\\item 'gray26'\n",
       "\\item 'gray27'\n",
       "\\item 'gray28'\n",
       "\\item 'gray29'\n",
       "\\item 'gray30'\n",
       "\\item 'gray31'\n",
       "\\item 'gray32'\n",
       "\\item 'gray33'\n",
       "\\item 'gray34'\n",
       "\\item 'gray35'\n",
       "\\item 'gray36'\n",
       "\\item 'gray37'\n",
       "\\item 'gray38'\n",
       "\\item 'gray39'\n",
       "\\item 'gray40'\n",
       "\\item 'gray41'\n",
       "\\item 'gray42'\n",
       "\\item 'gray43'\n",
       "\\item 'gray44'\n",
       "\\item 'gray45'\n",
       "\\item 'gray46'\n",
       "\\item 'gray47'\n",
       "\\item ...\n",
       "\\item 'maroon3'\n",
       "\\item 'maroon4'\n",
       "\\item 'mediumaquamarine'\n",
       "\\item 'mediumblue'\n",
       "\\item 'mediumorchid'\n",
       "\\item 'mediumorchid1'\n",
       "\\item 'mediumorchid2'\n",
       "\\item 'mediumorchid3'\n",
       "\\item 'mediumorchid4'\n",
       "\\item 'mediumpurple'\n",
       "\\item 'mediumpurple1'\n",
       "\\item 'mediumpurple2'\n",
       "\\item 'mediumpurple3'\n",
       "\\item 'mediumpurple4'\n",
       "\\item 'mediumseagreen'\n",
       "\\item 'mediumslateblue'\n",
       "\\item 'mediumspringgreen'\n",
       "\\item 'mediumturquoise'\n",
       "\\item 'mediumvioletred'\n",
       "\\item 'midnightblue'\n",
       "\\item 'mintcream'\n",
       "\\item 'mistyrose'\n",
       "\\item 'mistyrose1'\n",
       "\\item 'mistyrose2'\n",
       "\\item 'mistyrose3'\n",
       "\\item 'mistyrose4'\n",
       "\\item 'moccasin'\n",
       "\\item 'navajowhite'\n",
       "\\item 'navajowhite1'\n",
       "\\item 'navajowhite2'\n",
       "\\item 'navajowhite3'\n",
       "\\item 'navajowhite4'\n",
       "\\item 'navy'\n",
       "\\item 'navyblue'\n",
       "\\item 'oldlace'\n",
       "\\item 'olivedrab'\n",
       "\\item 'olivedrab1'\n",
       "\\item 'olivedrab2'\n",
       "\\item 'olivedrab3'\n",
       "\\item 'olivedrab4'\n",
       "\\item 'orange'\n",
       "\\item 'orange1'\n",
       "\\item 'orange2'\n",
       "\\item 'orange3'\n",
       "\\item 'orange4'\n",
       "\\item 'orangered'\n",
       "\\item 'orangered1'\n",
       "\\item 'orangered2'\n",
       "\\item 'orangered3'\n",
       "\\item 'orangered4'\n",
       "\\item 'orchid'\n",
       "\\item 'orchid1'\n",
       "\\item 'orchid2'\n",
       "\\item 'orchid3'\n",
       "\\item 'orchid4'\n",
       "\\item 'palegoldenrod'\n",
       "\\item 'palegreen'\n",
       "\\item 'palegreen1'\n",
       "\\item 'palegreen2'\n",
       "\\item 'palegreen3'\n",
       "\\item 'palegreen4'\n",
       "\\item 'paleturquoise'\n",
       "\\item 'paleturquoise1'\n",
       "\\item 'paleturquoise2'\n",
       "\\item 'paleturquoise3'\n",
       "\\item 'paleturquoise4'\n",
       "\\item 'palevioletred'\n",
       "\\item 'palevioletred1'\n",
       "\\item 'palevioletred2'\n",
       "\\item 'palevioletred3'\n",
       "\\item 'palevioletred4'\n",
       "\\item 'papayawhip'\n",
       "\\item 'peachpuff'\n",
       "\\item 'peachpuff1'\n",
       "\\item 'peachpuff2'\n",
       "\\item 'peachpuff3'\n",
       "\\item 'peachpuff4'\n",
       "\\item 'peru'\n",
       "\\item 'pink'\n",
       "\\item 'pink1'\n",
       "\\item 'pink2'\n",
       "\\item 'pink3'\n",
       "\\item 'pink4'\n",
       "\\item 'plum'\n",
       "\\item 'plum1'\n",
       "\\item 'plum2'\n",
       "\\item 'plum3'\n",
       "\\item 'plum4'\n",
       "\\item 'powderblue'\n",
       "\\item 'purple'\n",
       "\\item 'purple1'\n",
       "\\item 'purple2'\n",
       "\\item 'purple3'\n",
       "\\item 'purple4'\n",
       "\\item 'red'\n",
       "\\item 'red1'\n",
       "\\item 'red2'\n",
       "\\item 'red3'\n",
       "\\item 'red4'\n",
       "\\item 'rosybrown'\n",
       "\\item 'rosybrown1'\n",
       "\\item 'rosybrown2'\n",
       "\\item 'rosybrown3'\n",
       "\\item 'rosybrown4'\n",
       "\\item 'royalblue'\n",
       "\\item 'royalblue1'\n",
       "\\item 'royalblue2'\n",
       "\\item 'royalblue3'\n",
       "\\item 'royalblue4'\n",
       "\\item 'saddlebrown'\n",
       "\\item 'salmon'\n",
       "\\item 'salmon1'\n",
       "\\item 'salmon2'\n",
       "\\item 'salmon3'\n",
       "\\item 'salmon4'\n",
       "\\item 'sandybrown'\n",
       "\\item 'seagreen'\n",
       "\\item 'seagreen1'\n",
       "\\item 'seagreen2'\n",
       "\\item 'seagreen3'\n",
       "\\item 'seagreen4'\n",
       "\\item 'seashell'\n",
       "\\item 'seashell1'\n",
       "\\item 'seashell2'\n",
       "\\item 'seashell3'\n",
       "\\item 'seashell4'\n",
       "\\item 'sienna'\n",
       "\\item 'sienna1'\n",
       "\\item 'sienna2'\n",
       "\\item 'sienna3'\n",
       "\\item 'sienna4'\n",
       "\\item 'skyblue'\n",
       "\\item 'skyblue1'\n",
       "\\item 'skyblue2'\n",
       "\\item 'skyblue3'\n",
       "\\item 'skyblue4'\n",
       "\\item 'slateblue'\n",
       "\\item 'slateblue1'\n",
       "\\item 'slateblue2'\n",
       "\\item 'slateblue3'\n",
       "\\item 'slateblue4'\n",
       "\\item 'slategray'\n",
       "\\item 'slategray1'\n",
       "\\item 'slategray2'\n",
       "\\item 'slategray3'\n",
       "\\item 'slategray4'\n",
       "\\item 'slategrey'\n",
       "\\item 'snow'\n",
       "\\item 'snow1'\n",
       "\\item 'snow2'\n",
       "\\item 'snow3'\n",
       "\\item 'snow4'\n",
       "\\item 'springgreen'\n",
       "\\item 'springgreen1'\n",
       "\\item 'springgreen2'\n",
       "\\item 'springgreen3'\n",
       "\\item 'springgreen4'\n",
       "\\item 'steelblue'\n",
       "\\item 'steelblue1'\n",
       "\\item 'steelblue2'\n",
       "\\item 'steelblue3'\n",
       "\\item 'steelblue4'\n",
       "\\item 'tan'\n",
       "\\item 'tan1'\n",
       "\\item 'tan2'\n",
       "\\item 'tan3'\n",
       "\\item 'tan4'\n",
       "\\item 'thistle'\n",
       "\\item 'thistle1'\n",
       "\\item 'thistle2'\n",
       "\\item 'thistle3'\n",
       "\\item 'thistle4'\n",
       "\\item 'tomato'\n",
       "\\item 'tomato1'\n",
       "\\item 'tomato2'\n",
       "\\item 'tomato3'\n",
       "\\item 'tomato4'\n",
       "\\item 'turquoise'\n",
       "\\item 'turquoise1'\n",
       "\\item 'turquoise2'\n",
       "\\item 'turquoise3'\n",
       "\\item 'turquoise4'\n",
       "\\item 'violet'\n",
       "\\item 'violetred'\n",
       "\\item 'violetred1'\n",
       "\\item 'violetred2'\n",
       "\\item 'violetred3'\n",
       "\\item 'violetred4'\n",
       "\\item 'wheat'\n",
       "\\item 'wheat1'\n",
       "\\item 'wheat2'\n",
       "\\item 'wheat3'\n",
       "\\item 'wheat4'\n",
       "\\item 'whitesmoke'\n",
       "\\item 'yellow'\n",
       "\\item 'yellow1'\n",
       "\\item 'yellow2'\n",
       "\\item 'yellow3'\n",
       "\\item 'yellow4'\n",
       "\\item 'yellowgreen'\n",
       "\\end{enumerate*}\n"
      ],
      "text/markdown": [
       "1. 'white'\n",
       "2. 'aliceblue'\n",
       "3. 'antiquewhite'\n",
       "4. 'antiquewhite1'\n",
       "5. 'antiquewhite2'\n",
       "6. 'antiquewhite3'\n",
       "7. 'antiquewhite4'\n",
       "8. 'aquamarine'\n",
       "9. 'aquamarine1'\n",
       "10. 'aquamarine2'\n",
       "11. 'aquamarine3'\n",
       "12. 'aquamarine4'\n",
       "13. 'azure'\n",
       "14. 'azure1'\n",
       "15. 'azure2'\n",
       "16. 'azure3'\n",
       "17. 'azure4'\n",
       "18. 'beige'\n",
       "19. 'bisque'\n",
       "20. 'bisque1'\n",
       "21. 'bisque2'\n",
       "22. 'bisque3'\n",
       "23. 'bisque4'\n",
       "24. 'black'\n",
       "25. 'blanchedalmond'\n",
       "26. 'blue'\n",
       "27. 'blue1'\n",
       "28. 'blue2'\n",
       "29. 'blue3'\n",
       "30. 'blue4'\n",
       "31. 'blueviolet'\n",
       "32. 'brown'\n",
       "33. 'brown1'\n",
       "34. 'brown2'\n",
       "35. 'brown3'\n",
       "36. 'brown4'\n",
       "37. 'burlywood'\n",
       "38. 'burlywood1'\n",
       "39. 'burlywood2'\n",
       "40. 'burlywood3'\n",
       "41. 'burlywood4'\n",
       "42. 'cadetblue'\n",
       "43. 'cadetblue1'\n",
       "44. 'cadetblue2'\n",
       "45. 'cadetblue3'\n",
       "46. 'cadetblue4'\n",
       "47. 'chartreuse'\n",
       "48. 'chartreuse1'\n",
       "49. 'chartreuse2'\n",
       "50. 'chartreuse3'\n",
       "51. 'chartreuse4'\n",
       "52. 'chocolate'\n",
       "53. 'chocolate1'\n",
       "54. 'chocolate2'\n",
       "55. 'chocolate3'\n",
       "56. 'chocolate4'\n",
       "57. 'coral'\n",
       "58. 'coral1'\n",
       "59. 'coral2'\n",
       "60. 'coral3'\n",
       "61. 'coral4'\n",
       "62. 'cornflowerblue'\n",
       "63. 'cornsilk'\n",
       "64. 'cornsilk1'\n",
       "65. 'cornsilk2'\n",
       "66. 'cornsilk3'\n",
       "67. 'cornsilk4'\n",
       "68. 'cyan'\n",
       "69. 'cyan1'\n",
       "70. 'cyan2'\n",
       "71. 'cyan3'\n",
       "72. 'cyan4'\n",
       "73. 'darkblue'\n",
       "74. 'darkcyan'\n",
       "75. 'darkgoldenrod'\n",
       "76. 'darkgoldenrod1'\n",
       "77. 'darkgoldenrod2'\n",
       "78. 'darkgoldenrod3'\n",
       "79. 'darkgoldenrod4'\n",
       "80. 'darkgray'\n",
       "81. 'darkgreen'\n",
       "82. 'darkgrey'\n",
       "83. 'darkkhaki'\n",
       "84. 'darkmagenta'\n",
       "85. 'darkolivegreen'\n",
       "86. 'darkolivegreen1'\n",
       "87. 'darkolivegreen2'\n",
       "88. 'darkolivegreen3'\n",
       "89. 'darkolivegreen4'\n",
       "90. 'darkorange'\n",
       "91. 'darkorange1'\n",
       "92. 'darkorange2'\n",
       "93. 'darkorange3'\n",
       "94. 'darkorange4'\n",
       "95. 'darkorchid'\n",
       "96. 'darkorchid1'\n",
       "97. 'darkorchid2'\n",
       "98. 'darkorchid3'\n",
       "99. 'darkorchid4'\n",
       "100. 'darkred'\n",
       "101. 'darksalmon'\n",
       "102. 'darkseagreen'\n",
       "103. 'darkseagreen1'\n",
       "104. 'darkseagreen2'\n",
       "105. 'darkseagreen3'\n",
       "106. 'darkseagreen4'\n",
       "107. 'darkslateblue'\n",
       "108. 'darkslategray'\n",
       "109. 'darkslategray1'\n",
       "110. 'darkslategray2'\n",
       "111. 'darkslategray3'\n",
       "112. 'darkslategray4'\n",
       "113. 'darkslategrey'\n",
       "114. 'darkturquoise'\n",
       "115. 'darkviolet'\n",
       "116. 'deeppink'\n",
       "117. 'deeppink1'\n",
       "118. 'deeppink2'\n",
       "119. 'deeppink3'\n",
       "120. 'deeppink4'\n",
       "121. 'deepskyblue'\n",
       "122. 'deepskyblue1'\n",
       "123. 'deepskyblue2'\n",
       "124. 'deepskyblue3'\n",
       "125. 'deepskyblue4'\n",
       "126. 'dimgray'\n",
       "127. 'dimgrey'\n",
       "128. 'dodgerblue'\n",
       "129. 'dodgerblue1'\n",
       "130. 'dodgerblue2'\n",
       "131. 'dodgerblue3'\n",
       "132. 'dodgerblue4'\n",
       "133. 'firebrick'\n",
       "134. 'firebrick1'\n",
       "135. 'firebrick2'\n",
       "136. 'firebrick3'\n",
       "137. 'firebrick4'\n",
       "138. 'floralwhite'\n",
       "139. 'forestgreen'\n",
       "140. 'gainsboro'\n",
       "141. 'ghostwhite'\n",
       "142. 'gold'\n",
       "143. 'gold1'\n",
       "144. 'gold2'\n",
       "145. 'gold3'\n",
       "146. 'gold4'\n",
       "147. 'goldenrod'\n",
       "148. 'goldenrod1'\n",
       "149. 'goldenrod2'\n",
       "150. 'goldenrod3'\n",
       "151. 'goldenrod4'\n",
       "152. 'gray'\n",
       "153. 'gray0'\n",
       "154. 'gray1'\n",
       "155. 'gray2'\n",
       "156. 'gray3'\n",
       "157. 'gray4'\n",
       "158. 'gray5'\n",
       "159. 'gray6'\n",
       "160. 'gray7'\n",
       "161. 'gray8'\n",
       "162. 'gray9'\n",
       "163. 'gray10'\n",
       "164. 'gray11'\n",
       "165. 'gray12'\n",
       "166. 'gray13'\n",
       "167. 'gray14'\n",
       "168. 'gray15'\n",
       "169. 'gray16'\n",
       "170. 'gray17'\n",
       "171. 'gray18'\n",
       "172. 'gray19'\n",
       "173. 'gray20'\n",
       "174. 'gray21'\n",
       "175. 'gray22'\n",
       "176. 'gray23'\n",
       "177. 'gray24'\n",
       "178. 'gray25'\n",
       "179. 'gray26'\n",
       "180. 'gray27'\n",
       "181. 'gray28'\n",
       "182. 'gray29'\n",
       "183. 'gray30'\n",
       "184. 'gray31'\n",
       "185. 'gray32'\n",
       "186. 'gray33'\n",
       "187. 'gray34'\n",
       "188. 'gray35'\n",
       "189. 'gray36'\n",
       "190. 'gray37'\n",
       "191. 'gray38'\n",
       "192. 'gray39'\n",
       "193. 'gray40'\n",
       "194. 'gray41'\n",
       "195. 'gray42'\n",
       "196. 'gray43'\n",
       "197. 'gray44'\n",
       "198. 'gray45'\n",
       "199. 'gray46'\n",
       "200. 'gray47'\n",
       "201. ...\n",
       "202. 'maroon3'\n",
       "203. 'maroon4'\n",
       "204. 'mediumaquamarine'\n",
       "205. 'mediumblue'\n",
       "206. 'mediumorchid'\n",
       "207. 'mediumorchid1'\n",
       "208. 'mediumorchid2'\n",
       "209. 'mediumorchid3'\n",
       "210. 'mediumorchid4'\n",
       "211. 'mediumpurple'\n",
       "212. 'mediumpurple1'\n",
       "213. 'mediumpurple2'\n",
       "214. 'mediumpurple3'\n",
       "215. 'mediumpurple4'\n",
       "216. 'mediumseagreen'\n",
       "217. 'mediumslateblue'\n",
       "218. 'mediumspringgreen'\n",
       "219. 'mediumturquoise'\n",
       "220. 'mediumvioletred'\n",
       "221. 'midnightblue'\n",
       "222. 'mintcream'\n",
       "223. 'mistyrose'\n",
       "224. 'mistyrose1'\n",
       "225. 'mistyrose2'\n",
       "226. 'mistyrose3'\n",
       "227. 'mistyrose4'\n",
       "228. 'moccasin'\n",
       "229. 'navajowhite'\n",
       "230. 'navajowhite1'\n",
       "231. 'navajowhite2'\n",
       "232. 'navajowhite3'\n",
       "233. 'navajowhite4'\n",
       "234. 'navy'\n",
       "235. 'navyblue'\n",
       "236. 'oldlace'\n",
       "237. 'olivedrab'\n",
       "238. 'olivedrab1'\n",
       "239. 'olivedrab2'\n",
       "240. 'olivedrab3'\n",
       "241. 'olivedrab4'\n",
       "242. 'orange'\n",
       "243. 'orange1'\n",
       "244. 'orange2'\n",
       "245. 'orange3'\n",
       "246. 'orange4'\n",
       "247. 'orangered'\n",
       "248. 'orangered1'\n",
       "249. 'orangered2'\n",
       "250. 'orangered3'\n",
       "251. 'orangered4'\n",
       "252. 'orchid'\n",
       "253. 'orchid1'\n",
       "254. 'orchid2'\n",
       "255. 'orchid3'\n",
       "256. 'orchid4'\n",
       "257. 'palegoldenrod'\n",
       "258. 'palegreen'\n",
       "259. 'palegreen1'\n",
       "260. 'palegreen2'\n",
       "261. 'palegreen3'\n",
       "262. 'palegreen4'\n",
       "263. 'paleturquoise'\n",
       "264. 'paleturquoise1'\n",
       "265. 'paleturquoise2'\n",
       "266. 'paleturquoise3'\n",
       "267. 'paleturquoise4'\n",
       "268. 'palevioletred'\n",
       "269. 'palevioletred1'\n",
       "270. 'palevioletred2'\n",
       "271. 'palevioletred3'\n",
       "272. 'palevioletred4'\n",
       "273. 'papayawhip'\n",
       "274. 'peachpuff'\n",
       "275. 'peachpuff1'\n",
       "276. 'peachpuff2'\n",
       "277. 'peachpuff3'\n",
       "278. 'peachpuff4'\n",
       "279. 'peru'\n",
       "280. 'pink'\n",
       "281. 'pink1'\n",
       "282. 'pink2'\n",
       "283. 'pink3'\n",
       "284. 'pink4'\n",
       "285. 'plum'\n",
       "286. 'plum1'\n",
       "287. 'plum2'\n",
       "288. 'plum3'\n",
       "289. 'plum4'\n",
       "290. 'powderblue'\n",
       "291. 'purple'\n",
       "292. 'purple1'\n",
       "293. 'purple2'\n",
       "294. 'purple3'\n",
       "295. 'purple4'\n",
       "296. 'red'\n",
       "297. 'red1'\n",
       "298. 'red2'\n",
       "299. 'red3'\n",
       "300. 'red4'\n",
       "301. 'rosybrown'\n",
       "302. 'rosybrown1'\n",
       "303. 'rosybrown2'\n",
       "304. 'rosybrown3'\n",
       "305. 'rosybrown4'\n",
       "306. 'royalblue'\n",
       "307. 'royalblue1'\n",
       "308. 'royalblue2'\n",
       "309. 'royalblue3'\n",
       "310. 'royalblue4'\n",
       "311. 'saddlebrown'\n",
       "312. 'salmon'\n",
       "313. 'salmon1'\n",
       "314. 'salmon2'\n",
       "315. 'salmon3'\n",
       "316. 'salmon4'\n",
       "317. 'sandybrown'\n",
       "318. 'seagreen'\n",
       "319. 'seagreen1'\n",
       "320. 'seagreen2'\n",
       "321. 'seagreen3'\n",
       "322. 'seagreen4'\n",
       "323. 'seashell'\n",
       "324. 'seashell1'\n",
       "325. 'seashell2'\n",
       "326. 'seashell3'\n",
       "327. 'seashell4'\n",
       "328. 'sienna'\n",
       "329. 'sienna1'\n",
       "330. 'sienna2'\n",
       "331. 'sienna3'\n",
       "332. 'sienna4'\n",
       "333. 'skyblue'\n",
       "334. 'skyblue1'\n",
       "335. 'skyblue2'\n",
       "336. 'skyblue3'\n",
       "337. 'skyblue4'\n",
       "338. 'slateblue'\n",
       "339. 'slateblue1'\n",
       "340. 'slateblue2'\n",
       "341. 'slateblue3'\n",
       "342. 'slateblue4'\n",
       "343. 'slategray'\n",
       "344. 'slategray1'\n",
       "345. 'slategray2'\n",
       "346. 'slategray3'\n",
       "347. 'slategray4'\n",
       "348. 'slategrey'\n",
       "349. 'snow'\n",
       "350. 'snow1'\n",
       "351. 'snow2'\n",
       "352. 'snow3'\n",
       "353. 'snow4'\n",
       "354. 'springgreen'\n",
       "355. 'springgreen1'\n",
       "356. 'springgreen2'\n",
       "357. 'springgreen3'\n",
       "358. 'springgreen4'\n",
       "359. 'steelblue'\n",
       "360. 'steelblue1'\n",
       "361. 'steelblue2'\n",
       "362. 'steelblue3'\n",
       "363. 'steelblue4'\n",
       "364. 'tan'\n",
       "365. 'tan1'\n",
       "366. 'tan2'\n",
       "367. 'tan3'\n",
       "368. 'tan4'\n",
       "369. 'thistle'\n",
       "370. 'thistle1'\n",
       "371. 'thistle2'\n",
       "372. 'thistle3'\n",
       "373. 'thistle4'\n",
       "374. 'tomato'\n",
       "375. 'tomato1'\n",
       "376. 'tomato2'\n",
       "377. 'tomato3'\n",
       "378. 'tomato4'\n",
       "379. 'turquoise'\n",
       "380. 'turquoise1'\n",
       "381. 'turquoise2'\n",
       "382. 'turquoise3'\n",
       "383. 'turquoise4'\n",
       "384. 'violet'\n",
       "385. 'violetred'\n",
       "386. 'violetred1'\n",
       "387. 'violetred2'\n",
       "388. 'violetred3'\n",
       "389. 'violetred4'\n",
       "390. 'wheat'\n",
       "391. 'wheat1'\n",
       "392. 'wheat2'\n",
       "393. 'wheat3'\n",
       "394. 'wheat4'\n",
       "395. 'whitesmoke'\n",
       "396. 'yellow'\n",
       "397. 'yellow1'\n",
       "398. 'yellow2'\n",
       "399. 'yellow3'\n",
       "400. 'yellow4'\n",
       "401. 'yellowgreen'\n",
       "\n",
       "\n"
      ],
      "text/plain": [
       "  [1] \"white\"                \"aliceblue\"            \"antiquewhite\"        \n",
       "  [4] \"antiquewhite1\"        \"antiquewhite2\"        \"antiquewhite3\"       \n",
       "  [7] \"antiquewhite4\"        \"aquamarine\"           \"aquamarine1\"         \n",
       " [10] \"aquamarine2\"          \"aquamarine3\"          \"aquamarine4\"         \n",
       " [13] \"azure\"                \"azure1\"               \"azure2\"              \n",
       " [16] \"azure3\"               \"azure4\"               \"beige\"               \n",
       " [19] \"bisque\"               \"bisque1\"              \"bisque2\"             \n",
       " [22] \"bisque3\"              \"bisque4\"              \"black\"               \n",
       " [25] \"blanchedalmond\"       \"blue\"                 \"blue1\"               \n",
       " [28] \"blue2\"                \"blue3\"                \"blue4\"               \n",
       " [31] \"blueviolet\"           \"brown\"                \"brown1\"              \n",
       " [34] \"brown2\"               \"brown3\"               \"brown4\"              \n",
       " [37] \"burlywood\"            \"burlywood1\"           \"burlywood2\"          \n",
       " [40] \"burlywood3\"           \"burlywood4\"           \"cadetblue\"           \n",
       " [43] \"cadetblue1\"           \"cadetblue2\"           \"cadetblue3\"          \n",
       " [46] \"cadetblue4\"           \"chartreuse\"           \"chartreuse1\"         \n",
       " [49] \"chartreuse2\"          \"chartreuse3\"          \"chartreuse4\"         \n",
       " [52] \"chocolate\"            \"chocolate1\"           \"chocolate2\"          \n",
       " [55] \"chocolate3\"           \"chocolate4\"           \"coral\"               \n",
       " [58] \"coral1\"               \"coral2\"               \"coral3\"              \n",
       " [61] \"coral4\"               \"cornflowerblue\"       \"cornsilk\"            \n",
       " [64] \"cornsilk1\"            \"cornsilk2\"            \"cornsilk3\"           \n",
       " [67] \"cornsilk4\"            \"cyan\"                 \"cyan1\"               \n",
       " [70] \"cyan2\"                \"cyan3\"                \"cyan4\"               \n",
       " [73] \"darkblue\"             \"darkcyan\"             \"darkgoldenrod\"       \n",
       " [76] \"darkgoldenrod1\"       \"darkgoldenrod2\"       \"darkgoldenrod3\"      \n",
       " [79] \"darkgoldenrod4\"       \"darkgray\"             \"darkgreen\"           \n",
       " [82] \"darkgrey\"             \"darkkhaki\"            \"darkmagenta\"         \n",
       " [85] \"darkolivegreen\"       \"darkolivegreen1\"      \"darkolivegreen2\"     \n",
       " [88] \"darkolivegreen3\"      \"darkolivegreen4\"      \"darkorange\"          \n",
       " [91] \"darkorange1\"          \"darkorange2\"          \"darkorange3\"         \n",
       " [94] \"darkorange4\"          \"darkorchid\"           \"darkorchid1\"         \n",
       " [97] \"darkorchid2\"          \"darkorchid3\"          \"darkorchid4\"         \n",
       "[100] \"darkred\"              \"darksalmon\"           \"darkseagreen\"        \n",
       "[103] \"darkseagreen1\"        \"darkseagreen2\"        \"darkseagreen3\"       \n",
       "[106] \"darkseagreen4\"        \"darkslateblue\"        \"darkslategray\"       \n",
       "[109] \"darkslategray1\"       \"darkslategray2\"       \"darkslategray3\"      \n",
       "[112] \"darkslategray4\"       \"darkslategrey\"        \"darkturquoise\"       \n",
       "[115] \"darkviolet\"           \"deeppink\"             \"deeppink1\"           \n",
       "[118] \"deeppink2\"            \"deeppink3\"            \"deeppink4\"           \n",
       "[121] \"deepskyblue\"          \"deepskyblue1\"         \"deepskyblue2\"        \n",
       "[124] \"deepskyblue3\"         \"deepskyblue4\"         \"dimgray\"             \n",
       "[127] \"dimgrey\"              \"dodgerblue\"           \"dodgerblue1\"         \n",
       "[130] \"dodgerblue2\"          \"dodgerblue3\"          \"dodgerblue4\"         \n",
       "[133] \"firebrick\"            \"firebrick1\"           \"firebrick2\"          \n",
       "[136] \"firebrick3\"           \"firebrick4\"           \"floralwhite\"         \n",
       "[139] \"forestgreen\"          \"gainsboro\"            \"ghostwhite\"          \n",
       "[142] \"gold\"                 \"gold1\"                \"gold2\"               \n",
       "[145] \"gold3\"                \"gold4\"                \"goldenrod\"           \n",
       "[148] \"goldenrod1\"           \"goldenrod2\"           \"goldenrod3\"          \n",
       "[151] \"goldenrod4\"           \"gray\"                 \"gray0\"               \n",
       "[154] \"gray1\"                \"gray2\"                \"gray3\"               \n",
       "[157] \"gray4\"                \"gray5\"                \"gray6\"               \n",
       "[160] \"gray7\"                \"gray8\"                \"gray9\"               \n",
       "[163] \"gray10\"               \"gray11\"               \"gray12\"              \n",
       "[166] \"gray13\"               \"gray14\"               \"gray15\"              \n",
       "[169] \"gray16\"               \"gray17\"               \"gray18\"              \n",
       "[172] \"gray19\"               \"gray20\"               \"gray21\"              \n",
       "[175] \"gray22\"               \"gray23\"               \"gray24\"              \n",
       "[178] \"gray25\"               \"gray26\"               \"gray27\"              \n",
       "[181] \"gray28\"               \"gray29\"               \"gray30\"              \n",
       "[184] \"gray31\"               \"gray32\"               \"gray33\"              \n",
       "[187] \"gray34\"               \"gray35\"               \"gray36\"              \n",
       "[190] \"gray37\"               \"gray38\"               \"gray39\"              \n",
       "[193] \"gray40\"               \"gray41\"               \"gray42\"              \n",
       "[196] \"gray43\"               \"gray44\"               \"gray45\"              \n",
       "[199] \"gray46\"               \"gray47\"               \"gray48\"              \n",
       "[202] \"gray49\"               \"gray50\"               \"gray51\"              \n",
       "[205] \"gray52\"               \"gray53\"               \"gray54\"              \n",
       "[208] \"gray55\"               \"gray56\"               \"gray57\"              \n",
       "[211] \"gray58\"               \"gray59\"               \"gray60\"              \n",
       "[214] \"gray61\"               \"gray62\"               \"gray63\"              \n",
       "[217] \"gray64\"               \"gray65\"               \"gray66\"              \n",
       "[220] \"gray67\"               \"gray68\"               \"gray69\"              \n",
       "[223] \"gray70\"               \"gray71\"               \"gray72\"              \n",
       "[226] \"gray73\"               \"gray74\"               \"gray75\"              \n",
       "[229] \"gray76\"               \"gray77\"               \"gray78\"              \n",
       "[232] \"gray79\"               \"gray80\"               \"gray81\"              \n",
       "[235] \"gray82\"               \"gray83\"               \"gray84\"              \n",
       "[238] \"gray85\"               \"gray86\"               \"gray87\"              \n",
       "[241] \"gray88\"               \"gray89\"               \"gray90\"              \n",
       "[244] \"gray91\"               \"gray92\"               \"gray93\"              \n",
       "[247] \"gray94\"               \"gray95\"               \"gray96\"              \n",
       "[250] \"gray97\"               \"gray98\"               \"gray99\"              \n",
       "[253] \"gray100\"              \"green\"                \"green1\"              \n",
       "[256] \"green2\"               \"green3\"               \"green4\"              \n",
       "[259] \"greenyellow\"          \"grey\"                 \"grey0\"               \n",
       "[262] \"grey1\"                \"grey2\"                \"grey3\"               \n",
       "[265] \"grey4\"                \"grey5\"                \"grey6\"               \n",
       "[268] \"grey7\"                \"grey8\"                \"grey9\"               \n",
       "[271] \"grey10\"               \"grey11\"               \"grey12\"              \n",
       "[274] \"grey13\"               \"grey14\"               \"grey15\"              \n",
       "[277] \"grey16\"               \"grey17\"               \"grey18\"              \n",
       "[280] \"grey19\"               \"grey20\"               \"grey21\"              \n",
       "[283] \"grey22\"               \"grey23\"               \"grey24\"              \n",
       "[286] \"grey25\"               \"grey26\"               \"grey27\"              \n",
       "[289] \"grey28\"               \"grey29\"               \"grey30\"              \n",
       "[292] \"grey31\"               \"grey32\"               \"grey33\"              \n",
       "[295] \"grey34\"               \"grey35\"               \"grey36\"              \n",
       "[298] \"grey37\"               \"grey38\"               \"grey39\"              \n",
       "[301] \"grey40\"               \"grey41\"               \"grey42\"              \n",
       "[304] \"grey43\"               \"grey44\"               \"grey45\"              \n",
       "[307] \"grey46\"               \"grey47\"               \"grey48\"              \n",
       "[310] \"grey49\"               \"grey50\"               \"grey51\"              \n",
       "[313] \"grey52\"               \"grey53\"               \"grey54\"              \n",
       "[316] \"grey55\"               \"grey56\"               \"grey57\"              \n",
       "[319] \"grey58\"               \"grey59\"               \"grey60\"              \n",
       "[322] \"grey61\"               \"grey62\"               \"grey63\"              \n",
       "[325] \"grey64\"               \"grey65\"               \"grey66\"              \n",
       "[328] \"grey67\"               \"grey68\"               \"grey69\"              \n",
       "[331] \"grey70\"               \"grey71\"               \"grey72\"              \n",
       "[334] \"grey73\"               \"grey74\"               \"grey75\"              \n",
       "[337] \"grey76\"               \"grey77\"               \"grey78\"              \n",
       "[340] \"grey79\"               \"grey80\"               \"grey81\"              \n",
       "[343] \"grey82\"               \"grey83\"               \"grey84\"              \n",
       "[346] \"grey85\"               \"grey86\"               \"grey87\"              \n",
       "[349] \"grey88\"               \"grey89\"               \"grey90\"              \n",
       "[352] \"grey91\"               \"grey92\"               \"grey93\"              \n",
       "[355] \"grey94\"               \"grey95\"               \"grey96\"              \n",
       "[358] \"grey97\"               \"grey98\"               \"grey99\"              \n",
       "[361] \"grey100\"              \"honeydew\"             \"honeydew1\"           \n",
       "[364] \"honeydew2\"            \"honeydew3\"            \"honeydew4\"           \n",
       "[367] \"hotpink\"              \"hotpink1\"             \"hotpink2\"            \n",
       "[370] \"hotpink3\"             \"hotpink4\"             \"indianred\"           \n",
       "[373] \"indianred1\"           \"indianred2\"           \"indianred3\"          \n",
       "[376] \"indianred4\"           \"ivory\"                \"ivory1\"              \n",
       "[379] \"ivory2\"               \"ivory3\"               \"ivory4\"              \n",
       "[382] \"khaki\"                \"khaki1\"               \"khaki2\"              \n",
       "[385] \"khaki3\"               \"khaki4\"               \"lavender\"            \n",
       "[388] \"lavenderblush\"        \"lavenderblush1\"       \"lavenderblush2\"      \n",
       "[391] \"lavenderblush3\"       \"lavenderblush4\"       \"lawngreen\"           \n",
       "[394] \"lemonchiffon\"         \"lemonchiffon1\"        \"lemonchiffon2\"       \n",
       "[397] \"lemonchiffon3\"        \"lemonchiffon4\"        \"lightblue\"           \n",
       "[400] \"lightblue1\"           \"lightblue2\"           \"lightblue3\"          \n",
       "[403] \"lightblue4\"           \"lightcoral\"           \"lightcyan\"           \n",
       "[406] \"lightcyan1\"           \"lightcyan2\"           \"lightcyan3\"          \n",
       "[409] \"lightcyan4\"           \"lightgoldenrod\"       \"lightgoldenrod1\"     \n",
       "[412] \"lightgoldenrod2\"      \"lightgoldenrod3\"      \"lightgoldenrod4\"     \n",
       "[415] \"lightgoldenrodyellow\" \"lightgray\"            \"lightgreen\"          \n",
       "[418] \"lightgrey\"            \"lightpink\"            \"lightpink1\"          \n",
       "[421] \"lightpink2\"           \"lightpink3\"           \"lightpink4\"          \n",
       "[424] \"lightsalmon\"          \"lightsalmon1\"         \"lightsalmon2\"        \n",
       "[427] \"lightsalmon3\"         \"lightsalmon4\"         \"lightseagreen\"       \n",
       "[430] \"lightskyblue\"         \"lightskyblue1\"        \"lightskyblue2\"       \n",
       "[433] \"lightskyblue3\"        \"lightskyblue4\"        \"lightslateblue\"      \n",
       "[436] \"lightslategray\"       \"lightslategrey\"       \"lightsteelblue\"      \n",
       "[439] \"lightsteelblue1\"      \"lightsteelblue2\"      \"lightsteelblue3\"     \n",
       "[442] \"lightsteelblue4\"      \"lightyellow\"          \"lightyellow1\"        \n",
       "[445] \"lightyellow2\"         \"lightyellow3\"         \"lightyellow4\"        \n",
       "[448] \"limegreen\"            \"linen\"                \"magenta\"             \n",
       "[451] \"magenta1\"             \"magenta2\"             \"magenta3\"            \n",
       "[454] \"magenta4\"             \"maroon\"               \"maroon1\"             \n",
       "[457] \"maroon2\"              \"maroon3\"              \"maroon4\"             \n",
       "[460] \"mediumaquamarine\"     \"mediumblue\"           \"mediumorchid\"        \n",
       "[463] \"mediumorchid1\"        \"mediumorchid2\"        \"mediumorchid3\"       \n",
       "[466] \"mediumorchid4\"        \"mediumpurple\"         \"mediumpurple1\"       \n",
       "[469] \"mediumpurple2\"        \"mediumpurple3\"        \"mediumpurple4\"       \n",
       "[472] \"mediumseagreen\"       \"mediumslateblue\"      \"mediumspringgreen\"   \n",
       "[475] \"mediumturquoise\"      \"mediumvioletred\"      \"midnightblue\"        \n",
       "[478] \"mintcream\"            \"mistyrose\"            \"mistyrose1\"          \n",
       "[481] \"mistyrose2\"           \"mistyrose3\"           \"mistyrose4\"          \n",
       "[484] \"moccasin\"             \"navajowhite\"          \"navajowhite1\"        \n",
       "[487] \"navajowhite2\"         \"navajowhite3\"         \"navajowhite4\"        \n",
       "[490] \"navy\"                 \"navyblue\"             \"oldlace\"             \n",
       "[493] \"olivedrab\"            \"olivedrab1\"           \"olivedrab2\"          \n",
       "[496] \"olivedrab3\"           \"olivedrab4\"           \"orange\"              \n",
       "[499] \"orange1\"              \"orange2\"              \"orange3\"             \n",
       "[502] \"orange4\"              \"orangered\"            \"orangered1\"          \n",
       "[505] \"orangered2\"           \"orangered3\"           \"orangered4\"          \n",
       "[508] \"orchid\"               \"orchid1\"              \"orchid2\"             \n",
       "[511] \"orchid3\"              \"orchid4\"              \"palegoldenrod\"       \n",
       "[514] \"palegreen\"            \"palegreen1\"           \"palegreen2\"          \n",
       "[517] \"palegreen3\"           \"palegreen4\"           \"paleturquoise\"       \n",
       "[520] \"paleturquoise1\"       \"paleturquoise2\"       \"paleturquoise3\"      \n",
       "[523] \"paleturquoise4\"       \"palevioletred\"        \"palevioletred1\"      \n",
       "[526] \"palevioletred2\"       \"palevioletred3\"       \"palevioletred4\"      \n",
       "[529] \"papayawhip\"           \"peachpuff\"            \"peachpuff1\"          \n",
       "[532] \"peachpuff2\"           \"peachpuff3\"           \"peachpuff4\"          \n",
       "[535] \"peru\"                 \"pink\"                 \"pink1\"               \n",
       "[538] \"pink2\"                \"pink3\"                \"pink4\"               \n",
       "[541] \"plum\"                 \"plum1\"                \"plum2\"               \n",
       "[544] \"plum3\"                \"plum4\"                \"powderblue\"          \n",
       "[547] \"purple\"               \"purple1\"              \"purple2\"             \n",
       "[550] \"purple3\"              \"purple4\"              \"red\"                 \n",
       "[553] \"red1\"                 \"red2\"                 \"red3\"                \n",
       "[556] \"red4\"                 \"rosybrown\"            \"rosybrown1\"          \n",
       "[559] \"rosybrown2\"           \"rosybrown3\"           \"rosybrown4\"          \n",
       "[562] \"royalblue\"            \"royalblue1\"           \"royalblue2\"          \n",
       "[565] \"royalblue3\"           \"royalblue4\"           \"saddlebrown\"         \n",
       "[568] \"salmon\"               \"salmon1\"              \"salmon2\"             \n",
       "[571] \"salmon3\"              \"salmon4\"              \"sandybrown\"          \n",
       "[574] \"seagreen\"             \"seagreen1\"            \"seagreen2\"           \n",
       "[577] \"seagreen3\"            \"seagreen4\"            \"seashell\"            \n",
       "[580] \"seashell1\"            \"seashell2\"            \"seashell3\"           \n",
       "[583] \"seashell4\"            \"sienna\"               \"sienna1\"             \n",
       "[586] \"sienna2\"              \"sienna3\"              \"sienna4\"             \n",
       "[589] \"skyblue\"              \"skyblue1\"             \"skyblue2\"            \n",
       "[592] \"skyblue3\"             \"skyblue4\"             \"slateblue\"           \n",
       "[595] \"slateblue1\"           \"slateblue2\"           \"slateblue3\"          \n",
       "[598] \"slateblue4\"           \"slategray\"            \"slategray1\"          \n",
       "[601] \"slategray2\"           \"slategray3\"           \"slategray4\"          \n",
       "[604] \"slategrey\"            \"snow\"                 \"snow1\"               \n",
       "[607] \"snow2\"                \"snow3\"                \"snow4\"               \n",
       "[610] \"springgreen\"          \"springgreen1\"         \"springgreen2\"        \n",
       "[613] \"springgreen3\"         \"springgreen4\"         \"steelblue\"           \n",
       "[616] \"steelblue1\"           \"steelblue2\"           \"steelblue3\"          \n",
       "[619] \"steelblue4\"           \"tan\"                  \"tan1\"                \n",
       "[622] \"tan2\"                 \"tan3\"                 \"tan4\"                \n",
       "[625] \"thistle\"              \"thistle1\"             \"thistle2\"            \n",
       "[628] \"thistle3\"             \"thistle4\"             \"tomato\"              \n",
       "[631] \"tomato1\"              \"tomato2\"              \"tomato3\"             \n",
       "[634] \"tomato4\"              \"turquoise\"            \"turquoise1\"          \n",
       "[637] \"turquoise2\"           \"turquoise3\"           \"turquoise4\"          \n",
       "[640] \"violet\"               \"violetred\"            \"violetred1\"          \n",
       "[643] \"violetred2\"           \"violetred3\"           \"violetred4\"          \n",
       "[646] \"wheat\"                \"wheat1\"               \"wheat2\"              \n",
       "[649] \"wheat3\"               \"wheat4\"               \"whitesmoke\"          \n",
       "[652] \"yellow\"               \"yellow1\"              \"yellow2\"             \n",
       "[655] \"yellow3\"              \"yellow4\"              \"yellowgreen\"         "
      ]
     },
     "metadata": {},
     "output_type": "display_data"
    }
   ],
   "source": [
    "colors()   #返回所有可用颜色"
   ]
  },
  {
   "cell_type": "markdown",
   "metadata": {},
   "source": [
    "### rainbow"
   ]
  },
  {
   "cell_type": "code",
   "execution_count": 14,
   "metadata": {
    "ExecuteTime": {
     "end_time": "2021-01-26T10:01:37.357657Z",
     "start_time": "2021-01-26T10:01:33.907Z"
    }
   },
   "outputs": [
    {
     "data": {
      "image/png": "[encoded data removed]",
      "text/plain": [
       "plot without title"
      ]
     },
     "metadata": {
      "image/png": {
       "height": 420,
       "width": 420
      }
     },
     "output_type": "display_data"
    }
   ],
   "source": [
    "n <- 10\n",
    "mycolors <- rainbow(n)  #生成连续变化的色阶\n",
    "pie(rep(1, n), labels=mycolors, col=mycolors)"
   ]
  },
  {
   "cell_type": "code",
   "execution_count": 15,
   "metadata": {
    "ExecuteTime": {
     "end_time": "2021-01-26T10:01:37.394559Z",
     "start_time": "2021-01-26T10:01:33.911Z"
    }
   },
   "outputs": [
    {
     "data": {
      "text/html": [
       "'character'"
      ],
      "text/latex": [
       "'character'"
      ],
      "text/markdown": [
       "'character'"
      ],
      "text/plain": [
       "[1] \"character\""
      ]
     },
     "metadata": {},
     "output_type": "display_data"
    }
   ],
   "source": [
    "class(rainbow(10))   #返回一个字符串"
   ]
  },
  {
   "cell_type": "code",
   "execution_count": 16,
   "metadata": {
    "ExecuteTime": {
     "end_time": "2021-01-26T10:01:37.435449Z",
     "start_time": "2021-01-26T10:01:33.914Z"
    }
   },
   "outputs": [
    {
     "name": "stdout",
     "output_type": "stream",
     "text": [
      " chr [1:10] \"#FF0000\" \"#FF9900\" \"#CCFF00\" \"#33FF00\" \"#00FF66\" \"#00FFFF\" ...\n"
     ]
    }
   ],
   "source": [
    "str(rainbow(10))"
   ]
  },
  {
   "cell_type": "markdown",
   "metadata": {},
   "source": [
    "### gray"
   ]
  },
  {
   "cell_type": "code",
   "execution_count": 17,
   "metadata": {
    "ExecuteTime": {
     "end_time": "2021-01-26T10:01:37.557125Z",
     "start_time": "2021-01-26T10:01:33.916Z"
    }
   },
   "outputs": [
    {
     "data": {
      "image/png": "[encoded data removed]",
      "text/plain": [
       "plot without title"
      ]
     },
     "metadata": {
      "image/png": {
       "height": 420,
       "width": 420
      }
     },
     "output_type": "display_data"
    }
   ],
   "source": [
    "mygrays <- gray(0:n/n)\n",
    "pie(rep(1, n), labels=mygrays, col=mygrays)"
   ]
  },
  {
   "cell_type": "code",
   "execution_count": 18,
   "metadata": {
    "ExecuteTime": {
     "end_time": "2021-01-26T10:01:37.600010Z",
     "start_time": "2021-01-26T10:01:33.919Z"
    }
   },
   "outputs": [
    {
     "data": {
      "text/html": [
       "'character'"
      ],
      "text/latex": [
       "'character'"
      ],
      "text/markdown": [
       "'character'"
      ],
      "text/plain": [
       "[1] \"character\""
      ]
     },
     "metadata": {},
     "output_type": "display_data"
    }
   ],
   "source": [
    "class(gray(0:10/10))   #与rainbow类似\n",
    "#这里的参数是一个向量"
   ]
  },
  {
   "cell_type": "code",
   "execution_count": 19,
   "metadata": {
    "ExecuteTime": {
     "end_time": "2021-01-26T10:01:37.638906Z",
     "start_time": "2021-01-26T10:01:33.923Z"
    }
   },
   "outputs": [
    {
     "data": {
      "text/html": [
       "<style>\n",
       ".list-inline {list-style: none; margin:0; padding: 0}\n",
       ".list-inline>li {display: inline-block}\n",
       ".list-inline>li:not(:last-child)::after {content: \"\\00b7\"; padding: 0 .5ex}\n",
       "</style>\n",
       "<ol class=list-inline><li>0</li><li>0.1</li><li>0.2</li><li>0.3</li><li>0.4</li><li>0.5</li><li>0.6</li><li>0.7</li><li>0.8</li><li>0.9</li><li>1</li></ol>\n"
      ],
      "text/latex": [
       "\\begin{enumerate*}\n",
       "\\item 0\n",
       "\\item 0.1\n",
       "\\item 0.2\n",
       "\\item 0.3\n",
       "\\item 0.4\n",
       "\\item 0.5\n",
       "\\item 0.6\n",
       "\\item 0.7\n",
       "\\item 0.8\n",
       "\\item 0.9\n",
       "\\item 1\n",
       "\\end{enumerate*}\n"
      ],
      "text/markdown": [
       "1. 0\n",
       "2. 0.1\n",
       "3. 0.2\n",
       "4. 0.3\n",
       "5. 0.4\n",
       "6. 0.5\n",
       "7. 0.6\n",
       "8. 0.7\n",
       "9. 0.8\n",
       "10. 0.9\n",
       "11. 1\n",
       "\n",
       "\n"
      ],
      "text/plain": [
       " [1] 0.0 0.1 0.2 0.3 0.4 0.5 0.6 0.7 0.8 0.9 1.0"
      ]
     },
     "metadata": {},
     "output_type": "display_data"
    }
   ],
   "source": [
    "c(0:10/10)"
   ]
  },
  {
   "cell_type": "markdown",
   "metadata": {},
   "source": [
    "## 文字属性"
   ]
  },
  {
   "cell_type": "markdown",
   "metadata": {},
   "source": [
    "### cex\n",
    "用于表示对默认的绘图文本和符号放大多少倍。需要注意一些绘图函数如plot.default等也有一个相同名字的参数，但是此时表示在函数par()的参数cex的基础上再放大多少倍，此外还有函数points等接受一个数值向量为参数。"
   ]
  },
  {
   "cell_type": "markdown",
   "metadata": {},
   "source": [
    "### cex.\n",
    "cex.axis。表示在当前的cex设定情况下，对坐标轴刻度值字体的放大倍数。\n",
    "\n",
    "cex.lab。表示在当前的cex设定情况下，对坐标轴名称字体的放大倍数。\n",
    "\n",
    "cex.main。表示在当前的cex设定情况下，对主标题字体的放大倍数。\n",
    "\n",
    "cex.sub。表示在当前的cex设定情况下，对子标题字体的放大倍数。"
   ]
  },
  {
   "cell_type": "markdown",
   "metadata": {},
   "source": [
    "### font\n",
    "整数。用于指定绘图使用的字体样式。1=常规，2=粗体，3=斜体，4=粗斜体，5=符号字体（以Adobe符号编码表示）"
   ]
  },
  {
   "cell_type": "markdown",
   "metadata": {},
   "source": [
    "### font.\n",
    "font.axis。坐标轴刻度值的字型。\n",
    "\n",
    "font.lab。坐标轴名称的字型。\n",
    "\n",
    "font.main。主标题的字型。\n",
    "\n",
    "font.sub。子标题的字型。"
   ]
  },
  {
   "cell_type": "markdown",
   "metadata": {},
   "source": [
    "### ps\n",
    "字体磅值，文本的最终大小为ps*cex"
   ]
  },
  {
   "cell_type": "markdown",
   "metadata": {},
   "source": [
    "### family\n",
    "绘制文本的时候使用的字体族，标准的取值为serif（衬线），sans（无衬线）和mono（等宽）"
   ]
  },
  {
   "cell_type": "markdown",
   "metadata": {},
   "source": [
    "#### family的特殊之处"
   ]
  },
  {
   "cell_type": "raw",
   "metadata": {},
   "source": [
    "在Windows系统中，\n",
    "等宽字体映射为TT Courier New，\n",
    "衬线字体映射为TT Times New Roman，\n",
    "无衬线字体则映射为TT Arial\n",
    "（TT代表True Type）。"
   ]
  },
  {
   "cell_type": "code",
   "execution_count": 20,
   "metadata": {
    "ExecuteTime": {
     "end_time": "2021-01-26T10:01:37.670820Z",
     "start_time": "2021-01-26T10:01:33.962Z"
    }
   },
   "outputs": [],
   "source": [
    "#自定义映射\n",
    "windowsFonts(Wis = windowsFont('Wisdom'))"
   ]
  },
  {
   "cell_type": "code",
   "execution_count": 21,
   "metadata": {
    "ExecuteTime": {
     "end_time": "2021-01-26T10:01:37.763572Z",
     "start_time": "2021-01-26T10:01:33.966Z"
    }
   },
   "outputs": [
    {
     "data": {
      "image/png": "[encoded data removed]",
      "text/plain": [
       "plot without title"
      ]
     },
     "metadata": {
      "image/png": {
       "height": 420,
       "width": 420
      }
     },
     "output_type": "display_data"
    }
   ],
   "source": [
    "plot(dose, drugA, type=\"b\", #连成一线\n",
    "     cex=2,                 #绘图放大2倍\n",
    "     pch='你',              #用‘你’作为图标\n",
    "     family='Wis',          #用自定义的Wisdom字体\n",
    "     cex.axis=2,cex.lab=2,  #坐标轴刻度、坐标轴标签都放大二倍\n",
    "     font=2                 #绘图文字使用粗体\n",
    "    )"
   ]
  },
  {
   "cell_type": "markdown",
   "metadata": {},
   "source": [
    "## 图形尺寸和边界尺寸"
   ]
  },
  {
   "cell_type": "markdown",
   "metadata": {},
   "source": [
    "### pin\n",
    "英寸表示的图像宽和高"
   ]
  },
  {
   "cell_type": "markdown",
   "metadata": {},
   "source": [
    "### mai\n",
    "以数值向量表示的边界大小，顺序为下左上右，单位为英寸"
   ]
  },
  {
   "cell_type": "markdown",
   "metadata": {},
   "source": [
    "### mar\n",
    "以数值向量表示的边界大小，顺序为下左上右，单位为英分\\\n",
    "一英分等于十二分之一英寸"
   ]
  },
  {
   "cell_type": "markdown",
   "metadata": {},
   "source": [
    "### fig\n",
    "一个数值向量，形式为c(x1, x2, y1, y2)，用于设定当前图形在绘图设备中所占区域，注意需要满足x1<x2,y1<y2。\\\n",
    "如果修改参数fig，会自动打开一个新的绘图设备，而若希望在原来的绘图设备中添加新的图形，需要和参数new=TRUE一起使用"
   ]
  },
  {
   "cell_type": "code",
   "execution_count": 22,
   "metadata": {
    "ExecuteTime": {
     "end_time": "2021-01-26T10:01:37.852335Z",
     "start_time": "2021-01-26T10:01:33.975Z"
    }
   },
   "outputs": [
    {
     "data": {
      "image/png": "[encoded data removed]",
      "text/plain": [
       "plot without title"
      ]
     },
     "metadata": {
      "image/png": {
       "height": 420,
       "width": 420
      }
     },
     "output_type": "display_data"
    }
   ],
   "source": [
    "op <- par(pin=c(4,3), mai=c(1, .5, 1, .2), bg='yellow')\n",
    "plot(dose, drugA, type=\"b\", lty=3, lwd=3, pch='凎', cex=2)\n",
    "par(op)"
   ]
  },
  {
   "cell_type": "markdown",
   "metadata": {},
   "source": [
    "## 添加文本、自定义坐标轴和图例"
   ]
  },
  {
   "cell_type": "raw",
   "metadata": {},
   "source": [
    "某些高级绘图函数已经包含了默认的标题和标签。你可以通过在plot()语句或\n",
    "单独的par()语句中添加ann=FALSE来移除它们。"
   ]
  },
  {
   "cell_type": "markdown",
   "metadata": {},
   "source": [
    "### title"
   ]
  },
  {
   "cell_type": "markdown",
   "metadata": {
    "ExecuteTime": {
     "end_time": "2021-01-26T06:28:04.257611Z",
     "start_time": "2021-01-26T06:28:02.985Z"
    }
   },
   "source": [
    "```R\n",
    "title(main = NULL, sub = NULL, xlab = NULL, ylab = NULL,\n",
    "      line = NA, outer = FALSE, ...)\n",
    "```\n",
    "也可以加上其他图形参数，如文字大小，颜色等"
   ]
  },
  {
   "cell_type": "markdown",
   "metadata": {},
   "source": [
    "### axis"
   ]
  },
  {
   "cell_type": "markdown",
   "metadata": {},
   "source": [
    "```R\n",
    "axis(side, at = NULL, labels = TRUE, tick = TRUE, line = NA,\n",
    "     pos = NA, outer = FALSE, font = NA, lty = \"solid\",\n",
    "     lwd = 1, lwd.ticks = lwd, col = NULL, col.ticks = NULL,\n",
    "     hadj = NA, padj = NA, gap.axis = NA, ...)\n",
    "```"
   ]
  },
  {
   "cell_type": "raw",
   "metadata": {},
   "source": [
    "参数的含义：\n",
    "side    整数，表示在图形的哪边绘制坐标轴，(1,2,3,4)=(下,左,上,右)\n",
    "at      数值型向量，表示需要绘制刻度线的位置\n",
    "labels  字符型向量，表示置于刻度线旁边的文字标签（NULl时用at中的值）\n",
    "pos     坐标轴绘制位置的坐标，即与另一条坐标轴相交的位置\n",
    "lty     线条类型\n",
    "col     线条和刻度线颜色\n",
    "las     标签是平行于(=0)，或垂直于(=2)坐标轴\n",
    "tck     刻度线的长度，以相对于绘图区域大小的百分比表示，负值表示在图形外侧，默认为-0.01，1表示绘制网格线，0表示禁用刻度线\n",
    "……      其他图形参数"
   ]
  },
  {
   "cell_type": "code",
   "execution_count": 23,
   "metadata": {
    "ExecuteTime": {
     "end_time": "2021-01-26T10:01:37.945088Z",
     "start_time": "2021-01-26T10:01:34.036Z"
    }
   },
   "outputs": [
    {
     "data": {
      "image/png": "[encoded data removed]",
      "text/plain": [
       "plot without title"
      ]
     },
     "metadata": {
      "image/png": {
       "height": 420,
       "width": 420
      }
     },
     "output_type": "display_data"
    }
   ],
   "source": [
    "#原始图像\n",
    "x <- c(1:10)\n",
    "y <- x\n",
    "z <- 10/x  #数据\n",
    "opar <- par(no.readonly=TRUE)\n",
    "par(mar=c(5, 4, 4, 8) + 0.1)\n",
    "plot(x, y, type='b',\n",
    "    pch=21, col='red',\n",
    "    yaxt='n', lty=3, ann=FALSE)\n",
    "lines(x, z, type='b',\n",
    "     pch=22, col='blue', lty=2)\n",
    "par(opar)"
   ]
  },
  {
   "cell_type": "code",
   "execution_count": 24,
   "metadata": {
    "ExecuteTime": {
     "end_time": "2021-01-26T10:01:38.092693Z",
     "start_time": "2021-01-26T10:01:34.040Z"
    }
   },
   "outputs": [
    {
     "data": {
      "text/html": [
       "<strong>png:</strong> 3"
      ],
      "text/latex": [
       "\\textbf{png:} 3"
      ],
      "text/markdown": [
       "**png:** 3"
      ],
      "text/plain": [
       "png \n",
       "  3 "
      ]
     },
     "metadata": {},
     "output_type": "display_data"
    },
    {
     "data": {
      "text/html": [
       "<strong>png:</strong> 2"
      ],
      "text/latex": [
       "\\textbf{png:} 2"
      ],
      "text/markdown": [
       "**png:** 2"
      ],
      "text/plain": [
       "png \n",
       "  2 "
      ]
     },
     "metadata": {},
     "output_type": "display_data"
    },
    {
     "data": {
      "image/png": "[encoded data removed]",
      "text/plain": [
       "Plot with title \"An Example of Creative Axes\""
      ]
     },
     "metadata": {
      "image/png": {
       "height": 420,
       "width": 420
      }
     },
     "output_type": "display_data"
    }
   ],
   "source": [
    "#示例1\n",
    "x <- c(1:10)\n",
    "y <- x\n",
    "z <- 10/x\n",
    "opar <- par(no.readonly=TRUE)\n",
    "par(mar=c(5, 4, 4, 8) + 0.1)\n",
    "plot(x, y, type='b',\n",
    "    pch=21, col='red',\n",
    "    yaxt='n', lty=3, ann=FALSE)\n",
    "lines(x, z, type='b',\n",
    "     pch=22, col='blue', lty=2)       #添加一条线到现有图像\n",
    "axis(2, at=x, labels=x, col.axis='red', las=2)   #绘制左侧的坐标轴\n",
    "axis(4, at=z, labels=round(z, digits=2),   #绘制右侧的坐标轴\n",
    "     col.axis='blue', las=2)\n",
    "mtext('y=1/x', side=4, line=3, las=2, col='blue')  #对右侧进行标注\n",
    "title(\"An Example of Creative Axes\",\n",
    "     xlab=\"x values\",\n",
    "     ylab=\"y=x\",\n",
    "     )                            #标题，坐标轴标签\n",
    "par(opar)\n",
    "dev.copy(png, \"An Example of Creative Axes.png\")   #这个语句可以同时在屏幕和文件输出图片\n",
    "dev.off()\n",
    "\n",
    "#存疑，下面的png2，png3是什么意思？？？？？"
   ]
  },
  {
   "cell_type": "markdown",
   "metadata": {},
   "source": [
    "### abline参考线"
   ]
  },
  {
   "cell_type": "markdown",
   "metadata": {},
   "source": [
    "```R\n",
    "abline(a = NULL, b = NULL, h = NULL, v = NULL, reg = NULL,\n",
    "       coef = NULL, untf = FALSE, ...)\n",
    "```\n",
    "h是y轴某个值的参考线\\\n",
    "v是x轴某个值的参考线"
   ]
  },
  {
   "cell_type": "markdown",
   "metadata": {},
   "source": [
    "### 次要刻度线"
   ]
  },
  {
   "cell_type": "code",
   "execution_count": 25,
   "metadata": {
    "ExecuteTime": {
     "end_time": "2021-01-26T10:01:38.122613Z",
     "start_time": "2021-01-26T10:01:34.044Z"
    },
    "scrolled": true
   },
   "outputs": [],
   "source": [
    "# install.packages('Hmisc')\n",
    "#这里在jupyter中尝试安装，出现了一些问题\n",
    "#转而用Rstudio成功安装\n",
    "#这个包是一个杂项包，很庞大！！！！！！"
   ]
  },
  {
   "cell_type": "raw",
   "metadata": {},
   "source": [
    "使用Hmisc包中的minor.tick()函数来添加次要刻度线"
   ]
  },
  {
   "cell_type": "markdown",
   "metadata": {},
   "source": [
    "```R\n",
    "minor.tick(nx=n, ny=n, tick.ratio=n)\n",
    "```"
   ]
  },
  {
   "cell_type": "raw",
   "metadata": {},
   "source": [
    "其中nx和ny分别指定了X轴和Y轴每两条主刻度线之间通过次要刻度线划分得到的区间个数。\n",
    "tick.ratio表示次要刻度线相对于主刻度线的大小比例。\n",
    "当前的主刻度线长度可以使用par(\"tck\")获取。"
   ]
  },
  {
   "cell_type": "markdown",
   "metadata": {},
   "source": [
    "### 之前漏掉的安装包的过程\n",
    "在jupyter中键入以上命令运行，会在jupyter的服务器中提示安装的过程，如图\n",
    "![title](img\\install.png)"
   ]
  },
  {
   "cell_type": "markdown",
   "metadata": {},
   "source": [
    "### legend图例"
   ]
  },
  {
   "cell_type": "markdown",
   "metadata": {},
   "source": [
    "```R\n",
    "legend(x, y = NULL, legend, fill = NULL, col = par(\"col\"),\n",
    "       border = \"black\", lty, lwd, pch,\n",
    "       angle = 45, density = NULL, bty = \"o\", bg = par(\"bg\"),\n",
    "       box.lwd = par(\"lwd\"), box.lty = par(\"lty\"), box.col = par(\"fg\"),\n",
    "       pt.bg = NA, cex = 1, pt.cex = cex, pt.lwd = lwd,\n",
    "       xjust = 0, yjust = 1, x.intersp = 1, y.intersp = 1,\n",
    "       adj = c(0, 0.5), text.width = NULL, text.col = par(\"col\"),\n",
    "       text.font = NULL, merge = do.lines && has.pch, trace = FALSE,\n",
    "       plot = TRUE, ncol = 1, horiz = FALSE, title = NULL,\n",
    "       inset = 0, xpd, title.col = text.col, title.adj = 0.5,\n",
    "       seg.len = 2)\n",
    "```"
   ]
  },
  {
   "cell_type": "raw",
   "metadata": {},
   "source": [
    "主要参数\n",
    "location(x,y)   \n",
    "图例的位置；有许多方式可以指定图例的位置。你可以直接给定图例左上角的x、y坐标，也可以执行\n",
    "locator(1)，然后通过鼠标单击给出图例的位置，还可以使用关键字bottom、bottomleft、\n",
    "left、topleft、top、topright、right、bottomright或center放置图例。如果你使用\n",
    "了以上某个关键字，那么可以同时使用参数inset=指定图例向图形内侧移动的大小（以绘图区域\n",
    "大小的分数表示）\n",
    "\n",
    "title\n",
    "图例标题的字符串，可选\n",
    "\n",
    "legend\n",
    "图例标签组成的字符型向量"
   ]
  },
  {
   "cell_type": "code",
   "execution_count": 26,
   "metadata": {
    "ExecuteTime": {
     "end_time": "2021-01-26T10:01:46.185572Z",
     "start_time": "2021-01-26T10:01:34.122Z"
    }
   },
   "outputs": [
    {
     "name": "stderr",
     "output_type": "stream",
     "text": [
      "Loading required package: lattice\n",
      "\n",
      "Loading required package: survival\n",
      "\n",
      "Loading required package: Formula\n",
      "\n",
      "Loading required package: ggplot2\n",
      "\n",
      "\n",
      "Attaching package: 'Hmisc'\n",
      "\n",
      "\n",
      "The following objects are masked from 'package:base':\n",
      "\n",
      "    format.pval, units\n",
      "\n",
      "\n"
     ]
    },
    {
     "data": {
      "text/html": [
       "<strong>png:</strong> 3"
      ],
      "text/latex": [
       "\\textbf{png:} 3"
      ],
      "text/markdown": [
       "**png:** 3"
      ],
      "text/plain": [
       "png \n",
       "  3 "
      ]
     },
     "metadata": {},
     "output_type": "display_data"
    },
    {
     "data": {
      "text/html": [
       "<strong>png:</strong> 2"
      ],
      "text/latex": [
       "\\textbf{png:} 2"
      ],
      "text/markdown": [
       "**png:** 2"
      ],
      "text/plain": [
       "png \n",
       "  2 "
      ]
     },
     "metadata": {},
     "output_type": "display_data"
    },
    {
     "data": {
      "image/png": "[encoded data removed]",
      "text/plain": [
       "Plot with title \"Drug A vs. Drug B\""
      ]
     },
     "metadata": {
      "image/png": {
       "height": 420,
       "width": 420
      }
     },
     "output_type": "display_data"
    }
   ],
   "source": [
    "#示例2\n",
    "#直接使用前文已经赋值过的dose，drugA，drugB来作图\n",
    "\n",
    "opar <- par(no.readonly=TRUE)\n",
    "\n",
    "par(lwd=2, cex=1.2, font.lab=2)\n",
    "\n",
    "plot(dose, drugA, type='b',\n",
    "    pch=15, lty=1, col='red', ylim=c(0,60),\n",
    "    main=\"Drug A vs. Drug B\",\n",
    "    xlab='Drug Dosage', ylab='Drug Response')\n",
    "\n",
    "lines(dose, drugB, type='b',\n",
    "     pch=17, lty=2, col='blue')\n",
    "\n",
    "abline(h=c(30), lwd=1.5, lty=2, col= 'magenta')   #参考线\n",
    "\n",
    "library(Hmisc)\n",
    "minor.tick(nx=3, ny=3, tick.ratio=0.5)\n",
    "\n",
    "legend(\"topleft\", inset=.05, title=\"Drug Type\", \n",
    "      c(\"A\",\"B\"), \n",
    "      lty=c(1,2), pch=c(15,17), col=c('red','blue')    #图例\n",
    "      )\n",
    "par(opar)\n",
    "\n",
    "dev.copy(png, \"Drug A vs. Drug B.png\")    #输出到文件\n",
    "\n",
    "dev.off()"
   ]
  },
  {
   "cell_type": "code",
   "execution_count": 27,
   "metadata": {
    "ExecuteTime": {
     "end_time": "2021-01-26T10:01:46.216493Z",
     "start_time": "2021-01-26T10:01:34.126Z"
    }
   },
   "outputs": [],
   "source": [
    "#上面有一个警示，意思是加载的包Hmisc和自带的包base有冲突，被覆盖masked了"
   ]
  },
  {
   "cell_type": "markdown",
   "metadata": {},
   "source": [
    "### 文本标注"
   ]
  },
  {
   "cell_type": "markdown",
   "metadata": {},
   "source": [
    "#### text()——图上标注"
   ]
  },
  {
   "cell_type": "markdown",
   "metadata": {},
   "source": [
    "```R\n",
    "text(x, y = NULL, labels = seq_along(x$x), adj = NULL,\n",
    "     pos = NULL, offset = 0.5, vfont = NULL,\n",
    "     cex = 1, col = NULL, font = NULL, ...)\n",
    "```"
   ]
  },
  {
   "cell_type": "markdown",
   "metadata": {},
   "source": [
    "#### mtext()——图形边界标注"
   ]
  },
  {
   "cell_type": "markdown",
   "metadata": {},
   "source": [
    "```R\n",
    "mtext(text, side = 3, line = 0, outer = FALSE, at = NA,\n",
    "      adj = NA, padj = NA, cex = NA, col = NA, font = NA, ...)\n",
    "```"
   ]
  },
  {
   "cell_type": "raw",
   "metadata": {},
   "source": [
    "参数\n",
    "location    文本位置\n",
    "pos         文本相对于位置参数的方位\n",
    "side        指定用来放文本的边，下左上右"
   ]
  },
  {
   "cell_type": "code",
   "execution_count": 28,
   "metadata": {
    "ExecuteTime": {
     "end_time": "2021-01-26T10:01:46.501737Z",
     "start_time": "2021-01-26T10:01:34.154Z"
    }
   },
   "outputs": [
    {
     "data": {
      "text/html": [
       "<strong>png:</strong> 2"
      ],
      "text/latex": [
       "\\textbf{png:} 2"
      ],
      "text/markdown": [
       "**png:** 2"
      ],
      "text/plain": [
       "png \n",
       "  2 "
      ]
     },
     "metadata": {},
     "output_type": "display_data"
    },
    {
     "data": {
      "image/png": "[encoded data removed]",
      "text/plain": [
       "Plot with title \"Mileage vs. Car Weight\""
      ]
     },
     "metadata": {
      "image/png": {
       "height": 420,
       "width": 420
      }
     },
     "output_type": "display_data"
    }
   ],
   "source": [
    "#示例3\n",
    "with(mtcars,\n",
    "     {\n",
    "par(cex=0.7)\n",
    "plot(wt, mpg,\n",
    "    main=\"Mileage vs. Car Weight\",\n",
    "    xlab='Weight', ylab='Mileage',\n",
    "    pch =18, col='blue')\n",
    "text(wt,mpg,\n",
    "   row.names(mtcars),\n",
    "   cex=1.2, pos=4, col='red')\n",
    "dev.copy(png,\"Mileage vs. Car Weight.png\")\n",
    "dev.off()\n",
    "     }\n",
    "    )"
   ]
  },
  {
   "cell_type": "markdown",
   "metadata": {},
   "source": [
    "### 数学标注expression和其他一些函数"
   ]
  },
  {
   "cell_type": "code",
   "execution_count": 29,
   "metadata": {
    "ExecuteTime": {
     "end_time": "2021-01-26T10:01:46.606447Z",
     "start_time": "2021-01-26T10:01:34.159Z"
    }
   },
   "outputs": [
    {
     "data": {
      "image/png": "[encoded data removed]",
      "text/plain": [
       "plot without title"
      ]
     },
     "metadata": {
      "image/png": {
       "height": 420,
       "width": 420
      }
     },
     "output_type": "display_data"
    }
   ],
   "source": [
    "plot(x, z, type='b')\n",
    "text(4,4,expression(y == frac(1,x)))\n",
    "text(7,7,expression(lim(f(x[i]), i %->% infinity)),cex=2)\n",
    "text(9,9,quote(prod(f(x),a,b)),cex=2)"
   ]
  },
  {
   "cell_type": "code",
   "execution_count": 30,
   "metadata": {
    "ExecuteTime": {
     "end_time": "2021-01-26T10:01:46.643349Z",
     "start_time": "2021-01-26T10:01:34.162Z"
    }
   },
   "outputs": [
    {
     "data": {
      "text/html": [
       "'expression'"
      ],
      "text/latex": [
       "'expression'"
      ],
      "text/markdown": [
       "'expression'"
      ],
      "text/plain": [
       "[1] \"expression\""
      ]
     },
     "metadata": {},
     "output_type": "display_data"
    }
   ],
   "source": [
    "class(expression(y == frac(1,x)))"
   ]
  },
  {
   "cell_type": "code",
   "execution_count": 31,
   "metadata": {
    "ExecuteTime": {
     "end_time": "2021-01-26T10:01:46.678257Z",
     "start_time": "2021-01-26T10:01:34.165Z"
    }
   },
   "outputs": [
    {
     "data": {
      "text/html": [
       "'call'"
      ],
      "text/latex": [
       "'call'"
      ],
      "text/markdown": [
       "'call'"
      ],
      "text/plain": [
       "[1] \"call\""
      ]
     },
     "metadata": {},
     "output_type": "display_data"
    }
   ],
   "source": [
    "class(quote(prod(f(x),a,b)))"
   ]
  },
  {
   "cell_type": "code",
   "execution_count": 32,
   "metadata": {
    "ExecuteTime": {
     "end_time": "2021-01-26T10:01:46.810901Z",
     "start_time": "2021-01-26T10:01:34.168Z"
    }
   },
   "outputs": [
    {
     "data": {
      "image/png": "[encoded data removed]",
      "text/plain": [
       "Plot with title \"plot math & numbers\""
      ]
     },
     "metadata": {
      "image/png": {
       "height": 420,
       "width": 420
      }
     },
     "output_type": "display_data"
    }
   ],
   "source": [
    "plot(1:10, type=\"n\", xlab=\"\", ylab=\"\", main = \"plot math & numbers\")\n",
    "theta <- 1.23 ; mtext(bquote(hat(theta) == .(theta)), line= .25)\n",
    "for(i in 2:9)\n",
    "    text(i, i+1, substitute(list(xi, eta) == group(\"(\",list(x,y),\")\"),\n",
    "                            list(x = i, y = i+1)))"
   ]
  },
  {
   "cell_type": "markdown",
   "metadata": {},
   "source": [
    "# 图形组合"
   ]
  },
  {
   "cell_type": "markdown",
   "metadata": {},
   "source": [
    "## par"
   ]
  },
  {
   "cell_type": "code",
   "execution_count": 33,
   "metadata": {
    "ExecuteTime": {
     "end_time": "2021-01-26T10:01:46.937562Z",
     "start_time": "2021-01-26T10:01:34.172Z"
    }
   },
   "outputs": [
    {
     "data": {
      "text/html": [
       "<strong>png:</strong> 2"
      ],
      "text/latex": [
       "\\textbf{png:} 2"
      ],
      "text/markdown": [
       "**png:** 2"
      ],
      "text/plain": [
       "png \n",
       "  2 "
      ]
     },
     "metadata": {},
     "output_type": "display_data"
    },
    {
     "data": {
      "image/png": "[encoded data removed]",
      "text/plain": [
       "Plot with title \"Boxplot of wt\""
      ]
     },
     "metadata": {
      "image/png": {
       "height": 420,
       "width": 420
      }
     },
     "output_type": "display_data"
    }
   ],
   "source": [
    "with(mtcars,{\n",
    "    par(mfrow=c(2,2))   #2x2布局\n",
    "    plot(wt, mpg,main=\"scatterplot of wt vs. mpg\")\n",
    "    plot(wt,disp, main='scatterplot of wt vs. disp')\n",
    "    hist(wt)\n",
    "    boxplot(wt, main='Boxplot of wt')\n",
    "    dev.copy(png, 'comble1.png')\n",
    "    dev.off()\n",
    "})"
   ]
  },
  {
   "cell_type": "markdown",
   "metadata": {},
   "source": [
    "## layout"
   ]
  },
  {
   "cell_type": "raw",
   "metadata": {},
   "source": [
    "函数layout()的调用形式为layout(mat)，其中的mat是一个矩阵，它指定了所要组合的多个图形的所在位置。"
   ]
  },
  {
   "cell_type": "code",
   "execution_count": 34,
   "metadata": {
    "ExecuteTime": {
     "end_time": "2021-01-26T10:01:47.058239Z",
     "start_time": "2021-01-26T10:01:34.200Z"
    }
   },
   "outputs": [
    {
     "data": {
      "text/html": [
       "<strong>png:</strong> 2"
      ],
      "text/latex": [
       "\\textbf{png:} 2"
      ],
      "text/markdown": [
       "**png:** 2"
      ],
      "text/plain": [
       "png \n",
       "  2 "
      ]
     },
     "metadata": {},
     "output_type": "display_data"
    },
    {
     "data": {
      "image/png": "[encoded data removed]",
      "text/plain": [
       "Plot with title \"Histogram of disp\""
      ]
     },
     "metadata": {
      "image/png": {
       "height": 420,
       "width": 420
      }
     },
     "output_type": "display_data"
    }
   ],
   "source": [
    "with(mtcars,{\n",
    "    layout(matrix(c(1,1,2,3),2,2,byrow=TRUE))\n",
    "    hist(wt)\n",
    "    hist(mpg)\n",
    "    hist(disp)\n",
    "    dev.copy(png, 'comble2.png')\n",
    "    dev.off()\n",
    "})"
   ]
  },
  {
   "cell_type": "code",
   "execution_count": 35,
   "metadata": {
    "ExecuteTime": {
     "end_time": "2021-01-26T10:01:47.172933Z",
     "start_time": "2021-01-26T10:01:34.205Z"
    }
   },
   "outputs": [
    {
     "data": {
      "text/html": [
       "<strong>png:</strong> 2"
      ],
      "text/latex": [
       "\\textbf{png:} 2"
      ],
      "text/markdown": [
       "**png:** 2"
      ],
      "text/plain": [
       "png \n",
       "  2 "
      ]
     },
     "metadata": {},
     "output_type": "display_data"
    },
    {
     "data": {
      "image/png": "[encoded data removed]",
      "text/plain": [
       "Plot with title \"Histogram of disp\""
      ]
     },
     "metadata": {
      "image/png": {
       "height": 420,
       "width": 420
      }
     },
     "output_type": "display_data"
    }
   ],
   "source": [
    "with(mtcars,{\n",
    "    layout(matrix(c(1,1,2,3),2,2))   #按照列排序\n",
    "    hist(wt)\n",
    "    hist(mpg)\n",
    "    hist(disp)\n",
    "    dev.copy(png, 'comble3.png')\n",
    "    dev.off()\n",
    "})"
   ]
  },
  {
   "cell_type": "code",
   "execution_count": 36,
   "metadata": {
    "ExecuteTime": {
     "end_time": "2021-01-26T10:01:47.259701Z",
     "start_time": "2021-01-26T10:01:34.209Z"
    }
   },
   "outputs": [
    {
     "data": {
      "text/html": [
       "<strong>png:</strong> 2"
      ],
      "text/latex": [
       "\\textbf{png:} 2"
      ],
      "text/markdown": [
       "**png:** 2"
      ],
      "text/plain": [
       "png \n",
       "  2 "
      ]
     },
     "metadata": {},
     "output_type": "display_data"
    },
    {
     "data": {
      "image/png": "[encoded data removed]",
      "text/plain": [
       "plot without title"
      ]
     },
     "metadata": {
      "image/png": {
       "height": 420,
       "width": 420
      }
     },
     "output_type": "display_data"
    }
   ],
   "source": [
    "#示例4\n",
    "with(mtcars,{\n",
    "    par(fig=c(0, .8, 0, .8))         \n",
    "    #fig用于设定当前图形在绘图设备中所占区域\n",
    "    #(x1,x2,y1,y2)\n",
    "    plot(wt,mpg,xlab=\"Miles Per Callon\",ylab='Car Weight')\n",
    "    par(fig=c(0, .8, .55, 1), new=TRUE)\n",
    "    boxplot(wt, horizontal=TRUE, axes=FALSE)   #horizontal意为水平的\n",
    "    par(fig=c(.65, 1, 0, .8), new=TRUE)\n",
    "    boxplot(mpg,axes=FALSE)\n",
    "    mtext(\"Enhenced Scatterplot\", side=3 ,outer=TRUE, line=-3)\n",
    "    dev.copy(png,'Enhenced Scatterplot.png')\n",
    "    dev.off()\n",
    "    })"
   ]
  },
  {
   "cell_type": "code",
   "execution_count": 38,
   "metadata": {
    "ExecuteTime": {
     "end_time": "2021-01-26T10:02:27.251838Z",
     "start_time": "2021-01-26T10:02:27.220Z"
    }
   },
   "outputs": [],
   "source": [
    "save.image()"
   ]
  },
  {
   "cell_type": "code",
   "execution_count": null,
   "metadata": {},
   "outputs": [],
   "source": []
  }
 ],
 "metadata": {
  "kernelspec": {
   "display_name": "R_x64",
   "language": "R",
   "name": "r_x64"
  },
  "language_info": {
   "codemirror_mode": "r",
   "file_extension": ".r",
   "mimetype": "text/x-r-source",
   "name": "R",
   "pygments_lexer": "r",
   "version": "4.0.3"
  },
  "toc": {
   "base_numbering": 1,
   "nav_menu": {},
   "number_sections": true,
   "sideBar": true,
   "skip_h1_title": false,
   "title_cell": "Table of Contents",
   "title_sidebar": "Contents",
   "toc_cell": false,
   "toc_position": {},
   "toc_section_display": true,
   "toc_window_display": true
  },
  "varInspector": {
   "cols": {
    "lenName": 16,
    "lenType": 16,
    "lenVar": 40
   },
   "kernels_config": {
    "python": {
     "delete_cmd_postfix": "",
     "delete_cmd_prefix": "del ",
     "library": "var_list.py",
     "varRefreshCmd": "print(var_dic_list())"
    },
    "r": {
     "delete_cmd_postfix": ") ",
     "delete_cmd_prefix": "rm(",
     "library": "var_list.r",
     "varRefreshCmd": "cat(var_dic_list()) "
    }
   },
   "position": {
    "height": "291px",
    "left": "494px",
    "right": "20px",
    "top": "120px",
    "width": "350px"
   },
   "types_to_exclude": [
    "module",
    "function",
    "builtin_function_or_method",
    "instance",
    "_Feature"
   ],
   "window_display": false
  }
 },
 "nbformat": 4,
 "nbformat_minor": 4
}
