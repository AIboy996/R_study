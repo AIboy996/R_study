{
 "cells": [
  {
   "cell_type": "raw",
   "metadata": {},
   "source": [
    "本章内容：\n",
    "操纵日期和缺失值\n",
    "熟悉数据类型的转换\n",
    "变量的创建和重编码\n",
    "数据集的排序、合并与取子集\n",
    "选入和丢弃变量"
   ]
  },
  {
   "cell_type": "markdown",
   "metadata": {},
   "source": [
    "# 一个示例"
   ]
  },
  {
   "cell_type": "code",
   "execution_count": 1,
   "metadata": {
    "ExecuteTime": {
     "end_time": "2021-01-27T08:55:41.954539Z",
     "start_time": "2021-01-27T08:55:41.883Z"
    }
   },
   "outputs": [],
   "source": [
    "manager <- c(1, 2, 3, 4, 5)\n",
    "date <- c(\"10/24/08\", \"10/28/08\", \"10/1/08\", \"10/12/08\", \n",
    "    \"5/1/09\")\n",
    "gender <- c(\"M\", \"F\", \"F\", \"M\", \"F\")\n",
    "age <- c(32, 45, 25, 39, 99)\n",
    "q1 <- c(5, 3, 3, 3, 2)\n",
    "q2 <- c(4, 5, 5, 3, 2)\n",
    "q3 <- c(5, 2, 5, 4, 1)\n",
    "q4 <- c(5, 5, 5, NA, 2)\n",
    "q5 <- c(5, 5, 2, NA, 1)\n",
    "leadership <- data.frame(manager, date, gender, age, \n",
    "    q1, q2, q3, q4, q5, stringsAsFactors = FALSE)\n",
    "#字符不识别为因子"
   ]
  },
  {
   "cell_type": "code",
   "execution_count": 2,
   "metadata": {
    "ExecuteTime": {
     "end_time": "2021-01-27T08:55:42.104139Z",
     "start_time": "2021-01-27T08:55:41.888Z"
    }
   },
   "outputs": [
    {
     "data": {
      "text/html": [
       "<table class=\"dataframe\">\n",
       "<caption>A data.frame: 5 × 9</caption>\n",
       "<thead>\n",
       "\t<tr><th scope=col>manager</th><th scope=col>date</th><th scope=col>gender</th><th scope=col>age</th><th scope=col>q1</th><th scope=col>q2</th><th scope=col>q3</th><th scope=col>q4</th><th scope=col>q5</th></tr>\n",
       "\t<tr><th scope=col>&lt;dbl&gt;</th><th scope=col>&lt;chr&gt;</th><th scope=col>&lt;chr&gt;</th><th scope=col>&lt;dbl&gt;</th><th scope=col>&lt;dbl&gt;</th><th scope=col>&lt;dbl&gt;</th><th scope=col>&lt;dbl&gt;</th><th scope=col>&lt;dbl&gt;</th><th scope=col>&lt;dbl&gt;</th></tr>\n",
       "</thead>\n",
       "<tbody>\n",
       "\t<tr><td>1</td><td>10/24/08</td><td>M</td><td>32</td><td>5</td><td>4</td><td>5</td><td> 5</td><td> 5</td></tr>\n",
       "\t<tr><td>2</td><td>10/28/08</td><td>F</td><td>45</td><td>3</td><td>5</td><td>2</td><td> 5</td><td> 5</td></tr>\n",
       "\t<tr><td>3</td><td>10/1/08 </td><td>F</td><td>25</td><td>3</td><td>5</td><td>5</td><td> 5</td><td> 2</td></tr>\n",
       "\t<tr><td>4</td><td>10/12/08</td><td>M</td><td>39</td><td>3</td><td>3</td><td>4</td><td>NA</td><td>NA</td></tr>\n",
       "\t<tr><td>5</td><td>5/1/09  </td><td>F</td><td>99</td><td>2</td><td>2</td><td>1</td><td> 2</td><td> 1</td></tr>\n",
       "</tbody>\n",
       "</table>\n"
      ],
      "text/latex": [
       "A data.frame: 5 × 9\n",
       "\\begin{tabular}{lllllllll}\n",
       " manager & date & gender & age & q1 & q2 & q3 & q4 & q5\\\\\n",
       " <dbl> & <chr> & <chr> & <dbl> & <dbl> & <dbl> & <dbl> & <dbl> & <dbl>\\\\\n",
       "\\hline\n",
       "\t 1 & 10/24/08 & M & 32 & 5 & 4 & 5 &  5 &  5\\\\\n",
       "\t 2 & 10/28/08 & F & 45 & 3 & 5 & 2 &  5 &  5\\\\\n",
       "\t 3 & 10/1/08  & F & 25 & 3 & 5 & 5 &  5 &  2\\\\\n",
       "\t 4 & 10/12/08 & M & 39 & 3 & 3 & 4 & NA & NA\\\\\n",
       "\t 5 & 5/1/09   & F & 99 & 2 & 2 & 1 &  2 &  1\\\\\n",
       "\\end{tabular}\n"
      ],
      "text/markdown": [
       "\n",
       "A data.frame: 5 × 9\n",
       "\n",
       "| manager &lt;dbl&gt; | date &lt;chr&gt; | gender &lt;chr&gt; | age &lt;dbl&gt; | q1 &lt;dbl&gt; | q2 &lt;dbl&gt; | q3 &lt;dbl&gt; | q4 &lt;dbl&gt; | q5 &lt;dbl&gt; |\n",
       "|---|---|---|---|---|---|---|---|---|\n",
       "| 1 | 10/24/08 | M | 32 | 5 | 4 | 5 |  5 |  5 |\n",
       "| 2 | 10/28/08 | F | 45 | 3 | 5 | 2 |  5 |  5 |\n",
       "| 3 | 10/1/08  | F | 25 | 3 | 5 | 5 |  5 |  2 |\n",
       "| 4 | 10/12/08 | M | 39 | 3 | 3 | 4 | NA | NA |\n",
       "| 5 | 5/1/09   | F | 99 | 2 | 2 | 1 |  2 |  1 |\n",
       "\n"
      ],
      "text/plain": [
       "  manager date     gender age q1 q2 q3 q4 q5\n",
       "1 1       10/24/08 M      32  5  4  5   5  5\n",
       "2 2       10/28/08 F      45  3  5  2   5  5\n",
       "3 3       10/1/08  F      25  3  5  5   5  2\n",
       "4 4       10/12/08 M      39  3  3  4  NA NA\n",
       "5 5       5/1/09   F      99  2  2  1   2  1"
      ]
     },
     "metadata": {},
     "output_type": "display_data"
    }
   ],
   "source": [
    "leadership"
   ]
  },
  {
   "cell_type": "markdown",
   "metadata": {},
   "source": [
    "# 创建新变量"
   ]
  },
  {
   "cell_type": "code",
   "execution_count": 3,
   "metadata": {
    "ExecuteTime": {
     "end_time": "2021-01-27T08:55:42.127114Z",
     "start_time": "2021-01-27T08:55:41.891Z"
    }
   },
   "outputs": [],
   "source": [
    "mydata <- data.frame(x1=c(2,2,6,4),\n",
    "                    x2=c(3,4,2,8))"
   ]
  },
  {
   "cell_type": "code",
   "execution_count": 4,
   "metadata": {
    "ExecuteTime": {
     "end_time": "2021-01-27T08:55:42.156995Z",
     "start_time": "2021-01-27T08:55:41.894Z"
    }
   },
   "outputs": [
    {
     "data": {
      "text/html": [
       "<table class=\"dataframe\">\n",
       "<caption>A data.frame: 4 × 2</caption>\n",
       "<thead>\n",
       "\t<tr><th scope=col>x1</th><th scope=col>x2</th></tr>\n",
       "\t<tr><th scope=col>&lt;dbl&gt;</th><th scope=col>&lt;dbl&gt;</th></tr>\n",
       "</thead>\n",
       "<tbody>\n",
       "\t<tr><td>2</td><td>3</td></tr>\n",
       "\t<tr><td>2</td><td>4</td></tr>\n",
       "\t<tr><td>6</td><td>2</td></tr>\n",
       "\t<tr><td>4</td><td>8</td></tr>\n",
       "</tbody>\n",
       "</table>\n"
      ],
      "text/latex": [
       "A data.frame: 4 × 2\n",
       "\\begin{tabular}{ll}\n",
       " x1 & x2\\\\\n",
       " <dbl> & <dbl>\\\\\n",
       "\\hline\n",
       "\t 2 & 3\\\\\n",
       "\t 2 & 4\\\\\n",
       "\t 6 & 2\\\\\n",
       "\t 4 & 8\\\\\n",
       "\\end{tabular}\n"
      ],
      "text/markdown": [
       "\n",
       "A data.frame: 4 × 2\n",
       "\n",
       "| x1 &lt;dbl&gt; | x2 &lt;dbl&gt; |\n",
       "|---|---|\n",
       "| 2 | 3 |\n",
       "| 2 | 4 |\n",
       "| 6 | 2 |\n",
       "| 4 | 8 |\n",
       "\n"
      ],
      "text/plain": [
       "  x1 x2\n",
       "1 2  3 \n",
       "2 2  4 \n",
       "3 6  2 \n",
       "4 4  8 "
      ]
     },
     "metadata": {},
     "output_type": "display_data"
    }
   ],
   "source": [
    "mydata"
   ]
  },
  {
   "cell_type": "markdown",
   "metadata": {},
   "source": [
    "## 算数运算符"
   ]
  },
  {
   "cell_type": "code",
   "execution_count": 5,
   "metadata": {
    "ExecuteTime": {
     "end_time": "2021-01-27T08:55:42.184970Z",
     "start_time": "2021-01-27T08:55:41.898Z"
    }
   },
   "outputs": [
    {
     "data": {
      "text/html": [
       "3"
      ],
      "text/latex": [
       "3"
      ],
      "text/markdown": [
       "3"
      ],
      "text/plain": [
       "[1] 3"
      ]
     },
     "metadata": {},
     "output_type": "display_data"
    }
   ],
   "source": [
    "1 + 2"
   ]
  },
  {
   "cell_type": "code",
   "execution_count": 6,
   "metadata": {
    "ExecuteTime": {
     "end_time": "2021-01-27T08:55:42.213869Z",
     "start_time": "2021-01-27T08:55:41.901Z"
    }
   },
   "outputs": [
    {
     "data": {
      "text/html": [
       "-1"
      ],
      "text/latex": [
       "-1"
      ],
      "text/markdown": [
       "-1"
      ],
      "text/plain": [
       "[1] -1"
      ]
     },
     "metadata": {},
     "output_type": "display_data"
    }
   ],
   "source": [
    "2 - 3"
   ]
  },
  {
   "cell_type": "code",
   "execution_count": 7,
   "metadata": {
    "ExecuteTime": {
     "end_time": "2021-01-27T08:55:42.237782Z",
     "start_time": "2021-01-27T08:55:41.904Z"
    }
   },
   "outputs": [
    {
     "data": {
      "text/html": [
       "6"
      ],
      "text/latex": [
       "6"
      ],
      "text/markdown": [
       "6"
      ],
      "text/plain": [
       "[1] 6"
      ]
     },
     "metadata": {},
     "output_type": "display_data"
    }
   ],
   "source": [
    "2 * 3"
   ]
  },
  {
   "cell_type": "code",
   "execution_count": 8,
   "metadata": {
    "ExecuteTime": {
     "end_time": "2021-01-27T08:55:42.267739Z",
     "start_time": "2021-01-27T08:55:41.907Z"
    }
   },
   "outputs": [
    {
     "data": {
      "text/html": [
       "0.666666666666667"
      ],
      "text/latex": [
       "0.666666666666667"
      ],
      "text/markdown": [
       "0.666666666666667"
      ],
      "text/plain": [
       "[1] 0.6666667"
      ]
     },
     "metadata": {},
     "output_type": "display_data"
    }
   ],
   "source": [
    "2 / 3"
   ]
  },
  {
   "cell_type": "code",
   "execution_count": 9,
   "metadata": {
    "ExecuteTime": {
     "end_time": "2021-01-27T08:55:42.293632Z",
     "start_time": "2021-01-27T08:55:41.911Z"
    }
   },
   "outputs": [
    {
     "data": {
      "text/html": [
       "8"
      ],
      "text/latex": [
       "8"
      ],
      "text/markdown": [
       "8"
      ],
      "text/plain": [
       "[1] 8"
      ]
     },
     "metadata": {},
     "output_type": "display_data"
    }
   ],
   "source": [
    "2 ^ 3"
   ]
  },
  {
   "cell_type": "code",
   "execution_count": 10,
   "metadata": {
    "ExecuteTime": {
     "end_time": "2021-01-27T08:55:42.317566Z",
     "start_time": "2021-01-27T08:55:41.914Z"
    }
   },
   "outputs": [
    {
     "data": {
      "text/html": [
       "8"
      ],
      "text/latex": [
       "8"
      ],
      "text/markdown": [
       "8"
      ],
      "text/plain": [
       "[1] 8"
      ]
     },
     "metadata": {},
     "output_type": "display_data"
    }
   ],
   "source": [
    "2 ** 3"
   ]
  },
  {
   "cell_type": "code",
   "execution_count": 11,
   "metadata": {
    "ExecuteTime": {
     "end_time": "2021-01-27T08:55:42.352472Z",
     "start_time": "2021-01-27T08:55:41.917Z"
    }
   },
   "outputs": [
    {
     "data": {
      "text/html": [
       "1"
      ],
      "text/latex": [
       "1"
      ],
      "text/markdown": [
       "1"
      ],
      "text/plain": [
       "[1] 1"
      ]
     },
     "metadata": {},
     "output_type": "display_data"
    }
   ],
   "source": [
    "5 %% 2   #5 mod 2"
   ]
  },
  {
   "cell_type": "code",
   "execution_count": 12,
   "metadata": {
    "ExecuteTime": {
     "end_time": "2021-01-27T08:55:42.381398Z",
     "start_time": "2021-01-27T08:55:41.920Z"
    }
   },
   "outputs": [
    {
     "data": {
      "text/html": [
       "2"
      ],
      "text/latex": [
       "2"
      ],
      "text/markdown": [
       "2"
      ],
      "text/plain": [
       "[1] 2"
      ]
     },
     "metadata": {},
     "output_type": "display_data"
    }
   ],
   "source": [
    "5 %/% 2   #地板除"
   ]
  },
  {
   "cell_type": "markdown",
   "metadata": {},
   "source": [
    "## 第一种方式——直接赋值不存在的变量"
   ]
  },
  {
   "cell_type": "code",
   "execution_count": 13,
   "metadata": {
    "ExecuteTime": {
     "end_time": "2021-01-27T08:55:42.405333Z",
     "start_time": "2021-01-27T08:55:41.924Z"
    }
   },
   "outputs": [],
   "source": [
    "mydata$sumx <- mydata$x1 + mydata$x2"
   ]
  },
  {
   "cell_type": "code",
   "execution_count": 14,
   "metadata": {
    "ExecuteTime": {
     "end_time": "2021-01-27T08:55:42.434255Z",
     "start_time": "2021-01-27T08:55:41.927Z"
    }
   },
   "outputs": [],
   "source": [
    "mydata$meanx <- (mydata$x1 + mydata$x2)/2"
   ]
  },
  {
   "cell_type": "code",
   "execution_count": 15,
   "metadata": {
    "ExecuteTime": {
     "end_time": "2021-01-27T08:55:42.468164Z",
     "start_time": "2021-01-27T08:55:41.930Z"
    }
   },
   "outputs": [
    {
     "data": {
      "text/html": [
       "<table class=\"dataframe\">\n",
       "<caption>A data.frame: 4 × 4</caption>\n",
       "<thead>\n",
       "\t<tr><th scope=col>x1</th><th scope=col>x2</th><th scope=col>sumx</th><th scope=col>meanx</th></tr>\n",
       "\t<tr><th scope=col>&lt;dbl&gt;</th><th scope=col>&lt;dbl&gt;</th><th scope=col>&lt;dbl&gt;</th><th scope=col>&lt;dbl&gt;</th></tr>\n",
       "</thead>\n",
       "<tbody>\n",
       "\t<tr><td>2</td><td>3</td><td> 5</td><td>2.5</td></tr>\n",
       "\t<tr><td>2</td><td>4</td><td> 6</td><td>3.0</td></tr>\n",
       "\t<tr><td>6</td><td>2</td><td> 8</td><td>4.0</td></tr>\n",
       "\t<tr><td>4</td><td>8</td><td>12</td><td>6.0</td></tr>\n",
       "</tbody>\n",
       "</table>\n"
      ],
      "text/latex": [
       "A data.frame: 4 × 4\n",
       "\\begin{tabular}{llll}\n",
       " x1 & x2 & sumx & meanx\\\\\n",
       " <dbl> & <dbl> & <dbl> & <dbl>\\\\\n",
       "\\hline\n",
       "\t 2 & 3 &  5 & 2.5\\\\\n",
       "\t 2 & 4 &  6 & 3.0\\\\\n",
       "\t 6 & 2 &  8 & 4.0\\\\\n",
       "\t 4 & 8 & 12 & 6.0\\\\\n",
       "\\end{tabular}\n"
      ],
      "text/markdown": [
       "\n",
       "A data.frame: 4 × 4\n",
       "\n",
       "| x1 &lt;dbl&gt; | x2 &lt;dbl&gt; | sumx &lt;dbl&gt; | meanx &lt;dbl&gt; |\n",
       "|---|---|---|---|\n",
       "| 2 | 3 |  5 | 2.5 |\n",
       "| 2 | 4 |  6 | 3.0 |\n",
       "| 6 | 2 |  8 | 4.0 |\n",
       "| 4 | 8 | 12 | 6.0 |\n",
       "\n"
      ],
      "text/plain": [
       "  x1 x2 sumx meanx\n",
       "1 2  3   5   2.5  \n",
       "2 2  4   6   3.0  \n",
       "3 6  2   8   4.0  \n",
       "4 4  8  12   6.0  "
      ]
     },
     "metadata": {},
     "output_type": "display_data"
    }
   ],
   "source": [
    "mydata"
   ]
  },
  {
   "cell_type": "markdown",
   "metadata": {},
   "source": [
    "## 第二种方式\n",
    "(attach或者with）和第一种方式没有区别"
   ]
  },
  {
   "cell_type": "markdown",
   "metadata": {},
   "source": [
    "## 第三种方式——transform()"
   ]
  },
  {
   "cell_type": "code",
   "execution_count": 16,
   "metadata": {
    "ExecuteTime": {
     "end_time": "2021-01-27T08:55:42.493099Z",
     "start_time": "2021-01-27T08:55:41.934Z"
    }
   },
   "outputs": [],
   "source": [
    "mydata <- transform(mydata,\n",
    "                   square_sumx = x1^2+x2^2,\n",
    "                   Geometric_meanx = sqrt((x1^2+x2^2)/2))"
   ]
  },
  {
   "cell_type": "code",
   "execution_count": 17,
   "metadata": {
    "ExecuteTime": {
     "end_time": "2021-01-27T08:55:42.523017Z",
     "start_time": "2021-01-27T08:55:41.938Z"
    }
   },
   "outputs": [
    {
     "data": {
      "text/html": [
       "<table class=\"dataframe\">\n",
       "<caption>A data.frame: 4 × 6</caption>\n",
       "<thead>\n",
       "\t<tr><th scope=col>x1</th><th scope=col>x2</th><th scope=col>sumx</th><th scope=col>meanx</th><th scope=col>square_sumx</th><th scope=col>Geometric_meanx</th></tr>\n",
       "\t<tr><th scope=col>&lt;dbl&gt;</th><th scope=col>&lt;dbl&gt;</th><th scope=col>&lt;dbl&gt;</th><th scope=col>&lt;dbl&gt;</th><th scope=col>&lt;dbl&gt;</th><th scope=col>&lt;dbl&gt;</th></tr>\n",
       "</thead>\n",
       "<tbody>\n",
       "\t<tr><td>2</td><td>3</td><td> 5</td><td>2.5</td><td>13</td><td>2.549510</td></tr>\n",
       "\t<tr><td>2</td><td>4</td><td> 6</td><td>3.0</td><td>20</td><td>3.162278</td></tr>\n",
       "\t<tr><td>6</td><td>2</td><td> 8</td><td>4.0</td><td>40</td><td>4.472136</td></tr>\n",
       "\t<tr><td>4</td><td>8</td><td>12</td><td>6.0</td><td>80</td><td>6.324555</td></tr>\n",
       "</tbody>\n",
       "</table>\n"
      ],
      "text/latex": [
       "A data.frame: 4 × 6\n",
       "\\begin{tabular}{llllll}\n",
       " x1 & x2 & sumx & meanx & square\\_sumx & Geometric\\_meanx\\\\\n",
       " <dbl> & <dbl> & <dbl> & <dbl> & <dbl> & <dbl>\\\\\n",
       "\\hline\n",
       "\t 2 & 3 &  5 & 2.5 & 13 & 2.549510\\\\\n",
       "\t 2 & 4 &  6 & 3.0 & 20 & 3.162278\\\\\n",
       "\t 6 & 2 &  8 & 4.0 & 40 & 4.472136\\\\\n",
       "\t 4 & 8 & 12 & 6.0 & 80 & 6.324555\\\\\n",
       "\\end{tabular}\n"
      ],
      "text/markdown": [
       "\n",
       "A data.frame: 4 × 6\n",
       "\n",
       "| x1 &lt;dbl&gt; | x2 &lt;dbl&gt; | sumx &lt;dbl&gt; | meanx &lt;dbl&gt; | square_sumx &lt;dbl&gt; | Geometric_meanx &lt;dbl&gt; |\n",
       "|---|---|---|---|---|---|\n",
       "| 2 | 3 |  5 | 2.5 | 13 | 2.549510 |\n",
       "| 2 | 4 |  6 | 3.0 | 20 | 3.162278 |\n",
       "| 6 | 2 |  8 | 4.0 | 40 | 4.472136 |\n",
       "| 4 | 8 | 12 | 6.0 | 80 | 6.324555 |\n",
       "\n"
      ],
      "text/plain": [
       "  x1 x2 sumx meanx square_sumx Geometric_meanx\n",
       "1 2  3   5   2.5   13          2.549510       \n",
       "2 2  4   6   3.0   20          3.162278       \n",
       "3 6  2   8   4.0   40          4.472136       \n",
       "4 4  8  12   6.0   80          6.324555       "
      ]
     },
     "metadata": {},
     "output_type": "display_data"
    }
   ],
   "source": [
    "mydata"
   ]
  },
  {
   "cell_type": "markdown",
   "metadata": {},
   "source": [
    "# 变量的重编码"
   ]
  },
  {
   "cell_type": "markdown",
   "metadata": {},
   "source": [
    "## 逻辑运算符"
   ]
  },
  {
   "cell_type": "code",
   "execution_count": 18,
   "metadata": {
    "ExecuteTime": {
     "end_time": "2021-01-27T08:55:42.545956Z",
     "start_time": "2021-01-27T08:55:41.943Z"
    }
   },
   "outputs": [
    {
     "data": {
      "text/html": [
       "TRUE"
      ],
      "text/latex": [
       "TRUE"
      ],
      "text/markdown": [
       "TRUE"
      ],
      "text/plain": [
       "[1] TRUE"
      ]
     },
     "metadata": {},
     "output_type": "display_data"
    }
   ],
   "source": [
    "1 < 2"
   ]
  },
  {
   "cell_type": "code",
   "execution_count": 19,
   "metadata": {
    "ExecuteTime": {
     "end_time": "2021-01-27T08:55:42.572884Z",
     "start_time": "2021-01-27T08:55:41.946Z"
    }
   },
   "outputs": [
    {
     "data": {
      "text/html": [
       "FALSE"
      ],
      "text/latex": [
       "FALSE"
      ],
      "text/markdown": [
       "FALSE"
      ],
      "text/plain": [
       "[1] FALSE"
      ]
     },
     "metadata": {},
     "output_type": "display_data"
    }
   ],
   "source": [
    "2 <= 1"
   ]
  },
  {
   "cell_type": "code",
   "execution_count": 20,
   "metadata": {
    "ExecuteTime": {
     "end_time": "2021-01-27T08:55:42.597845Z",
     "start_time": "2021-01-27T08:55:41.949Z"
    }
   },
   "outputs": [
    {
     "data": {
      "text/html": [
       "FALSE"
      ],
      "text/latex": [
       "FALSE"
      ],
      "text/markdown": [
       "FALSE"
      ],
      "text/plain": [
       "[1] FALSE"
      ]
     },
     "metadata": {},
     "output_type": "display_data"
    }
   ],
   "source": [
    "1 > 2"
   ]
  },
  {
   "cell_type": "code",
   "execution_count": 21,
   "metadata": {
    "ExecuteTime": {
     "end_time": "2021-01-27T08:55:42.624747Z",
     "start_time": "2021-01-27T08:55:41.952Z"
    }
   },
   "outputs": [
    {
     "data": {
      "text/html": [
       "TRUE"
      ],
      "text/latex": [
       "TRUE"
      ],
      "text/markdown": [
       "TRUE"
      ],
      "text/plain": [
       "[1] TRUE"
      ]
     },
     "metadata": {},
     "output_type": "display_data"
    }
   ],
   "source": [
    "1 >= 1"
   ]
  },
  {
   "cell_type": "code",
   "execution_count": 22,
   "metadata": {
    "ExecuteTime": {
     "end_time": "2021-01-27T08:55:42.648683Z",
     "start_time": "2021-01-27T08:55:41.955Z"
    }
   },
   "outputs": [
    {
     "data": {
      "text/html": [
       "FALSE"
      ],
      "text/latex": [
       "FALSE"
      ],
      "text/markdown": [
       "FALSE"
      ],
      "text/plain": [
       "[1] FALSE"
      ]
     },
     "metadata": {},
     "output_type": "display_data"
    }
   ],
   "source": [
    "3.14 == 3.1"
   ]
  },
  {
   "cell_type": "code",
   "execution_count": 23,
   "metadata": {
    "ExecuteTime": {
     "end_time": "2021-01-27T08:55:42.672652Z",
     "start_time": "2021-01-27T08:55:41.959Z"
    }
   },
   "outputs": [
    {
     "data": {
      "text/html": [
       "TRUE"
      ],
      "text/latex": [
       "TRUE"
      ],
      "text/markdown": [
       "TRUE"
      ],
      "text/plain": [
       "[1] TRUE"
      ]
     },
     "metadata": {},
     "output_type": "display_data"
    }
   ],
   "source": [
    "3 != 4"
   ]
  },
  {
   "cell_type": "code",
   "execution_count": 24,
   "metadata": {
    "ExecuteTime": {
     "end_time": "2021-01-27T08:55:42.695557Z",
     "start_time": "2021-01-27T08:55:41.962Z"
    }
   },
   "outputs": [
    {
     "data": {
      "text/html": [
       "TRUE"
      ],
      "text/latex": [
       "TRUE"
      ],
      "text/markdown": [
       "TRUE"
      ],
      "text/plain": [
       "[1] TRUE"
      ]
     },
     "metadata": {},
     "output_type": "display_data"
    }
   ],
   "source": [
    "!0"
   ]
  },
  {
   "cell_type": "code",
   "execution_count": 25,
   "metadata": {
    "ExecuteTime": {
     "end_time": "2021-01-27T08:55:42.723483Z",
     "start_time": "2021-01-27T08:55:41.965Z"
    }
   },
   "outputs": [
    {
     "data": {
      "text/html": [
       "FALSE"
      ],
      "text/latex": [
       "FALSE"
      ],
      "text/markdown": [
       "FALSE"
      ],
      "text/plain": [
       "[1] FALSE"
      ]
     },
     "metadata": {},
     "output_type": "display_data"
    }
   ],
   "source": [
    "!1"
   ]
  },
  {
   "cell_type": "code",
   "execution_count": 26,
   "metadata": {
    "ExecuteTime": {
     "end_time": "2021-01-27T08:55:42.748416Z",
     "start_time": "2021-01-27T08:55:41.968Z"
    }
   },
   "outputs": [
    {
     "data": {
      "text/html": [
       "TRUE"
      ],
      "text/latex": [
       "TRUE"
      ],
      "text/markdown": [
       "TRUE"
      ],
      "text/plain": [
       "[1] TRUE"
      ]
     },
     "metadata": {},
     "output_type": "display_data"
    }
   ],
   "source": [
    "FALSE | TRUE"
   ]
  },
  {
   "cell_type": "code",
   "execution_count": 27,
   "metadata": {
    "ExecuteTime": {
     "end_time": "2021-01-27T08:55:42.773385Z",
     "start_time": "2021-01-27T08:55:41.972Z"
    }
   },
   "outputs": [
    {
     "data": {
      "text/html": [
       "FALSE"
      ],
      "text/latex": [
       "FALSE"
      ],
      "text/markdown": [
       "FALSE"
      ],
      "text/plain": [
       "[1] FALSE"
      ]
     },
     "metadata": {},
     "output_type": "display_data"
    }
   ],
   "source": [
    "FALSE & TRUE"
   ]
  },
  {
   "cell_type": "code",
   "execution_count": 28,
   "metadata": {
    "ExecuteTime": {
     "end_time": "2021-01-27T08:55:42.802271Z",
     "start_time": "2021-01-27T08:55:41.975Z"
    }
   },
   "outputs": [
    {
     "data": {
      "text/html": [
       "FALSE"
      ],
      "text/latex": [
       "FALSE"
      ],
      "text/markdown": [
       "FALSE"
      ],
      "text/plain": [
       "[1] FALSE"
      ]
     },
     "metadata": {},
     "output_type": "display_data"
    }
   ],
   "source": [
    "isTRUE(0)"
   ]
  },
  {
   "cell_type": "code",
   "execution_count": 29,
   "metadata": {
    "ExecuteTime": {
     "end_time": "2021-01-27T08:55:42.826206Z",
     "start_time": "2021-01-27T08:55:41.979Z"
    }
   },
   "outputs": [
    {
     "data": {
      "text/html": [
       "FALSE"
      ],
      "text/latex": [
       "FALSE"
      ],
      "text/markdown": [
       "FALSE"
      ],
      "text/plain": [
       "[1] FALSE"
      ]
     },
     "metadata": {},
     "output_type": "display_data"
    }
   ],
   "source": [
    "isFALSE(0)"
   ]
  },
  {
   "cell_type": "code",
   "execution_count": 30,
   "metadata": {
    "ExecuteTime": {
     "end_time": "2021-01-27T08:55:42.855131Z",
     "start_time": "2021-01-27T08:55:41.982Z"
    }
   },
   "outputs": [
    {
     "data": {
      "text/html": [
       "TRUE"
      ],
      "text/latex": [
       "TRUE"
      ],
      "text/markdown": [
       "TRUE"
      ],
      "text/plain": [
       "[1] TRUE"
      ]
     },
     "metadata": {},
     "output_type": "display_data"
    }
   ],
   "source": [
    "isTRUE(2 < 3)"
   ]
  },
  {
   "cell_type": "code",
   "execution_count": 31,
   "metadata": {
    "ExecuteTime": {
     "end_time": "2021-01-27T08:55:42.879066Z",
     "start_time": "2021-01-27T08:55:41.986Z"
    }
   },
   "outputs": [
    {
     "data": {
      "text/html": [
       "<style>\n",
       ".list-inline {list-style: none; margin:0; padding: 0}\n",
       ".list-inline>li {display: inline-block}\n",
       ".list-inline>li:not(:last-child)::after {content: \"\\00b7\"; padding: 0 .5ex}\n",
       "</style>\n",
       "<ol class=list-inline><li>FALSE</li><li>TRUE</li><li>FALSE</li><li>FALSE</li><li>TRUE</li><li>FALSE</li><li>FALSE</li><li>TRUE</li><li>TRUE</li><li>FALSE</li><li>FALSE</li><li>FALSE</li><li>FALSE</li><li>FALSE</li><li>FALSE</li><li>FALSE</li><li>FALSE</li><li>FALSE</li><li>FALSE</li><li>FALSE</li></ol>\n"
      ],
      "text/latex": [
       "\\begin{enumerate*}\n",
       "\\item FALSE\n",
       "\\item TRUE\n",
       "\\item FALSE\n",
       "\\item FALSE\n",
       "\\item TRUE\n",
       "\\item FALSE\n",
       "\\item FALSE\n",
       "\\item TRUE\n",
       "\\item TRUE\n",
       "\\item FALSE\n",
       "\\item FALSE\n",
       "\\item FALSE\n",
       "\\item FALSE\n",
       "\\item FALSE\n",
       "\\item FALSE\n",
       "\\item FALSE\n",
       "\\item FALSE\n",
       "\\item FALSE\n",
       "\\item FALSE\n",
       "\\item FALSE\n",
       "\\end{enumerate*}\n"
      ],
      "text/markdown": [
       "1. FALSE\n",
       "2. TRUE\n",
       "3. FALSE\n",
       "4. FALSE\n",
       "5. TRUE\n",
       "6. FALSE\n",
       "7. FALSE\n",
       "8. TRUE\n",
       "9. TRUE\n",
       "10. FALSE\n",
       "11. FALSE\n",
       "12. FALSE\n",
       "13. FALSE\n",
       "14. FALSE\n",
       "15. FALSE\n",
       "16. FALSE\n",
       "17. FALSE\n",
       "18. FALSE\n",
       "19. FALSE\n",
       "20. FALSE\n",
       "\n",
       "\n"
      ],
      "text/plain": [
       " [1] FALSE  TRUE FALSE FALSE  TRUE FALSE FALSE  TRUE  TRUE FALSE FALSE FALSE\n",
       "[13] FALSE FALSE FALSE FALSE FALSE FALSE FALSE FALSE"
      ]
     },
     "metadata": {},
     "output_type": "display_data"
    }
   ],
   "source": [
    "c(1:20) %in% c(2,5,8,9)"
   ]
  },
  {
   "cell_type": "code",
   "execution_count": 32,
   "metadata": {
    "ExecuteTime": {
     "end_time": "2021-01-27T08:55:42.910979Z",
     "start_time": "2021-01-27T08:55:41.990Z"
    }
   },
   "outputs": [
    {
     "data": {
      "text/html": [
       "FALSE"
      ],
      "text/latex": [
       "FALSE"
      ],
      "text/markdown": [
       "FALSE"
      ],
      "text/plain": [
       "[1] FALSE"
      ]
     },
     "metadata": {},
     "output_type": "display_data"
    }
   ],
   "source": [
    "'i' %in% 'iasdjas'"
   ]
  },
  {
   "cell_type": "code",
   "execution_count": 33,
   "metadata": {
    "ExecuteTime": {
     "end_time": "2021-01-27T08:55:42.933920Z",
     "start_time": "2021-01-27T08:55:41.994Z"
    }
   },
   "outputs": [
    {
     "data": {
      "text/html": [
       "TRUE"
      ],
      "text/latex": [
       "TRUE"
      ],
      "text/markdown": [
       "TRUE"
      ],
      "text/plain": [
       "[1] TRUE"
      ]
     },
     "metadata": {},
     "output_type": "display_data"
    }
   ],
   "source": [
    "1 %in% 1:10"
   ]
  },
  {
   "cell_type": "markdown",
   "metadata": {},
   "source": [
    "## 重新编码年龄"
   ]
  },
  {
   "cell_type": "code",
   "execution_count": 34,
   "metadata": {
    "ExecuteTime": {
     "end_time": "2021-01-27T08:55:42.969826Z",
     "start_time": "2021-01-27T08:55:41.998Z"
    }
   },
   "outputs": [
    {
     "data": {
      "text/html": [
       "<table class=\"dataframe\">\n",
       "<caption>A data.frame: 5 × 9</caption>\n",
       "<thead>\n",
       "\t<tr><th scope=col>manager</th><th scope=col>date</th><th scope=col>gender</th><th scope=col>age</th><th scope=col>q1</th><th scope=col>q2</th><th scope=col>q3</th><th scope=col>q4</th><th scope=col>q5</th></tr>\n",
       "\t<tr><th scope=col>&lt;dbl&gt;</th><th scope=col>&lt;chr&gt;</th><th scope=col>&lt;chr&gt;</th><th scope=col>&lt;dbl&gt;</th><th scope=col>&lt;dbl&gt;</th><th scope=col>&lt;dbl&gt;</th><th scope=col>&lt;dbl&gt;</th><th scope=col>&lt;dbl&gt;</th><th scope=col>&lt;dbl&gt;</th></tr>\n",
       "</thead>\n",
       "<tbody>\n",
       "\t<tr><td>1</td><td>10/24/08</td><td>M</td><td>32</td><td>5</td><td>4</td><td>5</td><td> 5</td><td> 5</td></tr>\n",
       "\t<tr><td>2</td><td>10/28/08</td><td>F</td><td>45</td><td>3</td><td>5</td><td>2</td><td> 5</td><td> 5</td></tr>\n",
       "\t<tr><td>3</td><td>10/1/08 </td><td>F</td><td>25</td><td>3</td><td>5</td><td>5</td><td> 5</td><td> 2</td></tr>\n",
       "\t<tr><td>4</td><td>10/12/08</td><td>M</td><td>39</td><td>3</td><td>3</td><td>4</td><td>NA</td><td>NA</td></tr>\n",
       "\t<tr><td>5</td><td>5/1/09  </td><td>F</td><td>99</td><td>2</td><td>2</td><td>1</td><td> 2</td><td> 1</td></tr>\n",
       "</tbody>\n",
       "</table>\n"
      ],
      "text/latex": [
       "A data.frame: 5 × 9\n",
       "\\begin{tabular}{lllllllll}\n",
       " manager & date & gender & age & q1 & q2 & q3 & q4 & q5\\\\\n",
       " <dbl> & <chr> & <chr> & <dbl> & <dbl> & <dbl> & <dbl> & <dbl> & <dbl>\\\\\n",
       "\\hline\n",
       "\t 1 & 10/24/08 & M & 32 & 5 & 4 & 5 &  5 &  5\\\\\n",
       "\t 2 & 10/28/08 & F & 45 & 3 & 5 & 2 &  5 &  5\\\\\n",
       "\t 3 & 10/1/08  & F & 25 & 3 & 5 & 5 &  5 &  2\\\\\n",
       "\t 4 & 10/12/08 & M & 39 & 3 & 3 & 4 & NA & NA\\\\\n",
       "\t 5 & 5/1/09   & F & 99 & 2 & 2 & 1 &  2 &  1\\\\\n",
       "\\end{tabular}\n"
      ],
      "text/markdown": [
       "\n",
       "A data.frame: 5 × 9\n",
       "\n",
       "| manager &lt;dbl&gt; | date &lt;chr&gt; | gender &lt;chr&gt; | age &lt;dbl&gt; | q1 &lt;dbl&gt; | q2 &lt;dbl&gt; | q3 &lt;dbl&gt; | q4 &lt;dbl&gt; | q5 &lt;dbl&gt; |\n",
       "|---|---|---|---|---|---|---|---|---|\n",
       "| 1 | 10/24/08 | M | 32 | 5 | 4 | 5 |  5 |  5 |\n",
       "| 2 | 10/28/08 | F | 45 | 3 | 5 | 2 |  5 |  5 |\n",
       "| 3 | 10/1/08  | F | 25 | 3 | 5 | 5 |  5 |  2 |\n",
       "| 4 | 10/12/08 | M | 39 | 3 | 3 | 4 | NA | NA |\n",
       "| 5 | 5/1/09   | F | 99 | 2 | 2 | 1 |  2 |  1 |\n",
       "\n"
      ],
      "text/plain": [
       "  manager date     gender age q1 q2 q3 q4 q5\n",
       "1 1       10/24/08 M      32  5  4  5   5  5\n",
       "2 2       10/28/08 F      45  3  5  2   5  5\n",
       "3 3       10/1/08  F      25  3  5  5   5  2\n",
       "4 4       10/12/08 M      39  3  3  4  NA NA\n",
       "5 5       5/1/09   F      99  2  2  1   2  1"
      ]
     },
     "metadata": {},
     "output_type": "display_data"
    }
   ],
   "source": [
    "leadership"
   ]
  },
  {
   "cell_type": "markdown",
   "metadata": {},
   "source": [
    "## 条件执行"
   ]
  },
  {
   "cell_type": "raw",
   "metadata": {},
   "source": [
    "variable[condition] <- expression   #当condition为TRUE时执行赋值"
   ]
  },
  {
   "cell_type": "code",
   "execution_count": 35,
   "metadata": {
    "ExecuteTime": {
     "end_time": "2021-01-27T08:55:42.993760Z",
     "start_time": "2021-01-27T08:55:42.051Z"
    }
   },
   "outputs": [],
   "source": [
    "leadership <- within(leadership,{\n",
    "    agecat <- NA\n",
    "    agecat[age > 75] <- \"Elder\"\n",
    "    agecat[age >=55 & age <= 75] <- \"Middle Aged\"\n",
    "    agecat[age < 55] <- \"Young\"\n",
    "    agecat[age == 99] <- NA   #99是一个异常值，设置为缺失\n",
    "})"
   ]
  },
  {
   "cell_type": "code",
   "execution_count": 36,
   "metadata": {
    "ExecuteTime": {
     "end_time": "2021-01-27T08:55:43.025675Z",
     "start_time": "2021-01-27T08:55:42.055Z"
    }
   },
   "outputs": [
    {
     "data": {
      "text/html": [
       "<table class=\"dataframe\">\n",
       "<caption>A data.frame: 5 × 10</caption>\n",
       "<thead>\n",
       "\t<tr><th scope=col>manager</th><th scope=col>date</th><th scope=col>gender</th><th scope=col>age</th><th scope=col>q1</th><th scope=col>q2</th><th scope=col>q3</th><th scope=col>q4</th><th scope=col>q5</th><th scope=col>agecat</th></tr>\n",
       "\t<tr><th scope=col>&lt;dbl&gt;</th><th scope=col>&lt;chr&gt;</th><th scope=col>&lt;chr&gt;</th><th scope=col>&lt;dbl&gt;</th><th scope=col>&lt;dbl&gt;</th><th scope=col>&lt;dbl&gt;</th><th scope=col>&lt;dbl&gt;</th><th scope=col>&lt;dbl&gt;</th><th scope=col>&lt;dbl&gt;</th><th scope=col>&lt;chr&gt;</th></tr>\n",
       "</thead>\n",
       "<tbody>\n",
       "\t<tr><td>1</td><td>10/24/08</td><td>M</td><td>32</td><td>5</td><td>4</td><td>5</td><td> 5</td><td> 5</td><td>Young</td></tr>\n",
       "\t<tr><td>2</td><td>10/28/08</td><td>F</td><td>45</td><td>3</td><td>5</td><td>2</td><td> 5</td><td> 5</td><td>Young</td></tr>\n",
       "\t<tr><td>3</td><td>10/1/08 </td><td>F</td><td>25</td><td>3</td><td>5</td><td>5</td><td> 5</td><td> 2</td><td>Young</td></tr>\n",
       "\t<tr><td>4</td><td>10/12/08</td><td>M</td><td>39</td><td>3</td><td>3</td><td>4</td><td>NA</td><td>NA</td><td>Young</td></tr>\n",
       "\t<tr><td>5</td><td>5/1/09  </td><td>F</td><td>99</td><td>2</td><td>2</td><td>1</td><td> 2</td><td> 1</td><td>NA   </td></tr>\n",
       "</tbody>\n",
       "</table>\n"
      ],
      "text/latex": [
       "A data.frame: 5 × 10\n",
       "\\begin{tabular}{llllllllll}\n",
       " manager & date & gender & age & q1 & q2 & q3 & q4 & q5 & agecat\\\\\n",
       " <dbl> & <chr> & <chr> & <dbl> & <dbl> & <dbl> & <dbl> & <dbl> & <dbl> & <chr>\\\\\n",
       "\\hline\n",
       "\t 1 & 10/24/08 & M & 32 & 5 & 4 & 5 &  5 &  5 & Young\\\\\n",
       "\t 2 & 10/28/08 & F & 45 & 3 & 5 & 2 &  5 &  5 & Young\\\\\n",
       "\t 3 & 10/1/08  & F & 25 & 3 & 5 & 5 &  5 &  2 & Young\\\\\n",
       "\t 4 & 10/12/08 & M & 39 & 3 & 3 & 4 & NA & NA & Young\\\\\n",
       "\t 5 & 5/1/09   & F & 99 & 2 & 2 & 1 &  2 &  1 & NA   \\\\\n",
       "\\end{tabular}\n"
      ],
      "text/markdown": [
       "\n",
       "A data.frame: 5 × 10\n",
       "\n",
       "| manager &lt;dbl&gt; | date &lt;chr&gt; | gender &lt;chr&gt; | age &lt;dbl&gt; | q1 &lt;dbl&gt; | q2 &lt;dbl&gt; | q3 &lt;dbl&gt; | q4 &lt;dbl&gt; | q5 &lt;dbl&gt; | agecat &lt;chr&gt; |\n",
       "|---|---|---|---|---|---|---|---|---|---|\n",
       "| 1 | 10/24/08 | M | 32 | 5 | 4 | 5 |  5 |  5 | Young |\n",
       "| 2 | 10/28/08 | F | 45 | 3 | 5 | 2 |  5 |  5 | Young |\n",
       "| 3 | 10/1/08  | F | 25 | 3 | 5 | 5 |  5 |  2 | Young |\n",
       "| 4 | 10/12/08 | M | 39 | 3 | 3 | 4 | NA | NA | Young |\n",
       "| 5 | 5/1/09   | F | 99 | 2 | 2 | 1 |  2 |  1 | NA    |\n",
       "\n"
      ],
      "text/plain": [
       "  manager date     gender age q1 q2 q3 q4 q5 agecat\n",
       "1 1       10/24/08 M      32  5  4  5   5  5 Young \n",
       "2 2       10/28/08 F      45  3  5  2   5  5 Young \n",
       "3 3       10/1/08  F      25  3  5  5   5  2 Young \n",
       "4 4       10/12/08 M      39  3  3  4  NA NA Young \n",
       "5 5       5/1/09   F      99  2  2  1   2  1 NA    "
      ]
     },
     "metadata": {},
     "output_type": "display_data"
    }
   ],
   "source": [
    "leadership"
   ]
  },
  {
   "cell_type": "markdown",
   "metadata": {},
   "source": [
    "# 变量的重命名"
   ]
  },
  {
   "cell_type": "markdown",
   "metadata": {},
   "source": [
    "## 第一种方式，fix()"
   ]
  },
  {
   "cell_type": "code",
   "execution_count": 37,
   "metadata": {
    "ExecuteTime": {
     "end_time": "2021-01-27T08:55:49.164405Z",
     "start_time": "2021-01-27T08:55:42.060Z"
    }
   },
   "outputs": [],
   "source": [
    "fix(leadership)"
   ]
  },
  {
   "cell_type": "markdown",
   "metadata": {},
   "source": [
    "![fix](img\\fix.png)"
   ]
  },
  {
   "cell_type": "code",
   "execution_count": 38,
   "metadata": {
    "ExecuteTime": {
     "end_time": "2021-01-27T08:55:49.203306Z",
     "start_time": "2021-01-27T08:55:42.064Z"
    }
   },
   "outputs": [
    {
     "data": {
      "text/html": [
       "<table class=\"dataframe\">\n",
       "<caption>A data.frame: 5 × 10</caption>\n",
       "<thead>\n",
       "\t<tr><th></th><th scope=col>managerID</th><th scope=col>date</th><th scope=col>gender</th><th scope=col>age</th><th scope=col>q1</th><th scope=col>q2</th><th scope=col>q3</th><th scope=col>q4</th><th scope=col>q5</th><th scope=col>agecat</th></tr>\n",
       "\t<tr><th></th><th scope=col>&lt;dbl&gt;</th><th scope=col>&lt;chr&gt;</th><th scope=col>&lt;chr&gt;</th><th scope=col>&lt;dbl&gt;</th><th scope=col>&lt;dbl&gt;</th><th scope=col>&lt;dbl&gt;</th><th scope=col>&lt;dbl&gt;</th><th scope=col>&lt;dbl&gt;</th><th scope=col>&lt;dbl&gt;</th><th scope=col>&lt;chr&gt;</th></tr>\n",
       "</thead>\n",
       "<tbody>\n",
       "\t<tr><th scope=row>1</th><td>1</td><td>10/24/08</td><td>M</td><td>32</td><td>5</td><td>4</td><td>5</td><td> 5</td><td> 5</td><td>Young</td></tr>\n",
       "\t<tr><th scope=row>2</th><td>2</td><td>10/28/08</td><td>F</td><td>45</td><td>3</td><td>5</td><td>2</td><td> 5</td><td> 5</td><td>Young</td></tr>\n",
       "\t<tr><th scope=row>3</th><td>3</td><td>10/1/08 </td><td>F</td><td>25</td><td>3</td><td>5</td><td>5</td><td> 5</td><td> 2</td><td>Young</td></tr>\n",
       "\t<tr><th scope=row>4</th><td>4</td><td>10/12/08</td><td>M</td><td>39</td><td>3</td><td>3</td><td>4</td><td>NA</td><td>NA</td><td>Young</td></tr>\n",
       "\t<tr><th scope=row>5</th><td>5</td><td>5/1/09  </td><td>F</td><td>99</td><td>2</td><td>2</td><td>1</td><td> 2</td><td> 1</td><td>NA   </td></tr>\n",
       "</tbody>\n",
       "</table>\n"
      ],
      "text/latex": [
       "A data.frame: 5 × 10\n",
       "\\begin{tabular}{r|llllllllll}\n",
       "  & managerID & date & gender & age & q1 & q2 & q3 & q4 & q5 & agecat\\\\\n",
       "  & <dbl> & <chr> & <chr> & <dbl> & <dbl> & <dbl> & <dbl> & <dbl> & <dbl> & <chr>\\\\\n",
       "\\hline\n",
       "\t1 & 1 & 10/24/08 & M & 32 & 5 & 4 & 5 &  5 &  5 & Young\\\\\n",
       "\t2 & 2 & 10/28/08 & F & 45 & 3 & 5 & 2 &  5 &  5 & Young\\\\\n",
       "\t3 & 3 & 10/1/08  & F & 25 & 3 & 5 & 5 &  5 &  2 & Young\\\\\n",
       "\t4 & 4 & 10/12/08 & M & 39 & 3 & 3 & 4 & NA & NA & Young\\\\\n",
       "\t5 & 5 & 5/1/09   & F & 99 & 2 & 2 & 1 &  2 &  1 & NA   \\\\\n",
       "\\end{tabular}\n"
      ],
      "text/markdown": [
       "\n",
       "A data.frame: 5 × 10\n",
       "\n",
       "| <!--/--> | managerID &lt;dbl&gt; | date &lt;chr&gt; | gender &lt;chr&gt; | age &lt;dbl&gt; | q1 &lt;dbl&gt; | q2 &lt;dbl&gt; | q3 &lt;dbl&gt; | q4 &lt;dbl&gt; | q5 &lt;dbl&gt; | agecat &lt;chr&gt; |\n",
       "|---|---|---|---|---|---|---|---|---|---|---|\n",
       "| 1 | 1 | 10/24/08 | M | 32 | 5 | 4 | 5 |  5 |  5 | Young |\n",
       "| 2 | 2 | 10/28/08 | F | 45 | 3 | 5 | 2 |  5 |  5 | Young |\n",
       "| 3 | 3 | 10/1/08  | F | 25 | 3 | 5 | 5 |  5 |  2 | Young |\n",
       "| 4 | 4 | 10/12/08 | M | 39 | 3 | 3 | 4 | NA | NA | Young |\n",
       "| 5 | 5 | 5/1/09   | F | 99 | 2 | 2 | 1 |  2 |  1 | NA    |\n",
       "\n"
      ],
      "text/plain": [
       "  managerID date     gender age q1 q2 q3 q4 q5 agecat\n",
       "1 1         10/24/08 M      32  5  4  5   5  5 Young \n",
       "2 2         10/28/08 F      45  3  5  2   5  5 Young \n",
       "3 3         10/1/08  F      25  3  5  5   5  2 Young \n",
       "4 4         10/12/08 M      39  3  3  4  NA NA Young \n",
       "5 5         5/1/09   F      99  2  2  1   2  1 NA    "
      ]
     },
     "metadata": {},
     "output_type": "display_data"
    }
   ],
   "source": [
    "leadership"
   ]
  },
  {
   "cell_type": "markdown",
   "metadata": {},
   "source": [
    "## 第二种方式，rename()，来自reshape包"
   ]
  },
  {
   "cell_type": "raw",
   "metadata": {
    "ExecuteTime": {
     "end_time": "2021-01-27T05:26:42.527622Z",
     "start_time": "2021-01-27T05:24:55.714Z"
    }
   },
   "source": [
    "install.packages('reshape')"
   ]
  },
  {
   "cell_type": "code",
   "execution_count": 39,
   "metadata": {
    "ExecuteTime": {
     "end_time": "2021-01-27T08:55:49.317995Z",
     "start_time": "2021-01-27T08:55:42.093Z"
    }
   },
   "outputs": [],
   "source": [
    "library(reshape)\n",
    "leadership <- rename(leadership,\n",
    "                    c(date = 'testDate'))"
   ]
  },
  {
   "cell_type": "code",
   "execution_count": 40,
   "metadata": {
    "ExecuteTime": {
     "end_time": "2021-01-27T08:55:49.351906Z",
     "start_time": "2021-01-27T08:55:42.096Z"
    }
   },
   "outputs": [
    {
     "data": {
      "text/html": [
       "<table class=\"dataframe\">\n",
       "<caption>A data.frame: 5 × 10</caption>\n",
       "<thead>\n",
       "\t<tr><th></th><th scope=col>managerID</th><th scope=col>testDate</th><th scope=col>gender</th><th scope=col>age</th><th scope=col>q1</th><th scope=col>q2</th><th scope=col>q3</th><th scope=col>q4</th><th scope=col>q5</th><th scope=col>agecat</th></tr>\n",
       "\t<tr><th></th><th scope=col>&lt;dbl&gt;</th><th scope=col>&lt;chr&gt;</th><th scope=col>&lt;chr&gt;</th><th scope=col>&lt;dbl&gt;</th><th scope=col>&lt;dbl&gt;</th><th scope=col>&lt;dbl&gt;</th><th scope=col>&lt;dbl&gt;</th><th scope=col>&lt;dbl&gt;</th><th scope=col>&lt;dbl&gt;</th><th scope=col>&lt;chr&gt;</th></tr>\n",
       "</thead>\n",
       "<tbody>\n",
       "\t<tr><th scope=row>1</th><td>1</td><td>10/24/08</td><td>M</td><td>32</td><td>5</td><td>4</td><td>5</td><td> 5</td><td> 5</td><td>Young</td></tr>\n",
       "\t<tr><th scope=row>2</th><td>2</td><td>10/28/08</td><td>F</td><td>45</td><td>3</td><td>5</td><td>2</td><td> 5</td><td> 5</td><td>Young</td></tr>\n",
       "\t<tr><th scope=row>3</th><td>3</td><td>10/1/08 </td><td>F</td><td>25</td><td>3</td><td>5</td><td>5</td><td> 5</td><td> 2</td><td>Young</td></tr>\n",
       "\t<tr><th scope=row>4</th><td>4</td><td>10/12/08</td><td>M</td><td>39</td><td>3</td><td>3</td><td>4</td><td>NA</td><td>NA</td><td>Young</td></tr>\n",
       "\t<tr><th scope=row>5</th><td>5</td><td>5/1/09  </td><td>F</td><td>99</td><td>2</td><td>2</td><td>1</td><td> 2</td><td> 1</td><td>NA   </td></tr>\n",
       "</tbody>\n",
       "</table>\n"
      ],
      "text/latex": [
       "A data.frame: 5 × 10\n",
       "\\begin{tabular}{r|llllllllll}\n",
       "  & managerID & testDate & gender & age & q1 & q2 & q3 & q4 & q5 & agecat\\\\\n",
       "  & <dbl> & <chr> & <chr> & <dbl> & <dbl> & <dbl> & <dbl> & <dbl> & <dbl> & <chr>\\\\\n",
       "\\hline\n",
       "\t1 & 1 & 10/24/08 & M & 32 & 5 & 4 & 5 &  5 &  5 & Young\\\\\n",
       "\t2 & 2 & 10/28/08 & F & 45 & 3 & 5 & 2 &  5 &  5 & Young\\\\\n",
       "\t3 & 3 & 10/1/08  & F & 25 & 3 & 5 & 5 &  5 &  2 & Young\\\\\n",
       "\t4 & 4 & 10/12/08 & M & 39 & 3 & 3 & 4 & NA & NA & Young\\\\\n",
       "\t5 & 5 & 5/1/09   & F & 99 & 2 & 2 & 1 &  2 &  1 & NA   \\\\\n",
       "\\end{tabular}\n"
      ],
      "text/markdown": [
       "\n",
       "A data.frame: 5 × 10\n",
       "\n",
       "| <!--/--> | managerID &lt;dbl&gt; | testDate &lt;chr&gt; | gender &lt;chr&gt; | age &lt;dbl&gt; | q1 &lt;dbl&gt; | q2 &lt;dbl&gt; | q3 &lt;dbl&gt; | q4 &lt;dbl&gt; | q5 &lt;dbl&gt; | agecat &lt;chr&gt; |\n",
       "|---|---|---|---|---|---|---|---|---|---|---|\n",
       "| 1 | 1 | 10/24/08 | M | 32 | 5 | 4 | 5 |  5 |  5 | Young |\n",
       "| 2 | 2 | 10/28/08 | F | 45 | 3 | 5 | 2 |  5 |  5 | Young |\n",
       "| 3 | 3 | 10/1/08  | F | 25 | 3 | 5 | 5 |  5 |  2 | Young |\n",
       "| 4 | 4 | 10/12/08 | M | 39 | 3 | 3 | 4 | NA | NA | Young |\n",
       "| 5 | 5 | 5/1/09   | F | 99 | 2 | 2 | 1 |  2 |  1 | NA    |\n",
       "\n"
      ],
      "text/plain": [
       "  managerID testDate gender age q1 q2 q3 q4 q5 agecat\n",
       "1 1         10/24/08 M      32  5  4  5   5  5 Young \n",
       "2 2         10/28/08 F      45  3  5  2   5  5 Young \n",
       "3 3         10/1/08  F      25  3  5  5   5  2 Young \n",
       "4 4         10/12/08 M      39  3  3  4  NA NA Young \n",
       "5 5         5/1/09   F      99  2  2  1   2  1 NA    "
      ]
     },
     "metadata": {},
     "output_type": "display_data"
    }
   ],
   "source": [
    "leadership"
   ]
  },
  {
   "cell_type": "markdown",
   "metadata": {},
   "source": [
    "## 第三种方式，names()，来自base包（自带）"
   ]
  },
  {
   "cell_type": "code",
   "execution_count": 41,
   "metadata": {
    "ExecuteTime": {
     "end_time": "2021-01-27T08:55:49.377835Z",
     "start_time": "2021-01-27T08:55:42.100Z"
    }
   },
   "outputs": [],
   "source": [
    "leadership$country <- c('US','US','UK','UK','UK')\n",
    "#突然发现，给的源代码少了一个变量，现在加上去"
   ]
  },
  {
   "cell_type": "code",
   "execution_count": 42,
   "metadata": {
    "ExecuteTime": {
     "end_time": "2021-01-27T08:55:49.408778Z",
     "start_time": "2021-01-27T08:55:42.104Z"
    }
   },
   "outputs": [
    {
     "data": {
      "text/html": [
       "<table class=\"dataframe\">\n",
       "<caption>A data.frame: 5 × 11</caption>\n",
       "<thead>\n",
       "\t<tr><th></th><th scope=col>managerID</th><th scope=col>testDate</th><th scope=col>gender</th><th scope=col>age</th><th scope=col>q1</th><th scope=col>q2</th><th scope=col>q3</th><th scope=col>q4</th><th scope=col>q5</th><th scope=col>agecat</th><th scope=col>country</th></tr>\n",
       "\t<tr><th></th><th scope=col>&lt;dbl&gt;</th><th scope=col>&lt;chr&gt;</th><th scope=col>&lt;chr&gt;</th><th scope=col>&lt;dbl&gt;</th><th scope=col>&lt;dbl&gt;</th><th scope=col>&lt;dbl&gt;</th><th scope=col>&lt;dbl&gt;</th><th scope=col>&lt;dbl&gt;</th><th scope=col>&lt;dbl&gt;</th><th scope=col>&lt;chr&gt;</th><th scope=col>&lt;chr&gt;</th></tr>\n",
       "</thead>\n",
       "<tbody>\n",
       "\t<tr><th scope=row>1</th><td>1</td><td>10/24/08</td><td>M</td><td>32</td><td>5</td><td>4</td><td>5</td><td> 5</td><td> 5</td><td>Young</td><td>US</td></tr>\n",
       "\t<tr><th scope=row>2</th><td>2</td><td>10/28/08</td><td>F</td><td>45</td><td>3</td><td>5</td><td>2</td><td> 5</td><td> 5</td><td>Young</td><td>US</td></tr>\n",
       "\t<tr><th scope=row>3</th><td>3</td><td>10/1/08 </td><td>F</td><td>25</td><td>3</td><td>5</td><td>5</td><td> 5</td><td> 2</td><td>Young</td><td>UK</td></tr>\n",
       "\t<tr><th scope=row>4</th><td>4</td><td>10/12/08</td><td>M</td><td>39</td><td>3</td><td>3</td><td>4</td><td>NA</td><td>NA</td><td>Young</td><td>UK</td></tr>\n",
       "\t<tr><th scope=row>5</th><td>5</td><td>5/1/09  </td><td>F</td><td>99</td><td>2</td><td>2</td><td>1</td><td> 2</td><td> 1</td><td>NA   </td><td>UK</td></tr>\n",
       "</tbody>\n",
       "</table>\n"
      ],
      "text/latex": [
       "A data.frame: 5 × 11\n",
       "\\begin{tabular}{r|lllllllllll}\n",
       "  & managerID & testDate & gender & age & q1 & q2 & q3 & q4 & q5 & agecat & country\\\\\n",
       "  & <dbl> & <chr> & <chr> & <dbl> & <dbl> & <dbl> & <dbl> & <dbl> & <dbl> & <chr> & <chr>\\\\\n",
       "\\hline\n",
       "\t1 & 1 & 10/24/08 & M & 32 & 5 & 4 & 5 &  5 &  5 & Young & US\\\\\n",
       "\t2 & 2 & 10/28/08 & F & 45 & 3 & 5 & 2 &  5 &  5 & Young & US\\\\\n",
       "\t3 & 3 & 10/1/08  & F & 25 & 3 & 5 & 5 &  5 &  2 & Young & UK\\\\\n",
       "\t4 & 4 & 10/12/08 & M & 39 & 3 & 3 & 4 & NA & NA & Young & UK\\\\\n",
       "\t5 & 5 & 5/1/09   & F & 99 & 2 & 2 & 1 &  2 &  1 & NA    & UK\\\\\n",
       "\\end{tabular}\n"
      ],
      "text/markdown": [
       "\n",
       "A data.frame: 5 × 11\n",
       "\n",
       "| <!--/--> | managerID &lt;dbl&gt; | testDate &lt;chr&gt; | gender &lt;chr&gt; | age &lt;dbl&gt; | q1 &lt;dbl&gt; | q2 &lt;dbl&gt; | q3 &lt;dbl&gt; | q4 &lt;dbl&gt; | q5 &lt;dbl&gt; | agecat &lt;chr&gt; | country &lt;chr&gt; |\n",
       "|---|---|---|---|---|---|---|---|---|---|---|---|\n",
       "| 1 | 1 | 10/24/08 | M | 32 | 5 | 4 | 5 |  5 |  5 | Young | US |\n",
       "| 2 | 2 | 10/28/08 | F | 45 | 3 | 5 | 2 |  5 |  5 | Young | US |\n",
       "| 3 | 3 | 10/1/08  | F | 25 | 3 | 5 | 5 |  5 |  2 | Young | UK |\n",
       "| 4 | 4 | 10/12/08 | M | 39 | 3 | 3 | 4 | NA | NA | Young | UK |\n",
       "| 5 | 5 | 5/1/09   | F | 99 | 2 | 2 | 1 |  2 |  1 | NA    | UK |\n",
       "\n"
      ],
      "text/plain": [
       "  managerID testDate gender age q1 q2 q3 q4 q5 agecat country\n",
       "1 1         10/24/08 M      32  5  4  5   5  5 Young  US     \n",
       "2 2         10/28/08 F      45  3  5  2   5  5 Young  US     \n",
       "3 3         10/1/08  F      25  3  5  5   5  2 Young  UK     \n",
       "4 4         10/12/08 M      39  3  3  4  NA NA Young  UK     \n",
       "5 5         5/1/09   F      99  2  2  1   2  1 NA     UK     "
      ]
     },
     "metadata": {},
     "output_type": "display_data"
    }
   ],
   "source": [
    "leadership"
   ]
  },
  {
   "cell_type": "code",
   "execution_count": 43,
   "metadata": {
    "ExecuteTime": {
     "end_time": "2021-01-27T08:55:49.431691Z",
     "start_time": "2021-01-27T08:55:42.108Z"
    }
   },
   "outputs": [],
   "source": [
    "names(leadership)[5:9]<- c('item1','item2',\n",
    "                           'item3','item4','item5')"
   ]
  },
  {
   "cell_type": "code",
   "execution_count": 44,
   "metadata": {
    "ExecuteTime": {
     "end_time": "2021-01-27T08:55:49.470589Z",
     "start_time": "2021-01-27T08:55:42.112Z"
    }
   },
   "outputs": [
    {
     "data": {
      "text/html": [
       "<table class=\"dataframe\">\n",
       "<caption>A data.frame: 5 × 11</caption>\n",
       "<thead>\n",
       "\t<tr><th></th><th scope=col>managerID</th><th scope=col>testDate</th><th scope=col>gender</th><th scope=col>age</th><th scope=col>item1</th><th scope=col>item2</th><th scope=col>item3</th><th scope=col>item4</th><th scope=col>item5</th><th scope=col>agecat</th><th scope=col>country</th></tr>\n",
       "\t<tr><th></th><th scope=col>&lt;dbl&gt;</th><th scope=col>&lt;chr&gt;</th><th scope=col>&lt;chr&gt;</th><th scope=col>&lt;dbl&gt;</th><th scope=col>&lt;dbl&gt;</th><th scope=col>&lt;dbl&gt;</th><th scope=col>&lt;dbl&gt;</th><th scope=col>&lt;dbl&gt;</th><th scope=col>&lt;dbl&gt;</th><th scope=col>&lt;chr&gt;</th><th scope=col>&lt;chr&gt;</th></tr>\n",
       "</thead>\n",
       "<tbody>\n",
       "\t<tr><th scope=row>1</th><td>1</td><td>10/24/08</td><td>M</td><td>32</td><td>5</td><td>4</td><td>5</td><td> 5</td><td> 5</td><td>Young</td><td>US</td></tr>\n",
       "\t<tr><th scope=row>2</th><td>2</td><td>10/28/08</td><td>F</td><td>45</td><td>3</td><td>5</td><td>2</td><td> 5</td><td> 5</td><td>Young</td><td>US</td></tr>\n",
       "\t<tr><th scope=row>3</th><td>3</td><td>10/1/08 </td><td>F</td><td>25</td><td>3</td><td>5</td><td>5</td><td> 5</td><td> 2</td><td>Young</td><td>UK</td></tr>\n",
       "\t<tr><th scope=row>4</th><td>4</td><td>10/12/08</td><td>M</td><td>39</td><td>3</td><td>3</td><td>4</td><td>NA</td><td>NA</td><td>Young</td><td>UK</td></tr>\n",
       "\t<tr><th scope=row>5</th><td>5</td><td>5/1/09  </td><td>F</td><td>99</td><td>2</td><td>2</td><td>1</td><td> 2</td><td> 1</td><td>NA   </td><td>UK</td></tr>\n",
       "</tbody>\n",
       "</table>\n"
      ],
      "text/latex": [
       "A data.frame: 5 × 11\n",
       "\\begin{tabular}{r|lllllllllll}\n",
       "  & managerID & testDate & gender & age & item1 & item2 & item3 & item4 & item5 & agecat & country\\\\\n",
       "  & <dbl> & <chr> & <chr> & <dbl> & <dbl> & <dbl> & <dbl> & <dbl> & <dbl> & <chr> & <chr>\\\\\n",
       "\\hline\n",
       "\t1 & 1 & 10/24/08 & M & 32 & 5 & 4 & 5 &  5 &  5 & Young & US\\\\\n",
       "\t2 & 2 & 10/28/08 & F & 45 & 3 & 5 & 2 &  5 &  5 & Young & US\\\\\n",
       "\t3 & 3 & 10/1/08  & F & 25 & 3 & 5 & 5 &  5 &  2 & Young & UK\\\\\n",
       "\t4 & 4 & 10/12/08 & M & 39 & 3 & 3 & 4 & NA & NA & Young & UK\\\\\n",
       "\t5 & 5 & 5/1/09   & F & 99 & 2 & 2 & 1 &  2 &  1 & NA    & UK\\\\\n",
       "\\end{tabular}\n"
      ],
      "text/markdown": [
       "\n",
       "A data.frame: 5 × 11\n",
       "\n",
       "| <!--/--> | managerID &lt;dbl&gt; | testDate &lt;chr&gt; | gender &lt;chr&gt; | age &lt;dbl&gt; | item1 &lt;dbl&gt; | item2 &lt;dbl&gt; | item3 &lt;dbl&gt; | item4 &lt;dbl&gt; | item5 &lt;dbl&gt; | agecat &lt;chr&gt; | country &lt;chr&gt; |\n",
       "|---|---|---|---|---|---|---|---|---|---|---|---|\n",
       "| 1 | 1 | 10/24/08 | M | 32 | 5 | 4 | 5 |  5 |  5 | Young | US |\n",
       "| 2 | 2 | 10/28/08 | F | 45 | 3 | 5 | 2 |  5 |  5 | Young | US |\n",
       "| 3 | 3 | 10/1/08  | F | 25 | 3 | 5 | 5 |  5 |  2 | Young | UK |\n",
       "| 4 | 4 | 10/12/08 | M | 39 | 3 | 3 | 4 | NA | NA | Young | UK |\n",
       "| 5 | 5 | 5/1/09   | F | 99 | 2 | 2 | 1 |  2 |  1 | NA    | UK |\n",
       "\n"
      ],
      "text/plain": [
       "  managerID testDate gender age item1 item2 item3 item4 item5 agecat country\n",
       "1 1         10/24/08 M      32  5     4     5      5     5    Young  US     \n",
       "2 2         10/28/08 F      45  3     5     2      5     5    Young  US     \n",
       "3 3         10/1/08  F      25  3     5     5      5     2    Young  UK     \n",
       "4 4         10/12/08 M      39  3     3     4     NA    NA    Young  UK     \n",
       "5 5         5/1/09   F      99  2     2     1      2     1    NA     UK     "
      ]
     },
     "metadata": {},
     "output_type": "display_data"
    }
   ],
   "source": [
    "leadership"
   ]
  },
  {
   "cell_type": "markdown",
   "metadata": {},
   "source": [
    "# 缺失值"
   ]
  },
  {
   "cell_type": "markdown",
   "metadata": {},
   "source": [
    "## 什么是缺失值"
   ]
  },
  {
   "cell_type": "code",
   "execution_count": 45,
   "metadata": {
    "ExecuteTime": {
     "end_time": "2021-01-27T08:55:49.496517Z",
     "start_time": "2021-01-27T08:55:42.116Z"
    }
   },
   "outputs": [
    {
     "data": {
      "text/html": [
       "&lt;NA&gt;"
      ],
      "text/latex": [
       "<NA>"
      ],
      "text/markdown": [
       "&lt;NA&gt;"
      ],
      "text/plain": [
       "[1] NA"
      ]
     },
     "metadata": {},
     "output_type": "display_data"
    }
   ],
   "source": [
    "NA    #Not Available   缺失值"
   ]
  },
  {
   "cell_type": "code",
   "execution_count": 46,
   "metadata": {
    "ExecuteTime": {
     "end_time": "2021-01-27T08:55:49.522449Z",
     "start_time": "2021-01-27T08:55:42.119Z"
    }
   },
   "outputs": [
    {
     "data": {
      "text/html": [
       "NaN"
      ],
      "text/latex": [
       "NaN"
      ],
      "text/markdown": [
       "NaN"
      ],
      "text/plain": [
       "[1] NaN"
      ]
     },
     "metadata": {},
     "output_type": "display_data"
    }
   ],
   "source": [
    "NaN   #Not a Number   不可能出现的值"
   ]
  },
  {
   "cell_type": "code",
   "execution_count": 47,
   "metadata": {
    "ExecuteTime": {
     "end_time": "2021-01-27T08:55:49.545387Z",
     "start_time": "2021-01-27T08:55:42.122Z"
    }
   },
   "outputs": [],
   "source": [
    "y <- c(1,2,3,NA)"
   ]
  },
  {
   "cell_type": "code",
   "execution_count": 48,
   "metadata": {
    "ExecuteTime": {
     "end_time": "2021-01-27T08:55:49.573314Z",
     "start_time": "2021-01-27T08:55:42.125Z"
    }
   },
   "outputs": [
    {
     "data": {
      "text/html": [
       "<style>\n",
       ".list-inline {list-style: none; margin:0; padding: 0}\n",
       ".list-inline>li {display: inline-block}\n",
       ".list-inline>li:not(:last-child)::after {content: \"\\00b7\"; padding: 0 .5ex}\n",
       "</style>\n",
       "<ol class=list-inline><li>FALSE</li><li>FALSE</li><li>FALSE</li><li>TRUE</li></ol>\n"
      ],
      "text/latex": [
       "\\begin{enumerate*}\n",
       "\\item FALSE\n",
       "\\item FALSE\n",
       "\\item FALSE\n",
       "\\item TRUE\n",
       "\\end{enumerate*}\n"
      ],
      "text/markdown": [
       "1. FALSE\n",
       "2. FALSE\n",
       "3. FALSE\n",
       "4. TRUE\n",
       "\n",
       "\n"
      ],
      "text/plain": [
       "[1] FALSE FALSE FALSE  TRUE"
      ]
     },
     "metadata": {},
     "output_type": "display_data"
    }
   ],
   "source": [
    "is.na(y)"
   ]
  },
  {
   "cell_type": "code",
   "execution_count": 49,
   "metadata": {
    "ExecuteTime": {
     "end_time": "2021-01-27T08:55:49.600241Z",
     "start_time": "2021-01-27T08:55:42.129Z"
    }
   },
   "outputs": [
    {
     "data": {
      "text/html": [
       "<style>\n",
       ".list-inline {list-style: none; margin:0; padding: 0}\n",
       ".list-inline>li {display: inline-block}\n",
       ".list-inline>li:not(:last-child)::after {content: \"\\00b7\"; padding: 0 .5ex}\n",
       "</style>\n",
       "<ol class=list-inline><li>FALSE</li><li>FALSE</li><li>FALSE</li><li>TRUE</li><li>FALSE</li></ol>\n"
      ],
      "text/latex": [
       "\\begin{enumerate*}\n",
       "\\item FALSE\n",
       "\\item FALSE\n",
       "\\item FALSE\n",
       "\\item TRUE\n",
       "\\item FALSE\n",
       "\\end{enumerate*}\n"
      ],
      "text/markdown": [
       "1. FALSE\n",
       "2. FALSE\n",
       "3. FALSE\n",
       "4. TRUE\n",
       "5. FALSE\n",
       "\n",
       "\n"
      ],
      "text/plain": [
       "[1] FALSE FALSE FALSE  TRUE FALSE"
      ]
     },
     "metadata": {},
     "output_type": "display_data"
    }
   ],
   "source": [
    "is.na(leadership$item4)   #检测缺失值是否存在"
   ]
  },
  {
   "cell_type": "code",
   "execution_count": 50,
   "metadata": {
    "ExecuteTime": {
     "end_time": "2021-01-27T08:55:49.630161Z",
     "start_time": "2021-01-27T08:55:42.133Z"
    }
   },
   "outputs": [
    {
     "data": {
      "text/html": [
       "<table class=\"dataframe\">\n",
       "<caption>A matrix: 5 × 5 of type lgl</caption>\n",
       "<thead>\n",
       "\t<tr><th></th><th scope=col>item1</th><th scope=col>item2</th><th scope=col>item3</th><th scope=col>item4</th><th scope=col>item5</th></tr>\n",
       "</thead>\n",
       "<tbody>\n",
       "\t<tr><th scope=row>1</th><td>FALSE</td><td>FALSE</td><td>FALSE</td><td>FALSE</td><td>FALSE</td></tr>\n",
       "\t<tr><th scope=row>2</th><td>FALSE</td><td>FALSE</td><td>FALSE</td><td>FALSE</td><td>FALSE</td></tr>\n",
       "\t<tr><th scope=row>3</th><td>FALSE</td><td>FALSE</td><td>FALSE</td><td>FALSE</td><td>FALSE</td></tr>\n",
       "\t<tr><th scope=row>4</th><td>FALSE</td><td>FALSE</td><td>FALSE</td><td> TRUE</td><td> TRUE</td></tr>\n",
       "\t<tr><th scope=row>5</th><td>FALSE</td><td>FALSE</td><td>FALSE</td><td>FALSE</td><td>FALSE</td></tr>\n",
       "</tbody>\n",
       "</table>\n"
      ],
      "text/latex": [
       "A matrix: 5 × 5 of type lgl\n",
       "\\begin{tabular}{r|lllll}\n",
       "  & item1 & item2 & item3 & item4 & item5\\\\\n",
       "\\hline\n",
       "\t1 & FALSE & FALSE & FALSE & FALSE & FALSE\\\\\n",
       "\t2 & FALSE & FALSE & FALSE & FALSE & FALSE\\\\\n",
       "\t3 & FALSE & FALSE & FALSE & FALSE & FALSE\\\\\n",
       "\t4 & FALSE & FALSE & FALSE &  TRUE &  TRUE\\\\\n",
       "\t5 & FALSE & FALSE & FALSE & FALSE & FALSE\\\\\n",
       "\\end{tabular}\n"
      ],
      "text/markdown": [
       "\n",
       "A matrix: 5 × 5 of type lgl\n",
       "\n",
       "| <!--/--> | item1 | item2 | item3 | item4 | item5 |\n",
       "|---|---|---|---|---|---|\n",
       "| 1 | FALSE | FALSE | FALSE | FALSE | FALSE |\n",
       "| 2 | FALSE | FALSE | FALSE | FALSE | FALSE |\n",
       "| 3 | FALSE | FALSE | FALSE | FALSE | FALSE |\n",
       "| 4 | FALSE | FALSE | FALSE |  TRUE |  TRUE |\n",
       "| 5 | FALSE | FALSE | FALSE | FALSE | FALSE |\n",
       "\n"
      ],
      "text/plain": [
       "  item1 item2 item3 item4 item5\n",
       "1 FALSE FALSE FALSE FALSE FALSE\n",
       "2 FALSE FALSE FALSE FALSE FALSE\n",
       "3 FALSE FALSE FALSE FALSE FALSE\n",
       "4 FALSE FALSE FALSE  TRUE  TRUE\n",
       "5 FALSE FALSE FALSE FALSE FALSE"
      ]
     },
     "metadata": {},
     "output_type": "display_data"
    }
   ],
   "source": [
    "is.na(leadership[,5:9])"
   ]
  },
  {
   "cell_type": "markdown",
   "metadata": {},
   "source": [
    "## 数据框的小问题"
   ]
  },
  {
   "cell_type": "code",
   "execution_count": 51,
   "metadata": {
    "ExecuteTime": {
     "end_time": "2021-01-27T08:55:49.666065Z",
     "start_time": "2021-01-27T08:55:42.137Z"
    }
   },
   "outputs": [
    {
     "data": {
      "text/html": [
       "<table class=\"dataframe\">\n",
       "<caption>A data.frame: 5 × 5</caption>\n",
       "<thead>\n",
       "\t<tr><th></th><th scope=col>item1</th><th scope=col>item2</th><th scope=col>item3</th><th scope=col>item4</th><th scope=col>item5</th></tr>\n",
       "\t<tr><th></th><th scope=col>&lt;dbl&gt;</th><th scope=col>&lt;dbl&gt;</th><th scope=col>&lt;dbl&gt;</th><th scope=col>&lt;dbl&gt;</th><th scope=col>&lt;dbl&gt;</th></tr>\n",
       "</thead>\n",
       "<tbody>\n",
       "\t<tr><th scope=row>1</th><td>5</td><td>4</td><td>5</td><td> 5</td><td> 5</td></tr>\n",
       "\t<tr><th scope=row>2</th><td>3</td><td>5</td><td>2</td><td> 5</td><td> 5</td></tr>\n",
       "\t<tr><th scope=row>3</th><td>3</td><td>5</td><td>5</td><td> 5</td><td> 2</td></tr>\n",
       "\t<tr><th scope=row>4</th><td>3</td><td>3</td><td>4</td><td>NA</td><td>NA</td></tr>\n",
       "\t<tr><th scope=row>5</th><td>2</td><td>2</td><td>1</td><td> 2</td><td> 1</td></tr>\n",
       "</tbody>\n",
       "</table>\n"
      ],
      "text/latex": [
       "A data.frame: 5 × 5\n",
       "\\begin{tabular}{r|lllll}\n",
       "  & item1 & item2 & item3 & item4 & item5\\\\\n",
       "  & <dbl> & <dbl> & <dbl> & <dbl> & <dbl>\\\\\n",
       "\\hline\n",
       "\t1 & 5 & 4 & 5 &  5 &  5\\\\\n",
       "\t2 & 3 & 5 & 2 &  5 &  5\\\\\n",
       "\t3 & 3 & 5 & 5 &  5 &  2\\\\\n",
       "\t4 & 3 & 3 & 4 & NA & NA\\\\\n",
       "\t5 & 2 & 2 & 1 &  2 &  1\\\\\n",
       "\\end{tabular}\n"
      ],
      "text/markdown": [
       "\n",
       "A data.frame: 5 × 5\n",
       "\n",
       "| <!--/--> | item1 &lt;dbl&gt; | item2 &lt;dbl&gt; | item3 &lt;dbl&gt; | item4 &lt;dbl&gt; | item5 &lt;dbl&gt; |\n",
       "|---|---|---|---|---|---|\n",
       "| 1 | 5 | 4 | 5 |  5 |  5 |\n",
       "| 2 | 3 | 5 | 2 |  5 |  5 |\n",
       "| 3 | 3 | 5 | 5 |  5 |  2 |\n",
       "| 4 | 3 | 3 | 4 | NA | NA |\n",
       "| 5 | 2 | 2 | 1 |  2 |  1 |\n",
       "\n"
      ],
      "text/plain": [
       "  item1 item2 item3 item4 item5\n",
       "1 5     4     5      5     5   \n",
       "2 3     5     2      5     5   \n",
       "3 3     5     5      5     2   \n",
       "4 3     3     4     NA    NA   \n",
       "5 2     2     1      2     1   "
      ]
     },
     "metadata": {},
     "output_type": "display_data"
    }
   ],
   "source": [
    "#关于为什么这里加了一个逗号\n",
    "leadership[,5:9]"
   ]
  },
  {
   "cell_type": "code",
   "execution_count": 52,
   "metadata": {
    "ExecuteTime": {
     "end_time": "2021-01-27T08:55:49.697979Z",
     "start_time": "2021-01-27T08:55:42.141Z"
    }
   },
   "outputs": [
    {
     "data": {
      "text/html": [
       "<table class=\"dataframe\">\n",
       "<caption>A data.frame: 5 × 5</caption>\n",
       "<thead>\n",
       "\t<tr><th></th><th scope=col>item1</th><th scope=col>item2</th><th scope=col>item3</th><th scope=col>item4</th><th scope=col>item5</th></tr>\n",
       "\t<tr><th></th><th scope=col>&lt;dbl&gt;</th><th scope=col>&lt;dbl&gt;</th><th scope=col>&lt;dbl&gt;</th><th scope=col>&lt;dbl&gt;</th><th scope=col>&lt;dbl&gt;</th></tr>\n",
       "</thead>\n",
       "<tbody>\n",
       "\t<tr><th scope=row>1</th><td>5</td><td>4</td><td>5</td><td> 5</td><td> 5</td></tr>\n",
       "\t<tr><th scope=row>2</th><td>3</td><td>5</td><td>2</td><td> 5</td><td> 5</td></tr>\n",
       "\t<tr><th scope=row>3</th><td>3</td><td>5</td><td>5</td><td> 5</td><td> 2</td></tr>\n",
       "\t<tr><th scope=row>4</th><td>3</td><td>3</td><td>4</td><td>NA</td><td>NA</td></tr>\n",
       "\t<tr><th scope=row>5</th><td>2</td><td>2</td><td>1</td><td> 2</td><td> 1</td></tr>\n",
       "</tbody>\n",
       "</table>\n"
      ],
      "text/latex": [
       "A data.frame: 5 × 5\n",
       "\\begin{tabular}{r|lllll}\n",
       "  & item1 & item2 & item3 & item4 & item5\\\\\n",
       "  & <dbl> & <dbl> & <dbl> & <dbl> & <dbl>\\\\\n",
       "\\hline\n",
       "\t1 & 5 & 4 & 5 &  5 &  5\\\\\n",
       "\t2 & 3 & 5 & 2 &  5 &  5\\\\\n",
       "\t3 & 3 & 5 & 5 &  5 &  2\\\\\n",
       "\t4 & 3 & 3 & 4 & NA & NA\\\\\n",
       "\t5 & 2 & 2 & 1 &  2 &  1\\\\\n",
       "\\end{tabular}\n"
      ],
      "text/markdown": [
       "\n",
       "A data.frame: 5 × 5\n",
       "\n",
       "| <!--/--> | item1 &lt;dbl&gt; | item2 &lt;dbl&gt; | item3 &lt;dbl&gt; | item4 &lt;dbl&gt; | item5 &lt;dbl&gt; |\n",
       "|---|---|---|---|---|---|\n",
       "| 1 | 5 | 4 | 5 |  5 |  5 |\n",
       "| 2 | 3 | 5 | 2 |  5 |  5 |\n",
       "| 3 | 3 | 5 | 5 |  5 |  2 |\n",
       "| 4 | 3 | 3 | 4 | NA | NA |\n",
       "| 5 | 2 | 2 | 1 |  2 |  1 |\n",
       "\n"
      ],
      "text/plain": [
       "  item1 item2 item3 item4 item5\n",
       "1 5     4     5      5     5   \n",
       "2 3     5     2      5     5   \n",
       "3 3     5     5      5     2   \n",
       "4 3     3     4     NA    NA   \n",
       "5 2     2     1      2     1   "
      ]
     },
     "metadata": {},
     "output_type": "display_data"
    }
   ],
   "source": [
    "#其实不加逗号也会得到相同的结果\n",
    "leadership[5:9]\n",
    "#因为数据框默认访问的时候就是按照列访问的，加了逗号只是强调"
   ]
  },
  {
   "cell_type": "code",
   "execution_count": 53,
   "metadata": {
    "ExecuteTime": {
     "end_time": "2021-01-27T08:55:49.721915Z",
     "start_time": "2021-01-27T08:55:42.144Z"
    }
   },
   "outputs": [
    {
     "data": {
      "text/html": [
       "TRUE"
      ],
      "text/latex": [
       "TRUE"
      ],
      "text/markdown": [
       "TRUE"
      ],
      "text/plain": [
       "[1] TRUE"
      ]
     },
     "metadata": {},
     "output_type": "display_data"
    }
   ],
   "source": [
    "is.vector(5:9)   # 5:9 这是一个向量"
   ]
  },
  {
   "cell_type": "code",
   "execution_count": 54,
   "metadata": {
    "ExecuteTime": {
     "end_time": "2021-01-27T08:55:49.751836Z",
     "start_time": "2021-01-27T08:55:42.148Z"
    }
   },
   "outputs": [
    {
     "data": {
      "text/html": [
       "<table class=\"dataframe\">\n",
       "<caption>A data.frame: 2 × 5</caption>\n",
       "<thead>\n",
       "\t<tr><th></th><th scope=col>item1</th><th scope=col>item2</th><th scope=col>item3</th><th scope=col>item4</th><th scope=col>item5</th></tr>\n",
       "\t<tr><th></th><th scope=col>&lt;dbl&gt;</th><th scope=col>&lt;dbl&gt;</th><th scope=col>&lt;dbl&gt;</th><th scope=col>&lt;dbl&gt;</th><th scope=col>&lt;dbl&gt;</th></tr>\n",
       "</thead>\n",
       "<tbody>\n",
       "\t<tr><th scope=row>1</th><td>5</td><td>4</td><td>5</td><td>5</td><td>5</td></tr>\n",
       "\t<tr><th scope=row>3</th><td>3</td><td>5</td><td>5</td><td>5</td><td>2</td></tr>\n",
       "</tbody>\n",
       "</table>\n"
      ],
      "text/latex": [
       "A data.frame: 2 × 5\n",
       "\\begin{tabular}{r|lllll}\n",
       "  & item1 & item2 & item3 & item4 & item5\\\\\n",
       "  & <dbl> & <dbl> & <dbl> & <dbl> & <dbl>\\\\\n",
       "\\hline\n",
       "\t1 & 5 & 4 & 5 & 5 & 5\\\\\n",
       "\t3 & 3 & 5 & 5 & 5 & 2\\\\\n",
       "\\end{tabular}\n"
      ],
      "text/markdown": [
       "\n",
       "A data.frame: 2 × 5\n",
       "\n",
       "| <!--/--> | item1 &lt;dbl&gt; | item2 &lt;dbl&gt; | item3 &lt;dbl&gt; | item4 &lt;dbl&gt; | item5 &lt;dbl&gt; |\n",
       "|---|---|---|---|---|---|\n",
       "| 1 | 5 | 4 | 5 | 5 | 5 |\n",
       "| 3 | 3 | 5 | 5 | 5 | 2 |\n",
       "\n"
      ],
      "text/plain": [
       "  item1 item2 item3 item4 item5\n",
       "1 5     4     5     5     5    \n",
       "3 3     5     5     5     2    "
      ]
     },
     "metadata": {},
     "output_type": "display_data"
    }
   ],
   "source": [
    "#写出逗号更加直观\n",
    "#还可以行和列同时取子集\n",
    "leadership[c(1,3),5:9]"
   ]
  },
  {
   "cell_type": "markdown",
   "metadata": {},
   "source": [
    "## 重新编码某些值为缺失值\n",
    "前面已经写过，age为99的数据应为缺失值"
   ]
  },
  {
   "cell_type": "markdown",
   "metadata": {},
   "source": [
    "## 在分析中排除缺失值"
   ]
  },
  {
   "cell_type": "code",
   "execution_count": 55,
   "metadata": {
    "ExecuteTime": {
     "end_time": "2021-01-27T08:55:49.776794Z",
     "start_time": "2021-01-27T08:55:42.153Z"
    }
   },
   "outputs": [],
   "source": [
    "x <- c(1, 2, NA, 3, NaN)\n",
    "y <- x[1] + x[2] + x[3] + x[4]\n",
    "z <- sum(x)"
   ]
  },
  {
   "cell_type": "code",
   "execution_count": 56,
   "metadata": {
    "ExecuteTime": {
     "end_time": "2021-01-27T08:55:49.808683Z",
     "start_time": "2021-01-27T08:55:42.156Z"
    }
   },
   "outputs": [
    {
     "data": {
      "text/html": [
       "<style>\n",
       ".list-inline {list-style: none; margin:0; padding: 0}\n",
       ".list-inline>li {display: inline-block}\n",
       ".list-inline>li:not(:last-child)::after {content: \"\\00b7\"; padding: 0 .5ex}\n",
       "</style>\n",
       "<ol class=list-inline><li>1</li><li>2</li><li>&lt;NA&gt;</li><li>3</li><li>NaN</li></ol>\n"
      ],
      "text/latex": [
       "\\begin{enumerate*}\n",
       "\\item 1\n",
       "\\item 2\n",
       "\\item <NA>\n",
       "\\item 3\n",
       "\\item NaN\n",
       "\\end{enumerate*}\n"
      ],
      "text/markdown": [
       "1. 1\n",
       "2. 2\n",
       "3. &lt;NA&gt;\n",
       "4. 3\n",
       "5. NaN\n",
       "\n",
       "\n"
      ],
      "text/plain": [
       "[1]   1   2  NA   3 NaN"
      ]
     },
     "metadata": {},
     "output_type": "display_data"
    },
    {
     "data": {
      "text/html": [
       "&lt;NA&gt;"
      ],
      "text/latex": [
       "<NA>"
      ],
      "text/markdown": [
       "&lt;NA&gt;"
      ],
      "text/plain": [
       "[1] NA"
      ]
     },
     "metadata": {},
     "output_type": "display_data"
    },
    {
     "data": {
      "text/html": [
       "&lt;NA&gt;"
      ],
      "text/latex": [
       "<NA>"
      ],
      "text/markdown": [
       "&lt;NA&gt;"
      ],
      "text/plain": [
       "[1] NA"
      ]
     },
     "metadata": {},
     "output_type": "display_data"
    }
   ],
   "source": [
    "x;y;z   #得到的都是缺失值"
   ]
  },
  {
   "cell_type": "code",
   "execution_count": 57,
   "metadata": {
    "ExecuteTime": {
     "end_time": "2021-01-27T08:55:49.834614Z",
     "start_time": "2021-01-27T08:55:42.159Z"
    }
   },
   "outputs": [
    {
     "data": {
      "text/html": [
       "6"
      ],
      "text/latex": [
       "6"
      ],
      "text/markdown": [
       "6"
      ],
      "text/plain": [
       "[1] 6"
      ]
     },
     "metadata": {},
     "output_type": "display_data"
    }
   ],
   "source": [
    "sum(x, na.rm=TRUE)  #参数na.rm可以设置为TRUE表示移除缺失值\n",
    "#同时NaN也被移除了?????"
   ]
  },
  {
   "cell_type": "markdown",
   "metadata": {},
   "source": [
    "### 行删除"
   ]
  },
  {
   "cell_type": "code",
   "execution_count": 58,
   "metadata": {
    "ExecuteTime": {
     "end_time": "2021-01-27T08:55:49.867526Z",
     "start_time": "2021-01-27T08:55:42.164Z"
    }
   },
   "outputs": [
    {
     "data": {
      "text/html": [
       "<table class=\"dataframe\">\n",
       "<caption>A data.frame: 3 × 11</caption>\n",
       "<thead>\n",
       "\t<tr><th></th><th scope=col>managerID</th><th scope=col>testDate</th><th scope=col>gender</th><th scope=col>age</th><th scope=col>item1</th><th scope=col>item2</th><th scope=col>item3</th><th scope=col>item4</th><th scope=col>item5</th><th scope=col>agecat</th><th scope=col>country</th></tr>\n",
       "\t<tr><th></th><th scope=col>&lt;dbl&gt;</th><th scope=col>&lt;chr&gt;</th><th scope=col>&lt;chr&gt;</th><th scope=col>&lt;dbl&gt;</th><th scope=col>&lt;dbl&gt;</th><th scope=col>&lt;dbl&gt;</th><th scope=col>&lt;dbl&gt;</th><th scope=col>&lt;dbl&gt;</th><th scope=col>&lt;dbl&gt;</th><th scope=col>&lt;chr&gt;</th><th scope=col>&lt;chr&gt;</th></tr>\n",
       "</thead>\n",
       "<tbody>\n",
       "\t<tr><th scope=row>1</th><td>1</td><td>10/24/08</td><td>M</td><td>32</td><td>5</td><td>4</td><td>5</td><td>5</td><td>5</td><td>Young</td><td>US</td></tr>\n",
       "\t<tr><th scope=row>2</th><td>2</td><td>10/28/08</td><td>F</td><td>45</td><td>3</td><td>5</td><td>2</td><td>5</td><td>5</td><td>Young</td><td>US</td></tr>\n",
       "\t<tr><th scope=row>3</th><td>3</td><td>10/1/08 </td><td>F</td><td>25</td><td>3</td><td>5</td><td>5</td><td>5</td><td>2</td><td>Young</td><td>UK</td></tr>\n",
       "</tbody>\n",
       "</table>\n"
      ],
      "text/latex": [
       "A data.frame: 3 × 11\n",
       "\\begin{tabular}{r|lllllllllll}\n",
       "  & managerID & testDate & gender & age & item1 & item2 & item3 & item4 & item5 & agecat & country\\\\\n",
       "  & <dbl> & <chr> & <chr> & <dbl> & <dbl> & <dbl> & <dbl> & <dbl> & <dbl> & <chr> & <chr>\\\\\n",
       "\\hline\n",
       "\t1 & 1 & 10/24/08 & M & 32 & 5 & 4 & 5 & 5 & 5 & Young & US\\\\\n",
       "\t2 & 2 & 10/28/08 & F & 45 & 3 & 5 & 2 & 5 & 5 & Young & US\\\\\n",
       "\t3 & 3 & 10/1/08  & F & 25 & 3 & 5 & 5 & 5 & 2 & Young & UK\\\\\n",
       "\\end{tabular}\n"
      ],
      "text/markdown": [
       "\n",
       "A data.frame: 3 × 11\n",
       "\n",
       "| <!--/--> | managerID &lt;dbl&gt; | testDate &lt;chr&gt; | gender &lt;chr&gt; | age &lt;dbl&gt; | item1 &lt;dbl&gt; | item2 &lt;dbl&gt; | item3 &lt;dbl&gt; | item4 &lt;dbl&gt; | item5 &lt;dbl&gt; | agecat &lt;chr&gt; | country &lt;chr&gt; |\n",
       "|---|---|---|---|---|---|---|---|---|---|---|---|\n",
       "| 1 | 1 | 10/24/08 | M | 32 | 5 | 4 | 5 | 5 | 5 | Young | US |\n",
       "| 2 | 2 | 10/28/08 | F | 45 | 3 | 5 | 2 | 5 | 5 | Young | US |\n",
       "| 3 | 3 | 10/1/08  | F | 25 | 3 | 5 | 5 | 5 | 2 | Young | UK |\n",
       "\n"
      ],
      "text/plain": [
       "  managerID testDate gender age item1 item2 item3 item4 item5 agecat country\n",
       "1 1         10/24/08 M      32  5     4     5     5     5     Young  US     \n",
       "2 2         10/28/08 F      45  3     5     2     5     5     Young  US     \n",
       "3 3         10/1/08  F      25  3     5     5     5     2     Young  UK     "
      ]
     },
     "metadata": {},
     "output_type": "display_data"
    }
   ],
   "source": [
    "newdata <- na.omit(leadership);newdata   \n",
    "#排除了所有含有缺失值的观测\n",
    "#omit意为 删除，忽略，遗漏"
   ]
  },
  {
   "cell_type": "markdown",
   "metadata": {},
   "source": [
    "# 日期值"
   ]
  },
  {
   "cell_type": "markdown",
   "metadata": {},
   "source": [
    "## as.Date()\n",
    "使用指定格式读取字符型变量，转化为日期值"
   ]
  },
  {
   "cell_type": "code",
   "execution_count": 59,
   "metadata": {
    "ExecuteTime": {
     "end_time": "2021-01-27T08:55:49.896448Z",
     "start_time": "2021-01-27T08:55:42.168Z"
    }
   },
   "outputs": [
    {
     "data": {
      "text/html": [
       "<time datetime=\"2007-06-22\">2007-06-22</time>"
      ],
      "text/latex": [
       "2007-06-22"
      ],
      "text/markdown": [
       "2007-06-22"
      ],
      "text/plain": [
       "[1] \"2007-06-22\""
      ]
     },
     "metadata": {},
     "output_type": "display_data"
    }
   ],
   "source": [
    "mydates <- as.Date('2007-06-22');mydates"
   ]
  },
  {
   "cell_type": "code",
   "execution_count": 60,
   "metadata": {
    "ExecuteTime": {
     "end_time": "2021-01-27T08:55:49.921382Z",
     "start_time": "2021-01-27T08:55:42.171Z"
    }
   },
   "outputs": [
    {
     "data": {
      "text/html": [
       "'Date'"
      ],
      "text/latex": [
       "'Date'"
      ],
      "text/markdown": [
       "'Date'"
      ],
      "text/plain": [
       "[1] \"Date\""
      ]
     },
     "metadata": {},
     "output_type": "display_data"
    }
   ],
   "source": [
    "class(mydates)   #日期"
   ]
  },
  {
   "cell_type": "code",
   "execution_count": 61,
   "metadata": {
    "ExecuteTime": {
     "end_time": "2021-01-27T08:55:49.945319Z",
     "start_time": "2021-01-27T08:55:42.174Z"
    }
   },
   "outputs": [
    {
     "data": {
      "text/html": [
       "<time datetime=\"1965-01-05\">1965-01-05</time>"
      ],
      "text/latex": [
       "1965-01-05"
      ],
      "text/markdown": [
       "1965-01-05"
      ],
      "text/plain": [
       "[1] \"1965-01-05\""
      ]
     },
     "metadata": {},
     "output_type": "display_data"
    }
   ],
   "source": [
    "as.Date('01/05/1965', '%m/%d/%Y')   \n",
    "#可以设置格式读取对应的日期\n",
    "#mm/dd/yyyy\n",
    "#默认格式为上文的2007-06-22\n",
    "#yyyy-mm-dd"
   ]
  },
  {
   "cell_type": "code",
   "execution_count": 62,
   "metadata": {
    "ExecuteTime": {
     "end_time": "2021-01-27T08:55:49.970253Z",
     "start_time": "2021-01-27T08:55:42.177Z"
    }
   },
   "outputs": [],
   "source": [
    "leadership$testDate <- as.Date(leadership$testDate,\n",
    "                               '%m/%d/%y')\n",
    "#mm/dd/yy\n",
    "#两位数年份用小写y，四位数年份用大写的Y"
   ]
  },
  {
   "cell_type": "code",
   "execution_count": 63,
   "metadata": {
    "ExecuteTime": {
     "end_time": "2021-01-27T08:55:49.998176Z",
     "start_time": "2021-01-27T08:55:42.181Z"
    }
   },
   "outputs": [
    {
     "data": {
      "text/html": [
       "<style>\n",
       ".list-inline {list-style: none; margin:0; padding: 0}\n",
       ".list-inline>li {display: inline-block}\n",
       ".list-inline>li:not(:last-child)::after {content: \"\\00b7\"; padding: 0 .5ex}\n",
       "</style>\n",
       "<ol class=list-inline><li><time datetime=\"2008-10-24\">2008-10-24</time></li><li><time datetime=\"2008-10-28\">2008-10-28</time></li><li><time datetime=\"2008-10-01\">2008-10-01</time></li><li><time datetime=\"2008-10-12\">2008-10-12</time></li><li><time datetime=\"2009-05-01\">2009-05-01</time></li></ol>\n"
      ],
      "text/latex": [
       "\\begin{enumerate*}\n",
       "\\item 2008-10-24\n",
       "\\item 2008-10-28\n",
       "\\item 2008-10-01\n",
       "\\item 2008-10-12\n",
       "\\item 2009-05-01\n",
       "\\end{enumerate*}\n"
      ],
      "text/markdown": [
       "1. 2008-10-24\n",
       "2. 2008-10-28\n",
       "3. 2008-10-01\n",
       "4. 2008-10-12\n",
       "5. 2009-05-01\n",
       "\n",
       "\n"
      ],
      "text/plain": [
       "[1] \"2008-10-24\" \"2008-10-28\" \"2008-10-01\" \"2008-10-12\" \"2009-05-01\""
      ]
     },
     "metadata": {},
     "output_type": "display_data"
    }
   ],
   "source": [
    "leadership$testDate"
   ]
  },
  {
   "cell_type": "markdown",
   "metadata": {},
   "source": [
    "## 本地日期"
   ]
  },
  {
   "cell_type": "code",
   "execution_count": 64,
   "metadata": {
    "ExecuteTime": {
     "end_time": "2021-01-27T08:55:50.031089Z",
     "start_time": "2021-01-27T08:55:42.186Z"
    }
   },
   "outputs": [
    {
     "data": {
      "text/html": [
       "<time datetime=\"2021-01-27\">2021-01-27</time>"
      ],
      "text/latex": [
       "2021-01-27"
      ],
      "text/markdown": [
       "2021-01-27"
      ],
      "text/plain": [
       "[1] \"2021-01-27\""
      ]
     },
     "metadata": {},
     "output_type": "display_data"
    }
   ],
   "source": [
    "Sys.Date()   #获取本地日期"
   ]
  },
  {
   "cell_type": "code",
   "execution_count": 65,
   "metadata": {
    "ExecuteTime": {
     "end_time": "2021-01-27T08:55:50.055026Z",
     "start_time": "2021-01-27T08:55:42.189Z"
    }
   },
   "outputs": [
    {
     "data": {
      "text/html": [
       "'Wed Jan 27 16:55:50 2021'"
      ],
      "text/latex": [
       "'Wed Jan 27 16:55:50 2021'"
      ],
      "text/markdown": [
       "'Wed Jan 27 16:55:50 2021'"
      ],
      "text/plain": [
       "[1] \"Wed Jan 27 16:55:50 2021\""
      ]
     },
     "metadata": {},
     "output_type": "display_data"
    }
   ],
   "source": [
    "date()    #获取当前日期和时间"
   ]
  },
  {
   "cell_type": "code",
   "execution_count": 66,
   "metadata": {
    "ExecuteTime": {
     "end_time": "2021-01-27T08:55:50.078961Z",
     "start_time": "2021-01-27T08:55:42.192Z"
    }
   },
   "outputs": [
    {
     "data": {
      "text/html": [
       "'周三'"
      ],
      "text/latex": [
       "'周三'"
      ],
      "text/markdown": [
       "'周三'"
      ],
      "text/plain": [
       "[1] \"周三\""
      ]
     },
     "metadata": {},
     "output_type": "display_data"
    }
   ],
   "source": [
    "format(Sys.Date(), format=\"%a\")  #format是格式化输出函数"
   ]
  },
  {
   "cell_type": "markdown",
   "metadata": {},
   "source": [
    "## 日期加减法"
   ]
  },
  {
   "cell_type": "raw",
   "metadata": {},
   "source": [
    "R的内部在存储日期时，是使用自1970年1月1日以来的天数表示的，更早的日期则表示为负数。\n",
    "这意味着可以在日期值上执行算术运算。"
   ]
  },
  {
   "cell_type": "code",
   "execution_count": 67,
   "metadata": {
    "ExecuteTime": {
     "end_time": "2021-01-27T08:55:50.103894Z",
     "start_time": "2021-01-27T08:55:42.240Z"
    }
   },
   "outputs": [
    {
     "data": {
      "text/plain": [
       "Time difference of 15 days"
      ]
     },
     "metadata": {},
     "output_type": "display_data"
    }
   ],
   "source": [
    "as.Date('2021-02-11')-as.Date('2021-01-27')\n",
    "#还有十五天就是除夕了"
   ]
  },
  {
   "cell_type": "code",
   "execution_count": 68,
   "metadata": {
    "ExecuteTime": {
     "end_time": "2021-01-27T08:55:50.129826Z",
     "start_time": "2021-01-27T08:55:42.245Z"
    }
   },
   "outputs": [],
   "source": [
    "birthday <- as.Date('2001-10-21')\n",
    "today <- Sys.Date()\n",
    "days <- difftime(today, birthday)\n",
    "weeks <- difftime(today, birthday, units ='weeks')\n",
    "hours <- difftime(today, birthday, units ='hours' )"
   ]
  },
  {
   "cell_type": "code",
   "execution_count": 69,
   "metadata": {
    "ExecuteTime": {
     "end_time": "2021-01-27T08:55:50.161739Z",
     "start_time": "2021-01-27T08:55:42.249Z"
    }
   },
   "outputs": [
    {
     "data": {
      "text/plain": [
       "Time difference of 7038 days"
      ]
     },
     "metadata": {},
     "output_type": "display_data"
    },
    {
     "data": {
      "text/plain": [
       "Time difference of 1005.429 weeks"
      ]
     },
     "metadata": {},
     "output_type": "display_data"
    },
    {
     "data": {
      "text/plain": [
       "Time difference of 168912 hours"
      ]
     },
     "metadata": {},
     "output_type": "display_data"
    }
   ],
   "source": [
    "days;weeks;hours"
   ]
  },
  {
   "cell_type": "code",
   "execution_count": 70,
   "metadata": {
    "ExecuteTime": {
     "end_time": "2021-01-27T08:55:50.186676Z",
     "start_time": "2021-01-27T08:55:42.253Z"
    }
   },
   "outputs": [
    {
     "data": {
      "text/html": [
       "'2021-01-27'"
      ],
      "text/latex": [
       "'2021-01-27'"
      ],
      "text/markdown": [
       "'2021-01-27'"
      ],
      "text/plain": [
       "[1] \"2021-01-27\""
      ]
     },
     "metadata": {},
     "output_type": "display_data"
    }
   ],
   "source": [
    "as.character(today)   #把日期转化为字符串"
   ]
  },
  {
   "cell_type": "markdown",
   "metadata": {},
   "source": [
    "# 类型转换"
   ]
  },
  {
   "cell_type": "raw",
   "metadata": {},
   "source": [
    "数据类型，也就是class"
   ]
  },
  {
   "cell_type": "markdown",
   "metadata": {},
   "source": [
    "## 判断函数"
   ]
  },
  {
   "cell_type": "code",
   "execution_count": 71,
   "metadata": {
    "ExecuteTime": {
     "end_time": "2021-01-27T08:55:50.213600Z",
     "start_time": "2021-01-27T08:55:42.292Z"
    }
   },
   "outputs": [
    {
     "data": {
      "text/html": [
       "'integer'"
      ],
      "text/latex": [
       "'integer'"
      ],
      "text/markdown": [
       "'integer'"
      ],
      "text/plain": [
       "[1] \"integer\""
      ]
     },
     "metadata": {},
     "output_type": "display_data"
    },
    {
     "data": {
      "text/html": [
       "'numeric'"
      ],
      "text/latex": [
       "'numeric'"
      ],
      "text/markdown": [
       "'numeric'"
      ],
      "text/plain": [
       "[1] \"numeric\""
      ]
     },
     "metadata": {},
     "output_type": "display_data"
    }
   ],
   "source": [
    "class(1:20);mode(1:20)"
   ]
  },
  {
   "cell_type": "code",
   "execution_count": 72,
   "metadata": {
    "ExecuteTime": {
     "end_time": "2021-01-27T08:55:50.237538Z",
     "start_time": "2021-01-27T08:55:42.296Z"
    }
   },
   "outputs": [
    {
     "data": {
      "text/html": [
       "TRUE"
      ],
      "text/latex": [
       "TRUE"
      ],
      "text/markdown": [
       "TRUE"
      ],
      "text/plain": [
       "[1] TRUE"
      ]
     },
     "metadata": {},
     "output_type": "display_data"
    }
   ],
   "source": [
    "is.numeric(1:20)"
   ]
  },
  {
   "cell_type": "code",
   "execution_count": 73,
   "metadata": {
    "ExecuteTime": {
     "end_time": "2021-01-27T08:55:50.263467Z",
     "start_time": "2021-01-27T08:55:42.300Z"
    }
   },
   "outputs": [
    {
     "data": {
      "text/html": [
       "TRUE"
      ],
      "text/latex": [
       "TRUE"
      ],
      "text/markdown": [
       "TRUE"
      ],
      "text/plain": [
       "[1] TRUE"
      ]
     },
     "metadata": {},
     "output_type": "display_data"
    }
   ],
   "source": [
    "is.vector(1:20)"
   ]
  },
  {
   "cell_type": "markdown",
   "metadata": {},
   "source": [
    "## 转换函数"
   ]
  },
  {
   "cell_type": "code",
   "execution_count": 74,
   "metadata": {
    "ExecuteTime": {
     "end_time": "2021-01-27T08:55:50.289398Z",
     "start_time": "2021-01-27T08:55:42.304Z"
    }
   },
   "outputs": [
    {
     "data": {
      "text/html": [
       "<style>\n",
       ".list-inline {list-style: none; margin:0; padding: 0}\n",
       ".list-inline>li {display: inline-block}\n",
       ".list-inline>li:not(:last-child)::after {content: \"\\00b7\"; padding: 0 .5ex}\n",
       "</style>\n",
       "<ol class=list-inline><li>TRUE</li><li>TRUE</li><li>TRUE</li><li>TRUE</li><li>TRUE</li><li>TRUE</li><li>TRUE</li><li>TRUE</li><li>TRUE</li><li>TRUE</li><li>TRUE</li><li>TRUE</li><li>TRUE</li><li>TRUE</li><li>TRUE</li><li>TRUE</li><li>TRUE</li><li>TRUE</li><li>TRUE</li><li>TRUE</li></ol>\n"
      ],
      "text/latex": [
       "\\begin{enumerate*}\n",
       "\\item TRUE\n",
       "\\item TRUE\n",
       "\\item TRUE\n",
       "\\item TRUE\n",
       "\\item TRUE\n",
       "\\item TRUE\n",
       "\\item TRUE\n",
       "\\item TRUE\n",
       "\\item TRUE\n",
       "\\item TRUE\n",
       "\\item TRUE\n",
       "\\item TRUE\n",
       "\\item TRUE\n",
       "\\item TRUE\n",
       "\\item TRUE\n",
       "\\item TRUE\n",
       "\\item TRUE\n",
       "\\item TRUE\n",
       "\\item TRUE\n",
       "\\item TRUE\n",
       "\\end{enumerate*}\n"
      ],
      "text/markdown": [
       "1. TRUE\n",
       "2. TRUE\n",
       "3. TRUE\n",
       "4. TRUE\n",
       "5. TRUE\n",
       "6. TRUE\n",
       "7. TRUE\n",
       "8. TRUE\n",
       "9. TRUE\n",
       "10. TRUE\n",
       "11. TRUE\n",
       "12. TRUE\n",
       "13. TRUE\n",
       "14. TRUE\n",
       "15. TRUE\n",
       "16. TRUE\n",
       "17. TRUE\n",
       "18. TRUE\n",
       "19. TRUE\n",
       "20. TRUE\n",
       "\n",
       "\n"
      ],
      "text/plain": [
       " [1] TRUE TRUE TRUE TRUE TRUE TRUE TRUE TRUE TRUE TRUE TRUE TRUE TRUE TRUE TRUE\n",
       "[16] TRUE TRUE TRUE TRUE TRUE"
      ]
     },
     "metadata": {},
     "output_type": "display_data"
    }
   ],
   "source": [
    "as.logical(1:20)"
   ]
  },
  {
   "cell_type": "code",
   "execution_count": 75,
   "metadata": {
    "ExecuteTime": {
     "end_time": "2021-01-27T08:55:50.312337Z",
     "start_time": "2021-01-27T08:55:42.307Z"
    }
   },
   "outputs": [
    {
     "data": {
      "text/html": [
       "'12345'"
      ],
      "text/latex": [
       "'12345'"
      ],
      "text/markdown": [
       "'12345'"
      ],
      "text/plain": [
       "[1] \"12345\""
      ]
     },
     "metadata": {},
     "output_type": "display_data"
    }
   ],
   "source": [
    "as.vector('12345')"
   ]
  },
  {
   "cell_type": "markdown",
   "metadata": {},
   "source": [
    "# 数据排序"
   ]
  },
  {
   "cell_type": "code",
   "execution_count": 76,
   "metadata": {
    "ExecuteTime": {
     "end_time": "2021-01-27T08:55:50.348240Z",
     "start_time": "2021-01-27T08:55:42.312Z"
    }
   },
   "outputs": [
    {
     "data": {
      "text/html": [
       "<table class=\"dataframe\">\n",
       "<caption>A data.frame: 5 × 11</caption>\n",
       "<thead>\n",
       "\t<tr><th></th><th scope=col>managerID</th><th scope=col>testDate</th><th scope=col>gender</th><th scope=col>age</th><th scope=col>item1</th><th scope=col>item2</th><th scope=col>item3</th><th scope=col>item4</th><th scope=col>item5</th><th scope=col>agecat</th><th scope=col>country</th></tr>\n",
       "\t<tr><th></th><th scope=col>&lt;dbl&gt;</th><th scope=col>&lt;date&gt;</th><th scope=col>&lt;chr&gt;</th><th scope=col>&lt;dbl&gt;</th><th scope=col>&lt;dbl&gt;</th><th scope=col>&lt;dbl&gt;</th><th scope=col>&lt;dbl&gt;</th><th scope=col>&lt;dbl&gt;</th><th scope=col>&lt;dbl&gt;</th><th scope=col>&lt;chr&gt;</th><th scope=col>&lt;chr&gt;</th></tr>\n",
       "</thead>\n",
       "<tbody>\n",
       "\t<tr><th scope=row>3</th><td>3</td><td>2008-10-01</td><td>F</td><td>25</td><td>3</td><td>5</td><td>5</td><td> 5</td><td> 2</td><td>Young</td><td>UK</td></tr>\n",
       "\t<tr><th scope=row>1</th><td>1</td><td>2008-10-24</td><td>M</td><td>32</td><td>5</td><td>4</td><td>5</td><td> 5</td><td> 5</td><td>Young</td><td>US</td></tr>\n",
       "\t<tr><th scope=row>4</th><td>4</td><td>2008-10-12</td><td>M</td><td>39</td><td>3</td><td>3</td><td>4</td><td>NA</td><td>NA</td><td>Young</td><td>UK</td></tr>\n",
       "\t<tr><th scope=row>2</th><td>2</td><td>2008-10-28</td><td>F</td><td>45</td><td>3</td><td>5</td><td>2</td><td> 5</td><td> 5</td><td>Young</td><td>US</td></tr>\n",
       "\t<tr><th scope=row>5</th><td>5</td><td>2009-05-01</td><td>F</td><td>99</td><td>2</td><td>2</td><td>1</td><td> 2</td><td> 1</td><td>NA   </td><td>UK</td></tr>\n",
       "</tbody>\n",
       "</table>\n"
      ],
      "text/latex": [
       "A data.frame: 5 × 11\n",
       "\\begin{tabular}{r|lllllllllll}\n",
       "  & managerID & testDate & gender & age & item1 & item2 & item3 & item4 & item5 & agecat & country\\\\\n",
       "  & <dbl> & <date> & <chr> & <dbl> & <dbl> & <dbl> & <dbl> & <dbl> & <dbl> & <chr> & <chr>\\\\\n",
       "\\hline\n",
       "\t3 & 3 & 2008-10-01 & F & 25 & 3 & 5 & 5 &  5 &  2 & Young & UK\\\\\n",
       "\t1 & 1 & 2008-10-24 & M & 32 & 5 & 4 & 5 &  5 &  5 & Young & US\\\\\n",
       "\t4 & 4 & 2008-10-12 & M & 39 & 3 & 3 & 4 & NA & NA & Young & UK\\\\\n",
       "\t2 & 2 & 2008-10-28 & F & 45 & 3 & 5 & 2 &  5 &  5 & Young & US\\\\\n",
       "\t5 & 5 & 2009-05-01 & F & 99 & 2 & 2 & 1 &  2 &  1 & NA    & UK\\\\\n",
       "\\end{tabular}\n"
      ],
      "text/markdown": [
       "\n",
       "A data.frame: 5 × 11\n",
       "\n",
       "| <!--/--> | managerID &lt;dbl&gt; | testDate &lt;date&gt; | gender &lt;chr&gt; | age &lt;dbl&gt; | item1 &lt;dbl&gt; | item2 &lt;dbl&gt; | item3 &lt;dbl&gt; | item4 &lt;dbl&gt; | item5 &lt;dbl&gt; | agecat &lt;chr&gt; | country &lt;chr&gt; |\n",
       "|---|---|---|---|---|---|---|---|---|---|---|---|\n",
       "| 3 | 3 | 2008-10-01 | F | 25 | 3 | 5 | 5 |  5 |  2 | Young | UK |\n",
       "| 1 | 1 | 2008-10-24 | M | 32 | 5 | 4 | 5 |  5 |  5 | Young | US |\n",
       "| 4 | 4 | 2008-10-12 | M | 39 | 3 | 3 | 4 | NA | NA | Young | UK |\n",
       "| 2 | 2 | 2008-10-28 | F | 45 | 3 | 5 | 2 |  5 |  5 | Young | US |\n",
       "| 5 | 5 | 2009-05-01 | F | 99 | 2 | 2 | 1 |  2 |  1 | NA    | UK |\n",
       "\n"
      ],
      "text/plain": [
       "  managerID testDate   gender age item1 item2 item3 item4 item5 agecat country\n",
       "3 3         2008-10-01 F      25  3     5     5      5     2    Young  UK     \n",
       "1 1         2008-10-24 M      32  5     4     5      5     5    Young  US     \n",
       "4 4         2008-10-12 M      39  3     3     4     NA    NA    Young  UK     \n",
       "2 2         2008-10-28 F      45  3     5     2      5     5    Young  US     \n",
       "5 5         2009-05-01 F      99  2     2     1      2     1    NA     UK     "
      ]
     },
     "metadata": {},
     "output_type": "display_data"
    }
   ],
   "source": [
    "leadership[order(leadership$age),]"
   ]
  },
  {
   "cell_type": "code",
   "execution_count": 77,
   "metadata": {
    "ExecuteTime": {
     "end_time": "2021-01-27T08:55:50.373174Z",
     "start_time": "2021-01-27T08:55:42.315Z"
    }
   },
   "outputs": [
    {
     "data": {
      "text/html": [
       "<style>\n",
       ".list-inline {list-style: none; margin:0; padding: 0}\n",
       ".list-inline>li {display: inline-block}\n",
       ".list-inline>li:not(:last-child)::after {content: \"\\00b7\"; padding: 0 .5ex}\n",
       "</style>\n",
       "<ol class=list-inline><li>3</li><li>1</li><li>4</li><li>2</li><li>5</li></ol>\n"
      ],
      "text/latex": [
       "\\begin{enumerate*}\n",
       "\\item 3\n",
       "\\item 1\n",
       "\\item 4\n",
       "\\item 2\n",
       "\\item 5\n",
       "\\end{enumerate*}\n"
      ],
      "text/markdown": [
       "1. 3\n",
       "2. 1\n",
       "3. 4\n",
       "4. 2\n",
       "5. 5\n",
       "\n",
       "\n"
      ],
      "text/plain": [
       "[1] 3 1 4 2 5"
      ]
     },
     "metadata": {},
     "output_type": "display_data"
    }
   ],
   "source": [
    "order(leadership$age)   #默认升序排列"
   ]
  },
  {
   "cell_type": "code",
   "execution_count": 78,
   "metadata": {
    "ExecuteTime": {
     "end_time": "2021-01-27T08:55:50.400102Z",
     "start_time": "2021-01-27T08:55:42.318Z"
    }
   },
   "outputs": [
    {
     "data": {
      "text/html": [
       "<style>\n",
       ".list-inline {list-style: none; margin:0; padding: 0}\n",
       ".list-inline>li {display: inline-block}\n",
       ".list-inline>li:not(:last-child)::after {content: \"\\00b7\"; padding: 0 .5ex}\n",
       "</style>\n",
       "<ol class=list-inline><li>5</li><li>2</li><li>4</li><li>1</li><li>3</li></ol>\n"
      ],
      "text/latex": [
       "\\begin{enumerate*}\n",
       "\\item 5\n",
       "\\item 2\n",
       "\\item 4\n",
       "\\item 1\n",
       "\\item 3\n",
       "\\end{enumerate*}\n"
      ],
      "text/markdown": [
       "1. 5\n",
       "2. 2\n",
       "3. 4\n",
       "4. 1\n",
       "5. 3\n",
       "\n",
       "\n"
      ],
      "text/plain": [
       "[1] 5 2 4 1 3"
      ]
     },
     "metadata": {},
     "output_type": "display_data"
    }
   ],
   "source": [
    "order(-leadership$age)  #加负号实现降序"
   ]
  },
  {
   "cell_type": "code",
   "execution_count": 79,
   "metadata": {
    "ExecuteTime": {
     "end_time": "2021-01-27T08:55:50.436007Z",
     "start_time": "2021-01-27T08:55:42.322Z"
    }
   },
   "outputs": [
    {
     "data": {
      "text/html": [
       "<table class=\"dataframe\">\n",
       "<caption>A data.frame: 5 × 11</caption>\n",
       "<thead>\n",
       "\t<tr><th></th><th scope=col>managerID</th><th scope=col>testDate</th><th scope=col>gender</th><th scope=col>age</th><th scope=col>item1</th><th scope=col>item2</th><th scope=col>item3</th><th scope=col>item4</th><th scope=col>item5</th><th scope=col>agecat</th><th scope=col>country</th></tr>\n",
       "\t<tr><th></th><th scope=col>&lt;dbl&gt;</th><th scope=col>&lt;date&gt;</th><th scope=col>&lt;chr&gt;</th><th scope=col>&lt;dbl&gt;</th><th scope=col>&lt;dbl&gt;</th><th scope=col>&lt;dbl&gt;</th><th scope=col>&lt;dbl&gt;</th><th scope=col>&lt;dbl&gt;</th><th scope=col>&lt;dbl&gt;</th><th scope=col>&lt;chr&gt;</th><th scope=col>&lt;chr&gt;</th></tr>\n",
       "</thead>\n",
       "<tbody>\n",
       "\t<tr><th scope=row>3</th><td>3</td><td>2008-10-01</td><td>F</td><td>25</td><td>3</td><td>5</td><td>5</td><td> 5</td><td> 2</td><td>Young</td><td>UK</td></tr>\n",
       "\t<tr><th scope=row>2</th><td>2</td><td>2008-10-28</td><td>F</td><td>45</td><td>3</td><td>5</td><td>2</td><td> 5</td><td> 5</td><td>Young</td><td>US</td></tr>\n",
       "\t<tr><th scope=row>5</th><td>5</td><td>2009-05-01</td><td>F</td><td>99</td><td>2</td><td>2</td><td>1</td><td> 2</td><td> 1</td><td>NA   </td><td>UK</td></tr>\n",
       "\t<tr><th scope=row>1</th><td>1</td><td>2008-10-24</td><td>M</td><td>32</td><td>5</td><td>4</td><td>5</td><td> 5</td><td> 5</td><td>Young</td><td>US</td></tr>\n",
       "\t<tr><th scope=row>4</th><td>4</td><td>2008-10-12</td><td>M</td><td>39</td><td>3</td><td>3</td><td>4</td><td>NA</td><td>NA</td><td>Young</td><td>UK</td></tr>\n",
       "</tbody>\n",
       "</table>\n"
      ],
      "text/latex": [
       "A data.frame: 5 × 11\n",
       "\\begin{tabular}{r|lllllllllll}\n",
       "  & managerID & testDate & gender & age & item1 & item2 & item3 & item4 & item5 & agecat & country\\\\\n",
       "  & <dbl> & <date> & <chr> & <dbl> & <dbl> & <dbl> & <dbl> & <dbl> & <dbl> & <chr> & <chr>\\\\\n",
       "\\hline\n",
       "\t3 & 3 & 2008-10-01 & F & 25 & 3 & 5 & 5 &  5 &  2 & Young & UK\\\\\n",
       "\t2 & 2 & 2008-10-28 & F & 45 & 3 & 5 & 2 &  5 &  5 & Young & US\\\\\n",
       "\t5 & 5 & 2009-05-01 & F & 99 & 2 & 2 & 1 &  2 &  1 & NA    & UK\\\\\n",
       "\t1 & 1 & 2008-10-24 & M & 32 & 5 & 4 & 5 &  5 &  5 & Young & US\\\\\n",
       "\t4 & 4 & 2008-10-12 & M & 39 & 3 & 3 & 4 & NA & NA & Young & UK\\\\\n",
       "\\end{tabular}\n"
      ],
      "text/markdown": [
       "\n",
       "A data.frame: 5 × 11\n",
       "\n",
       "| <!--/--> | managerID &lt;dbl&gt; | testDate &lt;date&gt; | gender &lt;chr&gt; | age &lt;dbl&gt; | item1 &lt;dbl&gt; | item2 &lt;dbl&gt; | item3 &lt;dbl&gt; | item4 &lt;dbl&gt; | item5 &lt;dbl&gt; | agecat &lt;chr&gt; | country &lt;chr&gt; |\n",
       "|---|---|---|---|---|---|---|---|---|---|---|---|\n",
       "| 3 | 3 | 2008-10-01 | F | 25 | 3 | 5 | 5 |  5 |  2 | Young | UK |\n",
       "| 2 | 2 | 2008-10-28 | F | 45 | 3 | 5 | 2 |  5 |  5 | Young | US |\n",
       "| 5 | 5 | 2009-05-01 | F | 99 | 2 | 2 | 1 |  2 |  1 | NA    | UK |\n",
       "| 1 | 1 | 2008-10-24 | M | 32 | 5 | 4 | 5 |  5 |  5 | Young | US |\n",
       "| 4 | 4 | 2008-10-12 | M | 39 | 3 | 3 | 4 | NA | NA | Young | UK |\n",
       "\n"
      ],
      "text/plain": [
       "  managerID testDate   gender age item1 item2 item3 item4 item5 agecat country\n",
       "3 3         2008-10-01 F      25  3     5     5      5     2    Young  UK     \n",
       "2 2         2008-10-28 F      45  3     5     2      5     5    Young  US     \n",
       "5 5         2009-05-01 F      99  2     2     1      2     1    NA     UK     \n",
       "1 1         2008-10-24 M      32  5     4     5      5     5    Young  US     \n",
       "4 4         2008-10-12 M      39  3     3     4     NA    NA    Young  UK     "
      ]
     },
     "metadata": {},
     "output_type": "display_data"
    }
   ],
   "source": [
    "leadership[order(leadership$gender,leadership$age),]\n",
    "#多个排序量，先按性别，性别相同就按照年龄"
   ]
  },
  {
   "cell_type": "markdown",
   "metadata": {},
   "source": [
    "# 数据集的合并（针对数据框）"
   ]
  },
  {
   "cell_type": "markdown",
   "metadata": {},
   "source": [
    "## 添加列"
   ]
  },
  {
   "cell_type": "code",
   "execution_count": 80,
   "metadata": {
    "ExecuteTime": {
     "end_time": "2021-01-27T08:55:50.473904Z",
     "start_time": "2021-01-27T08:55:42.326Z"
    }
   },
   "outputs": [
    {
     "data": {
      "text/html": [
       "<table class=\"dataframe\">\n",
       "<caption>A data.frame: 5 × 3</caption>\n",
       "<thead>\n",
       "\t<tr><th scope=col>manager</th><th scope=col>q1</th><th scope=col>q2</th></tr>\n",
       "\t<tr><th scope=col>&lt;dbl&gt;</th><th scope=col>&lt;dbl&gt;</th><th scope=col>&lt;dbl&gt;</th></tr>\n",
       "</thead>\n",
       "<tbody>\n",
       "\t<tr><td>1</td><td>5</td><td>4</td></tr>\n",
       "\t<tr><td>2</td><td>3</td><td>5</td></tr>\n",
       "\t<tr><td>3</td><td>3</td><td>5</td></tr>\n",
       "\t<tr><td>4</td><td>3</td><td>3</td></tr>\n",
       "\t<tr><td>5</td><td>2</td><td>2</td></tr>\n",
       "</tbody>\n",
       "</table>\n"
      ],
      "text/latex": [
       "A data.frame: 5 × 3\n",
       "\\begin{tabular}{lll}\n",
       " manager & q1 & q2\\\\\n",
       " <dbl> & <dbl> & <dbl>\\\\\n",
       "\\hline\n",
       "\t 1 & 5 & 4\\\\\n",
       "\t 2 & 3 & 5\\\\\n",
       "\t 3 & 3 & 5\\\\\n",
       "\t 4 & 3 & 3\\\\\n",
       "\t 5 & 2 & 2\\\\\n",
       "\\end{tabular}\n"
      ],
      "text/markdown": [
       "\n",
       "A data.frame: 5 × 3\n",
       "\n",
       "| manager &lt;dbl&gt; | q1 &lt;dbl&gt; | q2 &lt;dbl&gt; |\n",
       "|---|---|---|\n",
       "| 1 | 5 | 4 |\n",
       "| 2 | 3 | 5 |\n",
       "| 3 | 3 | 5 |\n",
       "| 4 | 3 | 3 |\n",
       "| 5 | 2 | 2 |\n",
       "\n"
      ],
      "text/plain": [
       "  manager q1 q2\n",
       "1 1       5  4 \n",
       "2 2       3  5 \n",
       "3 3       3  5 \n",
       "4 4       3  3 \n",
       "5 5       2  2 "
      ]
     },
     "metadata": {},
     "output_type": "display_data"
    },
    {
     "data": {
      "text/html": [
       "<table class=\"dataframe\">\n",
       "<caption>A data.frame: 5 × 3</caption>\n",
       "<thead>\n",
       "\t<tr><th scope=col>manager</th><th scope=col>q3</th><th scope=col>q4</th></tr>\n",
       "\t<tr><th scope=col>&lt;dbl&gt;</th><th scope=col>&lt;dbl&gt;</th><th scope=col>&lt;dbl&gt;</th></tr>\n",
       "</thead>\n",
       "<tbody>\n",
       "\t<tr><td>1</td><td>5</td><td> 5</td></tr>\n",
       "\t<tr><td>2</td><td>2</td><td> 5</td></tr>\n",
       "\t<tr><td>3</td><td>5</td><td> 5</td></tr>\n",
       "\t<tr><td>4</td><td>4</td><td>NA</td></tr>\n",
       "\t<tr><td>5</td><td>1</td><td> 2</td></tr>\n",
       "</tbody>\n",
       "</table>\n"
      ],
      "text/latex": [
       "A data.frame: 5 × 3\n",
       "\\begin{tabular}{lll}\n",
       " manager & q3 & q4\\\\\n",
       " <dbl> & <dbl> & <dbl>\\\\\n",
       "\\hline\n",
       "\t 1 & 5 &  5\\\\\n",
       "\t 2 & 2 &  5\\\\\n",
       "\t 3 & 5 &  5\\\\\n",
       "\t 4 & 4 & NA\\\\\n",
       "\t 5 & 1 &  2\\\\\n",
       "\\end{tabular}\n"
      ],
      "text/markdown": [
       "\n",
       "A data.frame: 5 × 3\n",
       "\n",
       "| manager &lt;dbl&gt; | q3 &lt;dbl&gt; | q4 &lt;dbl&gt; |\n",
       "|---|---|---|\n",
       "| 1 | 5 |  5 |\n",
       "| 2 | 2 |  5 |\n",
       "| 3 | 5 |  5 |\n",
       "| 4 | 4 | NA |\n",
       "| 5 | 1 |  2 |\n",
       "\n"
      ],
      "text/plain": [
       "  manager q3 q4\n",
       "1 1       5   5\n",
       "2 2       2   5\n",
       "3 3       5   5\n",
       "4 4       4  NA\n",
       "5 5       1   2"
      ]
     },
     "metadata": {},
     "output_type": "display_data"
    }
   ],
   "source": [
    "dataFrameA <- data.frame(manager,q1,q2);dataFrameA\n",
    "dataFrameB <- data.frame(manager,q3,q4);dataFrameB"
   ]
  },
  {
   "cell_type": "code",
   "execution_count": 81,
   "metadata": {
    "ExecuteTime": {
     "end_time": "2021-01-27T08:55:50.506817Z",
     "start_time": "2021-01-27T08:55:42.330Z"
    }
   },
   "outputs": [
    {
     "data": {
      "text/html": [
       "<table class=\"dataframe\">\n",
       "<caption>A data.frame: 5 × 5</caption>\n",
       "<thead>\n",
       "\t<tr><th scope=col>manager</th><th scope=col>q1</th><th scope=col>q2</th><th scope=col>q3</th><th scope=col>q4</th></tr>\n",
       "\t<tr><th scope=col>&lt;dbl&gt;</th><th scope=col>&lt;dbl&gt;</th><th scope=col>&lt;dbl&gt;</th><th scope=col>&lt;dbl&gt;</th><th scope=col>&lt;dbl&gt;</th></tr>\n",
       "</thead>\n",
       "<tbody>\n",
       "\t<tr><td>1</td><td>5</td><td>4</td><td>5</td><td> 5</td></tr>\n",
       "\t<tr><td>2</td><td>3</td><td>5</td><td>2</td><td> 5</td></tr>\n",
       "\t<tr><td>3</td><td>3</td><td>5</td><td>5</td><td> 5</td></tr>\n",
       "\t<tr><td>4</td><td>3</td><td>3</td><td>4</td><td>NA</td></tr>\n",
       "\t<tr><td>5</td><td>2</td><td>2</td><td>1</td><td> 2</td></tr>\n",
       "</tbody>\n",
       "</table>\n"
      ],
      "text/latex": [
       "A data.frame: 5 × 5\n",
       "\\begin{tabular}{lllll}\n",
       " manager & q1 & q2 & q3 & q4\\\\\n",
       " <dbl> & <dbl> & <dbl> & <dbl> & <dbl>\\\\\n",
       "\\hline\n",
       "\t 1 & 5 & 4 & 5 &  5\\\\\n",
       "\t 2 & 3 & 5 & 2 &  5\\\\\n",
       "\t 3 & 3 & 5 & 5 &  5\\\\\n",
       "\t 4 & 3 & 3 & 4 & NA\\\\\n",
       "\t 5 & 2 & 2 & 1 &  2\\\\\n",
       "\\end{tabular}\n"
      ],
      "text/markdown": [
       "\n",
       "A data.frame: 5 × 5\n",
       "\n",
       "| manager &lt;dbl&gt; | q1 &lt;dbl&gt; | q2 &lt;dbl&gt; | q3 &lt;dbl&gt; | q4 &lt;dbl&gt; |\n",
       "|---|---|---|---|---|\n",
       "| 1 | 5 | 4 | 5 |  5 |\n",
       "| 2 | 3 | 5 | 2 |  5 |\n",
       "| 3 | 3 | 5 | 5 |  5 |\n",
       "| 4 | 3 | 3 | 4 | NA |\n",
       "| 5 | 2 | 2 | 1 |  2 |\n",
       "\n"
      ],
      "text/plain": [
       "  manager q1 q2 q3 q4\n",
       "1 1       5  4  5   5\n",
       "2 2       3  5  2   5\n",
       "3 3       3  5  5   5\n",
       "4 4       3  3  4  NA\n",
       "5 5       2  2  1   2"
      ]
     },
     "metadata": {},
     "output_type": "display_data"
    }
   ],
   "source": [
    "merge(dataFrameA, dataFrameB, by=\"manager\")  \n",
    "#以manager作为公共索引横向合并"
   ]
  },
  {
   "cell_type": "code",
   "execution_count": 82,
   "metadata": {
    "ExecuteTime": {
     "end_time": "2021-01-27T08:55:50.538731Z",
     "start_time": "2021-01-27T08:55:42.334Z"
    }
   },
   "outputs": [
    {
     "data": {
      "text/html": [
       "<table class=\"dataframe\">\n",
       "<caption>A data.frame: 5 × 6</caption>\n",
       "<thead>\n",
       "\t<tr><th scope=col>manager</th><th scope=col>q1</th><th scope=col>q2</th><th scope=col>manager</th><th scope=col>q3</th><th scope=col>q4</th></tr>\n",
       "\t<tr><th scope=col>&lt;dbl&gt;</th><th scope=col>&lt;dbl&gt;</th><th scope=col>&lt;dbl&gt;</th><th scope=col>&lt;dbl&gt;</th><th scope=col>&lt;dbl&gt;</th><th scope=col>&lt;dbl&gt;</th></tr>\n",
       "</thead>\n",
       "<tbody>\n",
       "\t<tr><td>1</td><td>5</td><td>4</td><td>1</td><td>5</td><td> 5</td></tr>\n",
       "\t<tr><td>2</td><td>3</td><td>5</td><td>2</td><td>2</td><td> 5</td></tr>\n",
       "\t<tr><td>3</td><td>3</td><td>5</td><td>3</td><td>5</td><td> 5</td></tr>\n",
       "\t<tr><td>4</td><td>3</td><td>3</td><td>4</td><td>4</td><td>NA</td></tr>\n",
       "\t<tr><td>5</td><td>2</td><td>2</td><td>5</td><td>1</td><td> 2</td></tr>\n",
       "</tbody>\n",
       "</table>\n"
      ],
      "text/latex": [
       "A data.frame: 5 × 6\n",
       "\\begin{tabular}{llllll}\n",
       " manager & q1 & q2 & manager & q3 & q4\\\\\n",
       " <dbl> & <dbl> & <dbl> & <dbl> & <dbl> & <dbl>\\\\\n",
       "\\hline\n",
       "\t 1 & 5 & 4 & 1 & 5 &  5\\\\\n",
       "\t 2 & 3 & 5 & 2 & 2 &  5\\\\\n",
       "\t 3 & 3 & 5 & 3 & 5 &  5\\\\\n",
       "\t 4 & 3 & 3 & 4 & 4 & NA\\\\\n",
       "\t 5 & 2 & 2 & 5 & 1 &  2\\\\\n",
       "\\end{tabular}\n"
      ],
      "text/markdown": [
       "\n",
       "A data.frame: 5 × 6\n",
       "\n",
       "| manager &lt;dbl&gt; | q1 &lt;dbl&gt; | q2 &lt;dbl&gt; | manager &lt;dbl&gt; | q3 &lt;dbl&gt; | q4 &lt;dbl&gt; |\n",
       "|---|---|---|---|---|---|\n",
       "| 1 | 5 | 4 | 1 | 5 |  5 |\n",
       "| 2 | 3 | 5 | 2 | 2 |  5 |\n",
       "| 3 | 3 | 5 | 3 | 5 |  5 |\n",
       "| 4 | 3 | 3 | 4 | 4 | NA |\n",
       "| 5 | 2 | 2 | 5 | 1 |  2 |\n",
       "\n"
      ],
      "text/plain": [
       "  manager q1 q2 manager q3 q4\n",
       "1 1       5  4  1       5   5\n",
       "2 2       3  5  2       2   5\n",
       "3 3       3  5  3       5   5\n",
       "4 4       3  3  4       4  NA\n",
       "5 5       2  2  5       1   2"
      ]
     },
     "metadata": {},
     "output_type": "display_data"
    }
   ],
   "source": [
    "#直接横向合并两个矩阵或者数据框，不需要公共索引\n",
    "cbind(dataFrameA,dataFrameB)"
   ]
  },
  {
   "cell_type": "markdown",
   "metadata": {},
   "source": [
    "## 添加行"
   ]
  },
  {
   "cell_type": "code",
   "execution_count": 83,
   "metadata": {
    "ExecuteTime": {
     "end_time": "2021-01-27T08:55:50.576633Z",
     "start_time": "2021-01-27T08:55:42.338Z"
    }
   },
   "outputs": [
    {
     "data": {
      "text/html": [
       "<table class=\"dataframe\">\n",
       "<caption>A data.frame: 2 × 3</caption>\n",
       "<thead>\n",
       "\t<tr><th></th><th scope=col>manager</th><th scope=col>q1</th><th scope=col>q2</th></tr>\n",
       "\t<tr><th></th><th scope=col>&lt;dbl&gt;</th><th scope=col>&lt;dbl&gt;</th><th scope=col>&lt;dbl&gt;</th></tr>\n",
       "</thead>\n",
       "<tbody>\n",
       "\t<tr><th scope=row>1</th><td>1</td><td>5</td><td>4</td></tr>\n",
       "\t<tr><th scope=row>2</th><td>2</td><td>3</td><td>5</td></tr>\n",
       "</tbody>\n",
       "</table>\n"
      ],
      "text/latex": [
       "A data.frame: 2 × 3\n",
       "\\begin{tabular}{r|lll}\n",
       "  & manager & q1 & q2\\\\\n",
       "  & <dbl> & <dbl> & <dbl>\\\\\n",
       "\\hline\n",
       "\t1 & 1 & 5 & 4\\\\\n",
       "\t2 & 2 & 3 & 5\\\\\n",
       "\\end{tabular}\n"
      ],
      "text/markdown": [
       "\n",
       "A data.frame: 2 × 3\n",
       "\n",
       "| <!--/--> | manager &lt;dbl&gt; | q1 &lt;dbl&gt; | q2 &lt;dbl&gt; |\n",
       "|---|---|---|---|\n",
       "| 1 | 1 | 5 | 4 |\n",
       "| 2 | 2 | 3 | 5 |\n",
       "\n"
      ],
      "text/plain": [
       "  manager q1 q2\n",
       "1 1       5  4 \n",
       "2 2       3  5 "
      ]
     },
     "metadata": {},
     "output_type": "display_data"
    },
    {
     "data": {
      "text/html": [
       "<table class=\"dataframe\">\n",
       "<caption>A data.frame: 3 × 3</caption>\n",
       "<thead>\n",
       "\t<tr><th></th><th scope=col>manager</th><th scope=col>q1</th><th scope=col>q2</th></tr>\n",
       "\t<tr><th></th><th scope=col>&lt;dbl&gt;</th><th scope=col>&lt;dbl&gt;</th><th scope=col>&lt;dbl&gt;</th></tr>\n",
       "</thead>\n",
       "<tbody>\n",
       "\t<tr><th scope=row>3</th><td>3</td><td>3</td><td>5</td></tr>\n",
       "\t<tr><th scope=row>4</th><td>4</td><td>3</td><td>3</td></tr>\n",
       "\t<tr><th scope=row>5</th><td>5</td><td>2</td><td>2</td></tr>\n",
       "</tbody>\n",
       "</table>\n"
      ],
      "text/latex": [
       "A data.frame: 3 × 3\n",
       "\\begin{tabular}{r|lll}\n",
       "  & manager & q1 & q2\\\\\n",
       "  & <dbl> & <dbl> & <dbl>\\\\\n",
       "\\hline\n",
       "\t3 & 3 & 3 & 5\\\\\n",
       "\t4 & 4 & 3 & 3\\\\\n",
       "\t5 & 5 & 2 & 2\\\\\n",
       "\\end{tabular}\n"
      ],
      "text/markdown": [
       "\n",
       "A data.frame: 3 × 3\n",
       "\n",
       "| <!--/--> | manager &lt;dbl&gt; | q1 &lt;dbl&gt; | q2 &lt;dbl&gt; |\n",
       "|---|---|---|---|\n",
       "| 3 | 3 | 3 | 5 |\n",
       "| 4 | 4 | 3 | 3 |\n",
       "| 5 | 5 | 2 | 2 |\n",
       "\n"
      ],
      "text/plain": [
       "  manager q1 q2\n",
       "3 3       3  5 \n",
       "4 4       3  3 \n",
       "5 5       2  2 "
      ]
     },
     "metadata": {},
     "output_type": "display_data"
    }
   ],
   "source": [
    "A <- dataFrameA[1:2,];A\n",
    "B <- dataFrameA[3:5,];B"
   ]
  },
  {
   "cell_type": "code",
   "execution_count": 84,
   "metadata": {
    "ExecuteTime": {
     "end_time": "2021-01-27T08:55:50.604596Z",
     "start_time": "2021-01-27T08:55:42.344Z"
    }
   },
   "outputs": [
    {
     "data": {
      "text/html": [
       "<table class=\"dataframe\">\n",
       "<caption>A data.frame: 5 × 3</caption>\n",
       "<thead>\n",
       "\t<tr><th></th><th scope=col>manager</th><th scope=col>q1</th><th scope=col>q2</th></tr>\n",
       "\t<tr><th></th><th scope=col>&lt;dbl&gt;</th><th scope=col>&lt;dbl&gt;</th><th scope=col>&lt;dbl&gt;</th></tr>\n",
       "</thead>\n",
       "<tbody>\n",
       "\t<tr><th scope=row>1</th><td>1</td><td>5</td><td>4</td></tr>\n",
       "\t<tr><th scope=row>2</th><td>2</td><td>3</td><td>5</td></tr>\n",
       "\t<tr><th scope=row>3</th><td>3</td><td>3</td><td>5</td></tr>\n",
       "\t<tr><th scope=row>4</th><td>4</td><td>3</td><td>3</td></tr>\n",
       "\t<tr><th scope=row>5</th><td>5</td><td>2</td><td>2</td></tr>\n",
       "</tbody>\n",
       "</table>\n"
      ],
      "text/latex": [
       "A data.frame: 5 × 3\n",
       "\\begin{tabular}{r|lll}\n",
       "  & manager & q1 & q2\\\\\n",
       "  & <dbl> & <dbl> & <dbl>\\\\\n",
       "\\hline\n",
       "\t1 & 1 & 5 & 4\\\\\n",
       "\t2 & 2 & 3 & 5\\\\\n",
       "\t3 & 3 & 3 & 5\\\\\n",
       "\t4 & 4 & 3 & 3\\\\\n",
       "\t5 & 5 & 2 & 2\\\\\n",
       "\\end{tabular}\n"
      ],
      "text/markdown": [
       "\n",
       "A data.frame: 5 × 3\n",
       "\n",
       "| <!--/--> | manager &lt;dbl&gt; | q1 &lt;dbl&gt; | q2 &lt;dbl&gt; |\n",
       "|---|---|---|---|\n",
       "| 1 | 1 | 5 | 4 |\n",
       "| 2 | 2 | 3 | 5 |\n",
       "| 3 | 3 | 3 | 5 |\n",
       "| 4 | 4 | 3 | 3 |\n",
       "| 5 | 5 | 2 | 2 |\n",
       "\n"
      ],
      "text/plain": [
       "  manager q1 q2\n",
       "1 1       5  4 \n",
       "2 2       3  5 \n",
       "3 3       3  5 \n",
       "4 4       3  3 \n",
       "5 5       2  2 "
      ]
     },
     "metadata": {},
     "output_type": "display_data"
    }
   ],
   "source": [
    "rbind(A,B)"
   ]
  },
  {
   "cell_type": "markdown",
   "metadata": {},
   "source": [
    "# 数据集取子集"
   ]
  },
  {
   "cell_type": "markdown",
   "metadata": {},
   "source": [
    "## 选入（保留）变量"
   ]
  },
  {
   "cell_type": "code",
   "execution_count": 85,
   "metadata": {
    "ExecuteTime": {
     "end_time": "2021-01-27T08:55:50.636472Z",
     "start_time": "2021-01-27T08:55:42.350Z"
    }
   },
   "outputs": [
    {
     "data": {
      "text/html": [
       "<table class=\"dataframe\">\n",
       "<caption>A data.frame: 5 × 11</caption>\n",
       "<thead>\n",
       "\t<tr><th></th><th scope=col>managerID</th><th scope=col>testDate</th><th scope=col>gender</th><th scope=col>age</th><th scope=col>item1</th><th scope=col>item2</th><th scope=col>item3</th><th scope=col>item4</th><th scope=col>item5</th><th scope=col>agecat</th><th scope=col>country</th></tr>\n",
       "\t<tr><th></th><th scope=col>&lt;dbl&gt;</th><th scope=col>&lt;date&gt;</th><th scope=col>&lt;chr&gt;</th><th scope=col>&lt;dbl&gt;</th><th scope=col>&lt;dbl&gt;</th><th scope=col>&lt;dbl&gt;</th><th scope=col>&lt;dbl&gt;</th><th scope=col>&lt;dbl&gt;</th><th scope=col>&lt;dbl&gt;</th><th scope=col>&lt;chr&gt;</th><th scope=col>&lt;chr&gt;</th></tr>\n",
       "</thead>\n",
       "<tbody>\n",
       "\t<tr><th scope=row>1</th><td>1</td><td>2008-10-24</td><td>M</td><td>32</td><td>5</td><td>4</td><td>5</td><td> 5</td><td> 5</td><td>Young</td><td>US</td></tr>\n",
       "\t<tr><th scope=row>2</th><td>2</td><td>2008-10-28</td><td>F</td><td>45</td><td>3</td><td>5</td><td>2</td><td> 5</td><td> 5</td><td>Young</td><td>US</td></tr>\n",
       "\t<tr><th scope=row>3</th><td>3</td><td>2008-10-01</td><td>F</td><td>25</td><td>3</td><td>5</td><td>5</td><td> 5</td><td> 2</td><td>Young</td><td>UK</td></tr>\n",
       "\t<tr><th scope=row>4</th><td>4</td><td>2008-10-12</td><td>M</td><td>39</td><td>3</td><td>3</td><td>4</td><td>NA</td><td>NA</td><td>Young</td><td>UK</td></tr>\n",
       "\t<tr><th scope=row>5</th><td>5</td><td>2009-05-01</td><td>F</td><td>99</td><td>2</td><td>2</td><td>1</td><td> 2</td><td> 1</td><td>NA   </td><td>UK</td></tr>\n",
       "</tbody>\n",
       "</table>\n"
      ],
      "text/latex": [
       "A data.frame: 5 × 11\n",
       "\\begin{tabular}{r|lllllllllll}\n",
       "  & managerID & testDate & gender & age & item1 & item2 & item3 & item4 & item5 & agecat & country\\\\\n",
       "  & <dbl> & <date> & <chr> & <dbl> & <dbl> & <dbl> & <dbl> & <dbl> & <dbl> & <chr> & <chr>\\\\\n",
       "\\hline\n",
       "\t1 & 1 & 2008-10-24 & M & 32 & 5 & 4 & 5 &  5 &  5 & Young & US\\\\\n",
       "\t2 & 2 & 2008-10-28 & F & 45 & 3 & 5 & 2 &  5 &  5 & Young & US\\\\\n",
       "\t3 & 3 & 2008-10-01 & F & 25 & 3 & 5 & 5 &  5 &  2 & Young & UK\\\\\n",
       "\t4 & 4 & 2008-10-12 & M & 39 & 3 & 3 & 4 & NA & NA & Young & UK\\\\\n",
       "\t5 & 5 & 2009-05-01 & F & 99 & 2 & 2 & 1 &  2 &  1 & NA    & UK\\\\\n",
       "\\end{tabular}\n"
      ],
      "text/markdown": [
       "\n",
       "A data.frame: 5 × 11\n",
       "\n",
       "| <!--/--> | managerID &lt;dbl&gt; | testDate &lt;date&gt; | gender &lt;chr&gt; | age &lt;dbl&gt; | item1 &lt;dbl&gt; | item2 &lt;dbl&gt; | item3 &lt;dbl&gt; | item4 &lt;dbl&gt; | item5 &lt;dbl&gt; | agecat &lt;chr&gt; | country &lt;chr&gt; |\n",
       "|---|---|---|---|---|---|---|---|---|---|---|---|\n",
       "| 1 | 1 | 2008-10-24 | M | 32 | 5 | 4 | 5 |  5 |  5 | Young | US |\n",
       "| 2 | 2 | 2008-10-28 | F | 45 | 3 | 5 | 2 |  5 |  5 | Young | US |\n",
       "| 3 | 3 | 2008-10-01 | F | 25 | 3 | 5 | 5 |  5 |  2 | Young | UK |\n",
       "| 4 | 4 | 2008-10-12 | M | 39 | 3 | 3 | 4 | NA | NA | Young | UK |\n",
       "| 5 | 5 | 2009-05-01 | F | 99 | 2 | 2 | 1 |  2 |  1 | NA    | UK |\n",
       "\n"
      ],
      "text/plain": [
       "  managerID testDate   gender age item1 item2 item3 item4 item5 agecat country\n",
       "1 1         2008-10-24 M      32  5     4     5      5     5    Young  US     \n",
       "2 2         2008-10-28 F      45  3     5     2      5     5    Young  US     \n",
       "3 3         2008-10-01 F      25  3     5     5      5     2    Young  UK     \n",
       "4 4         2008-10-12 M      39  3     3     4     NA    NA    Young  UK     \n",
       "5 5         2009-05-01 F      99  2     2     1      2     1    NA     UK     "
      ]
     },
     "metadata": {},
     "output_type": "display_data"
    }
   ],
   "source": [
    "leadership"
   ]
  },
  {
   "cell_type": "markdown",
   "metadata": {},
   "source": [
    "### 标号索引"
   ]
  },
  {
   "cell_type": "code",
   "execution_count": 86,
   "metadata": {
    "ExecuteTime": {
     "end_time": "2021-01-27T08:55:50.668387Z",
     "start_time": "2021-01-27T08:55:42.356Z"
    }
   },
   "outputs": [
    {
     "data": {
      "text/html": [
       "<table class=\"dataframe\">\n",
       "<caption>A data.frame: 5 × 2</caption>\n",
       "<thead>\n",
       "\t<tr><th></th><th scope=col>managerID</th><th scope=col>testDate</th></tr>\n",
       "\t<tr><th></th><th scope=col>&lt;dbl&gt;</th><th scope=col>&lt;date&gt;</th></tr>\n",
       "</thead>\n",
       "<tbody>\n",
       "\t<tr><th scope=row>1</th><td>1</td><td>2008-10-24</td></tr>\n",
       "\t<tr><th scope=row>2</th><td>2</td><td>2008-10-28</td></tr>\n",
       "\t<tr><th scope=row>3</th><td>3</td><td>2008-10-01</td></tr>\n",
       "\t<tr><th scope=row>4</th><td>4</td><td>2008-10-12</td></tr>\n",
       "\t<tr><th scope=row>5</th><td>5</td><td>2009-05-01</td></tr>\n",
       "</tbody>\n",
       "</table>\n"
      ],
      "text/latex": [
       "A data.frame: 5 × 2\n",
       "\\begin{tabular}{r|ll}\n",
       "  & managerID & testDate\\\\\n",
       "  & <dbl> & <date>\\\\\n",
       "\\hline\n",
       "\t1 & 1 & 2008-10-24\\\\\n",
       "\t2 & 2 & 2008-10-28\\\\\n",
       "\t3 & 3 & 2008-10-01\\\\\n",
       "\t4 & 4 & 2008-10-12\\\\\n",
       "\t5 & 5 & 2009-05-01\\\\\n",
       "\\end{tabular}\n"
      ],
      "text/markdown": [
       "\n",
       "A data.frame: 5 × 2\n",
       "\n",
       "| <!--/--> | managerID &lt;dbl&gt; | testDate &lt;date&gt; |\n",
       "|---|---|---|\n",
       "| 1 | 1 | 2008-10-24 |\n",
       "| 2 | 2 | 2008-10-28 |\n",
       "| 3 | 3 | 2008-10-01 |\n",
       "| 4 | 4 | 2008-10-12 |\n",
       "| 5 | 5 | 2009-05-01 |\n",
       "\n"
      ],
      "text/plain": [
       "  managerID testDate  \n",
       "1 1         2008-10-24\n",
       "2 2         2008-10-28\n",
       "3 3         2008-10-01\n",
       "4 4         2008-10-12\n",
       "5 5         2009-05-01"
      ]
     },
     "metadata": {},
     "output_type": "display_data"
    }
   ],
   "source": [
    "leadership[1:2]"
   ]
  },
  {
   "cell_type": "code",
   "execution_count": 87,
   "metadata": {
    "ExecuteTime": {
     "end_time": "2021-01-27T08:55:50.696361Z",
     "start_time": "2021-01-27T08:55:42.360Z"
    }
   },
   "outputs": [
    {
     "data": {
      "text/html": [
       "<table class=\"dataframe\">\n",
       "<caption>A data.frame: 2 × 11</caption>\n",
       "<thead>\n",
       "\t<tr><th></th><th scope=col>managerID</th><th scope=col>testDate</th><th scope=col>gender</th><th scope=col>age</th><th scope=col>item1</th><th scope=col>item2</th><th scope=col>item3</th><th scope=col>item4</th><th scope=col>item5</th><th scope=col>agecat</th><th scope=col>country</th></tr>\n",
       "\t<tr><th></th><th scope=col>&lt;dbl&gt;</th><th scope=col>&lt;date&gt;</th><th scope=col>&lt;chr&gt;</th><th scope=col>&lt;dbl&gt;</th><th scope=col>&lt;dbl&gt;</th><th scope=col>&lt;dbl&gt;</th><th scope=col>&lt;dbl&gt;</th><th scope=col>&lt;dbl&gt;</th><th scope=col>&lt;dbl&gt;</th><th scope=col>&lt;chr&gt;</th><th scope=col>&lt;chr&gt;</th></tr>\n",
       "</thead>\n",
       "<tbody>\n",
       "\t<tr><th scope=row>1</th><td>1</td><td>2008-10-24</td><td>M</td><td>32</td><td>5</td><td>4</td><td>5</td><td>5</td><td>5</td><td>Young</td><td>US</td></tr>\n",
       "\t<tr><th scope=row>2</th><td>2</td><td>2008-10-28</td><td>F</td><td>45</td><td>3</td><td>5</td><td>2</td><td>5</td><td>5</td><td>Young</td><td>US</td></tr>\n",
       "</tbody>\n",
       "</table>\n"
      ],
      "text/latex": [
       "A data.frame: 2 × 11\n",
       "\\begin{tabular}{r|lllllllllll}\n",
       "  & managerID & testDate & gender & age & item1 & item2 & item3 & item4 & item5 & agecat & country\\\\\n",
       "  & <dbl> & <date> & <chr> & <dbl> & <dbl> & <dbl> & <dbl> & <dbl> & <dbl> & <chr> & <chr>\\\\\n",
       "\\hline\n",
       "\t1 & 1 & 2008-10-24 & M & 32 & 5 & 4 & 5 & 5 & 5 & Young & US\\\\\n",
       "\t2 & 2 & 2008-10-28 & F & 45 & 3 & 5 & 2 & 5 & 5 & Young & US\\\\\n",
       "\\end{tabular}\n"
      ],
      "text/markdown": [
       "\n",
       "A data.frame: 2 × 11\n",
       "\n",
       "| <!--/--> | managerID &lt;dbl&gt; | testDate &lt;date&gt; | gender &lt;chr&gt; | age &lt;dbl&gt; | item1 &lt;dbl&gt; | item2 &lt;dbl&gt; | item3 &lt;dbl&gt; | item4 &lt;dbl&gt; | item5 &lt;dbl&gt; | agecat &lt;chr&gt; | country &lt;chr&gt; |\n",
       "|---|---|---|---|---|---|---|---|---|---|---|---|\n",
       "| 1 | 1 | 2008-10-24 | M | 32 | 5 | 4 | 5 | 5 | 5 | Young | US |\n",
       "| 2 | 2 | 2008-10-28 | F | 45 | 3 | 5 | 2 | 5 | 5 | Young | US |\n",
       "\n"
      ],
      "text/plain": [
       "  managerID testDate   gender age item1 item2 item3 item4 item5 agecat country\n",
       "1 1         2008-10-24 M      32  5     4     5     5     5     Young  US     \n",
       "2 2         2008-10-28 F      45  3     5     2     5     5     Young  US     "
      ]
     },
     "metadata": {},
     "output_type": "display_data"
    }
   ],
   "source": [
    "leadership[1:2,]"
   ]
  },
  {
   "cell_type": "markdown",
   "metadata": {},
   "source": [
    "### 名称索引"
   ]
  },
  {
   "cell_type": "code",
   "execution_count": 88,
   "metadata": {
    "ExecuteTime": {
     "end_time": "2021-01-27T08:55:50.725233Z",
     "start_time": "2021-01-27T08:55:42.364Z"
    }
   },
   "outputs": [
    {
     "data": {
      "text/html": [
       "<table class=\"dataframe\">\n",
       "<caption>A data.frame: 5 × 2</caption>\n",
       "<thead>\n",
       "\t<tr><th></th><th scope=col>item1</th><th scope=col>item2</th></tr>\n",
       "\t<tr><th></th><th scope=col>&lt;dbl&gt;</th><th scope=col>&lt;dbl&gt;</th></tr>\n",
       "</thead>\n",
       "<tbody>\n",
       "\t<tr><th scope=row>1</th><td>5</td><td>4</td></tr>\n",
       "\t<tr><th scope=row>2</th><td>3</td><td>5</td></tr>\n",
       "\t<tr><th scope=row>3</th><td>3</td><td>5</td></tr>\n",
       "\t<tr><th scope=row>4</th><td>3</td><td>3</td></tr>\n",
       "\t<tr><th scope=row>5</th><td>2</td><td>2</td></tr>\n",
       "</tbody>\n",
       "</table>\n"
      ],
      "text/latex": [
       "A data.frame: 5 × 2\n",
       "\\begin{tabular}{r|ll}\n",
       "  & item1 & item2\\\\\n",
       "  & <dbl> & <dbl>\\\\\n",
       "\\hline\n",
       "\t1 & 5 & 4\\\\\n",
       "\t2 & 3 & 5\\\\\n",
       "\t3 & 3 & 5\\\\\n",
       "\t4 & 3 & 3\\\\\n",
       "\t5 & 2 & 2\\\\\n",
       "\\end{tabular}\n"
      ],
      "text/markdown": [
       "\n",
       "A data.frame: 5 × 2\n",
       "\n",
       "| <!--/--> | item1 &lt;dbl&gt; | item2 &lt;dbl&gt; |\n",
       "|---|---|---|\n",
       "| 1 | 5 | 4 |\n",
       "| 2 | 3 | 5 |\n",
       "| 3 | 3 | 5 |\n",
       "| 4 | 3 | 3 |\n",
       "| 5 | 2 | 2 |\n",
       "\n"
      ],
      "text/plain": [
       "  item1 item2\n",
       "1 5     4    \n",
       "2 3     5    \n",
       "3 3     5    \n",
       "4 3     3    \n",
       "5 2     2    "
      ]
     },
     "metadata": {},
     "output_type": "display_data"
    }
   ],
   "source": [
    "leadership[c('item1','item2')]"
   ]
  },
  {
   "cell_type": "markdown",
   "metadata": {},
   "source": [
    "### 逻辑值索引"
   ]
  },
  {
   "cell_type": "code",
   "execution_count": 89,
   "metadata": {
    "ExecuteTime": {
     "end_time": "2021-01-27T08:55:50.755154Z",
     "start_time": "2021-01-27T08:55:42.368Z"
    }
   },
   "outputs": [
    {
     "data": {
      "text/html": [
       "<table class=\"dataframe\">\n",
       "<caption>A data.frame: 5 × 2</caption>\n",
       "<thead>\n",
       "\t<tr><th></th><th scope=col>managerID</th><th scope=col>testDate</th></tr>\n",
       "\t<tr><th></th><th scope=col>&lt;dbl&gt;</th><th scope=col>&lt;date&gt;</th></tr>\n",
       "</thead>\n",
       "<tbody>\n",
       "\t<tr><th scope=row>1</th><td>1</td><td>2008-10-24</td></tr>\n",
       "\t<tr><th scope=row>2</th><td>2</td><td>2008-10-28</td></tr>\n",
       "\t<tr><th scope=row>3</th><td>3</td><td>2008-10-01</td></tr>\n",
       "\t<tr><th scope=row>4</th><td>4</td><td>2008-10-12</td></tr>\n",
       "\t<tr><th scope=row>5</th><td>5</td><td>2009-05-01</td></tr>\n",
       "</tbody>\n",
       "</table>\n"
      ],
      "text/latex": [
       "A data.frame: 5 × 2\n",
       "\\begin{tabular}{r|ll}\n",
       "  & managerID & testDate\\\\\n",
       "  & <dbl> & <date>\\\\\n",
       "\\hline\n",
       "\t1 & 1 & 2008-10-24\\\\\n",
       "\t2 & 2 & 2008-10-28\\\\\n",
       "\t3 & 3 & 2008-10-01\\\\\n",
       "\t4 & 4 & 2008-10-12\\\\\n",
       "\t5 & 5 & 2009-05-01\\\\\n",
       "\\end{tabular}\n"
      ],
      "text/markdown": [
       "\n",
       "A data.frame: 5 × 2\n",
       "\n",
       "| <!--/--> | managerID &lt;dbl&gt; | testDate &lt;date&gt; |\n",
       "|---|---|---|\n",
       "| 1 | 1 | 2008-10-24 |\n",
       "| 2 | 2 | 2008-10-28 |\n",
       "| 3 | 3 | 2008-10-01 |\n",
       "| 4 | 4 | 2008-10-12 |\n",
       "| 5 | 5 | 2009-05-01 |\n",
       "\n"
      ],
      "text/plain": [
       "  managerID testDate  \n",
       "1 1         2008-10-24\n",
       "2 2         2008-10-28\n",
       "3 3         2008-10-01\n",
       "4 4         2008-10-12\n",
       "5 5         2009-05-01"
      ]
     },
     "metadata": {},
     "output_type": "display_data"
    }
   ],
   "source": [
    "leadership[c(TRUE,TRUE,FALSE,FALSE,FALSE,\n",
    "             FALSE,FALSE,FALSE,FALSE,FALSE,FALSE)]"
   ]
  },
  {
   "cell_type": "code",
   "execution_count": 90,
   "metadata": {
    "ExecuteTime": {
     "end_time": "2021-01-27T08:55:50.780088Z",
     "start_time": "2021-01-27T08:55:42.371Z"
    }
   },
   "outputs": [
    {
     "data": {
      "text/html": [
       "<style>\n",
       ".list-inline {list-style: none; margin:0; padding: 0}\n",
       ".list-inline>li {display: inline-block}\n",
       ".list-inline>li:not(:last-child)::after {content: \"\\00b7\"; padding: 0 .5ex}\n",
       "</style>\n",
       "<ol class=list-inline><li>'item1'</li><li>'item2'</li><li>'item3'</li><li>'item4'</li><li>'item5'</li></ol>\n"
      ],
      "text/latex": [
       "\\begin{enumerate*}\n",
       "\\item 'item1'\n",
       "\\item 'item2'\n",
       "\\item 'item3'\n",
       "\\item 'item4'\n",
       "\\item 'item5'\n",
       "\\end{enumerate*}\n"
      ],
      "text/markdown": [
       "1. 'item1'\n",
       "2. 'item2'\n",
       "3. 'item3'\n",
       "4. 'item4'\n",
       "5. 'item5'\n",
       "\n",
       "\n"
      ],
      "text/plain": [
       "[1] \"item1\" \"item2\" \"item3\" \"item4\" \"item5\""
      ]
     },
     "metadata": {},
     "output_type": "display_data"
    }
   ],
   "source": [
    "#生成item1-5的方法\n",
    "paste('item', 1:5, sep='')"
   ]
  },
  {
   "cell_type": "markdown",
   "metadata": {},
   "source": [
    "## 剔除（丢弃）变量"
   ]
  },
  {
   "cell_type": "markdown",
   "metadata": {},
   "source": [
    "### 逻辑值索引"
   ]
  },
  {
   "cell_type": "code",
   "execution_count": 91,
   "metadata": {
    "ExecuteTime": {
     "end_time": "2021-01-27T08:55:50.809009Z",
     "start_time": "2021-01-27T08:55:42.376Z"
    }
   },
   "outputs": [
    {
     "data": {
      "text/html": [
       "<style>\n",
       ".list-inline {list-style: none; margin:0; padding: 0}\n",
       ".list-inline>li {display: inline-block}\n",
       ".list-inline>li:not(:last-child)::after {content: \"\\00b7\"; padding: 0 .5ex}\n",
       "</style>\n",
       "<ol class=list-inline><li>'managerID'</li><li>'testDate'</li><li>'gender'</li><li>'age'</li><li>'item1'</li><li>'item2'</li><li>'item3'</li><li>'item4'</li><li>'item5'</li><li>'agecat'</li><li>'country'</li></ol>\n"
      ],
      "text/latex": [
       "\\begin{enumerate*}\n",
       "\\item 'managerID'\n",
       "\\item 'testDate'\n",
       "\\item 'gender'\n",
       "\\item 'age'\n",
       "\\item 'item1'\n",
       "\\item 'item2'\n",
       "\\item 'item3'\n",
       "\\item 'item4'\n",
       "\\item 'item5'\n",
       "\\item 'agecat'\n",
       "\\item 'country'\n",
       "\\end{enumerate*}\n"
      ],
      "text/markdown": [
       "1. 'managerID'\n",
       "2. 'testDate'\n",
       "3. 'gender'\n",
       "4. 'age'\n",
       "5. 'item1'\n",
       "6. 'item2'\n",
       "7. 'item3'\n",
       "8. 'item4'\n",
       "9. 'item5'\n",
       "10. 'agecat'\n",
       "11. 'country'\n",
       "\n",
       "\n"
      ],
      "text/plain": [
       " [1] \"managerID\" \"testDate\"  \"gender\"    \"age\"       \"item1\"     \"item2\"    \n",
       " [7] \"item3\"     \"item4\"     \"item5\"     \"agecat\"    \"country\"  "
      ]
     },
     "metadata": {},
     "output_type": "display_data"
    }
   ],
   "source": [
    "names(leadership)  #生成所有变量的一个字符型向量"
   ]
  },
  {
   "cell_type": "code",
   "execution_count": 92,
   "metadata": {
    "ExecuteTime": {
     "end_time": "2021-01-27T08:55:50.836971Z",
     "start_time": "2021-01-27T08:55:42.379Z"
    }
   },
   "outputs": [
    {
     "data": {
      "text/html": [
       "<style>\n",
       ".list-inline {list-style: none; margin:0; padding: 0}\n",
       ".list-inline>li {display: inline-block}\n",
       ".list-inline>li:not(:last-child)::after {content: \"\\00b7\"; padding: 0 .5ex}\n",
       "</style>\n",
       "<ol class=list-inline><li>FALSE</li><li>FALSE</li><li>FALSE</li><li>TRUE</li><li>FALSE</li><li>FALSE</li><li>FALSE</li><li>FALSE</li><li>FALSE</li><li>FALSE</li><li>TRUE</li></ol>\n"
      ],
      "text/latex": [
       "\\begin{enumerate*}\n",
       "\\item FALSE\n",
       "\\item FALSE\n",
       "\\item FALSE\n",
       "\\item TRUE\n",
       "\\item FALSE\n",
       "\\item FALSE\n",
       "\\item FALSE\n",
       "\\item FALSE\n",
       "\\item FALSE\n",
       "\\item FALSE\n",
       "\\item TRUE\n",
       "\\end{enumerate*}\n"
      ],
      "text/markdown": [
       "1. FALSE\n",
       "2. FALSE\n",
       "3. FALSE\n",
       "4. TRUE\n",
       "5. FALSE\n",
       "6. FALSE\n",
       "7. FALSE\n",
       "8. FALSE\n",
       "9. FALSE\n",
       "10. FALSE\n",
       "11. TRUE\n",
       "\n",
       "\n"
      ],
      "text/plain": [
       " [1] FALSE FALSE FALSE  TRUE FALSE FALSE FALSE FALSE FALSE FALSE  TRUE"
      ]
     },
     "metadata": {},
     "output_type": "display_data"
    }
   ],
   "source": [
    "names(leadership) %in% c('country','age')  #生成逻辑值"
   ]
  },
  {
   "cell_type": "code",
   "execution_count": 93,
   "metadata": {
    "ExecuteTime": {
     "end_time": "2021-01-27T08:55:50.863863Z",
     "start_time": "2021-01-27T08:55:42.382Z"
    }
   },
   "outputs": [
    {
     "data": {
      "text/html": [
       "<style>\n",
       ".list-inline {list-style: none; margin:0; padding: 0}\n",
       ".list-inline>li {display: inline-block}\n",
       ".list-inline>li:not(:last-child)::after {content: \"\\00b7\"; padding: 0 .5ex}\n",
       "</style>\n",
       "<ol class=list-inline><li>TRUE</li><li>TRUE</li><li>TRUE</li><li>FALSE</li><li>TRUE</li><li>TRUE</li><li>TRUE</li><li>TRUE</li><li>TRUE</li><li>TRUE</li><li>FALSE</li></ol>\n"
      ],
      "text/latex": [
       "\\begin{enumerate*}\n",
       "\\item TRUE\n",
       "\\item TRUE\n",
       "\\item TRUE\n",
       "\\item FALSE\n",
       "\\item TRUE\n",
       "\\item TRUE\n",
       "\\item TRUE\n",
       "\\item TRUE\n",
       "\\item TRUE\n",
       "\\item TRUE\n",
       "\\item FALSE\n",
       "\\end{enumerate*}\n"
      ],
      "text/markdown": [
       "1. TRUE\n",
       "2. TRUE\n",
       "3. TRUE\n",
       "4. FALSE\n",
       "5. TRUE\n",
       "6. TRUE\n",
       "7. TRUE\n",
       "8. TRUE\n",
       "9. TRUE\n",
       "10. TRUE\n",
       "11. FALSE\n",
       "\n",
       "\n"
      ],
      "text/plain": [
       " [1]  TRUE  TRUE  TRUE FALSE  TRUE  TRUE  TRUE  TRUE  TRUE  TRUE FALSE"
      ]
     },
     "metadata": {},
     "output_type": "display_data"
    }
   ],
   "source": [
    "!names(leadership) %in% c('country','age')  #反转逻辑值"
   ]
  },
  {
   "cell_type": "code",
   "execution_count": 94,
   "metadata": {
    "ExecuteTime": {
     "end_time": "2021-01-27T08:55:50.896774Z",
     "start_time": "2021-01-27T08:55:42.386Z"
    }
   },
   "outputs": [
    {
     "data": {
      "text/html": [
       "<table class=\"dataframe\">\n",
       "<caption>A data.frame: 5 × 9</caption>\n",
       "<thead>\n",
       "\t<tr><th></th><th scope=col>managerID</th><th scope=col>testDate</th><th scope=col>gender</th><th scope=col>item1</th><th scope=col>item2</th><th scope=col>item3</th><th scope=col>item4</th><th scope=col>item5</th><th scope=col>agecat</th></tr>\n",
       "\t<tr><th></th><th scope=col>&lt;dbl&gt;</th><th scope=col>&lt;date&gt;</th><th scope=col>&lt;chr&gt;</th><th scope=col>&lt;dbl&gt;</th><th scope=col>&lt;dbl&gt;</th><th scope=col>&lt;dbl&gt;</th><th scope=col>&lt;dbl&gt;</th><th scope=col>&lt;dbl&gt;</th><th scope=col>&lt;chr&gt;</th></tr>\n",
       "</thead>\n",
       "<tbody>\n",
       "\t<tr><th scope=row>1</th><td>1</td><td>2008-10-24</td><td>M</td><td>5</td><td>4</td><td>5</td><td> 5</td><td> 5</td><td>Young</td></tr>\n",
       "\t<tr><th scope=row>2</th><td>2</td><td>2008-10-28</td><td>F</td><td>3</td><td>5</td><td>2</td><td> 5</td><td> 5</td><td>Young</td></tr>\n",
       "\t<tr><th scope=row>3</th><td>3</td><td>2008-10-01</td><td>F</td><td>3</td><td>5</td><td>5</td><td> 5</td><td> 2</td><td>Young</td></tr>\n",
       "\t<tr><th scope=row>4</th><td>4</td><td>2008-10-12</td><td>M</td><td>3</td><td>3</td><td>4</td><td>NA</td><td>NA</td><td>Young</td></tr>\n",
       "\t<tr><th scope=row>5</th><td>5</td><td>2009-05-01</td><td>F</td><td>2</td><td>2</td><td>1</td><td> 2</td><td> 1</td><td>NA   </td></tr>\n",
       "</tbody>\n",
       "</table>\n"
      ],
      "text/latex": [
       "A data.frame: 5 × 9\n",
       "\\begin{tabular}{r|lllllllll}\n",
       "  & managerID & testDate & gender & item1 & item2 & item3 & item4 & item5 & agecat\\\\\n",
       "  & <dbl> & <date> & <chr> & <dbl> & <dbl> & <dbl> & <dbl> & <dbl> & <chr>\\\\\n",
       "\\hline\n",
       "\t1 & 1 & 2008-10-24 & M & 5 & 4 & 5 &  5 &  5 & Young\\\\\n",
       "\t2 & 2 & 2008-10-28 & F & 3 & 5 & 2 &  5 &  5 & Young\\\\\n",
       "\t3 & 3 & 2008-10-01 & F & 3 & 5 & 5 &  5 &  2 & Young\\\\\n",
       "\t4 & 4 & 2008-10-12 & M & 3 & 3 & 4 & NA & NA & Young\\\\\n",
       "\t5 & 5 & 2009-05-01 & F & 2 & 2 & 1 &  2 &  1 & NA   \\\\\n",
       "\\end{tabular}\n"
      ],
      "text/markdown": [
       "\n",
       "A data.frame: 5 × 9\n",
       "\n",
       "| <!--/--> | managerID &lt;dbl&gt; | testDate &lt;date&gt; | gender &lt;chr&gt; | item1 &lt;dbl&gt; | item2 &lt;dbl&gt; | item3 &lt;dbl&gt; | item4 &lt;dbl&gt; | item5 &lt;dbl&gt; | agecat &lt;chr&gt; |\n",
       "|---|---|---|---|---|---|---|---|---|---|\n",
       "| 1 | 1 | 2008-10-24 | M | 5 | 4 | 5 |  5 |  5 | Young |\n",
       "| 2 | 2 | 2008-10-28 | F | 3 | 5 | 2 |  5 |  5 | Young |\n",
       "| 3 | 3 | 2008-10-01 | F | 3 | 5 | 5 |  5 |  2 | Young |\n",
       "| 4 | 4 | 2008-10-12 | M | 3 | 3 | 4 | NA | NA | Young |\n",
       "| 5 | 5 | 2009-05-01 | F | 2 | 2 | 1 |  2 |  1 | NA    |\n",
       "\n"
      ],
      "text/plain": [
       "  managerID testDate   gender item1 item2 item3 item4 item5 agecat\n",
       "1 1         2008-10-24 M      5     4     5      5     5    Young \n",
       "2 2         2008-10-28 F      3     5     2      5     5    Young \n",
       "3 3         2008-10-01 F      3     5     5      5     2    Young \n",
       "4 4         2008-10-12 M      3     3     4     NA    NA    Young \n",
       "5 5         2009-05-01 F      2     2     1      2     1    NA    "
      ]
     },
     "metadata": {},
     "output_type": "display_data"
    }
   ],
   "source": [
    "leadership[!names(leadership) %in% c('country','age')]\n",
    "#逻辑值索引"
   ]
  },
  {
   "cell_type": "markdown",
   "metadata": {},
   "source": [
    "### 标号索引"
   ]
  },
  {
   "cell_type": "code",
   "execution_count": 95,
   "metadata": {
    "ExecuteTime": {
     "end_time": "2021-01-27T08:55:50.928692Z",
     "start_time": "2021-01-27T08:55:42.390Z"
    }
   },
   "outputs": [
    {
     "data": {
      "text/html": [
       "<table class=\"dataframe\">\n",
       "<caption>A data.frame: 5 × 9</caption>\n",
       "<thead>\n",
       "\t<tr><th></th><th scope=col>managerID</th><th scope=col>testDate</th><th scope=col>gender</th><th scope=col>item1</th><th scope=col>item2</th><th scope=col>item3</th><th scope=col>item4</th><th scope=col>item5</th><th scope=col>agecat</th></tr>\n",
       "\t<tr><th></th><th scope=col>&lt;dbl&gt;</th><th scope=col>&lt;date&gt;</th><th scope=col>&lt;chr&gt;</th><th scope=col>&lt;dbl&gt;</th><th scope=col>&lt;dbl&gt;</th><th scope=col>&lt;dbl&gt;</th><th scope=col>&lt;dbl&gt;</th><th scope=col>&lt;dbl&gt;</th><th scope=col>&lt;chr&gt;</th></tr>\n",
       "</thead>\n",
       "<tbody>\n",
       "\t<tr><th scope=row>1</th><td>1</td><td>2008-10-24</td><td>M</td><td>5</td><td>4</td><td>5</td><td> 5</td><td> 5</td><td>Young</td></tr>\n",
       "\t<tr><th scope=row>2</th><td>2</td><td>2008-10-28</td><td>F</td><td>3</td><td>5</td><td>2</td><td> 5</td><td> 5</td><td>Young</td></tr>\n",
       "\t<tr><th scope=row>3</th><td>3</td><td>2008-10-01</td><td>F</td><td>3</td><td>5</td><td>5</td><td> 5</td><td> 2</td><td>Young</td></tr>\n",
       "\t<tr><th scope=row>4</th><td>4</td><td>2008-10-12</td><td>M</td><td>3</td><td>3</td><td>4</td><td>NA</td><td>NA</td><td>Young</td></tr>\n",
       "\t<tr><th scope=row>5</th><td>5</td><td>2009-05-01</td><td>F</td><td>2</td><td>2</td><td>1</td><td> 2</td><td> 1</td><td>NA   </td></tr>\n",
       "</tbody>\n",
       "</table>\n"
      ],
      "text/latex": [
       "A data.frame: 5 × 9\n",
       "\\begin{tabular}{r|lllllllll}\n",
       "  & managerID & testDate & gender & item1 & item2 & item3 & item4 & item5 & agecat\\\\\n",
       "  & <dbl> & <date> & <chr> & <dbl> & <dbl> & <dbl> & <dbl> & <dbl> & <chr>\\\\\n",
       "\\hline\n",
       "\t1 & 1 & 2008-10-24 & M & 5 & 4 & 5 &  5 &  5 & Young\\\\\n",
       "\t2 & 2 & 2008-10-28 & F & 3 & 5 & 2 &  5 &  5 & Young\\\\\n",
       "\t3 & 3 & 2008-10-01 & F & 3 & 5 & 5 &  5 &  2 & Young\\\\\n",
       "\t4 & 4 & 2008-10-12 & M & 3 & 3 & 4 & NA & NA & Young\\\\\n",
       "\t5 & 5 & 2009-05-01 & F & 2 & 2 & 1 &  2 &  1 & NA   \\\\\n",
       "\\end{tabular}\n"
      ],
      "text/markdown": [
       "\n",
       "A data.frame: 5 × 9\n",
       "\n",
       "| <!--/--> | managerID &lt;dbl&gt; | testDate &lt;date&gt; | gender &lt;chr&gt; | item1 &lt;dbl&gt; | item2 &lt;dbl&gt; | item3 &lt;dbl&gt; | item4 &lt;dbl&gt; | item5 &lt;dbl&gt; | agecat &lt;chr&gt; |\n",
       "|---|---|---|---|---|---|---|---|---|---|\n",
       "| 1 | 1 | 2008-10-24 | M | 5 | 4 | 5 |  5 |  5 | Young |\n",
       "| 2 | 2 | 2008-10-28 | F | 3 | 5 | 2 |  5 |  5 | Young |\n",
       "| 3 | 3 | 2008-10-01 | F | 3 | 5 | 5 |  5 |  2 | Young |\n",
       "| 4 | 4 | 2008-10-12 | M | 3 | 3 | 4 | NA | NA | Young |\n",
       "| 5 | 5 | 2009-05-01 | F | 2 | 2 | 1 |  2 |  1 | NA    |\n",
       "\n"
      ],
      "text/plain": [
       "  managerID testDate   gender item1 item2 item3 item4 item5 agecat\n",
       "1 1         2008-10-24 M      5     4     5      5     5    Young \n",
       "2 2         2008-10-28 F      3     5     2      5     5    Young \n",
       "3 3         2008-10-01 F      3     5     5      5     2    Young \n",
       "4 4         2008-10-12 M      3     3     4     NA    NA    Young \n",
       "5 5         2009-05-01 F      2     2     1      2     1    NA    "
      ]
     },
     "metadata": {},
     "output_type": "display_data"
    }
   ],
   "source": [
    "leadership[c(-4,-11)]   #剔除第四列和第十一列"
   ]
  },
  {
   "cell_type": "code",
   "execution_count": 96,
   "metadata": {
    "ExecuteTime": {
     "end_time": "2021-01-27T08:55:50.964594Z",
     "start_time": "2021-01-27T08:55:42.395Z"
    }
   },
   "outputs": [
    {
     "data": {
      "text/html": [
       "<table class=\"dataframe\">\n",
       "<caption>A data.frame: 5 × 11</caption>\n",
       "<thead>\n",
       "\t<tr><th></th><th scope=col>managerID</th><th scope=col>testDate</th><th scope=col>gender</th><th scope=col>age</th><th scope=col>item1</th><th scope=col>item2</th><th scope=col>item3</th><th scope=col>item4</th><th scope=col>item5</th><th scope=col>agecat</th><th scope=col>country</th></tr>\n",
       "\t<tr><th></th><th scope=col>&lt;dbl&gt;</th><th scope=col>&lt;date&gt;</th><th scope=col>&lt;chr&gt;</th><th scope=col>&lt;dbl&gt;</th><th scope=col>&lt;dbl&gt;</th><th scope=col>&lt;dbl&gt;</th><th scope=col>&lt;dbl&gt;</th><th scope=col>&lt;dbl&gt;</th><th scope=col>&lt;dbl&gt;</th><th scope=col>&lt;chr&gt;</th><th scope=col>&lt;chr&gt;</th></tr>\n",
       "</thead>\n",
       "<tbody>\n",
       "\t<tr><th scope=row>1</th><td>1</td><td>2008-10-24</td><td>M</td><td>32</td><td>5</td><td>4</td><td>5</td><td> 5</td><td> 5</td><td>Young</td><td>US</td></tr>\n",
       "\t<tr><th scope=row>2</th><td>2</td><td>2008-10-28</td><td>F</td><td>45</td><td>3</td><td>5</td><td>2</td><td> 5</td><td> 5</td><td>Young</td><td>US</td></tr>\n",
       "\t<tr><th scope=row>3</th><td>3</td><td>2008-10-01</td><td>F</td><td>25</td><td>3</td><td>5</td><td>5</td><td> 5</td><td> 2</td><td>Young</td><td>UK</td></tr>\n",
       "\t<tr><th scope=row>4</th><td>4</td><td>2008-10-12</td><td>M</td><td>39</td><td>3</td><td>3</td><td>4</td><td>NA</td><td>NA</td><td>Young</td><td>UK</td></tr>\n",
       "\t<tr><th scope=row>5</th><td>5</td><td>2009-05-01</td><td>F</td><td>99</td><td>2</td><td>2</td><td>1</td><td> 2</td><td> 1</td><td>NA   </td><td>UK</td></tr>\n",
       "</tbody>\n",
       "</table>\n"
      ],
      "text/latex": [
       "A data.frame: 5 × 11\n",
       "\\begin{tabular}{r|lllllllllll}\n",
       "  & managerID & testDate & gender & age & item1 & item2 & item3 & item4 & item5 & agecat & country\\\\\n",
       "  & <dbl> & <date> & <chr> & <dbl> & <dbl> & <dbl> & <dbl> & <dbl> & <dbl> & <chr> & <chr>\\\\\n",
       "\\hline\n",
       "\t1 & 1 & 2008-10-24 & M & 32 & 5 & 4 & 5 &  5 &  5 & Young & US\\\\\n",
       "\t2 & 2 & 2008-10-28 & F & 45 & 3 & 5 & 2 &  5 &  5 & Young & US\\\\\n",
       "\t3 & 3 & 2008-10-01 & F & 25 & 3 & 5 & 5 &  5 &  2 & Young & UK\\\\\n",
       "\t4 & 4 & 2008-10-12 & M & 39 & 3 & 3 & 4 & NA & NA & Young & UK\\\\\n",
       "\t5 & 5 & 2009-05-01 & F & 99 & 2 & 2 & 1 &  2 &  1 & NA    & UK\\\\\n",
       "\\end{tabular}\n"
      ],
      "text/markdown": [
       "\n",
       "A data.frame: 5 × 11\n",
       "\n",
       "| <!--/--> | managerID &lt;dbl&gt; | testDate &lt;date&gt; | gender &lt;chr&gt; | age &lt;dbl&gt; | item1 &lt;dbl&gt; | item2 &lt;dbl&gt; | item3 &lt;dbl&gt; | item4 &lt;dbl&gt; | item5 &lt;dbl&gt; | agecat &lt;chr&gt; | country &lt;chr&gt; |\n",
       "|---|---|---|---|---|---|---|---|---|---|---|---|\n",
       "| 1 | 1 | 2008-10-24 | M | 32 | 5 | 4 | 5 |  5 |  5 | Young | US |\n",
       "| 2 | 2 | 2008-10-28 | F | 45 | 3 | 5 | 2 |  5 |  5 | Young | US |\n",
       "| 3 | 3 | 2008-10-01 | F | 25 | 3 | 5 | 5 |  5 |  2 | Young | UK |\n",
       "| 4 | 4 | 2008-10-12 | M | 39 | 3 | 3 | 4 | NA | NA | Young | UK |\n",
       "| 5 | 5 | 2009-05-01 | F | 99 | 2 | 2 | 1 |  2 |  1 | NA    | UK |\n",
       "\n"
      ],
      "text/plain": [
       "  managerID testDate   gender age item1 item2 item3 item4 item5 agecat country\n",
       "1 1         2008-10-24 M      32  5     4     5      5     5    Young  US     \n",
       "2 2         2008-10-28 F      45  3     5     2      5     5    Young  US     \n",
       "3 3         2008-10-01 F      25  3     5     5      5     2    Young  UK     \n",
       "4 4         2008-10-12 M      39  3     3     4     NA    NA    Young  UK     \n",
       "5 5         2009-05-01 F      99  2     2     1      2     1    NA     UK     "
      ]
     },
     "metadata": {},
     "output_type": "display_data"
    }
   ],
   "source": [
    "leadership   \n",
    "#上述操作赋值给leadership即可实现删除变量\n",
    "#但是我这里保持leadership不变，方便演示跟多方法"
   ]
  },
  {
   "cell_type": "markdown",
   "metadata": {},
   "source": [
    "### 赋值为NULL"
   ]
  },
  {
   "cell_type": "code",
   "execution_count": 97,
   "metadata": {
    "ExecuteTime": {
     "end_time": "2021-01-27T08:55:50.990524Z",
     "start_time": "2021-01-27T08:55:42.399Z"
    }
   },
   "outputs": [],
   "source": [
    "leadership$age <- NULL"
   ]
  },
  {
   "cell_type": "code",
   "execution_count": 98,
   "metadata": {
    "ExecuteTime": {
     "end_time": "2021-01-27T08:55:51.022439Z",
     "start_time": "2021-01-27T08:55:42.404Z"
    }
   },
   "outputs": [
    {
     "data": {
      "text/html": [
       "<table class=\"dataframe\">\n",
       "<caption>A data.frame: 5 × 10</caption>\n",
       "<thead>\n",
       "\t<tr><th></th><th scope=col>managerID</th><th scope=col>testDate</th><th scope=col>gender</th><th scope=col>item1</th><th scope=col>item2</th><th scope=col>item3</th><th scope=col>item4</th><th scope=col>item5</th><th scope=col>agecat</th><th scope=col>country</th></tr>\n",
       "\t<tr><th></th><th scope=col>&lt;dbl&gt;</th><th scope=col>&lt;date&gt;</th><th scope=col>&lt;chr&gt;</th><th scope=col>&lt;dbl&gt;</th><th scope=col>&lt;dbl&gt;</th><th scope=col>&lt;dbl&gt;</th><th scope=col>&lt;dbl&gt;</th><th scope=col>&lt;dbl&gt;</th><th scope=col>&lt;chr&gt;</th><th scope=col>&lt;chr&gt;</th></tr>\n",
       "</thead>\n",
       "<tbody>\n",
       "\t<tr><th scope=row>1</th><td>1</td><td>2008-10-24</td><td>M</td><td>5</td><td>4</td><td>5</td><td> 5</td><td> 5</td><td>Young</td><td>US</td></tr>\n",
       "\t<tr><th scope=row>2</th><td>2</td><td>2008-10-28</td><td>F</td><td>3</td><td>5</td><td>2</td><td> 5</td><td> 5</td><td>Young</td><td>US</td></tr>\n",
       "\t<tr><th scope=row>3</th><td>3</td><td>2008-10-01</td><td>F</td><td>3</td><td>5</td><td>5</td><td> 5</td><td> 2</td><td>Young</td><td>UK</td></tr>\n",
       "\t<tr><th scope=row>4</th><td>4</td><td>2008-10-12</td><td>M</td><td>3</td><td>3</td><td>4</td><td>NA</td><td>NA</td><td>Young</td><td>UK</td></tr>\n",
       "\t<tr><th scope=row>5</th><td>5</td><td>2009-05-01</td><td>F</td><td>2</td><td>2</td><td>1</td><td> 2</td><td> 1</td><td>NA   </td><td>UK</td></tr>\n",
       "</tbody>\n",
       "</table>\n"
      ],
      "text/latex": [
       "A data.frame: 5 × 10\n",
       "\\begin{tabular}{r|llllllllll}\n",
       "  & managerID & testDate & gender & item1 & item2 & item3 & item4 & item5 & agecat & country\\\\\n",
       "  & <dbl> & <date> & <chr> & <dbl> & <dbl> & <dbl> & <dbl> & <dbl> & <chr> & <chr>\\\\\n",
       "\\hline\n",
       "\t1 & 1 & 2008-10-24 & M & 5 & 4 & 5 &  5 &  5 & Young & US\\\\\n",
       "\t2 & 2 & 2008-10-28 & F & 3 & 5 & 2 &  5 &  5 & Young & US\\\\\n",
       "\t3 & 3 & 2008-10-01 & F & 3 & 5 & 5 &  5 &  2 & Young & UK\\\\\n",
       "\t4 & 4 & 2008-10-12 & M & 3 & 3 & 4 & NA & NA & Young & UK\\\\\n",
       "\t5 & 5 & 2009-05-01 & F & 2 & 2 & 1 &  2 &  1 & NA    & UK\\\\\n",
       "\\end{tabular}\n"
      ],
      "text/markdown": [
       "\n",
       "A data.frame: 5 × 10\n",
       "\n",
       "| <!--/--> | managerID &lt;dbl&gt; | testDate &lt;date&gt; | gender &lt;chr&gt; | item1 &lt;dbl&gt; | item2 &lt;dbl&gt; | item3 &lt;dbl&gt; | item4 &lt;dbl&gt; | item5 &lt;dbl&gt; | agecat &lt;chr&gt; | country &lt;chr&gt; |\n",
       "|---|---|---|---|---|---|---|---|---|---|---|\n",
       "| 1 | 1 | 2008-10-24 | M | 5 | 4 | 5 |  5 |  5 | Young | US |\n",
       "| 2 | 2 | 2008-10-28 | F | 3 | 5 | 2 |  5 |  5 | Young | US |\n",
       "| 3 | 3 | 2008-10-01 | F | 3 | 5 | 5 |  5 |  2 | Young | UK |\n",
       "| 4 | 4 | 2008-10-12 | M | 3 | 3 | 4 | NA | NA | Young | UK |\n",
       "| 5 | 5 | 2009-05-01 | F | 2 | 2 | 1 |  2 |  1 | NA    | UK |\n",
       "\n"
      ],
      "text/plain": [
       "  managerID testDate   gender item1 item2 item3 item4 item5 agecat country\n",
       "1 1         2008-10-24 M      5     4     5      5     5    Young  US     \n",
       "2 2         2008-10-28 F      3     5     2      5     5    Young  US     \n",
       "3 3         2008-10-01 F      3     5     5      5     2    Young  UK     \n",
       "4 4         2008-10-12 M      3     3     4     NA    NA    Young  UK     \n",
       "5 5         2009-05-01 F      2     2     1      2     1    NA     UK     "
      ]
     },
     "metadata": {},
     "output_type": "display_data"
    }
   ],
   "source": [
    "leadership"
   ]
  },
  {
   "cell_type": "markdown",
   "metadata": {},
   "source": [
    "## 选入观测"
   ]
  },
  {
   "cell_type": "code",
   "execution_count": 99,
   "metadata": {
    "ExecuteTime": {
     "end_time": "2021-01-27T08:55:51.056393Z",
     "start_time": "2021-01-27T08:55:42.409Z"
    }
   },
   "outputs": [
    {
     "data": {
      "text/html": [
       "<style>\n",
       ".list-inline {list-style: none; margin:0; padding: 0}\n",
       ".list-inline>li {display: inline-block}\n",
       ".list-inline>li:not(:last-child)::after {content: \"\\00b7\"; padding: 0 .5ex}\n",
       "</style>\n",
       "<ol class=list-inline><li>TRUE</li><li>FALSE</li><li>FALSE</li><li>TRUE</li><li>FALSE</li></ol>\n"
      ],
      "text/latex": [
       "\\begin{enumerate*}\n",
       "\\item TRUE\n",
       "\\item FALSE\n",
       "\\item FALSE\n",
       "\\item TRUE\n",
       "\\item FALSE\n",
       "\\end{enumerate*}\n"
      ],
      "text/markdown": [
       "1. TRUE\n",
       "2. FALSE\n",
       "3. FALSE\n",
       "4. TRUE\n",
       "5. FALSE\n",
       "\n",
       "\n"
      ],
      "text/plain": [
       "[1]  TRUE FALSE FALSE  TRUE FALSE"
      ]
     },
     "metadata": {},
     "output_type": "display_data"
    },
    {
     "data": {
      "text/html": [
       "<style>\n",
       ".list-inline {list-style: none; margin:0; padding: 0}\n",
       ".list-inline>li {display: inline-block}\n",
       ".list-inline>li:not(:last-child)::after {content: \"\\00b7\"; padding: 0 .5ex}\n",
       "</style>\n",
       "<ol class=list-inline><li>FALSE</li><li>FALSE</li><li>TRUE</li><li>TRUE</li><li>TRUE</li></ol>\n"
      ],
      "text/latex": [
       "\\begin{enumerate*}\n",
       "\\item FALSE\n",
       "\\item FALSE\n",
       "\\item TRUE\n",
       "\\item TRUE\n",
       "\\item TRUE\n",
       "\\end{enumerate*}\n"
      ],
      "text/markdown": [
       "1. FALSE\n",
       "2. FALSE\n",
       "3. TRUE\n",
       "4. TRUE\n",
       "5. TRUE\n",
       "\n",
       "\n"
      ],
      "text/plain": [
       "[1] FALSE FALSE  TRUE  TRUE  TRUE"
      ]
     },
     "metadata": {},
     "output_type": "display_data"
    }
   ],
   "source": [
    "leadership$gender == 'M';leadership$country == 'UK'"
   ]
  },
  {
   "cell_type": "code",
   "execution_count": 100,
   "metadata": {
    "ExecuteTime": {
     "end_time": "2021-01-27T08:55:51.084273Z",
     "start_time": "2021-01-27T08:55:42.413Z"
    }
   },
   "outputs": [
    {
     "data": {
      "text/html": [
       "<style>\n",
       ".list-inline {list-style: none; margin:0; padding: 0}\n",
       ".list-inline>li {display: inline-block}\n",
       ".list-inline>li:not(:last-child)::after {content: \"\\00b7\"; padding: 0 .5ex}\n",
       "</style>\n",
       "<ol class=list-inline><li>FALSE</li><li>FALSE</li><li>FALSE</li><li>TRUE</li><li>FALSE</li></ol>\n"
      ],
      "text/latex": [
       "\\begin{enumerate*}\n",
       "\\item FALSE\n",
       "\\item FALSE\n",
       "\\item FALSE\n",
       "\\item TRUE\n",
       "\\item FALSE\n",
       "\\end{enumerate*}\n"
      ],
      "text/markdown": [
       "1. FALSE\n",
       "2. FALSE\n",
       "3. FALSE\n",
       "4. TRUE\n",
       "5. FALSE\n",
       "\n",
       "\n"
      ],
      "text/plain": [
       "[1] FALSE FALSE FALSE  TRUE FALSE"
      ]
     },
     "metadata": {},
     "output_type": "display_data"
    }
   ],
   "source": [
    "leadership$gender == 'M' & \n",
    "                 leadership$country == 'UK'\n",
    "#逻辑运算"
   ]
  },
  {
   "cell_type": "code",
   "execution_count": 101,
   "metadata": {
    "ExecuteTime": {
     "end_time": "2021-01-27T08:55:51.111202Z",
     "start_time": "2021-01-27T08:55:42.417Z"
    }
   },
   "outputs": [
    {
     "data": {
      "text/html": [
       "4"
      ],
      "text/latex": [
       "4"
      ],
      "text/markdown": [
       "4"
      ],
      "text/plain": [
       "[1] 4"
      ]
     },
     "metadata": {},
     "output_type": "display_data"
    }
   ],
   "source": [
    "which(leadership$gender == 'M' & \n",
    "                 leadership$country == 'UK')\n",
    "#witch函数找到TRUE的下标"
   ]
  },
  {
   "cell_type": "code",
   "execution_count": 102,
   "metadata": {
    "ExecuteTime": {
     "end_time": "2021-01-27T08:55:51.142119Z",
     "start_time": "2021-01-27T08:55:42.420Z"
    }
   },
   "outputs": [
    {
     "data": {
      "text/html": [
       "<table class=\"dataframe\">\n",
       "<caption>A data.frame: 1 × 10</caption>\n",
       "<thead>\n",
       "\t<tr><th></th><th scope=col>managerID</th><th scope=col>testDate</th><th scope=col>gender</th><th scope=col>item1</th><th scope=col>item2</th><th scope=col>item3</th><th scope=col>item4</th><th scope=col>item5</th><th scope=col>agecat</th><th scope=col>country</th></tr>\n",
       "\t<tr><th></th><th scope=col>&lt;dbl&gt;</th><th scope=col>&lt;date&gt;</th><th scope=col>&lt;chr&gt;</th><th scope=col>&lt;dbl&gt;</th><th scope=col>&lt;dbl&gt;</th><th scope=col>&lt;dbl&gt;</th><th scope=col>&lt;dbl&gt;</th><th scope=col>&lt;dbl&gt;</th><th scope=col>&lt;chr&gt;</th><th scope=col>&lt;chr&gt;</th></tr>\n",
       "</thead>\n",
       "<tbody>\n",
       "\t<tr><th scope=row>4</th><td>4</td><td>2008-10-12</td><td>M</td><td>3</td><td>3</td><td>4</td><td>NA</td><td>NA</td><td>Young</td><td>UK</td></tr>\n",
       "</tbody>\n",
       "</table>\n"
      ],
      "text/latex": [
       "A data.frame: 1 × 10\n",
       "\\begin{tabular}{r|llllllllll}\n",
       "  & managerID & testDate & gender & item1 & item2 & item3 & item4 & item5 & agecat & country\\\\\n",
       "  & <dbl> & <date> & <chr> & <dbl> & <dbl> & <dbl> & <dbl> & <dbl> & <chr> & <chr>\\\\\n",
       "\\hline\n",
       "\t4 & 4 & 2008-10-12 & M & 3 & 3 & 4 & NA & NA & Young & UK\\\\\n",
       "\\end{tabular}\n"
      ],
      "text/markdown": [
       "\n",
       "A data.frame: 1 × 10\n",
       "\n",
       "| <!--/--> | managerID &lt;dbl&gt; | testDate &lt;date&gt; | gender &lt;chr&gt; | item1 &lt;dbl&gt; | item2 &lt;dbl&gt; | item3 &lt;dbl&gt; | item4 &lt;dbl&gt; | item5 &lt;dbl&gt; | agecat &lt;chr&gt; | country &lt;chr&gt; |\n",
       "|---|---|---|---|---|---|---|---|---|---|---|\n",
       "| 4 | 4 | 2008-10-12 | M | 3 | 3 | 4 | NA | NA | Young | UK |\n",
       "\n"
      ],
      "text/plain": [
       "  managerID testDate   gender item1 item2 item3 item4 item5 agecat country\n",
       "4 4         2008-10-12 M      3     3     4     NA    NA    Young  UK     "
      ]
     },
     "metadata": {},
     "output_type": "display_data"
    }
   ],
   "source": [
    "leadership[4,]"
   ]
  },
  {
   "cell_type": "code",
   "execution_count": 103,
   "metadata": {
    "ExecuteTime": {
     "end_time": "2021-01-27T08:55:51.173041Z",
     "start_time": "2021-01-27T08:55:42.424Z"
    }
   },
   "outputs": [
    {
     "data": {
      "text/html": [
       "<table class=\"dataframe\">\n",
       "<caption>A data.frame: 1 × 10</caption>\n",
       "<thead>\n",
       "\t<tr><th></th><th scope=col>managerID</th><th scope=col>testDate</th><th scope=col>gender</th><th scope=col>item1</th><th scope=col>item2</th><th scope=col>item3</th><th scope=col>item4</th><th scope=col>item5</th><th scope=col>agecat</th><th scope=col>country</th></tr>\n",
       "\t<tr><th></th><th scope=col>&lt;dbl&gt;</th><th scope=col>&lt;date&gt;</th><th scope=col>&lt;chr&gt;</th><th scope=col>&lt;dbl&gt;</th><th scope=col>&lt;dbl&gt;</th><th scope=col>&lt;dbl&gt;</th><th scope=col>&lt;dbl&gt;</th><th scope=col>&lt;dbl&gt;</th><th scope=col>&lt;chr&gt;</th><th scope=col>&lt;chr&gt;</th></tr>\n",
       "</thead>\n",
       "<tbody>\n",
       "\t<tr><th scope=row>4</th><td>4</td><td>2008-10-12</td><td>M</td><td>3</td><td>3</td><td>4</td><td>NA</td><td>NA</td><td>Young</td><td>UK</td></tr>\n",
       "</tbody>\n",
       "</table>\n"
      ],
      "text/latex": [
       "A data.frame: 1 × 10\n",
       "\\begin{tabular}{r|llllllllll}\n",
       "  & managerID & testDate & gender & item1 & item2 & item3 & item4 & item5 & agecat & country\\\\\n",
       "  & <dbl> & <date> & <chr> & <dbl> & <dbl> & <dbl> & <dbl> & <dbl> & <chr> & <chr>\\\\\n",
       "\\hline\n",
       "\t4 & 4 & 2008-10-12 & M & 3 & 3 & 4 & NA & NA & Young & UK\\\\\n",
       "\\end{tabular}\n"
      ],
      "text/markdown": [
       "\n",
       "A data.frame: 1 × 10\n",
       "\n",
       "| <!--/--> | managerID &lt;dbl&gt; | testDate &lt;date&gt; | gender &lt;chr&gt; | item1 &lt;dbl&gt; | item2 &lt;dbl&gt; | item3 &lt;dbl&gt; | item4 &lt;dbl&gt; | item5 &lt;dbl&gt; | agecat &lt;chr&gt; | country &lt;chr&gt; |\n",
       "|---|---|---|---|---|---|---|---|---|---|---|\n",
       "| 4 | 4 | 2008-10-12 | M | 3 | 3 | 4 | NA | NA | Young | UK |\n",
       "\n"
      ],
      "text/plain": [
       "  managerID testDate   gender item1 item2 item3 item4 item5 agecat country\n",
       "4 4         2008-10-12 M      3     3     4     NA    NA    Young  UK     "
      ]
     },
     "metadata": {},
     "output_type": "display_data"
    }
   ],
   "source": [
    "leadership[which(leadership$gender == 'M' & \n",
    "                 leadership$country == 'UK'),]"
   ]
  },
  {
   "cell_type": "markdown",
   "metadata": {},
   "source": [
    "## subset()"
   ]
  },
  {
   "cell_type": "raw",
   "metadata": {},
   "source": [
    "subset(x, subset, select, drop = FALSE, ...)\n",
    "\n",
    "x\t\n",
    "object to be subsetted.\n",
    "\n",
    "subset\t\n",
    "logical expression indicating elements or rows to keep: missing values are taken as false.\n",
    "\n",
    "select\t\n",
    "expression, indicating columns to select from a data frame.\n",
    "\n",
    "drop\t\n",
    "passed on to [ indexing operator.\n",
    "\n",
    "...\t\n",
    "further arguments to be passed to or from other methods."
   ]
  },
  {
   "cell_type": "code",
   "execution_count": 104,
   "metadata": {
    "ExecuteTime": {
     "end_time": "2021-01-27T08:55:51.207943Z",
     "start_time": "2021-01-27T08:55:42.483Z"
    }
   },
   "outputs": [
    {
     "data": {
      "text/html": [
       "<table class=\"dataframe\">\n",
       "<caption>A data.frame: 4 × 5</caption>\n",
       "<thead>\n",
       "\t<tr><th></th><th scope=col>gender</th><th scope=col>item1</th><th scope=col>item2</th><th scope=col>item3</th><th scope=col>item4</th></tr>\n",
       "\t<tr><th></th><th scope=col>&lt;chr&gt;</th><th scope=col>&lt;dbl&gt;</th><th scope=col>&lt;dbl&gt;</th><th scope=col>&lt;dbl&gt;</th><th scope=col>&lt;dbl&gt;</th></tr>\n",
       "</thead>\n",
       "<tbody>\n",
       "\t<tr><th scope=row>1</th><td>M</td><td>5</td><td>4</td><td>5</td><td> 5</td></tr>\n",
       "\t<tr><th scope=row>2</th><td>F</td><td>3</td><td>5</td><td>2</td><td> 5</td></tr>\n",
       "\t<tr><th scope=row>3</th><td>F</td><td>3</td><td>5</td><td>5</td><td> 5</td></tr>\n",
       "\t<tr><th scope=row>4</th><td>M</td><td>3</td><td>3</td><td>4</td><td>NA</td></tr>\n",
       "</tbody>\n",
       "</table>\n"
      ],
      "text/latex": [
       "A data.frame: 4 × 5\n",
       "\\begin{tabular}{r|lllll}\n",
       "  & gender & item1 & item2 & item3 & item4\\\\\n",
       "  & <chr> & <dbl> & <dbl> & <dbl> & <dbl>\\\\\n",
       "\\hline\n",
       "\t1 & M & 5 & 4 & 5 &  5\\\\\n",
       "\t2 & F & 3 & 5 & 2 &  5\\\\\n",
       "\t3 & F & 3 & 5 & 5 &  5\\\\\n",
       "\t4 & M & 3 & 3 & 4 & NA\\\\\n",
       "\\end{tabular}\n"
      ],
      "text/markdown": [
       "\n",
       "A data.frame: 4 × 5\n",
       "\n",
       "| <!--/--> | gender &lt;chr&gt; | item1 &lt;dbl&gt; | item2 &lt;dbl&gt; | item3 &lt;dbl&gt; | item4 &lt;dbl&gt; |\n",
       "|---|---|---|---|---|---|\n",
       "| 1 | M | 5 | 4 | 5 |  5 |\n",
       "| 2 | F | 3 | 5 | 2 |  5 |\n",
       "| 3 | F | 3 | 5 | 5 |  5 |\n",
       "| 4 | M | 3 | 3 | 4 | NA |\n",
       "\n"
      ],
      "text/plain": [
       "  gender item1 item2 item3 item4\n",
       "1 M      5     4     5      5   \n",
       "2 F      3     5     2      5   \n",
       "3 F      3     5     5      5   \n",
       "4 M      3     3     4     NA   "
      ]
     },
     "metadata": {},
     "output_type": "display_data"
    }
   ],
   "source": [
    "subset(leadership, agecat >=35 | agecat <24 ,\n",
    "       select=gender:item4)"
   ]
  },
  {
   "cell_type": "markdown",
   "metadata": {},
   "source": [
    "## 随机抽样"
   ]
  },
  {
   "cell_type": "code",
   "execution_count": 105,
   "metadata": {
    "ExecuteTime": {
     "end_time": "2021-01-27T08:55:51.237863Z",
     "start_time": "2021-01-27T08:55:42.487Z"
    }
   },
   "outputs": [
    {
     "data": {
      "text/html": [
       "5"
      ],
      "text/latex": [
       "5"
      ],
      "text/markdown": [
       "5"
      ],
      "text/plain": [
       "[1] 5"
      ]
     },
     "metadata": {},
     "output_type": "display_data"
    },
    {
     "data": {
      "text/html": [
       "10"
      ],
      "text/latex": [
       "10"
      ],
      "text/markdown": [
       "10"
      ],
      "text/plain": [
       "[1] 10"
      ]
     },
     "metadata": {},
     "output_type": "display_data"
    }
   ],
   "source": [
    "nrow(leadership);ncol(leadership)"
   ]
  },
  {
   "cell_type": "code",
   "execution_count": 106,
   "metadata": {
    "ExecuteTime": {
     "end_time": "2021-01-27T08:55:51.262796Z",
     "start_time": "2021-01-27T08:55:42.491Z"
    }
   },
   "outputs": [
    {
     "data": {
      "text/html": [
       "<style>\n",
       ".list-inline {list-style: none; margin:0; padding: 0}\n",
       ".list-inline>li {display: inline-block}\n",
       ".list-inline>li:not(:last-child)::after {content: \"\\00b7\"; padding: 0 .5ex}\n",
       "</style>\n",
       "<ol class=list-inline><li>1</li><li>5</li><li>2</li></ol>\n"
      ],
      "text/latex": [
       "\\begin{enumerate*}\n",
       "\\item 1\n",
       "\\item 5\n",
       "\\item 2\n",
       "\\end{enumerate*}\n"
      ],
      "text/markdown": [
       "1. 1\n",
       "2. 5\n",
       "3. 2\n",
       "\n",
       "\n"
      ],
      "text/plain": [
       "[1] 1 5 2"
      ]
     },
     "metadata": {},
     "output_type": "display_data"
    }
   ],
   "source": [
    "sample(1:nrow(leadership), 3,\n",
    "       replace=FALSE)  #1到5，无放回抽取三个数"
   ]
  },
  {
   "cell_type": "code",
   "execution_count": 107,
   "metadata": {
    "ExecuteTime": {
     "end_time": "2021-01-27T08:55:51.297703Z",
     "start_time": "2021-01-27T08:55:42.494Z"
    }
   },
   "outputs": [
    {
     "data": {
      "text/html": [
       "<table class=\"dataframe\">\n",
       "<caption>A data.frame: 3 × 10</caption>\n",
       "<thead>\n",
       "\t<tr><th></th><th scope=col>managerID</th><th scope=col>testDate</th><th scope=col>gender</th><th scope=col>item1</th><th scope=col>item2</th><th scope=col>item3</th><th scope=col>item4</th><th scope=col>item5</th><th scope=col>agecat</th><th scope=col>country</th></tr>\n",
       "\t<tr><th></th><th scope=col>&lt;dbl&gt;</th><th scope=col>&lt;date&gt;</th><th scope=col>&lt;chr&gt;</th><th scope=col>&lt;dbl&gt;</th><th scope=col>&lt;dbl&gt;</th><th scope=col>&lt;dbl&gt;</th><th scope=col>&lt;dbl&gt;</th><th scope=col>&lt;dbl&gt;</th><th scope=col>&lt;chr&gt;</th><th scope=col>&lt;chr&gt;</th></tr>\n",
       "</thead>\n",
       "<tbody>\n",
       "\t<tr><th scope=row>2</th><td>2</td><td>2008-10-28</td><td>F</td><td>3</td><td>5</td><td>2</td><td>5</td><td>5</td><td>Young</td><td>US</td></tr>\n",
       "\t<tr><th scope=row>5</th><td>5</td><td>2009-05-01</td><td>F</td><td>2</td><td>2</td><td>1</td><td>2</td><td>1</td><td>NA   </td><td>UK</td></tr>\n",
       "\t<tr><th scope=row>3</th><td>3</td><td>2008-10-01</td><td>F</td><td>3</td><td>5</td><td>5</td><td>5</td><td>2</td><td>Young</td><td>UK</td></tr>\n",
       "</tbody>\n",
       "</table>\n"
      ],
      "text/latex": [
       "A data.frame: 3 × 10\n",
       "\\begin{tabular}{r|llllllllll}\n",
       "  & managerID & testDate & gender & item1 & item2 & item3 & item4 & item5 & agecat & country\\\\\n",
       "  & <dbl> & <date> & <chr> & <dbl> & <dbl> & <dbl> & <dbl> & <dbl> & <chr> & <chr>\\\\\n",
       "\\hline\n",
       "\t2 & 2 & 2008-10-28 & F & 3 & 5 & 2 & 5 & 5 & Young & US\\\\\n",
       "\t5 & 5 & 2009-05-01 & F & 2 & 2 & 1 & 2 & 1 & NA    & UK\\\\\n",
       "\t3 & 3 & 2008-10-01 & F & 3 & 5 & 5 & 5 & 2 & Young & UK\\\\\n",
       "\\end{tabular}\n"
      ],
      "text/markdown": [
       "\n",
       "A data.frame: 3 × 10\n",
       "\n",
       "| <!--/--> | managerID &lt;dbl&gt; | testDate &lt;date&gt; | gender &lt;chr&gt; | item1 &lt;dbl&gt; | item2 &lt;dbl&gt; | item3 &lt;dbl&gt; | item4 &lt;dbl&gt; | item5 &lt;dbl&gt; | agecat &lt;chr&gt; | country &lt;chr&gt; |\n",
       "|---|---|---|---|---|---|---|---|---|---|---|\n",
       "| 2 | 2 | 2008-10-28 | F | 3 | 5 | 2 | 5 | 5 | Young | US |\n",
       "| 5 | 5 | 2009-05-01 | F | 2 | 2 | 1 | 2 | 1 | NA    | UK |\n",
       "| 3 | 3 | 2008-10-01 | F | 3 | 5 | 5 | 5 | 2 | Young | UK |\n",
       "\n"
      ],
      "text/plain": [
       "  managerID testDate   gender item1 item2 item3 item4 item5 agecat country\n",
       "2 2         2008-10-28 F      3     5     2     5     5     Young  US     \n",
       "5 5         2009-05-01 F      2     2     1     2     1     NA     UK     \n",
       "3 3         2008-10-01 F      3     5     5     5     2     Young  UK     "
      ]
     },
     "metadata": {},
     "output_type": "display_data"
    }
   ],
   "source": [
    "leadership[sample(1:nrow(leadership),3,replace=FALSE),]\n",
    "#随机抽三行"
   ]
  },
  {
   "cell_type": "code",
   "execution_count": 108,
   "metadata": {
    "ExecuteTime": {
     "end_time": "2021-01-27T08:55:51.332609Z",
     "start_time": "2021-01-27T08:55:42.498Z"
    }
   },
   "outputs": [
    {
     "data": {
      "text/html": [
       "<table class=\"dataframe\">\n",
       "<caption>A data.frame: 5 × 3</caption>\n",
       "<thead>\n",
       "\t<tr><th></th><th scope=col>item5</th><th scope=col>agecat</th><th scope=col>testDate</th></tr>\n",
       "\t<tr><th></th><th scope=col>&lt;dbl&gt;</th><th scope=col>&lt;chr&gt;</th><th scope=col>&lt;date&gt;</th></tr>\n",
       "</thead>\n",
       "<tbody>\n",
       "\t<tr><th scope=row>1</th><td> 5</td><td>Young</td><td>2008-10-24</td></tr>\n",
       "\t<tr><th scope=row>2</th><td> 5</td><td>Young</td><td>2008-10-28</td></tr>\n",
       "\t<tr><th scope=row>3</th><td> 2</td><td>Young</td><td>2008-10-01</td></tr>\n",
       "\t<tr><th scope=row>4</th><td>NA</td><td>Young</td><td>2008-10-12</td></tr>\n",
       "\t<tr><th scope=row>5</th><td> 1</td><td>NA   </td><td>2009-05-01</td></tr>\n",
       "</tbody>\n",
       "</table>\n"
      ],
      "text/latex": [
       "A data.frame: 5 × 3\n",
       "\\begin{tabular}{r|lll}\n",
       "  & item5 & agecat & testDate\\\\\n",
       "  & <dbl> & <chr> & <date>\\\\\n",
       "\\hline\n",
       "\t1 &  5 & Young & 2008-10-24\\\\\n",
       "\t2 &  5 & Young & 2008-10-28\\\\\n",
       "\t3 &  2 & Young & 2008-10-01\\\\\n",
       "\t4 & NA & Young & 2008-10-12\\\\\n",
       "\t5 &  1 & NA    & 2009-05-01\\\\\n",
       "\\end{tabular}\n"
      ],
      "text/markdown": [
       "\n",
       "A data.frame: 5 × 3\n",
       "\n",
       "| <!--/--> | item5 &lt;dbl&gt; | agecat &lt;chr&gt; | testDate &lt;date&gt; |\n",
       "|---|---|---|---|\n",
       "| 1 |  5 | Young | 2008-10-24 |\n",
       "| 2 |  5 | Young | 2008-10-28 |\n",
       "| 3 |  2 | Young | 2008-10-01 |\n",
       "| 4 | NA | Young | 2008-10-12 |\n",
       "| 5 |  1 | NA    | 2009-05-01 |\n",
       "\n"
      ],
      "text/plain": [
       "  item5 agecat testDate  \n",
       "1  5    Young  2008-10-24\n",
       "2  5    Young  2008-10-28\n",
       "3  2    Young  2008-10-01\n",
       "4 NA    Young  2008-10-12\n",
       "5  1    NA     2009-05-01"
      ]
     },
     "metadata": {},
     "output_type": "display_data"
    }
   ],
   "source": [
    "leadership[sample(1:ncol(leadership),3,replace=FALSE)]\n",
    "#随机抽三列"
   ]
  },
  {
   "cell_type": "code",
   "execution_count": 109,
   "metadata": {
    "ExecuteTime": {
     "end_time": "2021-01-27T08:55:51.362530Z",
     "start_time": "2021-01-27T08:55:42.501Z"
    }
   },
   "outputs": [],
   "source": [
    "save.image()"
   ]
  },
  {
   "cell_type": "code",
   "execution_count": null,
   "metadata": {},
   "outputs": [],
   "source": []
  }
 ],
 "metadata": {
  "kernelspec": {
   "display_name": "R_x64",
   "language": "R",
   "name": "r_x64"
  },
  "language_info": {
   "codemirror_mode": "r",
   "file_extension": ".r",
   "mimetype": "text/x-r-source",
   "name": "R",
   "pygments_lexer": "r",
   "version": "4.0.3"
  },
  "toc": {
   "base_numbering": 1,
   "nav_menu": {},
   "number_sections": true,
   "sideBar": true,
   "skip_h1_title": false,
   "title_cell": "Table of Contents",
   "title_sidebar": "Contents",
   "toc_cell": false,
   "toc_position": {},
   "toc_section_display": true,
   "toc_window_display": true
  },
  "varInspector": {
   "cols": {
    "lenName": 16,
    "lenType": 16,
    "lenVar": 40
   },
   "kernels_config": {
    "python": {
     "delete_cmd_postfix": "",
     "delete_cmd_prefix": "del ",
     "library": "var_list.py",
     "varRefreshCmd": "print(var_dic_list())"
    },
    "r": {
     "delete_cmd_postfix": ") ",
     "delete_cmd_prefix": "rm(",
     "library": "var_list.r",
     "varRefreshCmd": "cat(var_dic_list()) "
    }
   },
   "position": {
    "height": "506px",
    "left": "4px",
    "right": "20px",
    "top": "80px",
    "width": "350px"
   },
   "types_to_exclude": [
    "module",
    "function",
    "builtin_function_or_method",
    "instance",
    "_Feature"
   ],
   "window_display": false
  }
 },
 "nbformat": 4,
 "nbformat_minor": 4
}
